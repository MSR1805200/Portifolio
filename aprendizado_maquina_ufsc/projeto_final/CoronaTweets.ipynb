{
  "nbformat": 4,
  "nbformat_minor": 0,
  "metadata": {
    "colab": {
      "name": "CoronaTweets.ipynb",
      "provenance": [],
      "collapsed_sections": []
    },
    "deepnote": {},
    "deepnote_execution_queue": [
      {
        "cellId": "00062-1de27d51-b2f5-4921-9c25-4a707b8d3bcc",
        "msgId": "e2439fe2-87a7-44ff-817e-eabb1352fab2",
        "sessionId": "ff2ed5e9-a5af-417a-b829-171e88ee937e"
      }
    ],
    "deepnote_notebook_id": "006286c8-ae10-4d13-8101-5a0248d9d0ef",
    "kernelspec": {
      "display_name": "Python 3",
      "name": "python3"
    }
  },
  "cells": [
    {
      "cell_type": "markdown",
      "metadata": {
        "id": "s3gMhIzm79e1"
      },
      "source": [
        "# **1. Enquadre o problema e observe o panorama geral**\n",
        "---\n",
        "Este é o projeto final do curso de ML da UFSC, ensinado pelo professor Edson Júnior. Este trabalho foi baseado nas aulas e na bibliografia [principal](https://www.amazon.com.br/Hands-Machine-Learning-Scikit-Learn-TensorFlow-ebook/dp/B07XGF2G87). O dataset está disponível no [Kaggle](https://www.kaggle.com/datatattle/covid-19-nlp-text-classification/discussion/183471) e consiste em uma multiclassificação de tweets sobre o corona vírus. O objetivo deste projeto é classificar se o texto possui conteúdo neutro, positivo ou negativo sobre o assunto.  \n",
        "\n"
      ]
    },
    {
      "cell_type": "markdown",
      "metadata": {
        "id": "QMPb6xDy9Lir"
      },
      "source": [
        "## 1.1 - Configuração inicial\n",
        "\n",
        "\n"
      ]
    },
    {
      "cell_type": "code",
      "metadata": {
        "id": "IEn0JTUp9P8l"
      },
      "source": [
        "# Importar bibliotecas\n",
        "import numpy as np\n",
        "import os"
      ],
      "execution_count": null,
      "outputs": []
    },
    {
      "cell_type": "code",
      "metadata": {
        "id": "ay5BLq_19a8U"
      },
      "source": [
        "# Para conseguir repetir o experimento\n",
        "seed = 42\n",
        "np.random.seed(seed)"
      ],
      "execution_count": null,
      "outputs": []
    },
    {
      "cell_type": "code",
      "metadata": {
        "id": "vbCAu6i09erI"
      },
      "source": [
        "# Para plotar figuras\n",
        "\n",
        "%matplotlib inline \n",
        "import matplotlib as mpl \n",
        "import matplotlib.pyplot as plt \n",
        "\n",
        "mpl.rc('axes', labelsize=14) \n",
        "mpl.rc('xtick', labelsize=12)\n",
        "mpl.rc('ytick', labelsize=12)"
      ],
      "execution_count": null,
      "outputs": []
    },
    {
      "cell_type": "code",
      "metadata": {
        "id": "hg4jAgX3F0i6"
      },
      "source": [
        "import warnings\n",
        "warnings.filterwarnings('ignore')"
      ],
      "execution_count": null,
      "outputs": []
    },
    {
      "cell_type": "markdown",
      "metadata": {
        "id": "Hg0jD7Nn87W7"
      },
      "source": [
        "# **2. Coletando os dados**\n",
        "---\n"
      ]
    },
    {
      "cell_type": "markdown",
      "metadata": {
        "id": "1GXh3Hh5vwQS"
      },
      "source": [
        " Os arquivos no Kaggle são disponiblizados separadamente em conjunto de treino e teste. Enviamos eles para um [github](https://github.com/Joseane107/ML_course) e juntamos em um só arquivo. Os dados são público e podem ser utilizados para publicação com a devida referência."
      ]
    },
    {
      "cell_type": "code",
      "metadata": {
        "colab": {
          "base_uri": "https://localhost:8080/"
        },
        "id": "ng14UXU-8-yj",
        "outputId": "3461f55c-47bd-477e-dccc-77348eafd158"
      },
      "source": [
        "# Pegando os arquivos no github\n",
        "import requests\n",
        "\n",
        "dataset_train = requests.get('https://raw.githubusercontent.com/Joseane107/ML_course/main/Corona_NLP_train.csv')\n",
        "open(\"Corona_NLP_train.csv\", \"wt\").write(dataset_train.text)"
      ],
      "execution_count": null,
      "outputs": [
        {
          "output_type": "execute_result",
          "data": {
            "text/plain": [
              "10487302"
            ]
          },
          "metadata": {
            "tags": []
          },
          "execution_count": 5
        }
      ]
    },
    {
      "cell_type": "code",
      "metadata": {
        "colab": {
          "base_uri": "https://localhost:8080/"
        },
        "id": "CsBneFeIzCvg",
        "outputId": "a92e7800-0ad3-4541-c95f-74dcb9fb8913"
      },
      "source": [
        "dataset_test = requests.get('https://raw.githubusercontent.com/Joseane107/ML_course/main/Corona_NLP_test.csv')\n",
        "open('Corona_NLP_test.csv', \"wt\").write(dataset_test.text)"
      ],
      "execution_count": null,
      "outputs": [
        {
          "output_type": "execute_result",
          "data": {
            "text/plain": [
              "1000794"
            ]
          },
          "metadata": {
            "tags": []
          },
          "execution_count": 6
        }
      ]
    },
    {
      "cell_type": "code",
      "metadata": {
        "colab": {
          "base_uri": "https://localhost:8080/",
          "height": 204
        },
        "id": "aoL5TUZkYH6i",
        "outputId": "88429bef-66d4-4d77-de2b-931c1337ed45"
      },
      "source": [
        "# Visualizando o primeiro arquivo\n",
        "import pandas as pd\n",
        "df_train = pd.read_csv('Corona_NLP_train.csv',encoding = 'ISO-8859-1')\n",
        "df_train.head()"
      ],
      "execution_count": null,
      "outputs": [
        {
          "output_type": "execute_result",
          "data": {
            "text/html": [
              "<div>\n",
              "<style scoped>\n",
              "    .dataframe tbody tr th:only-of-type {\n",
              "        vertical-align: middle;\n",
              "    }\n",
              "\n",
              "    .dataframe tbody tr th {\n",
              "        vertical-align: top;\n",
              "    }\n",
              "\n",
              "    .dataframe thead th {\n",
              "        text-align: right;\n",
              "    }\n",
              "</style>\n",
              "<table border=\"1\" class=\"dataframe\">\n",
              "  <thead>\n",
              "    <tr style=\"text-align: right;\">\n",
              "      <th></th>\n",
              "      <th>UserName</th>\n",
              "      <th>ScreenName</th>\n",
              "      <th>Location</th>\n",
              "      <th>TweetAt</th>\n",
              "      <th>OriginalTweet</th>\n",
              "      <th>Sentiment</th>\n",
              "    </tr>\n",
              "  </thead>\n",
              "  <tbody>\n",
              "    <tr>\n",
              "      <th>0</th>\n",
              "      <td>3799</td>\n",
              "      <td>48751</td>\n",
              "      <td>London</td>\n",
              "      <td>16-03-2020</td>\n",
              "      <td>@MeNyrbie @Phil_Gahan @Chrisitv https://t.co/i...</td>\n",
              "      <td>Neutral</td>\n",
              "    </tr>\n",
              "    <tr>\n",
              "      <th>1</th>\n",
              "      <td>3800</td>\n",
              "      <td>48752</td>\n",
              "      <td>UK</td>\n",
              "      <td>16-03-2020</td>\n",
              "      <td>advice Talk to your neighbours family to excha...</td>\n",
              "      <td>Positive</td>\n",
              "    </tr>\n",
              "    <tr>\n",
              "      <th>2</th>\n",
              "      <td>3801</td>\n",
              "      <td>48753</td>\n",
              "      <td>Vagabonds</td>\n",
              "      <td>16-03-2020</td>\n",
              "      <td>Coronavirus Australia: Woolworths to give elde...</td>\n",
              "      <td>Positive</td>\n",
              "    </tr>\n",
              "    <tr>\n",
              "      <th>3</th>\n",
              "      <td>3802</td>\n",
              "      <td>48754</td>\n",
              "      <td>NaN</td>\n",
              "      <td>16-03-2020</td>\n",
              "      <td>My food stock is not the only one which is emp...</td>\n",
              "      <td>Positive</td>\n",
              "    </tr>\n",
              "    <tr>\n",
              "      <th>4</th>\n",
              "      <td>3803</td>\n",
              "      <td>48755</td>\n",
              "      <td>NaN</td>\n",
              "      <td>16-03-2020</td>\n",
              "      <td>Me, ready to go at supermarket during the #COV...</td>\n",
              "      <td>Extremely Negative</td>\n",
              "    </tr>\n",
              "  </tbody>\n",
              "</table>\n",
              "</div>"
            ],
            "text/plain": [
              "   UserName  ...           Sentiment\n",
              "0      3799  ...             Neutral\n",
              "1      3800  ...            Positive\n",
              "2      3801  ...            Positive\n",
              "3      3802  ...            Positive\n",
              "4      3803  ...  Extremely Negative\n",
              "\n",
              "[5 rows x 6 columns]"
            ]
          },
          "metadata": {
            "tags": []
          },
          "execution_count": 7
        }
      ]
    },
    {
      "cell_type": "code",
      "metadata": {
        "colab": {
          "base_uri": "https://localhost:8080/",
          "height": 204
        },
        "id": "ObRJrNTuzj-2",
        "outputId": "b805cfa3-59f8-4bf2-e85c-e1f73ff1338f"
      },
      "source": [
        "# Visualizando o segundo arquivo\n",
        "df_test = pd.read_csv('Corona_NLP_test.csv', encoding='ISO-8859-1')\n",
        "df_test.head()"
      ],
      "execution_count": null,
      "outputs": [
        {
          "output_type": "execute_result",
          "data": {
            "text/html": [
              "<div>\n",
              "<style scoped>\n",
              "    .dataframe tbody tr th:only-of-type {\n",
              "        vertical-align: middle;\n",
              "    }\n",
              "\n",
              "    .dataframe tbody tr th {\n",
              "        vertical-align: top;\n",
              "    }\n",
              "\n",
              "    .dataframe thead th {\n",
              "        text-align: right;\n",
              "    }\n",
              "</style>\n",
              "<table border=\"1\" class=\"dataframe\">\n",
              "  <thead>\n",
              "    <tr style=\"text-align: right;\">\n",
              "      <th></th>\n",
              "      <th>UserName</th>\n",
              "      <th>ScreenName</th>\n",
              "      <th>Location</th>\n",
              "      <th>TweetAt</th>\n",
              "      <th>OriginalTweet</th>\n",
              "      <th>Sentiment</th>\n",
              "    </tr>\n",
              "  </thead>\n",
              "  <tbody>\n",
              "    <tr>\n",
              "      <th>0</th>\n",
              "      <td>1</td>\n",
              "      <td>44953</td>\n",
              "      <td>NYC</td>\n",
              "      <td>02-03-2020</td>\n",
              "      <td>TRENDING: New Yorkers encounter empty supermar...</td>\n",
              "      <td>Extremely Negative</td>\n",
              "    </tr>\n",
              "    <tr>\n",
              "      <th>1</th>\n",
              "      <td>2</td>\n",
              "      <td>44954</td>\n",
              "      <td>Seattle, WA</td>\n",
              "      <td>02-03-2020</td>\n",
              "      <td>When I couldn't find hand sanitizer at Fred Me...</td>\n",
              "      <td>Positive</td>\n",
              "    </tr>\n",
              "    <tr>\n",
              "      <th>2</th>\n",
              "      <td>3</td>\n",
              "      <td>44955</td>\n",
              "      <td>NaN</td>\n",
              "      <td>02-03-2020</td>\n",
              "      <td>Find out how you can protect yourself and love...</td>\n",
              "      <td>Extremely Positive</td>\n",
              "    </tr>\n",
              "    <tr>\n",
              "      <th>3</th>\n",
              "      <td>4</td>\n",
              "      <td>44956</td>\n",
              "      <td>Chicagoland</td>\n",
              "      <td>02-03-2020</td>\n",
              "      <td>#Panic buying hits #NewYork City as anxious sh...</td>\n",
              "      <td>Negative</td>\n",
              "    </tr>\n",
              "    <tr>\n",
              "      <th>4</th>\n",
              "      <td>5</td>\n",
              "      <td>44957</td>\n",
              "      <td>Melbourne, Victoria</td>\n",
              "      <td>03-03-2020</td>\n",
              "      <td>#toiletpaper #dunnypaper #coronavirus #coronav...</td>\n",
              "      <td>Neutral</td>\n",
              "    </tr>\n",
              "  </tbody>\n",
              "</table>\n",
              "</div>"
            ],
            "text/plain": [
              "   UserName  ...           Sentiment\n",
              "0         1  ...  Extremely Negative\n",
              "1         2  ...            Positive\n",
              "2         3  ...  Extremely Positive\n",
              "3         4  ...            Negative\n",
              "4         5  ...             Neutral\n",
              "\n",
              "[5 rows x 6 columns]"
            ]
          },
          "metadata": {
            "tags": []
          },
          "execution_count": 8
        }
      ]
    },
    {
      "cell_type": "code",
      "metadata": {
        "colab": {
          "base_uri": "https://localhost:8080/",
          "height": 204
        },
        "id": "UnKpFevEz-SZ",
        "outputId": "e88e5a02-8d74-4a94-d350-5ef51f6dea67"
      },
      "source": [
        "# Reunindo os dois arquivos em um.\n",
        "df = pd.concat([df_train,df_test],ignore_index=True)\n",
        "df.head()"
      ],
      "execution_count": null,
      "outputs": [
        {
          "output_type": "execute_result",
          "data": {
            "text/html": [
              "<div>\n",
              "<style scoped>\n",
              "    .dataframe tbody tr th:only-of-type {\n",
              "        vertical-align: middle;\n",
              "    }\n",
              "\n",
              "    .dataframe tbody tr th {\n",
              "        vertical-align: top;\n",
              "    }\n",
              "\n",
              "    .dataframe thead th {\n",
              "        text-align: right;\n",
              "    }\n",
              "</style>\n",
              "<table border=\"1\" class=\"dataframe\">\n",
              "  <thead>\n",
              "    <tr style=\"text-align: right;\">\n",
              "      <th></th>\n",
              "      <th>UserName</th>\n",
              "      <th>ScreenName</th>\n",
              "      <th>Location</th>\n",
              "      <th>TweetAt</th>\n",
              "      <th>OriginalTweet</th>\n",
              "      <th>Sentiment</th>\n",
              "    </tr>\n",
              "  </thead>\n",
              "  <tbody>\n",
              "    <tr>\n",
              "      <th>0</th>\n",
              "      <td>3799</td>\n",
              "      <td>48751</td>\n",
              "      <td>London</td>\n",
              "      <td>16-03-2020</td>\n",
              "      <td>@MeNyrbie @Phil_Gahan @Chrisitv https://t.co/i...</td>\n",
              "      <td>Neutral</td>\n",
              "    </tr>\n",
              "    <tr>\n",
              "      <th>1</th>\n",
              "      <td>3800</td>\n",
              "      <td>48752</td>\n",
              "      <td>UK</td>\n",
              "      <td>16-03-2020</td>\n",
              "      <td>advice Talk to your neighbours family to excha...</td>\n",
              "      <td>Positive</td>\n",
              "    </tr>\n",
              "    <tr>\n",
              "      <th>2</th>\n",
              "      <td>3801</td>\n",
              "      <td>48753</td>\n",
              "      <td>Vagabonds</td>\n",
              "      <td>16-03-2020</td>\n",
              "      <td>Coronavirus Australia: Woolworths to give elde...</td>\n",
              "      <td>Positive</td>\n",
              "    </tr>\n",
              "    <tr>\n",
              "      <th>3</th>\n",
              "      <td>3802</td>\n",
              "      <td>48754</td>\n",
              "      <td>NaN</td>\n",
              "      <td>16-03-2020</td>\n",
              "      <td>My food stock is not the only one which is emp...</td>\n",
              "      <td>Positive</td>\n",
              "    </tr>\n",
              "    <tr>\n",
              "      <th>4</th>\n",
              "      <td>3803</td>\n",
              "      <td>48755</td>\n",
              "      <td>NaN</td>\n",
              "      <td>16-03-2020</td>\n",
              "      <td>Me, ready to go at supermarket during the #COV...</td>\n",
              "      <td>Extremely Negative</td>\n",
              "    </tr>\n",
              "  </tbody>\n",
              "</table>\n",
              "</div>"
            ],
            "text/plain": [
              "   UserName  ...           Sentiment\n",
              "0      3799  ...             Neutral\n",
              "1      3800  ...            Positive\n",
              "2      3801  ...            Positive\n",
              "3      3802  ...            Positive\n",
              "4      3803  ...  Extremely Negative\n",
              "\n",
              "[5 rows x 6 columns]"
            ]
          },
          "metadata": {
            "tags": []
          },
          "execution_count": 9
        }
      ]
    },
    {
      "cell_type": "code",
      "metadata": {
        "colab": {
          "base_uri": "https://localhost:8080/",
          "height": 359
        },
        "id": "8Wq-xNOX1eYs",
        "outputId": "73293cb0-fda2-49bb-aa5c-c61f005e55e0"
      },
      "source": [
        "# Visualizando 10 instâncias de forma aleatória.\n",
        "df.sample(10, random_state=seed)"
      ],
      "execution_count": null,
      "outputs": [
        {
          "output_type": "execute_result",
          "data": {
            "text/html": [
              "<div>\n",
              "<style scoped>\n",
              "    .dataframe tbody tr th:only-of-type {\n",
              "        vertical-align: middle;\n",
              "    }\n",
              "\n",
              "    .dataframe tbody tr th {\n",
              "        vertical-align: top;\n",
              "    }\n",
              "\n",
              "    .dataframe thead th {\n",
              "        text-align: right;\n",
              "    }\n",
              "</style>\n",
              "<table border=\"1\" class=\"dataframe\">\n",
              "  <thead>\n",
              "    <tr style=\"text-align: right;\">\n",
              "      <th></th>\n",
              "      <th>UserName</th>\n",
              "      <th>ScreenName</th>\n",
              "      <th>Location</th>\n",
              "      <th>TweetAt</th>\n",
              "      <th>OriginalTweet</th>\n",
              "      <th>Sentiment</th>\n",
              "    </tr>\n",
              "  </thead>\n",
              "  <tbody>\n",
              "    <tr>\n",
              "      <th>33054</th>\n",
              "      <td>36853</td>\n",
              "      <td>81805</td>\n",
              "      <td>NaN</td>\n",
              "      <td>07-04-2020</td>\n",
              "      <td>https://t.co/2yMUPatIYU Wear a mask! Especiall...</td>\n",
              "      <td>Extremely Positive</td>\n",
              "    </tr>\n",
              "    <tr>\n",
              "      <th>33564</th>\n",
              "      <td>37363</td>\n",
              "      <td>82315</td>\n",
              "      <td>NaN</td>\n",
              "      <td>08-04-2020</td>\n",
              "      <td>In light of Covid-19, Canada's insurers are re...</td>\n",
              "      <td>Positive</td>\n",
              "    </tr>\n",
              "    <tr>\n",
              "      <th>32707</th>\n",
              "      <td>36506</td>\n",
              "      <td>81458</td>\n",
              "      <td>5280</td>\n",
              "      <td>07-04-2020</td>\n",
              "      <td>@ate_ted @SenTedCruz Supply &amp;amp; Demand. COVI...</td>\n",
              "      <td>Positive</td>\n",
              "    </tr>\n",
              "    <tr>\n",
              "      <th>13252</th>\n",
              "      <td>17051</td>\n",
              "      <td>62003</td>\n",
              "      <td>Sydney, New South Wales</td>\n",
              "      <td>21-03-2020</td>\n",
              "      <td>Around 9 million people die of hunger and hung...</td>\n",
              "      <td>Extremely Negative</td>\n",
              "    </tr>\n",
              "    <tr>\n",
              "      <th>37837</th>\n",
              "      <td>41636</td>\n",
              "      <td>86588</td>\n",
              "      <td>India</td>\n",
              "      <td>11-04-2020</td>\n",
              "      <td>Alarming but informative video everyone should...</td>\n",
              "      <td>Extremely Positive</td>\n",
              "    </tr>\n",
              "    <tr>\n",
              "      <th>7974</th>\n",
              "      <td>11773</td>\n",
              "      <td>56725</td>\n",
              "      <td>Dallas, TX</td>\n",
              "      <td>19-03-2020</td>\n",
              "      <td>Disruptions in the global #supplychain are bei...</td>\n",
              "      <td>Neutral</td>\n",
              "    </tr>\n",
              "    <tr>\n",
              "      <th>21882</th>\n",
              "      <td>25681</td>\n",
              "      <td>70633</td>\n",
              "      <td>Berlin</td>\n",
              "      <td>25-03-2020</td>\n",
              "      <td>\"#Alcohol won't solve your problems. Then agai...</td>\n",
              "      <td>Positive</td>\n",
              "    </tr>\n",
              "    <tr>\n",
              "      <th>31408</th>\n",
              "      <td>35207</td>\n",
              "      <td>80159</td>\n",
              "      <td>Charlotte, NC</td>\n",
              "      <td>06-04-2020</td>\n",
              "      <td>See a full list of grocery stores in the #Char...</td>\n",
              "      <td>Neutral</td>\n",
              "    </tr>\n",
              "    <tr>\n",
              "      <th>26930</th>\n",
              "      <td>30729</td>\n",
              "      <td>75681</td>\n",
              "      <td>NY Metro Area</td>\n",
              "      <td>02-04-2020</td>\n",
              "      <td>'Stay at Home' Orders Are Stressing U.S. Famil...</td>\n",
              "      <td>Negative</td>\n",
              "    </tr>\n",
              "    <tr>\n",
              "      <th>12477</th>\n",
              "      <td>16276</td>\n",
              "      <td>61228</td>\n",
              "      <td>NaN</td>\n",
              "      <td>21-03-2020</td>\n",
              "      <td>Boris Johnson ordered the closure of the hospi...</td>\n",
              "      <td>Positive</td>\n",
              "    </tr>\n",
              "  </tbody>\n",
              "</table>\n",
              "</div>"
            ],
            "text/plain": [
              "       UserName  ...           Sentiment\n",
              "33054     36853  ...  Extremely Positive\n",
              "33564     37363  ...            Positive\n",
              "32707     36506  ...            Positive\n",
              "13252     17051  ...  Extremely Negative\n",
              "37837     41636  ...  Extremely Positive\n",
              "7974      11773  ...             Neutral\n",
              "21882     25681  ...            Positive\n",
              "31408     35207  ...             Neutral\n",
              "26930     30729  ...            Negative\n",
              "12477     16276  ...            Positive\n",
              "\n",
              "[10 rows x 6 columns]"
            ]
          },
          "metadata": {
            "tags": []
          },
          "execution_count": 10
        }
      ]
    },
    {
      "cell_type": "markdown",
      "metadata": {
        "id": "gQ-JvSo32Rvm"
      },
      "source": [
        "Agora vamos verificar se não perdemos nenhuma instância no processo de união, verificando a quantidade delas em cada conjunto."
      ]
    },
    {
      "cell_type": "code",
      "metadata": {
        "colab": {
          "base_uri": "https://localhost:8080/"
        },
        "id": "3SPjkyLF0YLS",
        "outputId": "3cc8f2bf-cadb-407c-dfb8-ad44e09d2a75"
      },
      "source": [
        "# Comprimento do primeiro conjunto\n",
        "len(df_train)"
      ],
      "execution_count": null,
      "outputs": [
        {
          "output_type": "execute_result",
          "data": {
            "text/plain": [
              "41157"
            ]
          },
          "metadata": {
            "tags": []
          },
          "execution_count": 11
        }
      ]
    },
    {
      "cell_type": "code",
      "metadata": {
        "colab": {
          "base_uri": "https://localhost:8080/"
        },
        "id": "vynhyrxi0fGp",
        "outputId": "89b0c9fb-dcc7-4540-c460-83cc5db2ee36"
      },
      "source": [
        "# Comprimento do segundo conjunto\n",
        "len(df_test)"
      ],
      "execution_count": null,
      "outputs": [
        {
          "output_type": "execute_result",
          "data": {
            "text/plain": [
              "3798"
            ]
          },
          "metadata": {
            "tags": []
          },
          "execution_count": 12
        }
      ]
    },
    {
      "cell_type": "code",
      "metadata": {
        "colab": {
          "base_uri": "https://localhost:8080/"
        },
        "id": "uM7jloA10hcN",
        "outputId": "642a5dcb-af1b-4050-9e6f-7a623c650909"
      },
      "source": [
        "# Comprimento do conjunto completo\n",
        "len(df)"
      ],
      "execution_count": null,
      "outputs": [
        {
          "output_type": "execute_result",
          "data": {
            "text/plain": [
              "44955"
            ]
          },
          "metadata": {
            "tags": []
          },
          "execution_count": 13
        }
      ]
    },
    {
      "cell_type": "markdown",
      "metadata": {
        "id": "Ranl5FQK2pjE"
      },
      "source": [
        "Por questões de privacidade, os nomes dos usuários receberam códigos. Tais features não agregam nem na análise de dados nem na previsão das classes. Então vamos retirá-las do dataframe. "
      ]
    },
    {
      "cell_type": "code",
      "metadata": {
        "id": "PSkFRFUb2Nk1"
      },
      "source": [
        "# Retirando as colunas UserName e ScreenName.\n",
        "df = df.drop(['UserName', 'ScreenName'], axis=1) \n",
        "\n"
      ],
      "execution_count": null,
      "outputs": []
    },
    {
      "cell_type": "code",
      "metadata": {
        "colab": {
          "base_uri": "https://localhost:8080/",
          "height": 204
        },
        "id": "UqL5F04G3FBu",
        "outputId": "ff253a74-905e-47b8-a733-0434976bf815"
      },
      "source": [
        "df.head()"
      ],
      "execution_count": null,
      "outputs": [
        {
          "output_type": "execute_result",
          "data": {
            "text/html": [
              "<div>\n",
              "<style scoped>\n",
              "    .dataframe tbody tr th:only-of-type {\n",
              "        vertical-align: middle;\n",
              "    }\n",
              "\n",
              "    .dataframe tbody tr th {\n",
              "        vertical-align: top;\n",
              "    }\n",
              "\n",
              "    .dataframe thead th {\n",
              "        text-align: right;\n",
              "    }\n",
              "</style>\n",
              "<table border=\"1\" class=\"dataframe\">\n",
              "  <thead>\n",
              "    <tr style=\"text-align: right;\">\n",
              "      <th></th>\n",
              "      <th>Location</th>\n",
              "      <th>TweetAt</th>\n",
              "      <th>OriginalTweet</th>\n",
              "      <th>Sentiment</th>\n",
              "    </tr>\n",
              "  </thead>\n",
              "  <tbody>\n",
              "    <tr>\n",
              "      <th>0</th>\n",
              "      <td>London</td>\n",
              "      <td>16-03-2020</td>\n",
              "      <td>@MeNyrbie @Phil_Gahan @Chrisitv https://t.co/i...</td>\n",
              "      <td>Neutral</td>\n",
              "    </tr>\n",
              "    <tr>\n",
              "      <th>1</th>\n",
              "      <td>UK</td>\n",
              "      <td>16-03-2020</td>\n",
              "      <td>advice Talk to your neighbours family to excha...</td>\n",
              "      <td>Positive</td>\n",
              "    </tr>\n",
              "    <tr>\n",
              "      <th>2</th>\n",
              "      <td>Vagabonds</td>\n",
              "      <td>16-03-2020</td>\n",
              "      <td>Coronavirus Australia: Woolworths to give elde...</td>\n",
              "      <td>Positive</td>\n",
              "    </tr>\n",
              "    <tr>\n",
              "      <th>3</th>\n",
              "      <td>NaN</td>\n",
              "      <td>16-03-2020</td>\n",
              "      <td>My food stock is not the only one which is emp...</td>\n",
              "      <td>Positive</td>\n",
              "    </tr>\n",
              "    <tr>\n",
              "      <th>4</th>\n",
              "      <td>NaN</td>\n",
              "      <td>16-03-2020</td>\n",
              "      <td>Me, ready to go at supermarket during the #COV...</td>\n",
              "      <td>Extremely Negative</td>\n",
              "    </tr>\n",
              "  </tbody>\n",
              "</table>\n",
              "</div>"
            ],
            "text/plain": [
              "    Location  ...           Sentiment\n",
              "0     London  ...             Neutral\n",
              "1         UK  ...            Positive\n",
              "2  Vagabonds  ...            Positive\n",
              "3        NaN  ...            Positive\n",
              "4        NaN  ...  Extremely Negative\n",
              "\n",
              "[5 rows x 4 columns]"
            ]
          },
          "metadata": {
            "tags": []
          },
          "execution_count": 15
        }
      ]
    },
    {
      "cell_type": "markdown",
      "metadata": {
        "id": "cekyCpbX3k9j"
      },
      "source": [
        "Neste momento, vamos diminuir o número de classes tendo em vista que uma classificação \"extremamente positiva/negativa\" pode ser relativa e redundante. Para isso, reunimos os comentários extremamente positivos na classe \"positivo\" e os comentários extremamente negativos na classe \"negativo\". "
      ]
    },
    {
      "cell_type": "code",
      "metadata": {
        "id": "QlKtbFZX3Nuy"
      },
      "source": [
        "# Deixando apenas as classes neutro, positivo e negativo.\n",
        "import re\n",
        "df['Sentiment'] = df['Sentiment'].apply( lambda x : ''.join(re.findall(r'Positive|Negative|Neutral',x)))"
      ],
      "execution_count": null,
      "outputs": []
    },
    {
      "cell_type": "code",
      "metadata": {
        "colab": {
          "base_uri": "https://localhost:8080/"
        },
        "id": "fzExkO903bLM",
        "outputId": "ad944577-9004-4949-9936-1711aa95fb0f"
      },
      "source": [
        "# Checando se deu certo.\r\n",
        "df['Sentiment'].unique()"
      ],
      "execution_count": null,
      "outputs": [
        {
          "output_type": "execute_result",
          "data": {
            "text/plain": [
              "array(['Neutral', 'Positive', 'Negative'], dtype=object)"
            ]
          },
          "metadata": {
            "tags": []
          },
          "execution_count": 19
        }
      ]
    },
    {
      "cell_type": "code",
      "metadata": {
        "colab": {
          "base_uri": "https://localhost:8080/",
          "height": 359
        },
        "id": "diUBZjMK8k8F",
        "outputId": "f5180c8e-804e-4607-c76b-280ec96b0998"
      },
      "source": [
        "df.sample(10, random_state=seed)"
      ],
      "execution_count": null,
      "outputs": [
        {
          "output_type": "execute_result",
          "data": {
            "text/html": [
              "<div>\n",
              "<style scoped>\n",
              "    .dataframe tbody tr th:only-of-type {\n",
              "        vertical-align: middle;\n",
              "    }\n",
              "\n",
              "    .dataframe tbody tr th {\n",
              "        vertical-align: top;\n",
              "    }\n",
              "\n",
              "    .dataframe thead th {\n",
              "        text-align: right;\n",
              "    }\n",
              "</style>\n",
              "<table border=\"1\" class=\"dataframe\">\n",
              "  <thead>\n",
              "    <tr style=\"text-align: right;\">\n",
              "      <th></th>\n",
              "      <th>Location</th>\n",
              "      <th>TweetAt</th>\n",
              "      <th>OriginalTweet</th>\n",
              "      <th>Sentiment</th>\n",
              "    </tr>\n",
              "  </thead>\n",
              "  <tbody>\n",
              "    <tr>\n",
              "      <th>33054</th>\n",
              "      <td>NaN</td>\n",
              "      <td>07-04-2020</td>\n",
              "      <td>https://t.co/2yMUPatIYU Wear a mask! Especiall...</td>\n",
              "      <td>Positive</td>\n",
              "    </tr>\n",
              "    <tr>\n",
              "      <th>33564</th>\n",
              "      <td>NaN</td>\n",
              "      <td>08-04-2020</td>\n",
              "      <td>In light of Covid-19, Canada's insurers are re...</td>\n",
              "      <td>Positive</td>\n",
              "    </tr>\n",
              "    <tr>\n",
              "      <th>32707</th>\n",
              "      <td>5280</td>\n",
              "      <td>07-04-2020</td>\n",
              "      <td>@ate_ted @SenTedCruz Supply &amp;amp; Demand. COVI...</td>\n",
              "      <td>Positive</td>\n",
              "    </tr>\n",
              "    <tr>\n",
              "      <th>13252</th>\n",
              "      <td>Sydney, New South Wales</td>\n",
              "      <td>21-03-2020</td>\n",
              "      <td>Around 9 million people die of hunger and hung...</td>\n",
              "      <td>Negative</td>\n",
              "    </tr>\n",
              "    <tr>\n",
              "      <th>37837</th>\n",
              "      <td>India</td>\n",
              "      <td>11-04-2020</td>\n",
              "      <td>Alarming but informative video everyone should...</td>\n",
              "      <td>Positive</td>\n",
              "    </tr>\n",
              "    <tr>\n",
              "      <th>7974</th>\n",
              "      <td>Dallas, TX</td>\n",
              "      <td>19-03-2020</td>\n",
              "      <td>Disruptions in the global #supplychain are bei...</td>\n",
              "      <td>Neutral</td>\n",
              "    </tr>\n",
              "    <tr>\n",
              "      <th>21882</th>\n",
              "      <td>Berlin</td>\n",
              "      <td>25-03-2020</td>\n",
              "      <td>\"#Alcohol won't solve your problems. Then agai...</td>\n",
              "      <td>Positive</td>\n",
              "    </tr>\n",
              "    <tr>\n",
              "      <th>31408</th>\n",
              "      <td>Charlotte, NC</td>\n",
              "      <td>06-04-2020</td>\n",
              "      <td>See a full list of grocery stores in the #Char...</td>\n",
              "      <td>Neutral</td>\n",
              "    </tr>\n",
              "    <tr>\n",
              "      <th>26930</th>\n",
              "      <td>NY Metro Area</td>\n",
              "      <td>02-04-2020</td>\n",
              "      <td>'Stay at Home' Orders Are Stressing U.S. Famil...</td>\n",
              "      <td>Negative</td>\n",
              "    </tr>\n",
              "    <tr>\n",
              "      <th>12477</th>\n",
              "      <td>NaN</td>\n",
              "      <td>21-03-2020</td>\n",
              "      <td>Boris Johnson ordered the closure of the hospi...</td>\n",
              "      <td>Positive</td>\n",
              "    </tr>\n",
              "  </tbody>\n",
              "</table>\n",
              "</div>"
            ],
            "text/plain": [
              "                      Location  ... Sentiment\n",
              "33054                      NaN  ...  Positive\n",
              "33564                      NaN  ...  Positive\n",
              "32707                     5280  ...  Positive\n",
              "13252  Sydney, New South Wales  ...  Negative\n",
              "37837                    India  ...  Positive\n",
              "7974                Dallas, TX  ...   Neutral\n",
              "21882                   Berlin  ...  Positive\n",
              "31408            Charlotte, NC  ...   Neutral\n",
              "26930            NY Metro Area  ...  Negative\n",
              "12477                      NaN  ...  Positive\n",
              "\n",
              "[10 rows x 4 columns]"
            ]
          },
          "metadata": {
            "tags": []
          },
          "execution_count": 20
        }
      ]
    },
    {
      "cell_type": "code",
      "metadata": {
        "colab": {
          "base_uri": "https://localhost:8080/"
        },
        "id": "Chy3gJuu7BHS",
        "outputId": "d547f3f8-4305-4bcd-d5ba-3c6c63daceba"
      },
      "source": [
        "# Número de instâncias permanece o mesmo.\n",
        "df['Sentiment'].value_counts().values.sum()"
      ],
      "execution_count": null,
      "outputs": [
        {
          "output_type": "execute_result",
          "data": {
            "text/plain": [
              "44955"
            ]
          },
          "metadata": {
            "tags": []
          },
          "execution_count": 21
        }
      ]
    },
    {
      "cell_type": "markdown",
      "metadata": {
        "id": "eLKthN968qz-"
      },
      "source": [
        "# 2.1 - Pré-precessamento dos dados\n",
        "\n",
        "Necessário atribuir valores numéricos aos rótulos."
      ]
    },
    {
      "cell_type": "code",
      "metadata": {
        "id": "Z5mjHHXpF0jB"
      },
      "source": [
        "# Transformando os valores categóricos em numéricos.\r\n",
        "df['Sentiment'] = df['Sentiment'].map({'Positive' : 0, 'Negative' : 1 , 'Neutral' : 2})"
      ],
      "execution_count": null,
      "outputs": []
    },
    {
      "cell_type": "code",
      "metadata": {
        "colab": {
          "base_uri": "https://localhost:8080/"
        },
        "id": "R7cH_VXR3oE_",
        "outputId": "e54746a2-df06-4a92-bbda-7ea206acf22d"
      },
      "source": [
        "# Checando se deu certo.\r\n",
        "df['Sentiment'].unique()"
      ],
      "execution_count": null,
      "outputs": [
        {
          "output_type": "execute_result",
          "data": {
            "text/plain": [
              "array([2, 0, 1])"
            ]
          },
          "metadata": {
            "tags": []
          },
          "execution_count": 23
        }
      ]
    },
    {
      "cell_type": "code",
      "metadata": {
        "colab": {
          "base_uri": "https://localhost:8080/"
        },
        "id": "giwTWWPIF0jC",
        "outputId": "e58cd55e-8b7a-44de-92e6-278bde0671a5"
      },
      "source": [
        "df['Sentiment'].value_counts()"
      ],
      "execution_count": null,
      "outputs": [
        {
          "output_type": "execute_result",
          "data": {
            "text/plain": [
              "0    19592\n",
              "1    17031\n",
              "2     8332\n",
              "Name: Sentiment, dtype: int64"
            ]
          },
          "metadata": {
            "tags": []
          },
          "execution_count": 24
        }
      ]
    },
    {
      "cell_type": "markdown",
      "metadata": {
        "id": "UCh0elNT9rUg"
      },
      "source": [
        "# **3 Conjunto de treino e teste**\n",
        "---"
      ]
    },
    {
      "cell_type": "markdown",
      "metadata": {
        "id": "QdWKJmukGuyf"
      },
      "source": [
        "## 3.1 - Separando os conjuntos. \n"
      ]
    },
    {
      "cell_type": "code",
      "metadata": {
        "colab": {
          "base_uri": "https://localhost:8080/"
        },
        "id": "0wrVRvNU6Clf",
        "outputId": "ffab9eb2-4b92-4072-de61-76d1cdbae499"
      },
      "source": [
        "# Vejamos quantas instâncias cada classe possui.\n",
        "df['Sentiment'].value_counts()"
      ],
      "execution_count": null,
      "outputs": [
        {
          "output_type": "execute_result",
          "data": {
            "text/plain": [
              "0    19592\n",
              "1    17031\n",
              "2     8332\n",
              "Name: Sentiment, dtype: int64"
            ]
          },
          "metadata": {
            "tags": []
          },
          "execution_count": 25
        }
      ]
    },
    {
      "cell_type": "code",
      "metadata": {
        "id": "cTYWkp-_9yCh"
      },
      "source": [
        "# Separando o conjunto de treino e teste de forma estratificada.\n",
        "from sklearn.model_selection import train_test_split\n",
        "\n",
        "train_set,test_set = train_test_split(df,stratify = df['Sentiment'] ,\n",
        "                                      test_size = 0.30,shuffle = True , random_state = 42)"
      ],
      "execution_count": null,
      "outputs": []
    },
    {
      "cell_type": "code",
      "metadata": {
        "colab": {
          "base_uri": "https://localhost:8080/"
        },
        "id": "rXfVB3yJ-XdE",
        "outputId": "27e6c3ce-08fa-413f-b1fe-87e95b4edd28"
      },
      "source": [
        "# Vemos que a proporção se mantém.\n",
        "test_set['Sentiment'].value_counts()"
      ],
      "execution_count": null,
      "outputs": [
        {
          "output_type": "execute_result",
          "data": {
            "text/plain": [
              "0    5878\n",
              "1    5109\n",
              "2    2500\n",
              "Name: Sentiment, dtype: int64"
            ]
          },
          "metadata": {
            "tags": []
          },
          "execution_count": 27
        }
      ]
    },
    {
      "cell_type": "markdown",
      "metadata": {
        "id": "aNWuZNky6e7G"
      },
      "source": [
        "# **4. Explorando os dados**\n",
        "---"
      ]
    },
    {
      "cell_type": "markdown",
      "metadata": {
        "id": "x0U6_rZ562NS"
      },
      "source": [
        "## 4.1 - Dados faltantes"
      ]
    },
    {
      "cell_type": "code",
      "metadata": {
        "colab": {
          "base_uri": "https://localhost:8080/"
        },
        "id": "QUdWQT8C6xV1",
        "outputId": "e49a9f2a-be7c-4395-e17e-e8067199350a"
      },
      "source": [
        "# Ver quantidade de dados faltantes.\n",
        "train_set.isnull().sum()"
      ],
      "execution_count": null,
      "outputs": [
        {
          "output_type": "execute_result",
          "data": {
            "text/plain": [
              "Location         6640\n",
              "TweetAt             0\n",
              "OriginalTweet       0\n",
              "Sentiment           0\n",
              "dtype: int64"
            ]
          },
          "metadata": {
            "tags": []
          },
          "execution_count": 28
        }
      ]
    },
    {
      "cell_type": "markdown",
      "metadata": {
        "id": "0M_v9EuONEPJ"
      },
      "source": [
        "Ao observarmos que a presença de dados faltantes se dá somente nas localizações, as quais não impactam de forma alguma na predição. Logo, não se faz necessário utilizar nenhuma técnica de imputação de dados."
      ]
    },
    {
      "cell_type": "markdown",
      "metadata": {
        "id": "OACjC1R-657b"
      },
      "source": [
        "## 4.2 - Análise das features\n"
      ]
    },
    {
      "cell_type": "markdown",
      "metadata": {
        "id": "7ewYWzSsF0jG"
      },
      "source": [
        "Todos os tweets foram realizados no ano de 2020. Então vamos criar uma nova feature \n",
        "apenas os com meses e realizar uma análise."
      ]
    },
    {
      "cell_type": "code",
      "metadata": {
        "id": "uamhtlX6F0jG"
      },
      "source": [
        "# Convertendo para tipo date.\r\n",
        "train_set['TweetAt'] = pd.to_datetime(train_set['TweetAt'])"
      ],
      "execution_count": null,
      "outputs": []
    },
    {
      "cell_type": "code",
      "metadata": {
        "id": "ND9Uq_4JF0jG"
      },
      "source": [
        "# Retirando apenas o mês.\r\n",
        "train_set['Month'] = train_set['TweetAt'].dt.month"
      ],
      "execution_count": null,
      "outputs": []
    },
    {
      "cell_type": "code",
      "metadata": {
        "colab": {
          "base_uri": "https://localhost:8080/",
          "height": 824
        },
        "id": "nXFBGDtHF0jH",
        "outputId": "afbf3aea-c93c-4912-c4d9-4824b7e3cdb1"
      },
      "source": [
        "# Verificando se funcionou.\n",
        "train_set.sample(25, random_state=seed)"
      ],
      "execution_count": null,
      "outputs": [
        {
          "output_type": "execute_result",
          "data": {
            "text/html": [
              "<div>\n",
              "<style scoped>\n",
              "    .dataframe tbody tr th:only-of-type {\n",
              "        vertical-align: middle;\n",
              "    }\n",
              "\n",
              "    .dataframe tbody tr th {\n",
              "        vertical-align: top;\n",
              "    }\n",
              "\n",
              "    .dataframe thead th {\n",
              "        text-align: right;\n",
              "    }\n",
              "</style>\n",
              "<table border=\"1\" class=\"dataframe\">\n",
              "  <thead>\n",
              "    <tr style=\"text-align: right;\">\n",
              "      <th></th>\n",
              "      <th>Location</th>\n",
              "      <th>TweetAt</th>\n",
              "      <th>OriginalTweet</th>\n",
              "      <th>Sentiment</th>\n",
              "      <th>Month</th>\n",
              "    </tr>\n",
              "  </thead>\n",
              "  <tbody>\n",
              "    <tr>\n",
              "      <th>3632</th>\n",
              "      <td>Austin, TX</td>\n",
              "      <td>2020-03-18</td>\n",
              "      <td>Cutting a business trip a short so as not to g...</td>\n",
              "      <td>0</td>\n",
              "      <td>3</td>\n",
              "    </tr>\n",
              "    <tr>\n",
              "      <th>5229</th>\n",
              "      <td>United States</td>\n",
              "      <td>2020-03-18</td>\n",
              "      <td>COVID-19 Retail Store Closures - WWD https://t...</td>\n",
              "      <td>2</td>\n",
              "      <td>3</td>\n",
              "    </tr>\n",
              "    <tr>\n",
              "      <th>43282</th>\n",
              "      <td>Ohio, USA</td>\n",
              "      <td>2020-03-13</td>\n",
              "      <td>My grocery store. French's fried onions legit ...</td>\n",
              "      <td>2</td>\n",
              "      <td>3</td>\n",
              "    </tr>\n",
              "    <tr>\n",
              "      <th>25710</th>\n",
              "      <td>Edmonton Alberta #yeg</td>\n",
              "      <td>2020-01-04</td>\n",
              "      <td>did a little shopping today, lineup at stupids...</td>\n",
              "      <td>1</td>\n",
              "      <td>1</td>\n",
              "    </tr>\n",
              "    <tr>\n",
              "      <th>5697</th>\n",
              "      <td>Washington, DC</td>\n",
              "      <td>2020-03-19</td>\n",
              "      <td>everyone drop a food u panic bought bc of covi...</td>\n",
              "      <td>1</td>\n",
              "      <td>3</td>\n",
              "    </tr>\n",
              "    <tr>\n",
              "      <th>20072</th>\n",
              "      <td>NaN</td>\n",
              "      <td>2020-03-24</td>\n",
              "      <td>Buzzing #Stock: Jubilant Food suspends dine-in...</td>\n",
              "      <td>0</td>\n",
              "      <td>3</td>\n",
              "    </tr>\n",
              "    <tr>\n",
              "      <th>18113</th>\n",
              "      <td>In my own Utopia</td>\n",
              "      <td>2020-03-23</td>\n",
              "      <td>Businesses inflating prices amid this global p...</td>\n",
              "      <td>1</td>\n",
              "      <td>3</td>\n",
              "    </tr>\n",
              "    <tr>\n",
              "      <th>22223</th>\n",
              "      <td>Cresskill, NJ</td>\n",
              "      <td>2020-03-25</td>\n",
              "      <td>.@NYGovCuomo has been a model governor through...</td>\n",
              "      <td>1</td>\n",
              "      <td>3</td>\n",
              "    </tr>\n",
              "    <tr>\n",
              "      <th>4246</th>\n",
              "      <td>Dallas, TX</td>\n",
              "      <td>2020-03-18</td>\n",
              "      <td>https://t.co/ncczWKM76H\\r\\r\\n#coronavirus #Cor...</td>\n",
              "      <td>0</td>\n",
              "      <td>3</td>\n",
              "    </tr>\n",
              "    <tr>\n",
              "      <th>37801</th>\n",
              "      <td>NaN</td>\n",
              "      <td>2020-11-04</td>\n",
              "      <td>WELLS FARGO Is it true that you are not provid...</td>\n",
              "      <td>0</td>\n",
              "      <td>11</td>\n",
              "    </tr>\n",
              "    <tr>\n",
              "      <th>9272</th>\n",
              "      <td>NaN</td>\n",
              "      <td>2020-03-20</td>\n",
              "      <td>Woman in mkt meat dept had customer demand cho...</td>\n",
              "      <td>1</td>\n",
              "      <td>3</td>\n",
              "    </tr>\n",
              "    <tr>\n",
              "      <th>30400</th>\n",
              "      <td>Florence, OR</td>\n",
              "      <td>2020-06-04</td>\n",
              "      <td>Sides Line Up On Coronavirus Reporting; Oregon...</td>\n",
              "      <td>0</td>\n",
              "      <td>6</td>\n",
              "    </tr>\n",
              "    <tr>\n",
              "      <th>18255</th>\n",
              "      <td>Ahmedabad, India</td>\n",
              "      <td>2020-03-23</td>\n",
              "      <td>Understanding the COVID 19 effect on online sh...</td>\n",
              "      <td>0</td>\n",
              "      <td>3</td>\n",
              "    </tr>\n",
              "    <tr>\n",
              "      <th>8519</th>\n",
              "      <td>Tavarnuzze</td>\n",
              "      <td>2020-03-19</td>\n",
              "      <td>Stories from a line for supermarket #coronavir...</td>\n",
              "      <td>2</td>\n",
              "      <td>3</td>\n",
              "    </tr>\n",
              "    <tr>\n",
              "      <th>20947</th>\n",
              "      <td>Oxnard,CA</td>\n",
              "      <td>2020-03-25</td>\n",
              "      <td>After COVID-19 is over, I better NEVER hear an...</td>\n",
              "      <td>0</td>\n",
              "      <td>3</td>\n",
              "    </tr>\n",
              "    <tr>\n",
              "      <th>28968</th>\n",
              "      <td>Canada True North strong&amp;free</td>\n",
              "      <td>2020-05-04</td>\n",
              "      <td>Athabasca Oil to shut down oilsands project du...</td>\n",
              "      <td>1</td>\n",
              "      <td>5</td>\n",
              "    </tr>\n",
              "    <tr>\n",
              "      <th>19555</th>\n",
              "      <td>mexico city</td>\n",
              "      <td>2020-03-24</td>\n",
              "      <td>The pandemic plus the fall of prices and a dro...</td>\n",
              "      <td>1</td>\n",
              "      <td>3</td>\n",
              "    </tr>\n",
              "    <tr>\n",
              "      <th>27868</th>\n",
              "      <td>Cologne, Germany</td>\n",
              "      <td>2020-03-04</td>\n",
              "      <td>Our supermarket has no toilet paper but an exc...</td>\n",
              "      <td>1</td>\n",
              "      <td>3</td>\n",
              "    </tr>\n",
              "    <tr>\n",
              "      <th>10861</th>\n",
              "      <td>Bromley, London</td>\n",
              "      <td>2020-03-20</td>\n",
              "      <td>No clue what IÂm meant to do because IÂm a y...</td>\n",
              "      <td>1</td>\n",
              "      <td>3</td>\n",
              "    </tr>\n",
              "    <tr>\n",
              "      <th>4969</th>\n",
              "      <td>Sindh, Pakistan</td>\n",
              "      <td>2020-03-18</td>\n",
              "      <td>Social Distancing is an important for protecti...</td>\n",
              "      <td>1</td>\n",
              "      <td>3</td>\n",
              "    </tr>\n",
              "    <tr>\n",
              "      <th>38553</th>\n",
              "      <td>NaN</td>\n",
              "      <td>2020-11-04</td>\n",
              "      <td>Etailer Flipkart and Tata Consumer Products Li...</td>\n",
              "      <td>1</td>\n",
              "      <td>11</td>\n",
              "    </tr>\n",
              "    <tr>\n",
              "      <th>6572</th>\n",
              "      <td>San Diego, CA</td>\n",
              "      <td>2020-03-19</td>\n",
              "      <td>interviewed our CEO to talk about the Food Ban...</td>\n",
              "      <td>1</td>\n",
              "      <td>3</td>\n",
              "    </tr>\n",
              "    <tr>\n",
              "      <th>30102</th>\n",
              "      <td>NaN</td>\n",
              "      <td>2020-06-04</td>\n",
              "      <td>Day23 #SocialDistancing (Sunday) had to go to ...</td>\n",
              "      <td>0</td>\n",
              "      <td>6</td>\n",
              "    </tr>\n",
              "    <tr>\n",
              "      <th>40657</th>\n",
              "      <td>London</td>\n",
              "      <td>2020-04-13</td>\n",
              "      <td>Absolutely delighted that the PM is recovering...</td>\n",
              "      <td>0</td>\n",
              "      <td>4</td>\n",
              "    </tr>\n",
              "    <tr>\n",
              "      <th>36011</th>\n",
              "      <td>Zimbabwe</td>\n",
              "      <td>2020-09-04</td>\n",
              "      <td>@SiphoMalunga So how do you trace and isolate ...</td>\n",
              "      <td>0</td>\n",
              "      <td>9</td>\n",
              "    </tr>\n",
              "  </tbody>\n",
              "</table>\n",
              "</div>"
            ],
            "text/plain": [
              "                            Location    TweetAt  ... Sentiment  Month\n",
              "3632                      Austin, TX 2020-03-18  ...         0      3\n",
              "5229                   United States 2020-03-18  ...         2      3\n",
              "43282                      Ohio, USA 2020-03-13  ...         2      3\n",
              "25710          Edmonton Alberta #yeg 2020-01-04  ...         1      1\n",
              "5697                  Washington, DC 2020-03-19  ...         1      3\n",
              "20072                            NaN 2020-03-24  ...         0      3\n",
              "18113              In my own Utopia  2020-03-23  ...         1      3\n",
              "22223                  Cresskill, NJ 2020-03-25  ...         1      3\n",
              "4246                      Dallas, TX 2020-03-18  ...         0      3\n",
              "37801                            NaN 2020-11-04  ...         0     11\n",
              "9272                             NaN 2020-03-20  ...         1      3\n",
              "30400                   Florence, OR 2020-06-04  ...         0      6\n",
              "18255               Ahmedabad, India 2020-03-23  ...         0      3\n",
              "8519                      Tavarnuzze 2020-03-19  ...         2      3\n",
              "20947                      Oxnard,CA 2020-03-25  ...         0      3\n",
              "28968  Canada True North strong&free 2020-05-04  ...         1      5\n",
              "19555                    mexico city 2020-03-24  ...         1      3\n",
              "27868               Cologne, Germany 2020-03-04  ...         1      3\n",
              "10861                Bromley, London 2020-03-20  ...         1      3\n",
              "4969                 Sindh, Pakistan 2020-03-18  ...         1      3\n",
              "38553                            NaN 2020-11-04  ...         1     11\n",
              "6572                   San Diego, CA 2020-03-19  ...         1      3\n",
              "30102                            NaN 2020-06-04  ...         0      6\n",
              "40657                         London 2020-04-13  ...         0      4\n",
              "36011                       Zimbabwe 2020-09-04  ...         0      9\n",
              "\n",
              "[25 rows x 5 columns]"
            ]
          },
          "metadata": {
            "tags": []
          },
          "execution_count": 31
        }
      ]
    },
    {
      "cell_type": "markdown",
      "metadata": {
        "id": "DUhjdjj9F0jH"
      },
      "source": [
        "Vemos no histograma abaixo que o maior número de tweets sobre o corona vírus ocorreram \n",
        "em março de 2020, com mais de 20000 textos. Nos outros meses, a quantidade \n",
        "de tweets se manteve abaixo de 2500."
      ]
    },
    {
      "cell_type": "code",
      "metadata": {
        "colab": {
          "base_uri": "https://localhost:8080/",
          "height": 362
        },
        "id": "VPwUN42XF0jH",
        "outputId": "37fa21db-976f-4d20-959b-dd2ce0b16d80"
      },
      "source": [
        "train_set['Month'].hist(bins=30, figsize=(10,5))\n",
        "plt.title('CoronaTweets', fontsize=20)\n",
        "plt.xlabel('Mês/2020')\n",
        "plt.ylabel('Frequência')\n",
        "plt.show()"
      ],
      "execution_count": null,
      "outputs": [
        {
          "output_type": "display_data",
          "data": {
            "image/png": "[encoded data removed]",
            "text/plain": [
              "<Figure size 720x360 with 1 Axes>"
            ]
          },
          "metadata": {
            "tags": []
          }
        }
      ]
    },
    {
      "cell_type": "code",
      "metadata": {
        "colab": {
          "base_uri": "https://localhost:8080/",
          "height": 302
        },
        "id": "Pdged1W5F0jH",
        "outputId": "f7e24ca1-1574-4a72-bfbd-5c94c451c955"
      },
      "source": [
        "# Plot das três classes no mesmo histograma\n",
        "x1 = train_set.loc[train_set.Sentiment==0, 'Month']\n",
        "x2 = train_set.loc[train_set.Sentiment==1, 'Month']\n",
        "x3 = train_set.loc[train_set.Sentiment==2, 'Month']\n",
        "\n",
        "kwargs = dict(alpha=0.5, bins=25)\n",
        "\n",
        "plt.hist(x1, **kwargs, color='g', label='Positive')\n",
        "plt.hist(x2, **kwargs, color='b', label='Negative')\n",
        "plt.hist(x3, **kwargs, color='r', label='Neutral')\n",
        "plt.gca().set(title='Histograma de frequência para cada classse', ylabel='Frequência', xlabel='Mês/2020')\n",
        "plt.xlim(0,13)\n",
        "plt.legend();"
      ],
      "execution_count": null,
      "outputs": [
        {
          "output_type": "display_data",
          "data": {
            "image/png": "[encoded data removed]",
            "text/plain": [
              "<Figure size 432x288 with 1 Axes>"
            ]
          },
          "metadata": {
            "tags": []
          }
        }
      ]
    },
    {
      "cell_type": "code",
      "metadata": {
        "colab": {
          "base_uri": "https://localhost:8080/",
          "height": 316
        },
        "id": "yCC_ODxKF0jI",
        "outputId": "e7d02675-2f91-4ff7-d5ac-c5281c659bb3"
      },
      "source": [
        "# Plot das três classes em histogramas distintos\n",
        "fig, axes = plt.subplots(1, 3, figsize=(10,3), dpi=100, sharex=True, sharey=True)\n",
        "colors = ['tab:blue', 'tab:green', 'tab:red']\n",
        "\n",
        "for i, (ax, Sentiment) in enumerate(zip(axes.flatten(), train_set.Sentiment.unique())):\n",
        "    x = train_set.loc[train_set.Sentiment==Sentiment, 'Month']\n",
        "    ax.hist(x, alpha=0.5, bins=25, label=str(Sentiment), color=colors[i])\n",
        "    ax.set_title(Sentiment)\n",
        "\n",
        "plt.suptitle('Histograma', size=16)\n",
        "ax.set_xlim(0, 13); ax.set_ylim(0, 10000);\n",
        "plt.tight_layout();"
      ],
      "execution_count": null,
      "outputs": [
        {
          "output_type": "display_data",
          "data": {
            "image/png": "[encoded data removed]",
            "text/plain": [
              "<Figure size 1000x300 with 3 Axes>"
            ]
          },
          "metadata": {
            "tags": []
          }
        }
      ]
    },
    {
      "cell_type": "markdown",
      "metadata": {
        "id": "e18PN23IF0jI"
      },
      "source": [
        "Vemos nos histogramas acima que qualquer classe teve um aumento no mês de março, \n",
        "prevalecendo os comentários positivos e depois os negativos. Nos demais meses, a quantidade\n",
        "de tweets positivos e negativos se mantiveram próximas e maior que a quantidade\n",
        "de tweets neutros. "
      ]
    },
    {
      "cell_type": "markdown",
      "metadata": {
        "id": "pov-7mwEOWk3"
      },
      "source": [
        "\r\n",
        "\r\n",
        "## 4.2.1 Extraindo os países"
      ]
    },
    {
      "cell_type": "code",
      "metadata": {
        "colab": {
          "base_uri": "https://localhost:8080/"
        },
        "id": "ar5PZT30F0jJ",
        "outputId": "e8475660-0576-4de6-abfa-b88e08b31142"
      },
      "source": [
        "# Checando os dados.\r\n",
        "train_set['Location'].sample(25)"
      ],
      "execution_count": null,
      "outputs": [
        {
          "output_type": "execute_result",
          "data": {
            "text/plain": [
              "3632                        Austin, TX\n",
              "5229                     United States\n",
              "43282                        Ohio, USA\n",
              "25710            Edmonton Alberta #yeg\n",
              "5697                    Washington, DC\n",
              "20072                              NaN\n",
              "18113                In my own Utopia \n",
              "22223                    Cresskill, NJ\n",
              "4246                        Dallas, TX\n",
              "37801                              NaN\n",
              "9272                               NaN\n",
              "30400                     Florence, OR\n",
              "18255                 Ahmedabad, India\n",
              "8519                        Tavarnuzze\n",
              "20947                        Oxnard,CA\n",
              "28968    Canada True North strong&free\n",
              "19555                      mexico city\n",
              "27868                 Cologne, Germany\n",
              "10861                  Bromley, London\n",
              "4969                   Sindh, Pakistan\n",
              "38553                              NaN\n",
              "6572                     San Diego, CA\n",
              "30102                              NaN\n",
              "40657                           London\n",
              "36011                         Zimbabwe\n",
              "Name: Location, dtype: object"
            ]
          },
          "metadata": {
            "tags": []
          },
          "execution_count": 35
        }
      ]
    },
    {
      "cell_type": "markdown",
      "metadata": {
        "id": "vUkk-uSQOp7h"
      },
      "source": [
        "Ao analisarmos os dados referentes a classe das localizações fica evidente a existência de informações discrepantes, como é o caso de \"In my own Utopia\". Outro ponto relevante é a presença de cidades e países que representam o mesmo local. Por estes motivos utilizamos a biblioteca pycountry para remover o máximo de países que fosse possível."
      ]
    },
    {
      "cell_type": "code",
      "metadata": {
        "colab": {
          "base_uri": "https://localhost:8080/"
        },
        "id": "lEMPrsBLF0jL",
        "outputId": "9cda3998-709e-4dfa-b678-629632378acd"
      },
      "source": [
        "# Instalando a biblioteca pycountry.\n",
        "!pip3 install pycountry\n",
        "import pycountry"
      ],
      "execution_count": null,
      "outputs": [
        {
          "output_type": "stream",
          "text": [
            "Requirement already satisfied: pycountry in /usr/local/lib/python3.6/dist-packages (20.7.3)\n"
          ],
          "name": "stdout"
        }
      ]
    },
    {
      "cell_type": "code",
      "metadata": {
        "id": "vLscrN_KF0jM"
      },
      "source": [
        "# Criando a função para retirar os países.\n",
        "def retrieve_country(x):\n",
        "  try:\n",
        "    country = pycountry.countries.search_fuzzy(x)[0].alpha_3\n",
        "    return country\n",
        "  except:\n",
        "    return np.nan\n"
      ],
      "execution_count": null,
      "outputs": []
    },
    {
      "cell_type": "code",
      "metadata": {
        "colab": {
          "background_save": true
        },
        "id": "Rpec_yNwF0jN"
      },
      "source": [
        "# Criando uma coluna com os países.\n",
        "train_set['Country'] = train_set['Location'].apply( lambda x : retrieve_country(x))"
      ],
      "execution_count": null,
      "outputs": []
    },
    {
      "cell_type": "code",
      "metadata": {
        "colab": {
          "background_save": true
        },
        "id": "YHrVkboAH5vS",
        "outputId": "f6e7d4fe-52a6-4a7d-cccb-2588887726f7"
      },
      "source": [
        "# Plotando o mapa.\n",
        "import plotly.express as px\n",
        "nao_nulos = df['Country'][df['Country'].notnull()]\n",
        "\n",
        "fig = px.choropleth(\n",
        "              locations = nao_nulos.value_counts().sort_values(ascending = False).index,\n",
        "              color = nao_nulos.value_counts().sort_values(ascending = False).values,\n",
        "              color_continuous_scale = 'Darkmint',\n",
        "              labels = {'color' : 'Quantidade','locations' : 'Local'},\n",
        "              title = 'Frequência dos tweets agrupados pelos países '\n",
        "              )\n",
        "                        \n",
        "fig.show()"
      ],
      "execution_count": null,
      "outputs": [
        {
          "output_type": "error",
          "ename": "SyntaxError",
          "evalue": "ignored",
          "traceback": [
            "\u001b[0;36m  File \u001b[0;32m\"<ipython-input-37-4c59e659d679>\"\u001b[0;36m, line \u001b[0;32m5\u001b[0m\n\u001b[0;31m    fig p px.choropleth(\u001b[0m\n\u001b[0m        ^\u001b[0m\n\u001b[0;31mSyntaxError\u001b[0m\u001b[0;31m:\u001b[0m invalid syntax\n"
          ]
        }
      ]
    },
    {
      "cell_type": "markdown",
      "metadata": {
        "id": "ZbqbH2hQ9PKv"
      },
      "source": [
        "## 4.2.2 - Analisando as palavras"
      ]
    },
    {
      "cell_type": "markdown",
      "metadata": {
        "id": "v7Awkby4QcMF"
      },
      "source": [
        "Uma wordcloud (nuvem de palavras) é um tipo de visualização em que seu tamanho é diretamente proporcional a sua frequência."
      ]
    },
    {
      "cell_type": "code",
      "metadata": {
        "colab": {
          "background_save": true
        },
        "id": "4IxDMwW19erw"
      },
      "source": [
        "# Criando uma nuvem de palavras para os nossos dados.\n",
        "from wordcloud import WordCloud,STOPWORDS\n",
        "\n",
        "def create_wordcloud(df):\n",
        "\n",
        "  texto = \" \".join(palavra for palavra in df.values)\n",
        "  stopwords = set(STOPWORDS)\n",
        "  \n",
        "  wordcloud = WordCloud(width=800, height=400,stopwords=stopwords,max_font_size=50, max_words=100,\n",
        "                        background_color='black').generate(texto)\n",
        "  \n",
        "  plt.figure(figsize=(20,10))\n",
        "  plt.imshow(wordcloud, interpolation=\"bilinear\")\n",
        "  plt.axis(\"off\")\n",
        "  plt.show()"
      ],
      "execution_count": null,
      "outputs": []
    },
    {
      "cell_type": "code",
      "metadata": {
        "colab": {
          "background_save": true
        },
        "id": "S40iU2Jn9w9Y"
      },
      "source": [
        "# Nuvem de palavras para todos os tweets.\r\n",
        "create_wordcloud(train_set['OriginalTweet'])"
      ],
      "execution_count": null,
      "outputs": []
    },
    {
      "cell_type": "code",
      "metadata": {
        "colab": {
          "background_save": true
        },
        "id": "Ys2sdFouCQYp"
      },
      "source": [
        "# Nuvem de palavras para todos os tweets positivos.\n",
        "comentarios_positivos = train_set[train_set['Sentiment'] == 0]\n",
        "\n",
        "create_wordcloud(comentarios_positivos['OriginalTweet'])"
      ],
      "execution_count": null,
      "outputs": []
    },
    {
      "cell_type": "code",
      "metadata": {
        "colab": {
          "background_save": true
        },
        "id": "L89YKG6zEuaB"
      },
      "source": [
        "# Nuvem de palavras para todos os tweets negativos.\n",
        "comentarios_negativos = train_set[train_set['Sentiment'] == 1]\n",
        "\n",
        "create_wordcloud(comentarios_negativos['OriginalTweet'])"
      ],
      "execution_count": null,
      "outputs": []
    },
    {
      "cell_type": "code",
      "metadata": {
        "colab": {
          "background_save": true
        },
        "id": "KYwm5aRXE-57"
      },
      "source": [
        "# Nuvem de palavras para todos os tweets neutros.\n",
        "comentarios_neutros = train_set[train_set['Sentiment'] == 2]\n",
        "\n",
        "create_wordcloud(comentarios_neutros['OriginalTweet'])"
      ],
      "execution_count": null,
      "outputs": []
    },
    {
      "cell_type": "markdown",
      "metadata": {
        "id": "FXhvFZk3JLzc"
      },
      "source": [
        "# **5. Treinando e avaliando modelos** \n",
        "---"
      ]
    },
    {
      "cell_type": "markdown",
      "metadata": {
        "id": "AOhVIZ7iqoNS"
      },
      "source": [
        "## 5.1 - Bag of Words (BoW)\n",
        "\n",
        "O BoW trata cada palavra de um texto separadamente e conta quantas vezes ela aparece. Além disso, a ordem em que as palavras aparecem não importam. Este processo inclui converter todas as strings para sua forma minúscula, remover a pontuação, tokenização e contar frequências. "
      ]
    },
    {
      "cell_type": "code",
      "metadata": {
        "colab": {
          "background_save": true
        },
        "id": "SBHnH8QoF0jE"
      },
      "source": [
        "from sklearn.feature_extraction.text import CountVectorizer,TfidfTransformer\n",
        "\n",
        "count_vector = CountVectorizer(strip_accents = 'unicode',lowercase= True,stop_words= 'english')\n",
        "\n",
        "X = train_set['OriginalTweet'].copy()\n",
        "y = train_set['Sentiment'].copy()\n",
        "\n",
        "X_tr= count_vector.fit_transform(X)\n",
        "\n",
        "X_tr.shape"
      ],
      "execution_count": null,
      "outputs": []
    },
    {
      "cell_type": "markdown",
      "metadata": {
        "id": "Z4MkuTb3zFRv"
      },
      "source": [
        "A acurácia não é boa quando alguma classe é mais frequente do que outra. No nosso conjunto de treino, aproximadamente 43,58 % são tweets positivos, 37,89% são negativos e 18,53% são neutros. Vejamos a matriz de confusão."
      ]
    },
    {
      "cell_type": "code",
      "metadata": {
        "colab": {
          "background_save": true
        },
        "id": "SRcmyXVGyA3j"
      },
      "source": [
        "# Fazer predições em conjuntos no treino e não teste usando o predict.\n",
        "from sklearn.linear_model import LogisticRegression\n",
        "from sklearn.model_selection import cross_val_predict\n",
        "\n",
        "y_pred = cross_val_predict(LogisticRegression(), X_tr, y, cv=10)\n",
        "\n"
      ],
      "execution_count": null,
      "outputs": []
    },
    {
      "cell_type": "markdown",
      "metadata": {
        "id": "SAG9Q7frzq0h"
      },
      "source": [
        "Estamos mais interessados que os comentários negativos não sejam identificados como positivos ou neutros. Utilizando a regressão logística, a matriz de confusão nos diz que 12,11% dos comentários negativos foram identificados como positivo e 8,63% como neutro."
      ]
    },
    {
      "cell_type": "code",
      "metadata": {
        "colab": {
          "background_save": true
        },
        "id": "CX-GedMm1th5"
      },
      "source": [
        "from sklearn import metrics\n",
        "print(metrics.confusion_matrix(y, y_pred))"
      ],
      "execution_count": null,
      "outputs": []
    },
    {
      "cell_type": "markdown",
      "metadata": {
        "id": "gaP5KS5T2nTp"
      },
      "source": [
        "Precisão : dos comentários preditos como positivo, 83% são identificados corretamente.\n",
        "\n",
        "Recall : dos comentários realmente positivos, 82,5% são identificados corretamente."
      ]
    },
    {
      "cell_type": "code",
      "metadata": {
        "colab": {
          "background_save": true
        },
        "id": "KDB1U2iL19Vs"
      },
      "source": [
        "print(metrics.classification_report(y, y_pred, digits=3))"
      ],
      "execution_count": null,
      "outputs": []
    },
    {
      "cell_type": "markdown",
      "metadata": {
        "id": "NxEPbeLPSJlx"
      },
      "source": [
        "Observe abaixo o desempenho dos respectivos classificadores."
      ]
    },
    {
      "cell_type": "code",
      "metadata": {
        "colab": {
          "background_save": true
        },
        "id": "wTKDJY8CN1hI"
      },
      "source": [
        "from sklearn.ensemble import RandomForestClassifier\n",
        "\n",
        "y_pred = cross_val_predict(RandomForestClassifier(), X_tr,y,cv =10)\n",
        "\n",
        "print(metrics.confusion_matrix(y, y_pred))\n"
      ],
      "execution_count": null,
      "outputs": []
    },
    {
      "cell_type": "code",
      "metadata": {
        "colab": {
          "background_save": true
        },
        "id": "8xBQgk3p10nU"
      },
      "source": [
        "print(metrics.classification_report(y, y_pred, digits=3))"
      ],
      "execution_count": null,
      "outputs": []
    },
    {
      "cell_type": "code",
      "metadata": {
        "colab": {
          "background_save": true
        },
        "id": "mKODGljnT-6I"
      },
      "source": [
        "from sklearn.neighbors import KNeighborsClassifier\n",
        "\n",
        "y_pred = cross_val_predict(KNeighborsClassifier(), X_tr,y,cv =10)\n",
        "\n",
        "print(metrics.confusion_matrix(y, y_pred))\n"
      ],
      "execution_count": null,
      "outputs": []
    },
    {
      "cell_type": "code",
      "metadata": {
        "colab": {
          "background_save": true
        },
        "id": "w76pR7h41xjL"
      },
      "source": [
        "print(metrics.classification_report(y, y_pred, digits=3))"
      ],
      "execution_count": null,
      "outputs": []
    },
    {
      "cell_type": "code",
      "metadata": {
        "colab": {
          "background_save": true
        },
        "id": "uAg4BeRDVaDR"
      },
      "source": [
        "from sklearn.linear_model import SGDClassifier\n",
        "\n",
        "\n",
        "y_pred = cross_val_predict(SGDClassifier(), X_tr,y,cv =10)\n",
        "\n",
        "print(metrics.confusion_matrix(y, y_pred))\n",
        "\n"
      ],
      "execution_count": null,
      "outputs": []
    },
    {
      "cell_type": "code",
      "metadata": {
        "colab": {
          "background_save": true
        },
        "id": "ryoi1nVX1vxa"
      },
      "source": [
        "print(metrics.classification_report(y, y_pred, digits=3))"
      ],
      "execution_count": null,
      "outputs": []
    },
    {
      "cell_type": "code",
      "metadata": {
        "colab": {
          "background_save": true
        },
        "id": "qYLDkEtSXc6y"
      },
      "source": [
        "from sklearn.svm import LinearSVC\n",
        "\n",
        "y_pred = cross_val_predict(LinearSVC(), X_tr,y,cv =10)\n",
        "\n",
        "print(metrics.confusion_matrix(y, y_pred))"
      ],
      "execution_count": null,
      "outputs": []
    },
    {
      "cell_type": "code",
      "metadata": {
        "colab": {
          "background_save": true
        },
        "id": "T4b7MBlJ14ZI"
      },
      "source": [
        "print(metrics.classification_report(y, y_pred, digits=3))"
      ],
      "execution_count": null,
      "outputs": []
    },
    {
      "cell_type": "markdown",
      "metadata": {
        "id": "WgTQinQrSZpK"
      },
      "source": [
        "Com os resultados obtidos, é possível afirmar que o modelo gradiente descendente estocástico (SDGC) obteve o melhor desempenho."
      ]
    },
    {
      "cell_type": "markdown",
      "metadata": {
        "id": "BU7k8W2SdFXR"
      },
      "source": [
        "## 5.2 - Grid search"
      ]
    },
    {
      "cell_type": "markdown",
      "metadata": {
        "id": "5us73NosS7WX"
      },
      "source": [
        "Agora vamos aprimorar os parâmetros do nosso modelo."
      ]
    },
    {
      "cell_type": "code",
      "metadata": {
        "colab": {
          "background_save": true
        },
        "id": "5MvZLPYCc9v4"
      },
      "source": [
        "from sklearn.model_selection import GridSearchCV\n",
        "\n",
        "param = {\n",
        "    'alpha': [1e-4, 1e-3, 1e-2, 1e-1, 1e0, 1e1, 1e2, 1e3], \n",
        "    'max_iter': [1000], \n",
        "    'loss': ['log',\"hinge\",'modified_huber'], \n",
        "    'penalty': ['l2'],\n",
        "    'n_jobs': [-1]\n",
        "}\n",
        "\n",
        "\n",
        "grid = GridSearchCV(SGDClassifier(), param ,cv = 10)\n",
        "\n",
        "grid.fit(X_tr,y)"
      ],
      "execution_count": null,
      "outputs": []
    },
    {
      "cell_type": "code",
      "metadata": {
        "colab": {
          "background_save": true
        },
        "id": "lZfUNvybealZ"
      },
      "source": [
        "modelo =  grid.best_estimator_"
      ],
      "execution_count": null,
      "outputs": []
    },
    {
      "cell_type": "markdown",
      "metadata": {
        "id": "d9L-ZUcwfeEu"
      },
      "source": [
        "# **6 - Avaliação**\n",
        "---"
      ]
    },
    {
      "cell_type": "code",
      "metadata": {
        "colab": {
          "background_save": true
        },
        "id": "jNMUBbtjfYx9"
      },
      "source": [
        "# Avaliando o modelo.\n",
        "x_test = test_set['OriginalTweet'].copy()\n",
        "\n",
        "y_test = test_set['Sentiment'].copy()\n",
        "\n",
        "x_test_tr = count_vector.transform(x_test)\n",
        "\n"
      ],
      "execution_count": null,
      "outputs": []
    },
    {
      "cell_type": "code",
      "metadata": {
        "colab": {
          "background_save": true
        },
        "id": "6CqbBBuzgOkX"
      },
      "source": [
        "modelo.fit(X_tr,y)"
      ],
      "execution_count": null,
      "outputs": []
    },
    {
      "cell_type": "code",
      "metadata": {
        "colab": {
          "background_save": true
        },
        "id": "C7PFyvtcgW-O"
      },
      "source": [
        "pred = modelo.predict(x_test_tr)\n",
        "\n",
        "print(metrics.confusion_matrix(y_test, pred))\n",
        "\n",
        "print(metrics.classification_report(y_test, pred, digits=3))"
      ],
      "execution_count": null,
      "outputs": []
    },
    {
      "cell_type": "markdown",
      "metadata": {
        "id": "KdVDCNdXTlog"
      },
      "source": [
        "Vemos que com os melhores parâmetros obtivemos uma maior precisão no modelo. Logo, o modelo está pronto para produção."
      ]
    },
    {
      "cell_type": "code",
      "metadata": {
        "colab": {
          "background_save": true
        },
        "id": "p_Sn4yohg5YS"
      },
      "source": [
        "# Convertendo para piclke.\n",
        "import pickle\n",
        "\n",
        "with open('model.pickle', 'wb') as f:\n",
        "    pickle.dump(modelo, f)"
      ],
      "execution_count": null,
      "outputs": []
    },
    {
      "cell_type": "markdown",
      "metadata": {
        "id": "EhoAS8lAN0Va"
      },
      "source": [
        "# **7 - Conclusão**\n",
        "---\n",
        "\n",
        "Como o modelo já está apto para realizar o deploy, foi construído um Data App."
      ]
    }
  ]
}