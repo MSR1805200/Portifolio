{
  "nbformat": 4,
  "nbformat_minor": 0,
  "metadata": {
    "colab": {
      "name": "fetal_health.ipynb",
      "provenance": [],
      "collapsed_sections": []
    },
    "kernelspec": {
      "name": "python3",
      "display_name": "Python 3"
    }
  },
  "cells": [
    {
      "cell_type": "markdown",
      "metadata": {
        "id": "YxMW7x8O7sAt"
      },
      "source": [
        "# **Projeto ponta a ponta : Classificando a saúde de fetos**\n",
        "\n",
        "----"
      ]
    },
    {
      "cell_type": "markdown",
      "metadata": {
        "id": "044fkFVQ72XV"
      },
      "source": [
        "O objetivo desse projeto é, com base em caracteristicas relacionadas à saúde fetal, prever se um feto está com algum problema. O dataset foi retirado do [kaggle](https://www.kaggle.com/andrewmvd/fetal-health-classification) ."
      ]
    },
    {
      "cell_type": "markdown",
      "metadata": {
        "id": "WF798jT2-jAU"
      },
      "source": [
        "## 1. Aquisição dos dados"
      ]
    },
    {
      "cell_type": "code",
      "metadata": {
        "id": "-iFLKfv471Er"
      },
      "source": [
        "import pandas as pd\n",
        "import plotly.express as px\n"
      ],
      "execution_count": 58,
      "outputs": []
    },
    {
      "cell_type": "code",
      "metadata": {
        "id": "m_RNdObX7lbh"
      },
      "source": [
        "df = pd.read_csv('https://raw.githubusercontent.com/MSR1805200/Portifolio/main/projetos_pessoais/fetal_health/data/fetal_health.csv')"
      ],
      "execution_count": 59,
      "outputs": []
    },
    {
      "cell_type": "code",
      "metadata": {
        "colab": {
          "base_uri": "https://localhost:8080/",
          "height": 241
        },
        "id": "kdpY5kLx8pXW",
        "outputId": "cfcc42c2-7b52-4581-a5b7-2a89c37f22a2"
      },
      "source": [
        "df.head() "
      ],
      "execution_count": 60,
      "outputs": [
        {
          "output_type": "execute_result",
          "data": {
            "text/html": [
              "<div>\n",
              "<style scoped>\n",
              "    .dataframe tbody tr th:only-of-type {\n",
              "        vertical-align: middle;\n",
              "    }\n",
              "\n",
              "    .dataframe tbody tr th {\n",
              "        vertical-align: top;\n",
              "    }\n",
              "\n",
              "    .dataframe thead th {\n",
              "        text-align: right;\n",
              "    }\n",
              "</style>\n",
              "<table border=\"1\" class=\"dataframe\">\n",
              "  <thead>\n",
              "    <tr style=\"text-align: right;\">\n",
              "      <th></th>\n",
              "      <th>baseline value</th>\n",
              "      <th>accelerations</th>\n",
              "      <th>fetal_movement</th>\n",
              "      <th>uterine_contractions</th>\n",
              "      <th>light_decelerations</th>\n",
              "      <th>severe_decelerations</th>\n",
              "      <th>prolongued_decelerations</th>\n",
              "      <th>abnormal_short_term_variability</th>\n",
              "      <th>mean_value_of_short_term_variability</th>\n",
              "      <th>percentage_of_time_with_abnormal_long_term_variability</th>\n",
              "      <th>mean_value_of_long_term_variability</th>\n",
              "      <th>histogram_width</th>\n",
              "      <th>histogram_min</th>\n",
              "      <th>histogram_max</th>\n",
              "      <th>histogram_number_of_peaks</th>\n",
              "      <th>histogram_number_of_zeroes</th>\n",
              "      <th>histogram_mode</th>\n",
              "      <th>histogram_mean</th>\n",
              "      <th>histogram_median</th>\n",
              "      <th>histogram_variance</th>\n",
              "      <th>histogram_tendency</th>\n",
              "      <th>fetal_health</th>\n",
              "    </tr>\n",
              "  </thead>\n",
              "  <tbody>\n",
              "    <tr>\n",
              "      <th>0</th>\n",
              "      <td>120.0</td>\n",
              "      <td>0.000</td>\n",
              "      <td>0.0</td>\n",
              "      <td>0.000</td>\n",
              "      <td>0.000</td>\n",
              "      <td>0.0</td>\n",
              "      <td>0.0</td>\n",
              "      <td>73.0</td>\n",
              "      <td>0.5</td>\n",
              "      <td>43.0</td>\n",
              "      <td>2.4</td>\n",
              "      <td>64.0</td>\n",
              "      <td>62.0</td>\n",
              "      <td>126.0</td>\n",
              "      <td>2.0</td>\n",
              "      <td>0.0</td>\n",
              "      <td>120.0</td>\n",
              "      <td>137.0</td>\n",
              "      <td>121.0</td>\n",
              "      <td>73.0</td>\n",
              "      <td>1.0</td>\n",
              "      <td>2.0</td>\n",
              "    </tr>\n",
              "    <tr>\n",
              "      <th>1</th>\n",
              "      <td>132.0</td>\n",
              "      <td>0.006</td>\n",
              "      <td>0.0</td>\n",
              "      <td>0.006</td>\n",
              "      <td>0.003</td>\n",
              "      <td>0.0</td>\n",
              "      <td>0.0</td>\n",
              "      <td>17.0</td>\n",
              "      <td>2.1</td>\n",
              "      <td>0.0</td>\n",
              "      <td>10.4</td>\n",
              "      <td>130.0</td>\n",
              "      <td>68.0</td>\n",
              "      <td>198.0</td>\n",
              "      <td>6.0</td>\n",
              "      <td>1.0</td>\n",
              "      <td>141.0</td>\n",
              "      <td>136.0</td>\n",
              "      <td>140.0</td>\n",
              "      <td>12.0</td>\n",
              "      <td>0.0</td>\n",
              "      <td>1.0</td>\n",
              "    </tr>\n",
              "    <tr>\n",
              "      <th>2</th>\n",
              "      <td>133.0</td>\n",
              "      <td>0.003</td>\n",
              "      <td>0.0</td>\n",
              "      <td>0.008</td>\n",
              "      <td>0.003</td>\n",
              "      <td>0.0</td>\n",
              "      <td>0.0</td>\n",
              "      <td>16.0</td>\n",
              "      <td>2.1</td>\n",
              "      <td>0.0</td>\n",
              "      <td>13.4</td>\n",
              "      <td>130.0</td>\n",
              "      <td>68.0</td>\n",
              "      <td>198.0</td>\n",
              "      <td>5.0</td>\n",
              "      <td>1.0</td>\n",
              "      <td>141.0</td>\n",
              "      <td>135.0</td>\n",
              "      <td>138.0</td>\n",
              "      <td>13.0</td>\n",
              "      <td>0.0</td>\n",
              "      <td>1.0</td>\n",
              "    </tr>\n",
              "    <tr>\n",
              "      <th>3</th>\n",
              "      <td>134.0</td>\n",
              "      <td>0.003</td>\n",
              "      <td>0.0</td>\n",
              "      <td>0.008</td>\n",
              "      <td>0.003</td>\n",
              "      <td>0.0</td>\n",
              "      <td>0.0</td>\n",
              "      <td>16.0</td>\n",
              "      <td>2.4</td>\n",
              "      <td>0.0</td>\n",
              "      <td>23.0</td>\n",
              "      <td>117.0</td>\n",
              "      <td>53.0</td>\n",
              "      <td>170.0</td>\n",
              "      <td>11.0</td>\n",
              "      <td>0.0</td>\n",
              "      <td>137.0</td>\n",
              "      <td>134.0</td>\n",
              "      <td>137.0</td>\n",
              "      <td>13.0</td>\n",
              "      <td>1.0</td>\n",
              "      <td>1.0</td>\n",
              "    </tr>\n",
              "    <tr>\n",
              "      <th>4</th>\n",
              "      <td>132.0</td>\n",
              "      <td>0.007</td>\n",
              "      <td>0.0</td>\n",
              "      <td>0.008</td>\n",
              "      <td>0.000</td>\n",
              "      <td>0.0</td>\n",
              "      <td>0.0</td>\n",
              "      <td>16.0</td>\n",
              "      <td>2.4</td>\n",
              "      <td>0.0</td>\n",
              "      <td>19.9</td>\n",
              "      <td>117.0</td>\n",
              "      <td>53.0</td>\n",
              "      <td>170.0</td>\n",
              "      <td>9.0</td>\n",
              "      <td>0.0</td>\n",
              "      <td>137.0</td>\n",
              "      <td>136.0</td>\n",
              "      <td>138.0</td>\n",
              "      <td>11.0</td>\n",
              "      <td>1.0</td>\n",
              "      <td>1.0</td>\n",
              "    </tr>\n",
              "  </tbody>\n",
              "</table>\n",
              "</div>"
            ],
            "text/plain": [
              "   baseline value  accelerations  ...  histogram_tendency  fetal_health\n",
              "0           120.0          0.000  ...                 1.0           2.0\n",
              "1           132.0          0.006  ...                 0.0           1.0\n",
              "2           133.0          0.003  ...                 0.0           1.0\n",
              "3           134.0          0.003  ...                 1.0           1.0\n",
              "4           132.0          0.007  ...                 1.0           1.0\n",
              "\n",
              "[5 rows x 22 columns]"
            ]
          },
          "metadata": {
            "tags": []
          },
          "execution_count": 60
        }
      ]
    },
    {
      "cell_type": "markdown",
      "metadata": {
        "id": "PDYb1lHV_fQl"
      },
      "source": [
        "Observe abaixo a explicação dos atributos :\n",
        "\n",
        "* **baseline value(Frequência cardíaca fetal basal)** - mostra a quantidade de batidas do coração por minuto\n",
        "\n",
        "* **accelerations** - número de acelerações por segundo \n",
        "\n",
        "* **fetal_movement** - número de movimento fetal por segundo\n",
        "\n",
        "* **uterine_contractions** - número de contrações uterinas por segundo\n",
        "\n",
        "* **light_decelerations** - número de desacelerações leves por segundo\n",
        "\n",
        "* **severe_decelerations** - número de desacelerações severas por segundo\n",
        "\n",
        "* **prolongued_decelerations** - número de desacelerações prolongadas por segundo\n",
        "\n",
        "* **abnormal_short_term_variability** - Porcentagem de tempo com variabilidade anormal de curto prazo\n",
        "\n",
        "* **mean_value_of_short_term_variability** - Valor médio da variabilidade de curto prazo\n",
        "\n",
        "* **percentage_of_time_with_abnormal_long_term_variability** - Porcentagem de tempo com variabilidade anormal de longo prazo\n",
        "\n",
        "* **mean_value_of_long_term_variability** - Valor médio da variabilidade de curto prazo\n",
        "\n",
        "* **histogram_width** - Largura do histograma feito usando todos os valores de um registro\n",
        "\n",
        "* **histogram_min** - Valor mínimo do histograma\n",
        "\n",
        "* **histogram_max** - Valor máximo do histograma\n",
        "\n",
        "* **histogram_number_of_peaks** - Número de picos no histograma do exame\n",
        "\n",
        "* **histogram_number_of_zeroes** - Número de zeros no histograma do exame\n",
        " \n",
        "* **histogram_mode** - moda do histograma\n",
        "\n",
        "* **histogram_mean** - média do histograma\n",
        "\n",
        "* **histogram_median** - mediana do histograma\n",
        "\n",
        "* **histogram_variance** - variancia do histograma\n",
        "\n",
        "* **histogram_tendency** - Tendência do histograma\n",
        "\n",
        "* **fetal_health(Vida fetal)** - 1: Normal, 2: Suspeita, 3: Patológica"
      ]
    },
    {
      "cell_type": "markdown",
      "metadata": {
        "id": "NtL6lJFU-qmZ"
      },
      "source": [
        "## 2 . Divisão dos dados"
      ]
    },
    {
      "cell_type": "markdown",
      "metadata": {
        "id": "_R019I_59xs_"
      },
      "source": [
        "Vamos observar como as classes estão distribuidas."
      ]
    },
    {
      "cell_type": "code",
      "metadata": {
        "colab": {
          "base_uri": "https://localhost:8080/"
        },
        "id": "Aqp8_CsJ8roQ",
        "outputId": "fb5d1597-2130-44b6-b33a-238fa548e9c6"
      },
      "source": [
        "df['fetal_health'].value_counts()"
      ],
      "execution_count": 61,
      "outputs": [
        {
          "output_type": "execute_result",
          "data": {
            "text/plain": [
              "1.0    1655\n",
              "2.0     295\n",
              "3.0     176\n",
              "Name: fetal_health, dtype: int64"
            ]
          },
          "metadata": {
            "tags": []
          },
          "execution_count": 61
        }
      ]
    },
    {
      "cell_type": "markdown",
      "metadata": {
        "id": "pg6yMKm493Wa"
      },
      "source": [
        "Como as classes estão mal distribuidas, se faz necessário estratificar os dados. Vamos realizar a divisão dos dados no início para evitar viéses."
      ]
    },
    {
      "cell_type": "code",
      "metadata": {
        "id": "H5mXAbV_8tjl"
      },
      "source": [
        "from sklearn.model_selection import  train_test_split\n",
        "train_set,test_set = train_test_split(df, random_state = 42, shuffle = True, stratify = df['fetal_health'])\n"
      ],
      "execution_count": 62,
      "outputs": []
    },
    {
      "cell_type": "markdown",
      "metadata": {
        "id": "MxlM9Pde-2_z"
      },
      "source": [
        "## 3 . pré-processamento dos dados"
      ]
    },
    {
      "cell_type": "markdown",
      "metadata": {
        "id": "-Kx8Q7Q3-7ag"
      },
      "source": [
        "Vamos ver se há algum valor nulo no conjunto de dados do treino."
      ]
    },
    {
      "cell_type": "code",
      "metadata": {
        "colab": {
          "base_uri": "https://localhost:8080/"
        },
        "id": "UWeWIeh7-ftX",
        "outputId": "09cb4ac9-f4ec-4ada-ca02-368f37c51062"
      },
      "source": [
        "train_set.isnull().sum()"
      ],
      "execution_count": 63,
      "outputs": [
        {
          "output_type": "execute_result",
          "data": {
            "text/plain": [
              "baseline value                                            0\n",
              "accelerations                                             0\n",
              "fetal_movement                                            0\n",
              "uterine_contractions                                      0\n",
              "light_decelerations                                       0\n",
              "severe_decelerations                                      0\n",
              "prolongued_decelerations                                  0\n",
              "abnormal_short_term_variability                           0\n",
              "mean_value_of_short_term_variability                      0\n",
              "percentage_of_time_with_abnormal_long_term_variability    0\n",
              "mean_value_of_long_term_variability                       0\n",
              "histogram_width                                           0\n",
              "histogram_min                                             0\n",
              "histogram_max                                             0\n",
              "histogram_number_of_peaks                                 0\n",
              "histogram_number_of_zeroes                                0\n",
              "histogram_mode                                            0\n",
              "histogram_mean                                            0\n",
              "histogram_median                                          0\n",
              "histogram_variance                                        0\n",
              "histogram_tendency                                        0\n",
              "fetal_health                                              0\n",
              "dtype: int64"
            ]
          },
          "metadata": {
            "tags": []
          },
          "execution_count": 63
        }
      ]
    },
    {
      "cell_type": "markdown",
      "metadata": {
        "id": "Lq6kysNx_Dwo"
      },
      "source": [
        "Parece não ter nenhum valor nulo, mas não sabemos no conjunto de teste. Vamos observar se o conjunto de dados de treino precisa de alguma técnica de pré-processamento."
      ]
    },
    {
      "cell_type": "code",
      "metadata": {
        "colab": {
          "base_uri": "https://localhost:8080/"
        },
        "id": "RtVYgzMj_Awe",
        "outputId": "dc4f5f44-23bc-410c-81cc-9b8af1c6e16d"
      },
      "source": [
        "train_set.info()"
      ],
      "execution_count": 64,
      "outputs": [
        {
          "output_type": "stream",
          "text": [
            "<class 'pandas.core.frame.DataFrame'>\n",
            "Int64Index: 1594 entries, 883 to 229\n",
            "Data columns (total 22 columns):\n",
            " #   Column                                                  Non-Null Count  Dtype  \n",
            "---  ------                                                  --------------  -----  \n",
            " 0   baseline value                                          1594 non-null   float64\n",
            " 1   accelerations                                           1594 non-null   float64\n",
            " 2   fetal_movement                                          1594 non-null   float64\n",
            " 3   uterine_contractions                                    1594 non-null   float64\n",
            " 4   light_decelerations                                     1594 non-null   float64\n",
            " 5   severe_decelerations                                    1594 non-null   float64\n",
            " 6   prolongued_decelerations                                1594 non-null   float64\n",
            " 7   abnormal_short_term_variability                         1594 non-null   float64\n",
            " 8   mean_value_of_short_term_variability                    1594 non-null   float64\n",
            " 9   percentage_of_time_with_abnormal_long_term_variability  1594 non-null   float64\n",
            " 10  mean_value_of_long_term_variability                     1594 non-null   float64\n",
            " 11  histogram_width                                         1594 non-null   float64\n",
            " 12  histogram_min                                           1594 non-null   float64\n",
            " 13  histogram_max                                           1594 non-null   float64\n",
            " 14  histogram_number_of_peaks                               1594 non-null   float64\n",
            " 15  histogram_number_of_zeroes                              1594 non-null   float64\n",
            " 16  histogram_mode                                          1594 non-null   float64\n",
            " 17  histogram_mean                                          1594 non-null   float64\n",
            " 18  histogram_median                                        1594 non-null   float64\n",
            " 19  histogram_variance                                      1594 non-null   float64\n",
            " 20  histogram_tendency                                      1594 non-null   float64\n",
            " 21  fetal_health                                            1594 non-null   float64\n",
            "dtypes: float64(22)\n",
            "memory usage: 286.4 KB\n"
          ],
          "name": "stdout"
        }
      ]
    },
    {
      "cell_type": "markdown",
      "metadata": {
        "id": "sO0cvKeoCBEI"
      },
      "source": [
        "A tipagem está a mesma para todas as colunas."
      ]
    },
    {
      "cell_type": "code",
      "metadata": {
        "colab": {
          "base_uri": "https://localhost:8080/",
          "height": 551
        },
        "id": "zjbxemcRCdP8",
        "outputId": "631c4d8e-79c0-41ae-a095-8f02062b48b1"
      },
      "source": [
        "train_set.sample(15,random_state= 42)"
      ],
      "execution_count": 65,
      "outputs": [
        {
          "output_type": "execute_result",
          "data": {
            "text/html": [
              "<div>\n",
              "<style scoped>\n",
              "    .dataframe tbody tr th:only-of-type {\n",
              "        vertical-align: middle;\n",
              "    }\n",
              "\n",
              "    .dataframe tbody tr th {\n",
              "        vertical-align: top;\n",
              "    }\n",
              "\n",
              "    .dataframe thead th {\n",
              "        text-align: right;\n",
              "    }\n",
              "</style>\n",
              "<table border=\"1\" class=\"dataframe\">\n",
              "  <thead>\n",
              "    <tr style=\"text-align: right;\">\n",
              "      <th></th>\n",
              "      <th>baseline value</th>\n",
              "      <th>accelerations</th>\n",
              "      <th>fetal_movement</th>\n",
              "      <th>uterine_contractions</th>\n",
              "      <th>light_decelerations</th>\n",
              "      <th>severe_decelerations</th>\n",
              "      <th>prolongued_decelerations</th>\n",
              "      <th>abnormal_short_term_variability</th>\n",
              "      <th>mean_value_of_short_term_variability</th>\n",
              "      <th>percentage_of_time_with_abnormal_long_term_variability</th>\n",
              "      <th>mean_value_of_long_term_variability</th>\n",
              "      <th>histogram_width</th>\n",
              "      <th>histogram_min</th>\n",
              "      <th>histogram_max</th>\n",
              "      <th>histogram_number_of_peaks</th>\n",
              "      <th>histogram_number_of_zeroes</th>\n",
              "      <th>histogram_mode</th>\n",
              "      <th>histogram_mean</th>\n",
              "      <th>histogram_median</th>\n",
              "      <th>histogram_variance</th>\n",
              "      <th>histogram_tendency</th>\n",
              "      <th>fetal_health</th>\n",
              "    </tr>\n",
              "  </thead>\n",
              "  <tbody>\n",
              "    <tr>\n",
              "      <th>1068</th>\n",
              "      <td>133.0</td>\n",
              "      <td>0.010</td>\n",
              "      <td>0.000</td>\n",
              "      <td>0.006</td>\n",
              "      <td>0.000</td>\n",
              "      <td>0.0</td>\n",
              "      <td>0.000</td>\n",
              "      <td>33.0</td>\n",
              "      <td>1.2</td>\n",
              "      <td>0.0</td>\n",
              "      <td>4.4</td>\n",
              "      <td>82.0</td>\n",
              "      <td>97.0</td>\n",
              "      <td>179.0</td>\n",
              "      <td>7.0</td>\n",
              "      <td>0.0</td>\n",
              "      <td>163.0</td>\n",
              "      <td>156.0</td>\n",
              "      <td>161.0</td>\n",
              "      <td>19.0</td>\n",
              "      <td>1.0</td>\n",
              "      <td>1.0</td>\n",
              "    </tr>\n",
              "    <tr>\n",
              "      <th>2107</th>\n",
              "      <td>136.0</td>\n",
              "      <td>0.000</td>\n",
              "      <td>0.001</td>\n",
              "      <td>0.006</td>\n",
              "      <td>0.000</td>\n",
              "      <td>0.0</td>\n",
              "      <td>0.000</td>\n",
              "      <td>74.0</td>\n",
              "      <td>1.0</td>\n",
              "      <td>21.0</td>\n",
              "      <td>7.0</td>\n",
              "      <td>42.0</td>\n",
              "      <td>107.0</td>\n",
              "      <td>149.0</td>\n",
              "      <td>2.0</td>\n",
              "      <td>0.0</td>\n",
              "      <td>137.0</td>\n",
              "      <td>135.0</td>\n",
              "      <td>138.0</td>\n",
              "      <td>1.0</td>\n",
              "      <td>1.0</td>\n",
              "      <td>1.0</td>\n",
              "    </tr>\n",
              "    <tr>\n",
              "      <th>2019</th>\n",
              "      <td>125.0</td>\n",
              "      <td>0.000</td>\n",
              "      <td>0.000</td>\n",
              "      <td>0.008</td>\n",
              "      <td>0.007</td>\n",
              "      <td>0.0</td>\n",
              "      <td>0.001</td>\n",
              "      <td>64.0</td>\n",
              "      <td>1.4</td>\n",
              "      <td>0.0</td>\n",
              "      <td>2.7</td>\n",
              "      <td>77.0</td>\n",
              "      <td>78.0</td>\n",
              "      <td>155.0</td>\n",
              "      <td>4.0</td>\n",
              "      <td>0.0</td>\n",
              "      <td>107.0</td>\n",
              "      <td>111.0</td>\n",
              "      <td>113.0</td>\n",
              "      <td>11.0</td>\n",
              "      <td>0.0</td>\n",
              "      <td>1.0</td>\n",
              "    </tr>\n",
              "    <tr>\n",
              "      <th>1285</th>\n",
              "      <td>112.0</td>\n",
              "      <td>0.000</td>\n",
              "      <td>0.000</td>\n",
              "      <td>0.005</td>\n",
              "      <td>0.000</td>\n",
              "      <td>0.0</td>\n",
              "      <td>0.000</td>\n",
              "      <td>26.0</td>\n",
              "      <td>1.3</td>\n",
              "      <td>0.0</td>\n",
              "      <td>10.1</td>\n",
              "      <td>37.0</td>\n",
              "      <td>90.0</td>\n",
              "      <td>127.0</td>\n",
              "      <td>2.0</td>\n",
              "      <td>1.0</td>\n",
              "      <td>114.0</td>\n",
              "      <td>114.0</td>\n",
              "      <td>116.0</td>\n",
              "      <td>2.0</td>\n",
              "      <td>1.0</td>\n",
              "      <td>1.0</td>\n",
              "    </tr>\n",
              "    <tr>\n",
              "      <th>1936</th>\n",
              "      <td>133.0</td>\n",
              "      <td>0.000</td>\n",
              "      <td>0.003</td>\n",
              "      <td>0.009</td>\n",
              "      <td>0.003</td>\n",
              "      <td>0.0</td>\n",
              "      <td>0.000</td>\n",
              "      <td>63.0</td>\n",
              "      <td>2.4</td>\n",
              "      <td>0.0</td>\n",
              "      <td>0.1</td>\n",
              "      <td>39.0</td>\n",
              "      <td>103.0</td>\n",
              "      <td>142.0</td>\n",
              "      <td>2.0</td>\n",
              "      <td>0.0</td>\n",
              "      <td>133.0</td>\n",
              "      <td>125.0</td>\n",
              "      <td>131.0</td>\n",
              "      <td>8.0</td>\n",
              "      <td>1.0</td>\n",
              "      <td>1.0</td>\n",
              "    </tr>\n",
              "    <tr>\n",
              "      <th>1889</th>\n",
              "      <td>141.0</td>\n",
              "      <td>0.005</td>\n",
              "      <td>0.000</td>\n",
              "      <td>0.007</td>\n",
              "      <td>0.000</td>\n",
              "      <td>0.0</td>\n",
              "      <td>0.000</td>\n",
              "      <td>58.0</td>\n",
              "      <td>0.6</td>\n",
              "      <td>3.0</td>\n",
              "      <td>9.6</td>\n",
              "      <td>63.0</td>\n",
              "      <td>108.0</td>\n",
              "      <td>171.0</td>\n",
              "      <td>3.0</td>\n",
              "      <td>1.0</td>\n",
              "      <td>156.0</td>\n",
              "      <td>154.0</td>\n",
              "      <td>157.0</td>\n",
              "      <td>5.0</td>\n",
              "      <td>1.0</td>\n",
              "      <td>1.0</td>\n",
              "    </tr>\n",
              "    <tr>\n",
              "      <th>1338</th>\n",
              "      <td>128.0</td>\n",
              "      <td>0.000</td>\n",
              "      <td>0.016</td>\n",
              "      <td>0.010</td>\n",
              "      <td>0.008</td>\n",
              "      <td>0.0</td>\n",
              "      <td>0.002</td>\n",
              "      <td>16.0</td>\n",
              "      <td>2.9</td>\n",
              "      <td>0.0</td>\n",
              "      <td>7.8</td>\n",
              "      <td>125.0</td>\n",
              "      <td>53.0</td>\n",
              "      <td>178.0</td>\n",
              "      <td>9.0</td>\n",
              "      <td>0.0</td>\n",
              "      <td>133.0</td>\n",
              "      <td>114.0</td>\n",
              "      <td>121.0</td>\n",
              "      <td>74.0</td>\n",
              "      <td>0.0</td>\n",
              "      <td>1.0</td>\n",
              "    </tr>\n",
              "    <tr>\n",
              "      <th>1221</th>\n",
              "      <td>135.0</td>\n",
              "      <td>0.000</td>\n",
              "      <td>0.000</td>\n",
              "      <td>0.007</td>\n",
              "      <td>0.000</td>\n",
              "      <td>0.0</td>\n",
              "      <td>0.000</td>\n",
              "      <td>50.0</td>\n",
              "      <td>0.6</td>\n",
              "      <td>0.0</td>\n",
              "      <td>12.2</td>\n",
              "      <td>34.0</td>\n",
              "      <td>118.0</td>\n",
              "      <td>152.0</td>\n",
              "      <td>0.0</td>\n",
              "      <td>0.0</td>\n",
              "      <td>137.0</td>\n",
              "      <td>136.0</td>\n",
              "      <td>138.0</td>\n",
              "      <td>1.0</td>\n",
              "      <td>0.0</td>\n",
              "      <td>1.0</td>\n",
              "    </tr>\n",
              "    <tr>\n",
              "      <th>463</th>\n",
              "      <td>120.0</td>\n",
              "      <td>0.006</td>\n",
              "      <td>0.001</td>\n",
              "      <td>0.001</td>\n",
              "      <td>0.000</td>\n",
              "      <td>0.0</td>\n",
              "      <td>0.000</td>\n",
              "      <td>51.0</td>\n",
              "      <td>1.3</td>\n",
              "      <td>3.0</td>\n",
              "      <td>11.1</td>\n",
              "      <td>113.0</td>\n",
              "      <td>59.0</td>\n",
              "      <td>172.0</td>\n",
              "      <td>16.0</td>\n",
              "      <td>1.0</td>\n",
              "      <td>117.0</td>\n",
              "      <td>127.0</td>\n",
              "      <td>129.0</td>\n",
              "      <td>23.0</td>\n",
              "      <td>0.0</td>\n",
              "      <td>1.0</td>\n",
              "    </tr>\n",
              "    <tr>\n",
              "      <th>1344</th>\n",
              "      <td>128.0</td>\n",
              "      <td>0.011</td>\n",
              "      <td>0.011</td>\n",
              "      <td>0.005</td>\n",
              "      <td>0.003</td>\n",
              "      <td>0.0</td>\n",
              "      <td>0.000</td>\n",
              "      <td>36.0</td>\n",
              "      <td>1.6</td>\n",
              "      <td>0.0</td>\n",
              "      <td>4.9</td>\n",
              "      <td>124.0</td>\n",
              "      <td>59.0</td>\n",
              "      <td>183.0</td>\n",
              "      <td>5.0</td>\n",
              "      <td>0.0</td>\n",
              "      <td>137.0</td>\n",
              "      <td>135.0</td>\n",
              "      <td>139.0</td>\n",
              "      <td>18.0</td>\n",
              "      <td>0.0</td>\n",
              "      <td>1.0</td>\n",
              "    </tr>\n",
              "    <tr>\n",
              "      <th>150</th>\n",
              "      <td>148.0</td>\n",
              "      <td>0.000</td>\n",
              "      <td>0.000</td>\n",
              "      <td>0.003</td>\n",
              "      <td>0.000</td>\n",
              "      <td>0.0</td>\n",
              "      <td>0.000</td>\n",
              "      <td>57.0</td>\n",
              "      <td>0.5</td>\n",
              "      <td>20.0</td>\n",
              "      <td>9.6</td>\n",
              "      <td>48.0</td>\n",
              "      <td>115.0</td>\n",
              "      <td>163.0</td>\n",
              "      <td>5.0</td>\n",
              "      <td>0.0</td>\n",
              "      <td>153.0</td>\n",
              "      <td>152.0</td>\n",
              "      <td>153.0</td>\n",
              "      <td>1.0</td>\n",
              "      <td>1.0</td>\n",
              "      <td>1.0</td>\n",
              "    </tr>\n",
              "    <tr>\n",
              "      <th>1240</th>\n",
              "      <td>115.0</td>\n",
              "      <td>0.007</td>\n",
              "      <td>0.000</td>\n",
              "      <td>0.008</td>\n",
              "      <td>0.000</td>\n",
              "      <td>0.0</td>\n",
              "      <td>0.000</td>\n",
              "      <td>20.0</td>\n",
              "      <td>1.7</td>\n",
              "      <td>0.0</td>\n",
              "      <td>3.5</td>\n",
              "      <td>78.0</td>\n",
              "      <td>79.0</td>\n",
              "      <td>157.0</td>\n",
              "      <td>6.0</td>\n",
              "      <td>3.0</td>\n",
              "      <td>123.0</td>\n",
              "      <td>124.0</td>\n",
              "      <td>125.0</td>\n",
              "      <td>7.0</td>\n",
              "      <td>0.0</td>\n",
              "      <td>1.0</td>\n",
              "    </tr>\n",
              "    <tr>\n",
              "      <th>957</th>\n",
              "      <td>136.0</td>\n",
              "      <td>0.000</td>\n",
              "      <td>0.000</td>\n",
              "      <td>0.008</td>\n",
              "      <td>0.008</td>\n",
              "      <td>0.0</td>\n",
              "      <td>0.000</td>\n",
              "      <td>33.0</td>\n",
              "      <td>1.3</td>\n",
              "      <td>0.0</td>\n",
              "      <td>8.0</td>\n",
              "      <td>81.0</td>\n",
              "      <td>73.0</td>\n",
              "      <td>154.0</td>\n",
              "      <td>4.0</td>\n",
              "      <td>1.0</td>\n",
              "      <td>133.0</td>\n",
              "      <td>132.0</td>\n",
              "      <td>135.0</td>\n",
              "      <td>17.0</td>\n",
              "      <td>1.0</td>\n",
              "      <td>1.0</td>\n",
              "    </tr>\n",
              "    <tr>\n",
              "      <th>1952</th>\n",
              "      <td>133.0</td>\n",
              "      <td>0.000</td>\n",
              "      <td>0.000</td>\n",
              "      <td>0.010</td>\n",
              "      <td>0.002</td>\n",
              "      <td>0.0</td>\n",
              "      <td>0.002</td>\n",
              "      <td>60.0</td>\n",
              "      <td>3.0</td>\n",
              "      <td>0.0</td>\n",
              "      <td>0.0</td>\n",
              "      <td>105.0</td>\n",
              "      <td>60.0</td>\n",
              "      <td>165.0</td>\n",
              "      <td>5.0</td>\n",
              "      <td>0.0</td>\n",
              "      <td>125.0</td>\n",
              "      <td>97.0</td>\n",
              "      <td>105.0</td>\n",
              "      <td>80.0</td>\n",
              "      <td>0.0</td>\n",
              "      <td>3.0</td>\n",
              "    </tr>\n",
              "    <tr>\n",
              "      <th>1336</th>\n",
              "      <td>128.0</td>\n",
              "      <td>0.000</td>\n",
              "      <td>0.011</td>\n",
              "      <td>0.004</td>\n",
              "      <td>0.006</td>\n",
              "      <td>0.0</td>\n",
              "      <td>0.002</td>\n",
              "      <td>22.0</td>\n",
              "      <td>2.4</td>\n",
              "      <td>0.0</td>\n",
              "      <td>9.2</td>\n",
              "      <td>125.0</td>\n",
              "      <td>53.0</td>\n",
              "      <td>178.0</td>\n",
              "      <td>11.0</td>\n",
              "      <td>0.0</td>\n",
              "      <td>143.0</td>\n",
              "      <td>121.0</td>\n",
              "      <td>131.0</td>\n",
              "      <td>101.0</td>\n",
              "      <td>0.0</td>\n",
              "      <td>1.0</td>\n",
              "    </tr>\n",
              "  </tbody>\n",
              "</table>\n",
              "</div>"
            ],
            "text/plain": [
              "      baseline value  accelerations  ...  histogram_tendency  fetal_health\n",
              "1068           133.0          0.010  ...                 1.0           1.0\n",
              "2107           136.0          0.000  ...                 1.0           1.0\n",
              "2019           125.0          0.000  ...                 0.0           1.0\n",
              "1285           112.0          0.000  ...                 1.0           1.0\n",
              "1936           133.0          0.000  ...                 1.0           1.0\n",
              "1889           141.0          0.005  ...                 1.0           1.0\n",
              "1338           128.0          0.000  ...                 0.0           1.0\n",
              "1221           135.0          0.000  ...                 0.0           1.0\n",
              "463            120.0          0.006  ...                 0.0           1.0\n",
              "1344           128.0          0.011  ...                 0.0           1.0\n",
              "150            148.0          0.000  ...                 1.0           1.0\n",
              "1240           115.0          0.007  ...                 0.0           1.0\n",
              "957            136.0          0.000  ...                 1.0           1.0\n",
              "1952           133.0          0.000  ...                 0.0           3.0\n",
              "1336           128.0          0.000  ...                 0.0           1.0\n",
              "\n",
              "[15 rows x 22 columns]"
            ]
          },
          "metadata": {
            "tags": []
          },
          "execution_count": 65
        }
      ]
    },
    {
      "cell_type": "markdown",
      "metadata": {
        "id": "ohKESvKMCkG-"
      },
      "source": [
        "Ao que parece nenhuma coluna precisa ser pré-processada. Vamos observar como os dados estão se comportando."
      ]
    },
    {
      "cell_type": "code",
      "metadata": {
        "colab": {
          "base_uri": "https://localhost:8080/",
          "height": 334
        },
        "id": "3a0MRukaCyBd",
        "outputId": "0fd48fa0-4880-4e5b-8a28-fab957de2c92"
      },
      "source": [
        "train_set.describe()"
      ],
      "execution_count": 66,
      "outputs": [
        {
          "output_type": "execute_result",
          "data": {
            "text/html": [
              "<div>\n",
              "<style scoped>\n",
              "    .dataframe tbody tr th:only-of-type {\n",
              "        vertical-align: middle;\n",
              "    }\n",
              "\n",
              "    .dataframe tbody tr th {\n",
              "        vertical-align: top;\n",
              "    }\n",
              "\n",
              "    .dataframe thead th {\n",
              "        text-align: right;\n",
              "    }\n",
              "</style>\n",
              "<table border=\"1\" class=\"dataframe\">\n",
              "  <thead>\n",
              "    <tr style=\"text-align: right;\">\n",
              "      <th></th>\n",
              "      <th>baseline value</th>\n",
              "      <th>accelerations</th>\n",
              "      <th>fetal_movement</th>\n",
              "      <th>uterine_contractions</th>\n",
              "      <th>light_decelerations</th>\n",
              "      <th>severe_decelerations</th>\n",
              "      <th>prolongued_decelerations</th>\n",
              "      <th>abnormal_short_term_variability</th>\n",
              "      <th>mean_value_of_short_term_variability</th>\n",
              "      <th>percentage_of_time_with_abnormal_long_term_variability</th>\n",
              "      <th>mean_value_of_long_term_variability</th>\n",
              "      <th>histogram_width</th>\n",
              "      <th>histogram_min</th>\n",
              "      <th>histogram_max</th>\n",
              "      <th>histogram_number_of_peaks</th>\n",
              "      <th>histogram_number_of_zeroes</th>\n",
              "      <th>histogram_mode</th>\n",
              "      <th>histogram_mean</th>\n",
              "      <th>histogram_median</th>\n",
              "      <th>histogram_variance</th>\n",
              "      <th>histogram_tendency</th>\n",
              "      <th>fetal_health</th>\n",
              "    </tr>\n",
              "  </thead>\n",
              "  <tbody>\n",
              "    <tr>\n",
              "      <th>count</th>\n",
              "      <td>1594.000000</td>\n",
              "      <td>1594.000000</td>\n",
              "      <td>1594.000000</td>\n",
              "      <td>1594.000000</td>\n",
              "      <td>1594.000000</td>\n",
              "      <td>1594.000000</td>\n",
              "      <td>1594.000000</td>\n",
              "      <td>1594.000000</td>\n",
              "      <td>1594.000000</td>\n",
              "      <td>1594.000000</td>\n",
              "      <td>1594.000000</td>\n",
              "      <td>1594.000000</td>\n",
              "      <td>1594.000000</td>\n",
              "      <td>1594.000000</td>\n",
              "      <td>1594.000000</td>\n",
              "      <td>1594.000000</td>\n",
              "      <td>1594.000000</td>\n",
              "      <td>1594.000000</td>\n",
              "      <td>1594.000000</td>\n",
              "      <td>1594.000000</td>\n",
              "      <td>1594.000000</td>\n",
              "      <td>1594.000000</td>\n",
              "    </tr>\n",
              "    <tr>\n",
              "      <th>mean</th>\n",
              "      <td>133.094730</td>\n",
              "      <td>0.003206</td>\n",
              "      <td>0.009964</td>\n",
              "      <td>0.004354</td>\n",
              "      <td>0.001848</td>\n",
              "      <td>0.000003</td>\n",
              "      <td>0.000164</td>\n",
              "      <td>46.774780</td>\n",
              "      <td>1.336324</td>\n",
              "      <td>9.900251</td>\n",
              "      <td>8.153388</td>\n",
              "      <td>70.344417</td>\n",
              "      <td>93.475533</td>\n",
              "      <td>163.819950</td>\n",
              "      <td>4.060853</td>\n",
              "      <td>0.314304</td>\n",
              "      <td>137.274780</td>\n",
              "      <td>134.442911</td>\n",
              "      <td>137.951694</td>\n",
              "      <td>18.959849</td>\n",
              "      <td>0.320577</td>\n",
              "      <td>1.304266</td>\n",
              "    </tr>\n",
              "    <tr>\n",
              "      <th>std</th>\n",
              "      <td>9.743306</td>\n",
              "      <td>0.003872</td>\n",
              "      <td>0.048223</td>\n",
              "      <td>0.002917</td>\n",
              "      <td>0.002911</td>\n",
              "      <td>0.000050</td>\n",
              "      <td>0.000602</td>\n",
              "      <td>17.312934</td>\n",
              "      <td>0.880302</td>\n",
              "      <td>18.526768</td>\n",
              "      <td>5.508665</td>\n",
              "      <td>38.960923</td>\n",
              "      <td>29.482176</td>\n",
              "      <td>17.935914</td>\n",
              "      <td>2.946808</td>\n",
              "      <td>0.665505</td>\n",
              "      <td>16.402763</td>\n",
              "      <td>15.529760</td>\n",
              "      <td>14.337718</td>\n",
              "      <td>29.671918</td>\n",
              "      <td>0.611249</td>\n",
              "      <td>0.614448</td>\n",
              "    </tr>\n",
              "    <tr>\n",
              "      <th>min</th>\n",
              "      <td>106.000000</td>\n",
              "      <td>0.000000</td>\n",
              "      <td>0.000000</td>\n",
              "      <td>0.000000</td>\n",
              "      <td>0.000000</td>\n",
              "      <td>0.000000</td>\n",
              "      <td>0.000000</td>\n",
              "      <td>12.000000</td>\n",
              "      <td>0.200000</td>\n",
              "      <td>0.000000</td>\n",
              "      <td>0.000000</td>\n",
              "      <td>3.000000</td>\n",
              "      <td>50.000000</td>\n",
              "      <td>122.000000</td>\n",
              "      <td>0.000000</td>\n",
              "      <td>0.000000</td>\n",
              "      <td>60.000000</td>\n",
              "      <td>73.000000</td>\n",
              "      <td>77.000000</td>\n",
              "      <td>0.000000</td>\n",
              "      <td>-1.000000</td>\n",
              "      <td>1.000000</td>\n",
              "    </tr>\n",
              "    <tr>\n",
              "      <th>25%</th>\n",
              "      <td>126.000000</td>\n",
              "      <td>0.000000</td>\n",
              "      <td>0.000000</td>\n",
              "      <td>0.002000</td>\n",
              "      <td>0.000000</td>\n",
              "      <td>0.000000</td>\n",
              "      <td>0.000000</td>\n",
              "      <td>32.000000</td>\n",
              "      <td>0.700000</td>\n",
              "      <td>0.000000</td>\n",
              "      <td>4.500000</td>\n",
              "      <td>37.000000</td>\n",
              "      <td>67.000000</td>\n",
              "      <td>152.000000</td>\n",
              "      <td>2.000000</td>\n",
              "      <td>0.000000</td>\n",
              "      <td>128.000000</td>\n",
              "      <td>125.000000</td>\n",
              "      <td>128.000000</td>\n",
              "      <td>2.000000</td>\n",
              "      <td>0.000000</td>\n",
              "      <td>1.000000</td>\n",
              "    </tr>\n",
              "    <tr>\n",
              "      <th>50%</th>\n",
              "      <td>133.000000</td>\n",
              "      <td>0.002000</td>\n",
              "      <td>0.000000</td>\n",
              "      <td>0.004000</td>\n",
              "      <td>0.000000</td>\n",
              "      <td>0.000000</td>\n",
              "      <td>0.000000</td>\n",
              "      <td>48.000000</td>\n",
              "      <td>1.200000</td>\n",
              "      <td>0.000000</td>\n",
              "      <td>7.400000</td>\n",
              "      <td>67.000000</td>\n",
              "      <td>94.000000</td>\n",
              "      <td>161.000000</td>\n",
              "      <td>3.000000</td>\n",
              "      <td>0.000000</td>\n",
              "      <td>139.000000</td>\n",
              "      <td>136.000000</td>\n",
              "      <td>139.000000</td>\n",
              "      <td>7.000000</td>\n",
              "      <td>0.000000</td>\n",
              "      <td>1.000000</td>\n",
              "    </tr>\n",
              "    <tr>\n",
              "      <th>75%</th>\n",
              "      <td>140.000000</td>\n",
              "      <td>0.006000</td>\n",
              "      <td>0.003000</td>\n",
              "      <td>0.007000</td>\n",
              "      <td>0.003000</td>\n",
              "      <td>0.000000</td>\n",
              "      <td>0.000000</td>\n",
              "      <td>61.000000</td>\n",
              "      <td>1.700000</td>\n",
              "      <td>11.000000</td>\n",
              "      <td>10.800000</td>\n",
              "      <td>100.000000</td>\n",
              "      <td>120.000000</td>\n",
              "      <td>174.000000</td>\n",
              "      <td>6.000000</td>\n",
              "      <td>0.000000</td>\n",
              "      <td>148.000000</td>\n",
              "      <td>145.000000</td>\n",
              "      <td>148.000000</td>\n",
              "      <td>23.000000</td>\n",
              "      <td>1.000000</td>\n",
              "      <td>1.000000</td>\n",
              "    </tr>\n",
              "    <tr>\n",
              "      <th>max</th>\n",
              "      <td>160.000000</td>\n",
              "      <td>0.018000</td>\n",
              "      <td>0.477000</td>\n",
              "      <td>0.014000</td>\n",
              "      <td>0.015000</td>\n",
              "      <td>0.001000</td>\n",
              "      <td>0.005000</td>\n",
              "      <td>86.000000</td>\n",
              "      <td>7.000000</td>\n",
              "      <td>91.000000</td>\n",
              "      <td>40.800000</td>\n",
              "      <td>176.000000</td>\n",
              "      <td>159.000000</td>\n",
              "      <td>238.000000</td>\n",
              "      <td>18.000000</td>\n",
              "      <td>8.000000</td>\n",
              "      <td>187.000000</td>\n",
              "      <td>182.000000</td>\n",
              "      <td>186.000000</td>\n",
              "      <td>254.000000</td>\n",
              "      <td>1.000000</td>\n",
              "      <td>3.000000</td>\n",
              "    </tr>\n",
              "  </tbody>\n",
              "</table>\n",
              "</div>"
            ],
            "text/plain": [
              "       baseline value  accelerations  ...  histogram_tendency  fetal_health\n",
              "count     1594.000000    1594.000000  ...         1594.000000   1594.000000\n",
              "mean       133.094730       0.003206  ...            0.320577      1.304266\n",
              "std          9.743306       0.003872  ...            0.611249      0.614448\n",
              "min        106.000000       0.000000  ...           -1.000000      1.000000\n",
              "25%        126.000000       0.000000  ...            0.000000      1.000000\n",
              "50%        133.000000       0.002000  ...            0.000000      1.000000\n",
              "75%        140.000000       0.006000  ...            1.000000      1.000000\n",
              "max        160.000000       0.018000  ...            1.000000      3.000000\n",
              "\n",
              "[8 rows x 22 columns]"
            ]
          },
          "metadata": {
            "tags": []
          },
          "execution_count": 66
        }
      ]
    },
    {
      "cell_type": "markdown",
      "metadata": {
        "id": "sYuW4W_EC-J_"
      },
      "source": [
        "Ao que parece, algumas colunas estão com alguns valores discrepantes, como por exemplo a coluna **percentage_of_time_with_abnormal_long_term_variabilit**\tque possui uma média de 9.900251\t, mas sua mediana possui um valor de 0.000000. Entretanto de início não há necessidade de realizar um tratamento de outliers. A frente observaremos melhor esses dados."
      ]
    },
    {
      "cell_type": "markdown",
      "metadata": {
        "id": "tBE9dHmZEMOi"
      },
      "source": [
        "## 4. Análise Exploratória"
      ]
    },
    {
      "cell_type": "markdown",
      "metadata": {
        "id": "5VTa873ueswN"
      },
      "source": [
        "Vamos criar alguns histogramas para observar o comportamento de algumas colunas."
      ]
    },
    {
      "cell_type": "code",
      "metadata": {
        "colab": {
          "base_uri": "https://localhost:8080/",
          "height": 542
        },
        "id": "DMjD0zPJELie",
        "outputId": "fbff8a26-6ecb-4203-b349-0ed25fdb8ac0"
      },
      "source": [
        "px.histogram(x =train_set['baseline value'], title  = 'Histograma da coluna : baseline value')\n"
      ],
      "execution_count": 67,
      "outputs": [
        {
          "output_type": "display_data",
          "data": {
            "text/html": [
              "<html>\n",
              "<head><meta charset=\"utf-8\" /></head>\n",
              "<body>\n",
              "    <div>\n",
              "            <script src=\"https://cdnjs.cloudflare.com/ajax/libs/mathjax/2.7.5/MathJax.js?config=TeX-AMS-MML_SVG\"></script><script type=\"text/javascript\">if (window.MathJax) {MathJax.Hub.Config({SVG: {font: \"STIX-Web\"}});}</script>\n",
              "                <script type=\"text/javascript\">window.PlotlyConfig = {MathJaxConfig: 'local'};</script>\n",
              "        <script src=\"https://cdn.plot.ly/plotly-latest.min.js\"></script>    \n",
              "            <div id=\"d0930b4d-efc6-484a-b0e0-fb0d8222b7e7\" class=\"plotly-graph-div\" style=\"height:525px; width:100%;\"></div>\n",
              "            <script type=\"text/javascript\">\n",
              "                \n",
              "                    window.PLOTLYENV=window.PLOTLYENV || {};\n",
              "                    \n",
              "                if (document.getElementById(\"d0930b4d-efc6-484a-b0e0-fb0d8222b7e7\")) {\n",
              "                    Plotly.newPlot(\n",
              "                        'd0930b4d-efc6-484a-b0e0-fb0d8222b7e7',\n",
              "                        [{\"alignmentgroup\": \"True\", \"bingroup\": \"x\", \"hoverlabel\": {\"namelength\": 0}, \"hovertemplate\": \"x=%{x}<br>count=%{y}\", \"legendgroup\": \"\", \"marker\": {\"color\": \"#636efa\"}, \"name\": \"\", \"offsetgroup\": \"\", \"orientation\": \"v\", \"showlegend\": false, \"type\": \"histogram\", \"x\": [136.0, 133.0, 136.0, 145.0, 144.0, 136.0, 132.0, 134.0, 135.0, 137.0, 129.0, 115.0, 141.0, 148.0, 142.0, 110.0, 135.0, 126.0, 136.0, 133.0, 148.0, 138.0, 130.0, 140.0, 135.0, 131.0, 125.0, 132.0, 136.0, 131.0, 141.0, 143.0, 139.0, 114.0, 133.0, 122.0, 128.0, 141.0, 139.0, 124.0, 146.0, 141.0, 143.0, 136.0, 129.0, 136.0, 128.0, 158.0, 126.0, 145.0, 133.0, 136.0, 133.0, 132.0, 144.0, 133.0, 132.0, 129.0, 143.0, 145.0, 129.0, 150.0, 131.0, 135.0, 122.0, 130.0, 132.0, 140.0, 136.0, 125.0, 144.0, 138.0, 128.0, 133.0, 128.0, 137.0, 130.0, 150.0, 138.0, 148.0, 135.0, 120.0, 125.0, 132.0, 140.0, 130.0, 132.0, 120.0, 121.0, 122.0, 133.0, 119.0, 128.0, 133.0, 122.0, 127.0, 128.0, 132.0, 140.0, 141.0, 138.0, 133.0, 106.0, 110.0, 110.0, 120.0, 120.0, 128.0, 127.0, 144.0, 128.0, 124.0, 138.0, 142.0, 142.0, 119.0, 122.0, 134.0, 112.0, 130.0, 119.0, 128.0, 142.0, 138.0, 126.0, 106.0, 123.0, 129.0, 122.0, 148.0, 146.0, 132.0, 134.0, 142.0, 123.0, 128.0, 134.0, 112.0, 129.0, 120.0, 137.0, 132.0, 131.0, 138.0, 130.0, 148.0, 150.0, 131.0, 144.0, 143.0, 110.0, 134.0, 123.0, 125.0, 136.0, 134.0, 148.0, 141.0, 150.0, 126.0, 142.0, 133.0, 138.0, 130.0, 110.0, 136.0, 122.0, 134.0, 118.0, 136.0, 144.0, 106.0, 112.0, 110.0, 131.0, 146.0, 143.0, 135.0, 142.0, 136.0, 142.0, 132.0, 132.0, 142.0, 154.0, 130.0, 132.0, 137.0, 145.0, 133.0, 127.0, 130.0, 138.0, 130.0, 137.0, 144.0, 146.0, 130.0, 138.0, 138.0, 128.0, 123.0, 125.0, 122.0, 152.0, 133.0, 140.0, 142.0, 146.0, 117.0, 118.0, 144.0, 142.0, 135.0, 131.0, 137.0, 158.0, 125.0, 144.0, 136.0, 130.0, 136.0, 142.0, 128.0, 143.0, 141.0, 122.0, 144.0, 134.0, 133.0, 142.0, 140.0, 146.0, 139.0, 133.0, 134.0, 122.0, 142.0, 121.0, 120.0, 122.0, 147.0, 110.0, 137.0, 139.0, 138.0, 133.0, 120.0, 127.0, 140.0, 140.0, 128.0, 110.0, 123.0, 133.0, 127.0, 143.0, 125.0, 134.0, 122.0, 142.0, 128.0, 143.0, 137.0, 125.0, 131.0, 147.0, 144.0, 140.0, 136.0, 127.0, 143.0, 122.0, 139.0, 141.0, 122.0, 127.0, 142.0, 148.0, 125.0, 133.0, 122.0, 139.0, 127.0, 142.0, 125.0, 145.0, 127.0, 131.0, 135.0, 137.0, 127.0, 133.0, 135.0, 122.0, 137.0, 137.0, 122.0, 128.0, 134.0, 131.0, 138.0, 145.0, 152.0, 110.0, 148.0, 149.0, 135.0, 125.0, 147.0, 138.0, 120.0, 130.0, 141.0, 138.0, 130.0, 115.0, 127.0, 146.0, 120.0, 130.0, 131.0, 131.0, 112.0, 116.0, 130.0, 125.0, 114.0, 142.0, 130.0, 148.0, 115.0, 122.0, 132.0, 136.0, 149.0, 125.0, 122.0, 146.0, 115.0, 122.0, 146.0, 134.0, 145.0, 125.0, 143.0, 122.0, 123.0, 144.0, 133.0, 128.0, 138.0, 139.0, 137.0, 132.0, 134.0, 140.0, 130.0, 120.0, 121.0, 152.0, 112.0, 157.0, 125.0, 142.0, 114.0, 135.0, 122.0, 126.0, 139.0, 152.0, 125.0, 136.0, 123.0, 148.0, 140.0, 138.0, 150.0, 131.0, 130.0, 121.0, 121.0, 120.0, 123.0, 145.0, 148.0, 141.0, 148.0, 123.0, 133.0, 128.0, 122.0, 120.0, 146.0, 123.0, 122.0, 127.0, 128.0, 135.0, 135.0, 132.0, 122.0, 144.0, 123.0, 149.0, 128.0, 122.0, 148.0, 142.0, 145.0, 137.0, 143.0, 122.0, 142.0, 142.0, 142.0, 140.0, 143.0, 120.0, 141.0, 138.0, 132.0, 125.0, 137.0, 141.0, 120.0, 142.0, 134.0, 133.0, 123.0, 120.0, 129.0, 137.0, 132.0, 130.0, 112.0, 136.0, 122.0, 138.0, 132.0, 128.0, 120.0, 151.0, 128.0, 125.0, 142.0, 158.0, 151.0, 121.0, 121.0, 120.0, 127.0, 125.0, 140.0, 129.0, 142.0, 128.0, 122.0, 137.0, 127.0, 126.0, 122.0, 121.0, 128.0, 142.0, 131.0, 135.0, 124.0, 126.0, 134.0, 143.0, 143.0, 135.0, 136.0, 142.0, 144.0, 130.0, 120.0, 129.0, 135.0, 144.0, 137.0, 130.0, 123.0, 127.0, 130.0, 145.0, 133.0, 126.0, 122.0, 137.0, 122.0, 133.0, 136.0, 131.0, 121.0, 140.0, 122.0, 125.0, 118.0, 132.0, 130.0, 129.0, 144.0, 137.0, 128.0, 135.0, 128.0, 137.0, 131.0, 146.0, 138.0, 159.0, 129.0, 154.0, 142.0, 112.0, 128.0, 129.0, 130.0, 140.0, 122.0, 152.0, 144.0, 130.0, 159.0, 144.0, 122.0, 130.0, 149.0, 142.0, 142.0, 132.0, 115.0, 121.0, 141.0, 140.0, 150.0, 131.0, 110.0, 130.0, 135.0, 133.0, 126.0, 133.0, 138.0, 148.0, 145.0, 121.0, 134.0, 122.0, 140.0, 135.0, 144.0, 135.0, 140.0, 138.0, 140.0, 122.0, 129.0, 133.0, 128.0, 144.0, 122.0, 133.0, 115.0, 136.0, 135.0, 121.0, 130.0, 132.0, 120.0, 133.0, 125.0, 159.0, 120.0, 110.0, 133.0, 144.0, 128.0, 127.0, 128.0, 133.0, 141.0, 146.0, 136.0, 123.0, 144.0, 137.0, 129.0, 136.0, 123.0, 129.0, 130.0, 128.0, 132.0, 144.0, 125.0, 128.0, 125.0, 133.0, 137.0, 137.0, 125.0, 143.0, 136.0, 130.0, 148.0, 154.0, 120.0, 123.0, 160.0, 127.0, 132.0, 152.0, 115.0, 138.0, 130.0, 126.0, 126.0, 121.0, 137.0, 136.0, 138.0, 119.0, 137.0, 131.0, 132.0, 123.0, 133.0, 138.0, 133.0, 119.0, 137.0, 125.0, 136.0, 127.0, 133.0, 133.0, 122.0, 129.0, 131.0, 130.0, 134.0, 148.0, 122.0, 120.0, 144.0, 143.0, 147.0, 125.0, 145.0, 138.0, 140.0, 145.0, 127.0, 146.0, 145.0, 115.0, 133.0, 120.0, 138.0, 128.0, 126.0, 154.0, 127.0, 137.0, 128.0, 148.0, 118.0, 138.0, 142.0, 130.0, 158.0, 138.0, 126.0, 134.0, 125.0, 122.0, 120.0, 128.0, 122.0, 128.0, 144.0, 127.0, 141.0, 133.0, 139.0, 144.0, 138.0, 141.0, 137.0, 129.0, 133.0, 146.0, 129.0, 139.0, 136.0, 138.0, 139.0, 112.0, 135.0, 138.0, 114.0, 138.0, 146.0, 148.0, 125.0, 133.0, 131.0, 137.0, 130.0, 142.0, 139.0, 144.0, 146.0, 146.0, 131.0, 125.0, 138.0, 136.0, 141.0, 135.0, 129.0, 119.0, 141.0, 142.0, 132.0, 122.0, 134.0, 120.0, 125.0, 122.0, 141.0, 140.0, 123.0, 112.0, 134.0, 150.0, 138.0, 122.0, 127.0, 141.0, 114.0, 143.0, 125.0, 127.0, 143.0, 137.0, 136.0, 135.0, 141.0, 134.0, 122.0, 143.0, 127.0, 146.0, 138.0, 123.0, 133.0, 115.0, 138.0, 119.0, 130.0, 116.0, 135.0, 138.0, 112.0, 138.0, 131.0, 133.0, 152.0, 135.0, 147.0, 121.0, 144.0, 138.0, 144.0, 115.0, 135.0, 130.0, 122.0, 122.0, 134.0, 122.0, 115.0, 148.0, 140.0, 133.0, 139.0, 129.0, 122.0, 135.0, 118.0, 120.0, 138.0, 140.0, 150.0, 145.0, 138.0, 123.0, 134.0, 120.0, 141.0, 123.0, 123.0, 115.0, 149.0, 125.0, 134.0, 133.0, 132.0, 129.0, 122.0, 135.0, 125.0, 133.0, 133.0, 140.0, 135.0, 139.0, 141.0, 138.0, 129.0, 122.0, 122.0, 148.0, 144.0, 136.0, 121.0, 146.0, 127.0, 115.0, 142.0, 122.0, 112.0, 151.0, 154.0, 130.0, 120.0, 129.0, 136.0, 143.0, 129.0, 132.0, 128.0, 138.0, 122.0, 144.0, 120.0, 127.0, 133.0, 158.0, 121.0, 140.0, 123.0, 133.0, 128.0, 133.0, 150.0, 133.0, 122.0, 115.0, 133.0, 152.0, 123.0, 120.0, 118.0, 119.0, 131.0, 137.0, 128.0, 158.0, 125.0, 140.0, 148.0, 137.0, 139.0, 126.0, 136.0, 120.0, 133.0, 127.0, 122.0, 127.0, 129.0, 130.0, 138.0, 140.0, 125.0, 138.0, 144.0, 130.0, 135.0, 123.0, 134.0, 146.0, 137.0, 110.0, 125.0, 140.0, 120.0, 149.0, 141.0, 128.0, 130.0, 133.0, 144.0, 132.0, 134.0, 144.0, 134.0, 125.0, 127.0, 135.0, 148.0, 122.0, 133.0, 136.0, 146.0, 138.0, 136.0, 123.0, 144.0, 146.0, 135.0, 142.0, 130.0, 132.0, 128.0, 135.0, 138.0, 135.0, 128.0, 150.0, 127.0, 128.0, 133.0, 134.0, 129.0, 130.0, 141.0, 142.0, 127.0, 122.0, 133.0, 121.0, 128.0, 134.0, 149.0, 130.0, 106.0, 142.0, 148.0, 145.0, 133.0, 140.0, 129.0, 144.0, 128.0, 144.0, 148.0, 140.0, 133.0, 145.0, 141.0, 146.0, 158.0, 133.0, 134.0, 120.0, 122.0, 129.0, 134.0, 130.0, 136.0, 128.0, 139.0, 150.0, 140.0, 122.0, 123.0, 115.0, 125.0, 142.0, 125.0, 143.0, 120.0, 147.0, 143.0, 120.0, 125.0, 128.0, 135.0, 127.0, 129.0, 121.0, 129.0, 135.0, 150.0, 143.0, 114.0, 136.0, 128.0, 130.0, 130.0, 134.0, 144.0, 126.0, 127.0, 142.0, 130.0, 146.0, 159.0, 129.0, 130.0, 144.0, 150.0, 141.0, 125.0, 133.0, 123.0, 122.0, 140.0, 141.0, 132.0, 145.0, 121.0, 134.0, 140.0, 158.0, 142.0, 112.0, 131.0, 131.0, 126.0, 132.0, 147.0, 130.0, 137.0, 140.0, 140.0, 146.0, 126.0, 122.0, 138.0, 123.0, 138.0, 137.0, 134.0, 129.0, 138.0, 138.0, 120.0, 128.0, 131.0, 142.0, 125.0, 133.0, 148.0, 132.0, 130.0, 137.0, 121.0, 137.0, 141.0, 134.0, 142.0, 133.0, 150.0, 141.0, 133.0, 124.0, 136.0, 143.0, 121.0, 131.0, 122.0, 122.0, 125.0, 120.0, 120.0, 129.0, 136.0, 138.0, 136.0, 128.0, 138.0, 134.0, 132.0, 154.0, 134.0, 130.0, 137.0, 121.0, 130.0, 146.0, 116.0, 135.0, 127.0, 138.0, 123.0, 125.0, 140.0, 138.0, 143.0, 132.0, 129.0, 126.0, 142.0, 126.0, 145.0, 125.0, 152.0, 125.0, 134.0, 151.0, 133.0, 140.0, 130.0, 136.0, 129.0, 120.0, 110.0, 127.0, 138.0, 136.0, 125.0, 131.0, 140.0, 146.0, 131.0, 143.0, 132.0, 142.0, 132.0, 114.0, 115.0, 132.0, 132.0, 145.0, 142.0, 149.0, 130.0, 129.0, 123.0, 141.0, 130.0, 143.0, 152.0, 150.0, 132.0, 143.0, 142.0, 152.0, 139.0, 143.0, 128.0, 129.0, 146.0, 130.0, 130.0, 130.0, 133.0, 146.0, 123.0, 135.0, 120.0, 122.0, 140.0, 147.0, 120.0, 123.0, 132.0, 131.0, 130.0, 127.0, 127.0, 151.0, 115.0, 159.0, 127.0, 133.0, 148.0, 106.0, 144.0, 122.0, 134.0, 142.0, 142.0, 141.0, 132.0, 128.0, 144.0, 130.0, 132.0, 138.0, 133.0, 130.0, 128.0, 135.0, 112.0, 137.0, 126.0, 144.0, 120.0, 120.0, 125.0, 138.0, 128.0, 133.0, 123.0, 138.0, 120.0, 139.0, 150.0, 131.0, 144.0, 129.0, 144.0, 135.0, 123.0, 132.0, 133.0, 154.0, 148.0, 128.0, 130.0, 133.0, 132.0, 136.0, 131.0, 135.0, 133.0, 125.0, 130.0, 158.0, 138.0, 121.0, 120.0, 143.0, 110.0, 132.0, 146.0, 120.0, 121.0, 149.0, 141.0, 118.0, 128.0, 138.0, 132.0, 137.0, 130.0, 122.0, 123.0, 133.0, 129.0, 156.0, 139.0, 142.0, 139.0, 130.0, 136.0, 148.0, 127.0, 125.0, 134.0, 122.0, 131.0, 122.0, 143.0, 146.0, 123.0, 126.0, 131.0, 125.0, 132.0, 133.0, 127.0, 139.0, 133.0, 124.0, 129.0, 133.0, 123.0, 128.0, 130.0, 130.0, 123.0, 135.0, 122.0, 122.0, 129.0, 126.0, 115.0, 142.0, 136.0, 122.0, 146.0, 138.0, 122.0, 129.0, 146.0, 151.0, 122.0, 135.0, 131.0, 151.0, 124.0, 132.0, 120.0, 135.0, 128.0, 131.0, 144.0, 134.0, 148.0, 125.0, 125.0, 149.0, 128.0, 133.0, 143.0, 132.0, 148.0, 135.0, 145.0, 125.0, 140.0, 144.0, 142.0, 132.0, 150.0, 149.0, 119.0, 121.0, 132.0, 110.0, 130.0, 134.0, 145.0, 122.0, 146.0, 133.0, 142.0, 120.0, 130.0, 128.0, 137.0, 127.0, 122.0, 130.0, 122.0, 129.0, 149.0, 140.0, 138.0, 144.0, 146.0, 148.0, 121.0, 120.0, 137.0, 146.0, 134.0, 135.0, 135.0, 128.0, 120.0, 135.0, 140.0, 125.0, 144.0, 120.0, 136.0, 138.0, 150.0, 125.0, 144.0, 127.0, 146.0, 133.0, 128.0, 136.0, 127.0, 122.0, 130.0, 148.0, 130.0, 123.0, 125.0, 148.0, 146.0, 150.0, 128.0, 125.0, 127.0, 145.0, 122.0, 143.0, 136.0, 117.0, 134.0, 146.0, 138.0, 132.0, 148.0, 148.0, 126.0, 145.0, 122.0, 126.0, 140.0, 120.0, 129.0, 133.0, 133.0, 134.0, 144.0, 128.0, 133.0, 133.0, 143.0, 126.0, 128.0, 146.0, 128.0, 145.0, 122.0, 142.0, 125.0, 122.0, 131.0, 127.0, 137.0, 125.0, 122.0, 130.0, 144.0, 136.0, 140.0, 133.0, 123.0, 125.0, 126.0, 135.0, 129.0, 134.0, 148.0, 133.0, 135.0, 133.0, 136.0, 136.0, 122.0, 133.0, 133.0, 136.0, 146.0, 114.0, 140.0, 127.0, 129.0, 127.0, 139.0, 148.0, 133.0, 138.0, 122.0, 112.0, 125.0, 144.0, 133.0, 129.0, 118.0, 133.0, 143.0, 119.0, 145.0, 125.0, 142.0, 136.0, 133.0, 130.0, 110.0, 140.0, 132.0, 148.0, 121.0, 131.0, 133.0, 125.0, 125.0, 148.0, 132.0, 142.0, 130.0, 123.0, 133.0, 132.0, 138.0, 140.0, 121.0, 150.0, 144.0, 147.0, 142.0, 122.0, 137.0, 128.0, 130.0, 150.0, 147.0, 138.0, 135.0, 142.0, 138.0, 132.0, 115.0, 138.0, 143.0, 125.0, 142.0, 133.0, 122.0, 125.0, 129.0, 121.0, 134.0, 122.0, 119.0, 131.0, 128.0, 146.0, 146.0, 133.0, 130.0, 146.0, 121.0, 138.0, 148.0, 147.0, 125.0, 127.0, 121.0, 143.0, 143.0, 134.0, 120.0, 130.0, 146.0, 137.0, 144.0, 138.0, 131.0, 133.0, 126.0, 157.0, 129.0, 120.0, 128.0, 143.0, 133.0, 125.0, 141.0, 120.0, 119.0, 136.0, 133.0, 146.0, 133.0, 135.0, 125.0, 125.0, 127.0, 144.0, 145.0, 120.0, 123.0, 142.0, 133.0, 135.0, 140.0, 148.0, 137.0, 144.0, 134.0, 128.0, 140.0, 120.0, 147.0, 148.0, 123.0], \"xaxis\": \"x\", \"yaxis\": \"y\"}],\n",
              "                        {\"barmode\": \"relative\", \"legend\": {\"tracegroupgap\": 0}, \"template\": {\"data\": {\"bar\": [{\"error_x\": {\"color\": \"#2a3f5f\"}, \"error_y\": {\"color\": \"#2a3f5f\"}, \"marker\": {\"line\": {\"color\": \"#E5ECF6\", \"width\": 0.5}}, \"type\": \"bar\"}], \"barpolar\": [{\"marker\": {\"line\": {\"color\": \"#E5ECF6\", \"width\": 0.5}}, \"type\": \"barpolar\"}], \"carpet\": [{\"aaxis\": {\"endlinecolor\": \"#2a3f5f\", \"gridcolor\": \"white\", \"linecolor\": \"white\", \"minorgridcolor\": \"white\", \"startlinecolor\": \"#2a3f5f\"}, \"baxis\": {\"endlinecolor\": \"#2a3f5f\", \"gridcolor\": \"white\", \"linecolor\": \"white\", \"minorgridcolor\": \"white\", \"startlinecolor\": \"#2a3f5f\"}, \"type\": \"carpet\"}], \"choropleth\": [{\"colorbar\": {\"outlinewidth\": 0, \"ticks\": \"\"}, \"type\": \"choropleth\"}], \"contour\": [{\"colorbar\": {\"outlinewidth\": 0, \"ticks\": \"\"}, \"colorscale\": [[0.0, \"#0d0887\"], [0.1111111111111111, \"#46039f\"], [0.2222222222222222, \"#7201a8\"], [0.3333333333333333, \"#9c179e\"], [0.4444444444444444, \"#bd3786\"], [0.5555555555555556, \"#d8576b\"], [0.6666666666666666, \"#ed7953\"], [0.7777777777777778, \"#fb9f3a\"], [0.8888888888888888, \"#fdca26\"], [1.0, \"#f0f921\"]], \"type\": \"contour\"}], \"contourcarpet\": [{\"colorbar\": {\"outlinewidth\": 0, \"ticks\": \"\"}, \"type\": \"contourcarpet\"}], \"heatmap\": [{\"colorbar\": {\"outlinewidth\": 0, \"ticks\": \"\"}, \"colorscale\": [[0.0, \"#0d0887\"], [0.1111111111111111, \"#46039f\"], [0.2222222222222222, \"#7201a8\"], [0.3333333333333333, \"#9c179e\"], [0.4444444444444444, \"#bd3786\"], [0.5555555555555556, \"#d8576b\"], [0.6666666666666666, \"#ed7953\"], [0.7777777777777778, \"#fb9f3a\"], [0.8888888888888888, \"#fdca26\"], [1.0, \"#f0f921\"]], \"type\": \"heatmap\"}], \"heatmapgl\": [{\"colorbar\": {\"outlinewidth\": 0, \"ticks\": \"\"}, \"colorscale\": [[0.0, \"#0d0887\"], [0.1111111111111111, \"#46039f\"], [0.2222222222222222, \"#7201a8\"], [0.3333333333333333, \"#9c179e\"], [0.4444444444444444, \"#bd3786\"], [0.5555555555555556, \"#d8576b\"], [0.6666666666666666, \"#ed7953\"], [0.7777777777777778, \"#fb9f3a\"], [0.8888888888888888, \"#fdca26\"], [1.0, \"#f0f921\"]], \"type\": \"heatmapgl\"}], \"histogram\": [{\"marker\": {\"colorbar\": {\"outlinewidth\": 0, \"ticks\": \"\"}}, \"type\": \"histogram\"}], \"histogram2d\": [{\"colorbar\": {\"outlinewidth\": 0, \"ticks\": \"\"}, \"colorscale\": [[0.0, \"#0d0887\"], [0.1111111111111111, \"#46039f\"], [0.2222222222222222, \"#7201a8\"], [0.3333333333333333, \"#9c179e\"], [0.4444444444444444, \"#bd3786\"], [0.5555555555555556, \"#d8576b\"], [0.6666666666666666, \"#ed7953\"], [0.7777777777777778, \"#fb9f3a\"], [0.8888888888888888, \"#fdca26\"], [1.0, \"#f0f921\"]], \"type\": \"histogram2d\"}], \"histogram2dcontour\": [{\"colorbar\": {\"outlinewidth\": 0, \"ticks\": \"\"}, \"colorscale\": [[0.0, \"#0d0887\"], [0.1111111111111111, \"#46039f\"], [0.2222222222222222, \"#7201a8\"], [0.3333333333333333, \"#9c179e\"], [0.4444444444444444, \"#bd3786\"], [0.5555555555555556, \"#d8576b\"], [0.6666666666666666, \"#ed7953\"], [0.7777777777777778, \"#fb9f3a\"], [0.8888888888888888, \"#fdca26\"], [1.0, \"#f0f921\"]], \"type\": \"histogram2dcontour\"}], \"mesh3d\": [{\"colorbar\": {\"outlinewidth\": 0, \"ticks\": \"\"}, \"type\": \"mesh3d\"}], \"parcoords\": [{\"line\": {\"colorbar\": {\"outlinewidth\": 0, \"ticks\": \"\"}}, \"type\": \"parcoords\"}], \"pie\": [{\"automargin\": true, \"type\": \"pie\"}], \"scatter\": [{\"marker\": {\"colorbar\": {\"outlinewidth\": 0, \"ticks\": \"\"}}, \"type\": \"scatter\"}], \"scatter3d\": [{\"line\": {\"colorbar\": {\"outlinewidth\": 0, \"ticks\": \"\"}}, \"marker\": {\"colorbar\": {\"outlinewidth\": 0, \"ticks\": \"\"}}, \"type\": \"scatter3d\"}], \"scattercarpet\": [{\"marker\": {\"colorbar\": {\"outlinewidth\": 0, \"ticks\": \"\"}}, \"type\": \"scattercarpet\"}], \"scattergeo\": [{\"marker\": {\"colorbar\": {\"outlinewidth\": 0, \"ticks\": \"\"}}, \"type\": \"scattergeo\"}], \"scattergl\": [{\"marker\": {\"colorbar\": {\"outlinewidth\": 0, \"ticks\": \"\"}}, \"type\": \"scattergl\"}], \"scattermapbox\": [{\"marker\": {\"colorbar\": {\"outlinewidth\": 0, \"ticks\": \"\"}}, \"type\": \"scattermapbox\"}], \"scatterpolar\": [{\"marker\": {\"colorbar\": {\"outlinewidth\": 0, \"ticks\": \"\"}}, \"type\": \"scatterpolar\"}], \"scatterpolargl\": [{\"marker\": {\"colorbar\": {\"outlinewidth\": 0, \"ticks\": \"\"}}, \"type\": \"scatterpolargl\"}], \"scatterternary\": [{\"marker\": {\"colorbar\": {\"outlinewidth\": 0, \"ticks\": \"\"}}, \"type\": \"scatterternary\"}], \"surface\": [{\"colorbar\": {\"outlinewidth\": 0, \"ticks\": \"\"}, \"colorscale\": [[0.0, \"#0d0887\"], [0.1111111111111111, \"#46039f\"], [0.2222222222222222, \"#7201a8\"], [0.3333333333333333, \"#9c179e\"], [0.4444444444444444, \"#bd3786\"], [0.5555555555555556, \"#d8576b\"], [0.6666666666666666, \"#ed7953\"], [0.7777777777777778, \"#fb9f3a\"], [0.8888888888888888, \"#fdca26\"], [1.0, \"#f0f921\"]], \"type\": \"surface\"}], \"table\": [{\"cells\": {\"fill\": {\"color\": \"#EBF0F8\"}, \"line\": {\"color\": \"white\"}}, \"header\": {\"fill\": {\"color\": \"#C8D4E3\"}, \"line\": {\"color\": \"white\"}}, \"type\": \"table\"}]}, \"layout\": {\"annotationdefaults\": {\"arrowcolor\": \"#2a3f5f\", \"arrowhead\": 0, \"arrowwidth\": 1}, \"coloraxis\": {\"colorbar\": {\"outlinewidth\": 0, \"ticks\": \"\"}}, \"colorscale\": {\"diverging\": [[0, \"#8e0152\"], [0.1, \"#c51b7d\"], [0.2, \"#de77ae\"], [0.3, \"#f1b6da\"], [0.4, \"#fde0ef\"], [0.5, \"#f7f7f7\"], [0.6, \"#e6f5d0\"], [0.7, \"#b8e186\"], [0.8, \"#7fbc41\"], [0.9, \"#4d9221\"], [1, \"#276419\"]], \"sequential\": [[0.0, \"#0d0887\"], [0.1111111111111111, \"#46039f\"], [0.2222222222222222, \"#7201a8\"], [0.3333333333333333, \"#9c179e\"], [0.4444444444444444, \"#bd3786\"], [0.5555555555555556, \"#d8576b\"], [0.6666666666666666, \"#ed7953\"], [0.7777777777777778, \"#fb9f3a\"], [0.8888888888888888, \"#fdca26\"], [1.0, \"#f0f921\"]], \"sequentialminus\": [[0.0, \"#0d0887\"], [0.1111111111111111, \"#46039f\"], [0.2222222222222222, \"#7201a8\"], [0.3333333333333333, \"#9c179e\"], [0.4444444444444444, \"#bd3786\"], [0.5555555555555556, \"#d8576b\"], [0.6666666666666666, \"#ed7953\"], [0.7777777777777778, \"#fb9f3a\"], [0.8888888888888888, \"#fdca26\"], [1.0, \"#f0f921\"]]}, \"colorway\": [\"#636efa\", \"#EF553B\", \"#00cc96\", \"#ab63fa\", \"#FFA15A\", \"#19d3f3\", \"#FF6692\", \"#B6E880\", \"#FF97FF\", \"#FECB52\"], \"font\": {\"color\": \"#2a3f5f\"}, \"geo\": {\"bgcolor\": \"white\", \"lakecolor\": \"white\", \"landcolor\": \"#E5ECF6\", \"showlakes\": true, \"showland\": true, \"subunitcolor\": \"white\"}, \"hoverlabel\": {\"align\": \"left\"}, \"hovermode\": \"closest\", \"mapbox\": {\"style\": \"light\"}, \"paper_bgcolor\": \"white\", \"plot_bgcolor\": \"#E5ECF6\", \"polar\": {\"angularaxis\": {\"gridcolor\": \"white\", \"linecolor\": \"white\", \"ticks\": \"\"}, \"bgcolor\": \"#E5ECF6\", \"radialaxis\": {\"gridcolor\": \"white\", \"linecolor\": \"white\", \"ticks\": \"\"}}, \"scene\": {\"xaxis\": {\"backgroundcolor\": \"#E5ECF6\", \"gridcolor\": \"white\", \"gridwidth\": 2, \"linecolor\": \"white\", \"showbackground\": true, \"ticks\": \"\", \"zerolinecolor\": \"white\"}, \"yaxis\": {\"backgroundcolor\": \"#E5ECF6\", \"gridcolor\": \"white\", \"gridwidth\": 2, \"linecolor\": \"white\", \"showbackground\": true, \"ticks\": \"\", \"zerolinecolor\": \"white\"}, \"zaxis\": {\"backgroundcolor\": \"#E5ECF6\", \"gridcolor\": \"white\", \"gridwidth\": 2, \"linecolor\": \"white\", \"showbackground\": true, \"ticks\": \"\", \"zerolinecolor\": \"white\"}}, \"shapedefaults\": {\"line\": {\"color\": \"#2a3f5f\"}}, \"ternary\": {\"aaxis\": {\"gridcolor\": \"white\", \"linecolor\": \"white\", \"ticks\": \"\"}, \"baxis\": {\"gridcolor\": \"white\", \"linecolor\": \"white\", \"ticks\": \"\"}, \"bgcolor\": \"#E5ECF6\", \"caxis\": {\"gridcolor\": \"white\", \"linecolor\": \"white\", \"ticks\": \"\"}}, \"title\": {\"x\": 0.05}, \"xaxis\": {\"automargin\": true, \"gridcolor\": \"white\", \"linecolor\": \"white\", \"ticks\": \"\", \"title\": {\"standoff\": 15}, \"zerolinecolor\": \"white\", \"zerolinewidth\": 2}, \"yaxis\": {\"automargin\": true, \"gridcolor\": \"white\", \"linecolor\": \"white\", \"ticks\": \"\", \"title\": {\"standoff\": 15}, \"zerolinecolor\": \"white\", \"zerolinewidth\": 2}}}, \"title\": {\"text\": \"Histograma da coluna : baseline value\"}, \"xaxis\": {\"anchor\": \"y\", \"domain\": [0.0, 1.0], \"title\": {\"text\": \"x\"}}, \"yaxis\": {\"anchor\": \"x\", \"domain\": [0.0, 1.0], \"title\": {\"text\": \"count\"}}},\n",
              "                        {\"responsive\": true}\n",
              "                    ).then(function(){\n",
              "                            \n",
              "var gd = document.getElementById('d0930b4d-efc6-484a-b0e0-fb0d8222b7e7');\n",
              "var x = new MutationObserver(function (mutations, observer) {{\n",
              "        var display = window.getComputedStyle(gd).display;\n",
              "        if (!display || display === 'none') {{\n",
              "            console.log([gd, 'removed!']);\n",
              "            Plotly.purge(gd);\n",
              "            observer.disconnect();\n",
              "        }}\n",
              "}});\n",
              "\n",
              "// Listen for the removal of the full notebook cells\n",
              "var notebookContainer = gd.closest('#notebook-container');\n",
              "if (notebookContainer) {{\n",
              "    x.observe(notebookContainer, {childList: true});\n",
              "}}\n",
              "\n",
              "// Listen for the clearing of the current output cell\n",
              "var outputEl = gd.closest('.output');\n",
              "if (outputEl) {{\n",
              "    x.observe(outputEl, {childList: true});\n",
              "}}\n",
              "\n",
              "                        })\n",
              "                };\n",
              "                \n",
              "            </script>\n",
              "        </div>\n",
              "</body>\n",
              "</html>"
            ]
          },
          "metadata": {
            "tags": []
          }
        }
      ]
    },
    {
      "cell_type": "markdown",
      "metadata": {
        "id": "5QJmQSB4fbnp"
      },
      "source": [
        "Os dados da **coluna baseline value** parecem ter uma forma parecida com uma curva normal."
      ]
    },
    {
      "cell_type": "code",
      "metadata": {
        "colab": {
          "base_uri": "https://localhost:8080/",
          "height": 542
        },
        "id": "jRK_jARfEsO2",
        "outputId": "56c403e9-cb63-4f38-e13b-520302772505"
      },
      "source": [
        "px.box(y = train_set['baseline value'], color = train_set['fetal_health'], \n",
        "       title = 'boxplot da coluna: baseline value', labels = {'color' : 'Classe', 'y' : 'valores'}\n",
        "       )"
      ],
      "execution_count": 68,
      "outputs": [
        {
          "output_type": "display_data",
          "data": {
            "text/html": [
              "<html>\n",
              "<head><meta charset=\"utf-8\" /></head>\n",
              "<body>\n",
              "    <div>\n",
              "            <script src=\"https://cdnjs.cloudflare.com/ajax/libs/mathjax/2.7.5/MathJax.js?config=TeX-AMS-MML_SVG\"></script><script type=\"text/javascript\">if (window.MathJax) {MathJax.Hub.Config({SVG: {font: \"STIX-Web\"}});}</script>\n",
              "                <script type=\"text/javascript\">window.PlotlyConfig = {MathJaxConfig: 'local'};</script>\n",
              "        <script src=\"https://cdn.plot.ly/plotly-latest.min.js\"></script>    \n",
              "            <div id=\"fad8e3c2-6bd6-4bef-88d1-e46888767b2f\" class=\"plotly-graph-div\" style=\"height:525px; width:100%;\"></div>\n",
              "            <script type=\"text/javascript\">\n",
              "                \n",
              "                    window.PLOTLYENV=window.PLOTLYENV || {};\n",
              "                    \n",
              "                if (document.getElementById(\"fad8e3c2-6bd6-4bef-88d1-e46888767b2f\")) {\n",
              "                    Plotly.newPlot(\n",
              "                        'fad8e3c2-6bd6-4bef-88d1-e46888767b2f',\n",
              "                        [{\"alignmentgroup\": \"True\", \"hoverlabel\": {\"namelength\": 0}, \"hovertemplate\": \"Classe=1.0<br>valores=%{y}\", \"legendgroup\": \"Classe=1.0\", \"marker\": {\"color\": \"#636efa\"}, \"name\": \"Classe=1.0\", \"notched\": false, \"offsetgroup\": \"Classe=1.0\", \"orientation\": \"v\", \"showlegend\": true, \"type\": \"box\", \"x0\": \" \", \"xaxis\": \"x\", \"y\": [136.0, 133.0, 136.0, 144.0, 136.0, 132.0, 137.0, 115.0, 141.0, 110.0, 135.0, 126.0, 136.0, 133.0, 148.0, 138.0, 130.0, 135.0, 131.0, 125.0, 132.0, 136.0, 131.0, 141.0, 114.0, 133.0, 122.0, 139.0, 141.0, 143.0, 136.0, 129.0, 136.0, 128.0, 158.0, 126.0, 133.0, 136.0, 132.0, 133.0, 129.0, 143.0, 145.0, 131.0, 135.0, 122.0, 130.0, 132.0, 140.0, 136.0, 125.0, 144.0, 128.0, 133.0, 130.0, 150.0, 148.0, 120.0, 125.0, 132.0, 140.0, 130.0, 132.0, 120.0, 121.0, 122.0, 133.0, 119.0, 128.0, 133.0, 122.0, 127.0, 128.0, 132.0, 140.0, 141.0, 138.0, 106.0, 120.0, 120.0, 128.0, 127.0, 144.0, 128.0, 124.0, 138.0, 142.0, 142.0, 119.0, 122.0, 134.0, 112.0, 130.0, 119.0, 128.0, 138.0, 126.0, 106.0, 123.0, 129.0, 122.0, 146.0, 132.0, 134.0, 142.0, 123.0, 134.0, 112.0, 129.0, 120.0, 137.0, 132.0, 131.0, 138.0, 148.0, 131.0, 144.0, 143.0, 134.0, 125.0, 136.0, 134.0, 148.0, 126.0, 142.0, 133.0, 138.0, 130.0, 136.0, 122.0, 118.0, 144.0, 106.0, 112.0, 110.0, 131.0, 143.0, 135.0, 142.0, 136.0, 142.0, 132.0, 132.0, 142.0, 154.0, 132.0, 145.0, 127.0, 130.0, 138.0, 130.0, 137.0, 146.0, 130.0, 138.0, 138.0, 128.0, 123.0, 125.0, 122.0, 140.0, 142.0, 146.0, 117.0, 118.0, 144.0, 142.0, 135.0, 131.0, 158.0, 125.0, 144.0, 136.0, 130.0, 136.0, 142.0, 128.0, 143.0, 141.0, 122.0, 144.0, 134.0, 142.0, 140.0, 146.0, 139.0, 133.0, 122.0, 142.0, 121.0, 120.0, 122.0, 110.0, 137.0, 139.0, 138.0, 120.0, 127.0, 140.0, 128.0, 127.0, 143.0, 125.0, 134.0, 122.0, 142.0, 128.0, 137.0, 125.0, 131.0, 147.0, 144.0, 140.0, 136.0, 127.0, 143.0, 122.0, 122.0, 127.0, 142.0, 125.0, 133.0, 122.0, 139.0, 127.0, 142.0, 125.0, 127.0, 131.0, 135.0, 137.0, 127.0, 135.0, 122.0, 137.0, 122.0, 128.0, 131.0, 138.0, 145.0, 152.0, 110.0, 125.0, 147.0, 138.0, 120.0, 130.0, 141.0, 130.0, 115.0, 127.0, 146.0, 120.0, 130.0, 131.0, 112.0, 116.0, 125.0, 114.0, 142.0, 130.0, 115.0, 122.0, 136.0, 149.0, 125.0, 122.0, 115.0, 122.0, 146.0, 134.0, 145.0, 122.0, 123.0, 144.0, 133.0, 139.0, 137.0, 140.0, 130.0, 120.0, 121.0, 152.0, 112.0, 157.0, 125.0, 142.0, 114.0, 135.0, 122.0, 126.0, 139.0, 125.0, 136.0, 131.0, 130.0, 121.0, 121.0, 120.0, 145.0, 148.0, 141.0, 148.0, 123.0, 133.0, 122.0, 120.0, 146.0, 123.0, 122.0, 127.0, 135.0, 132.0, 122.0, 123.0, 149.0, 122.0, 142.0, 145.0, 137.0, 143.0, 122.0, 142.0, 142.0, 142.0, 140.0, 143.0, 120.0, 141.0, 132.0, 125.0, 137.0, 141.0, 120.0, 142.0, 134.0, 133.0, 129.0, 137.0, 112.0, 136.0, 122.0, 138.0, 132.0, 128.0, 120.0, 125.0, 142.0, 158.0, 151.0, 121.0, 121.0, 127.0, 125.0, 129.0, 142.0, 128.0, 137.0, 127.0, 126.0, 122.0, 128.0, 142.0, 131.0, 135.0, 124.0, 126.0, 143.0, 143.0, 135.0, 136.0, 144.0, 130.0, 120.0, 129.0, 135.0, 127.0, 130.0, 145.0, 133.0, 126.0, 122.0, 137.0, 122.0, 133.0, 136.0, 121.0, 122.0, 118.0, 132.0, 130.0, 129.0, 144.0, 137.0, 128.0, 135.0, 128.0, 131.0, 146.0, 138.0, 129.0, 142.0, 112.0, 128.0, 130.0, 140.0, 122.0, 130.0, 159.0, 144.0, 122.0, 130.0, 142.0, 142.0, 132.0, 115.0, 121.0, 140.0, 131.0, 110.0, 130.0, 126.0, 148.0, 145.0, 121.0, 134.0, 122.0, 140.0, 135.0, 144.0, 135.0, 138.0, 140.0, 122.0, 129.0, 133.0, 128.0, 115.0, 136.0, 135.0, 121.0, 130.0, 132.0, 120.0, 133.0, 125.0, 159.0, 120.0, 133.0, 128.0, 127.0, 128.0, 146.0, 136.0, 123.0, 136.0, 123.0, 129.0, 130.0, 128.0, 132.0, 125.0, 128.0, 125.0, 133.0, 137.0, 137.0, 125.0, 143.0, 136.0, 130.0, 148.0, 120.0, 160.0, 127.0, 152.0, 115.0, 138.0, 130.0, 126.0, 126.0, 121.0, 137.0, 136.0, 138.0, 119.0, 137.0, 131.0, 132.0, 123.0, 133.0, 138.0, 133.0, 119.0, 125.0, 136.0, 127.0, 133.0, 133.0, 122.0, 129.0, 148.0, 122.0, 120.0, 144.0, 147.0, 125.0, 138.0, 140.0, 127.0, 146.0, 145.0, 115.0, 138.0, 128.0, 126.0, 154.0, 127.0, 137.0, 128.0, 148.0, 118.0, 138.0, 142.0, 130.0, 158.0, 138.0, 126.0, 134.0, 125.0, 122.0, 120.0, 128.0, 122.0, 128.0, 144.0, 127.0, 133.0, 139.0, 138.0, 141.0, 137.0, 129.0, 133.0, 146.0, 129.0, 136.0, 138.0, 139.0, 112.0, 135.0, 138.0, 114.0, 138.0, 146.0, 125.0, 133.0, 131.0, 130.0, 142.0, 144.0, 146.0, 146.0, 125.0, 138.0, 136.0, 119.0, 142.0, 132.0, 122.0, 120.0, 125.0, 122.0, 141.0, 140.0, 112.0, 134.0, 122.0, 127.0, 114.0, 125.0, 127.0, 143.0, 137.0, 136.0, 135.0, 141.0, 122.0, 143.0, 127.0, 123.0, 115.0, 119.0, 130.0, 116.0, 135.0, 138.0, 112.0, 138.0, 131.0, 133.0, 135.0, 147.0, 121.0, 138.0, 144.0, 115.0, 135.0, 130.0, 122.0, 122.0, 134.0, 122.0, 115.0, 148.0, 140.0, 133.0, 139.0, 129.0, 122.0, 135.0, 118.0, 120.0, 138.0, 140.0, 145.0, 138.0, 123.0, 134.0, 120.0, 141.0, 123.0, 115.0, 149.0, 125.0, 134.0, 132.0, 129.0, 122.0, 135.0, 125.0, 133.0, 133.0, 140.0, 135.0, 139.0, 141.0, 129.0, 122.0, 122.0, 136.0, 121.0, 127.0, 115.0, 142.0, 122.0, 112.0, 154.0, 130.0, 129.0, 143.0, 129.0, 132.0, 128.0, 138.0, 122.0, 120.0, 127.0, 133.0, 158.0, 121.0, 140.0, 123.0, 133.0, 128.0, 133.0, 133.0, 122.0, 115.0, 133.0, 123.0, 120.0, 118.0, 119.0, 131.0, 137.0, 158.0, 125.0, 140.0, 148.0, 137.0, 139.0, 126.0, 136.0, 120.0, 127.0, 122.0, 127.0, 129.0, 130.0, 140.0, 125.0, 138.0, 144.0, 130.0, 135.0, 123.0, 134.0, 110.0, 125.0, 140.0, 120.0, 149.0, 141.0, 130.0, 132.0, 134.0, 125.0, 127.0, 135.0, 122.0, 133.0, 136.0, 146.0, 138.0, 136.0, 144.0, 135.0, 142.0, 130.0, 132.0, 128.0, 135.0, 138.0, 135.0, 128.0, 150.0, 127.0, 128.0, 133.0, 134.0, 129.0, 130.0, 142.0, 127.0, 122.0, 121.0, 134.0, 149.0, 106.0, 142.0, 148.0, 145.0, 133.0, 140.0, 129.0, 144.0, 128.0, 144.0, 140.0, 133.0, 145.0, 158.0, 133.0, 134.0, 120.0, 122.0, 129.0, 134.0, 130.0, 136.0, 139.0, 140.0, 122.0, 123.0, 115.0, 125.0, 142.0, 125.0, 120.0, 147.0, 125.0, 128.0, 135.0, 127.0, 129.0, 121.0, 129.0, 135.0, 143.0, 114.0, 136.0, 128.0, 130.0, 130.0, 134.0, 144.0, 126.0, 127.0, 130.0, 159.0, 129.0, 130.0, 144.0, 141.0, 125.0, 133.0, 123.0, 122.0, 140.0, 132.0, 121.0, 140.0, 158.0, 142.0, 112.0, 131.0, 131.0, 126.0, 132.0, 130.0, 137.0, 140.0, 140.0, 146.0, 126.0, 122.0, 138.0, 123.0, 138.0, 134.0, 138.0, 138.0, 120.0, 128.0, 131.0, 142.0, 125.0, 133.0, 132.0, 137.0, 141.0, 134.0, 142.0, 133.0, 124.0, 136.0, 143.0, 121.0, 131.0, 122.0, 122.0, 125.0, 120.0, 120.0, 136.0, 136.0, 138.0, 132.0, 154.0, 134.0, 130.0, 137.0, 121.0, 130.0, 116.0, 135.0, 127.0, 138.0, 123.0, 125.0, 140.0, 143.0, 132.0, 129.0, 126.0, 142.0, 126.0, 125.0, 152.0, 125.0, 133.0, 140.0, 130.0, 136.0, 129.0, 120.0, 110.0, 136.0, 125.0, 131.0, 140.0, 146.0, 131.0, 143.0, 132.0, 142.0, 114.0, 115.0, 132.0, 132.0, 145.0, 130.0, 129.0, 123.0, 130.0, 132.0, 143.0, 142.0, 152.0, 143.0, 128.0, 129.0, 146.0, 130.0, 130.0, 130.0, 133.0, 135.0, 122.0, 140.0, 147.0, 120.0, 123.0, 132.0, 131.0, 127.0, 127.0, 115.0, 127.0, 133.0, 106.0, 122.0, 134.0, 142.0, 142.0, 141.0, 132.0, 128.0, 144.0, 132.0, 138.0, 133.0, 130.0, 128.0, 112.0, 137.0, 126.0, 144.0, 120.0, 125.0, 138.0, 128.0, 133.0, 123.0, 138.0, 139.0, 131.0, 144.0, 129.0, 135.0, 132.0, 128.0, 133.0, 132.0, 136.0, 133.0, 125.0, 130.0, 158.0, 138.0, 120.0, 143.0, 110.0, 132.0, 120.0, 149.0, 141.0, 118.0, 128.0, 138.0, 132.0, 137.0, 122.0, 139.0, 142.0, 130.0, 136.0, 148.0, 127.0, 125.0, 122.0, 131.0, 122.0, 123.0, 126.0, 131.0, 125.0, 133.0, 127.0, 139.0, 133.0, 133.0, 123.0, 128.0, 130.0, 130.0, 123.0, 135.0, 122.0, 122.0, 126.0, 115.0, 136.0, 122.0, 138.0, 122.0, 129.0, 122.0, 135.0, 131.0, 124.0, 132.0, 120.0, 135.0, 131.0, 144.0, 125.0, 125.0, 149.0, 128.0, 133.0, 132.0, 148.0, 135.0, 145.0, 125.0, 140.0, 142.0, 132.0, 119.0, 121.0, 132.0, 110.0, 130.0, 134.0, 145.0, 122.0, 146.0, 133.0, 120.0, 130.0, 128.0, 137.0, 127.0, 122.0, 130.0, 122.0, 129.0, 149.0, 138.0, 146.0, 121.0, 120.0, 137.0, 146.0, 134.0, 135.0, 128.0, 120.0, 135.0, 140.0, 125.0, 144.0, 136.0, 138.0, 125.0, 144.0, 127.0, 146.0, 133.0, 128.0, 136.0, 127.0, 122.0, 130.0, 123.0, 125.0, 148.0, 128.0, 127.0, 122.0, 143.0, 136.0, 117.0, 146.0, 132.0, 148.0, 148.0, 126.0, 145.0, 126.0, 140.0, 120.0, 129.0, 133.0, 133.0, 134.0, 144.0, 128.0, 143.0, 126.0, 128.0, 128.0, 145.0, 122.0, 142.0, 122.0, 131.0, 127.0, 125.0, 122.0, 130.0, 144.0, 136.0, 133.0, 123.0, 125.0, 126.0, 135.0, 134.0, 148.0, 133.0, 136.0, 136.0, 122.0, 136.0, 146.0, 114.0, 127.0, 129.0, 127.0, 139.0, 133.0, 138.0, 122.0, 112.0, 125.0, 144.0, 133.0, 129.0, 118.0, 143.0, 119.0, 125.0, 142.0, 136.0, 133.0, 110.0, 140.0, 148.0, 121.0, 131.0, 125.0, 125.0, 132.0, 142.0, 123.0, 132.0, 140.0, 121.0, 144.0, 147.0, 142.0, 122.0, 137.0, 128.0, 130.0, 147.0, 138.0, 135.0, 138.0, 132.0, 115.0, 138.0, 142.0, 133.0, 122.0, 125.0, 121.0, 134.0, 122.0, 119.0, 131.0, 128.0, 146.0, 146.0, 133.0, 130.0, 121.0, 138.0, 148.0, 147.0, 125.0, 127.0, 121.0, 143.0, 143.0, 134.0, 120.0, 130.0, 137.0, 138.0, 131.0, 133.0, 126.0, 157.0, 128.0, 125.0, 141.0, 120.0, 119.0, 136.0, 146.0, 133.0, 135.0, 125.0, 125.0, 127.0, 123.0, 133.0, 135.0, 140.0, 148.0, 137.0, 134.0, 128.0, 140.0, 120.0, 147.0, 123.0], \"y0\": \" \", \"yaxis\": \"y\"}, {\"alignmentgroup\": \"True\", \"hoverlabel\": {\"namelength\": 0}, \"hovertemplate\": \"Classe=2.0<br>valores=%{y}\", \"legendgroup\": \"Classe=2.0\", \"marker\": {\"color\": \"#EF553B\"}, \"name\": \"Classe=2.0\", \"notched\": false, \"offsetgroup\": \"Classe=2.0\", \"orientation\": \"v\", \"showlegend\": true, \"type\": \"box\", \"x0\": \" \", \"xaxis\": \"x\", \"y\": [145.0, 148.0, 142.0, 140.0, 143.0, 139.0, 128.0, 141.0, 146.0, 145.0, 144.0, 150.0, 138.0, 137.0, 138.0, 135.0, 142.0, 141.0, 146.0, 137.0, 144.0, 152.0, 133.0, 137.0, 147.0, 140.0, 123.0, 143.0, 139.0, 141.0, 145.0, 137.0, 148.0, 149.0, 135.0, 138.0, 146.0, 125.0, 143.0, 138.0, 132.0, 152.0, 148.0, 140.0, 138.0, 150.0, 148.0, 138.0, 123.0, 132.0, 130.0, 151.0, 128.0, 140.0, 142.0, 144.0, 137.0, 130.0, 140.0, 125.0, 137.0, 159.0, 154.0, 152.0, 144.0, 149.0, 141.0, 150.0, 135.0, 133.0, 138.0, 140.0, 144.0, 144.0, 133.0, 141.0, 144.0, 137.0, 129.0, 144.0, 154.0, 123.0, 132.0, 137.0, 130.0, 134.0, 143.0, 145.0, 145.0, 133.0, 141.0, 144.0, 139.0, 148.0, 137.0, 139.0, 141.0, 135.0, 141.0, 123.0, 150.0, 138.0, 141.0, 143.0, 146.0, 138.0, 138.0, 152.0, 144.0, 150.0, 133.0, 148.0, 144.0, 151.0, 136.0, 144.0, 150.0, 152.0, 146.0, 137.0, 128.0, 144.0, 144.0, 123.0, 146.0, 141.0, 133.0, 128.0, 146.0, 128.0, 143.0, 143.0, 150.0, 142.0, 146.0, 150.0, 141.0, 145.0, 147.0, 137.0, 148.0, 137.0, 150.0, 141.0, 133.0, 138.0, 146.0, 138.0, 145.0, 151.0, 127.0, 138.0, 132.0, 142.0, 149.0, 141.0, 143.0, 150.0, 139.0, 146.0, 123.0, 120.0, 151.0, 159.0, 148.0, 150.0, 144.0, 123.0, 154.0, 148.0, 146.0, 130.0, 133.0, 156.0, 139.0, 143.0, 146.0, 142.0, 146.0, 146.0, 151.0, 151.0, 148.0, 143.0, 144.0, 149.0, 142.0, 148.0, 135.0, 148.0, 146.0, 150.0, 125.0, 145.0, 138.0, 146.0, 125.0, 137.0, 129.0, 135.0, 140.0, 148.0, 145.0, 133.0, 148.0, 133.0, 138.0, 150.0, 142.0, 143.0, 146.0, 146.0, 144.0, 129.0, 120.0, 143.0, 133.0, 144.0, 145.0, 142.0, 144.0], \"y0\": \" \", \"yaxis\": \"y\"}, {\"alignmentgroup\": \"True\", \"hoverlabel\": {\"namelength\": 0}, \"hovertemplate\": \"Classe=3.0<br>valores=%{y}\", \"legendgroup\": \"Classe=3.0\", \"marker\": {\"color\": \"#00cc96\"}, \"name\": \"Classe=3.0\", \"notched\": false, \"offsetgroup\": \"Classe=3.0\", \"orientation\": \"v\", \"showlegend\": true, \"type\": \"box\", \"x0\": \" \", \"xaxis\": \"x\", \"y\": [134.0, 135.0, 129.0, 124.0, 133.0, 132.0, 129.0, 128.0, 133.0, 110.0, 110.0, 148.0, 128.0, 130.0, 150.0, 110.0, 123.0, 150.0, 110.0, 134.0, 136.0, 130.0, 133.0, 133.0, 134.0, 133.0, 110.0, 133.0, 148.0, 133.0, 134.0, 131.0, 130.0, 148.0, 132.0, 128.0, 134.0, 123.0, 123.0, 128.0, 128.0, 135.0, 144.0, 128.0, 120.0, 120.0, 122.0, 121.0, 134.0, 123.0, 131.0, 129.0, 133.0, 122.0, 133.0, 110.0, 131.0, 120.0, 131.0, 129.0, 134.0, 134.0, 133.0, 123.0, 138.0, 146.0, 120.0, 128.0, 133.0, 138.0, 133.0, 134.0, 148.0, 130.0, 148.0, 141.0, 150.0, 120.0, 134.0, 129.0, 130.0, 121.0, 129.0, 128.0, 134.0, 134.0, 152.0, 130.0, 144.0, 130.0, 135.0, 120.0, 120.0, 133.0, 130.0, 131.0, 135.0, 121.0, 121.0, 123.0, 129.0, 134.0, 132.0, 124.0, 129.0, 129.0, 128.0, 134.0, 150.0, 140.0, 144.0, 120.0, 150.0, 130.0, 134.0, 122.0, 133.0, 133.0, 140.0, 133.0, 133.0, 133.0, 133.0, 130.0, 132.0, 130.0, 150.0, 125.0, 129.0, 133.0, 120.0, 148.0], \"y0\": \" \", \"yaxis\": \"y\"}],\n",
              "                        {\"boxmode\": \"group\", \"legend\": {\"tracegroupgap\": 0}, \"template\": {\"data\": {\"bar\": [{\"error_x\": {\"color\": \"#2a3f5f\"}, \"error_y\": {\"color\": \"#2a3f5f\"}, \"marker\": {\"line\": {\"color\": \"#E5ECF6\", \"width\": 0.5}}, \"type\": \"bar\"}], \"barpolar\": [{\"marker\": {\"line\": {\"color\": \"#E5ECF6\", \"width\": 0.5}}, \"type\": \"barpolar\"}], \"carpet\": [{\"aaxis\": {\"endlinecolor\": \"#2a3f5f\", \"gridcolor\": \"white\", \"linecolor\": \"white\", \"minorgridcolor\": \"white\", \"startlinecolor\": \"#2a3f5f\"}, \"baxis\": {\"endlinecolor\": \"#2a3f5f\", \"gridcolor\": \"white\", \"linecolor\": \"white\", \"minorgridcolor\": \"white\", \"startlinecolor\": \"#2a3f5f\"}, \"type\": \"carpet\"}], \"choropleth\": [{\"colorbar\": {\"outlinewidth\": 0, \"ticks\": \"\"}, \"type\": \"choropleth\"}], \"contour\": [{\"colorbar\": {\"outlinewidth\": 0, \"ticks\": \"\"}, \"colorscale\": [[0.0, \"#0d0887\"], [0.1111111111111111, \"#46039f\"], [0.2222222222222222, \"#7201a8\"], [0.3333333333333333, \"#9c179e\"], [0.4444444444444444, \"#bd3786\"], [0.5555555555555556, \"#d8576b\"], [0.6666666666666666, \"#ed7953\"], [0.7777777777777778, \"#fb9f3a\"], [0.8888888888888888, \"#fdca26\"], [1.0, \"#f0f921\"]], \"type\": \"contour\"}], \"contourcarpet\": [{\"colorbar\": {\"outlinewidth\": 0, \"ticks\": \"\"}, \"type\": \"contourcarpet\"}], \"heatmap\": [{\"colorbar\": {\"outlinewidth\": 0, \"ticks\": \"\"}, \"colorscale\": [[0.0, \"#0d0887\"], [0.1111111111111111, \"#46039f\"], [0.2222222222222222, \"#7201a8\"], [0.3333333333333333, \"#9c179e\"], [0.4444444444444444, \"#bd3786\"], [0.5555555555555556, \"#d8576b\"], [0.6666666666666666, \"#ed7953\"], [0.7777777777777778, \"#fb9f3a\"], [0.8888888888888888, \"#fdca26\"], [1.0, \"#f0f921\"]], \"type\": \"heatmap\"}], \"heatmapgl\": [{\"colorbar\": {\"outlinewidth\": 0, \"ticks\": \"\"}, \"colorscale\": [[0.0, \"#0d0887\"], [0.1111111111111111, \"#46039f\"], [0.2222222222222222, \"#7201a8\"], [0.3333333333333333, \"#9c179e\"], [0.4444444444444444, \"#bd3786\"], [0.5555555555555556, \"#d8576b\"], [0.6666666666666666, \"#ed7953\"], [0.7777777777777778, \"#fb9f3a\"], [0.8888888888888888, \"#fdca26\"], [1.0, \"#f0f921\"]], \"type\": \"heatmapgl\"}], \"histogram\": [{\"marker\": {\"colorbar\": {\"outlinewidth\": 0, \"ticks\": \"\"}}, \"type\": \"histogram\"}], \"histogram2d\": [{\"colorbar\": {\"outlinewidth\": 0, \"ticks\": \"\"}, \"colorscale\": [[0.0, \"#0d0887\"], [0.1111111111111111, \"#46039f\"], [0.2222222222222222, \"#7201a8\"], [0.3333333333333333, \"#9c179e\"], [0.4444444444444444, \"#bd3786\"], [0.5555555555555556, \"#d8576b\"], [0.6666666666666666, \"#ed7953\"], [0.7777777777777778, \"#fb9f3a\"], [0.8888888888888888, \"#fdca26\"], [1.0, \"#f0f921\"]], \"type\": \"histogram2d\"}], \"histogram2dcontour\": [{\"colorbar\": {\"outlinewidth\": 0, \"ticks\": \"\"}, \"colorscale\": [[0.0, \"#0d0887\"], [0.1111111111111111, \"#46039f\"], [0.2222222222222222, \"#7201a8\"], [0.3333333333333333, \"#9c179e\"], [0.4444444444444444, \"#bd3786\"], [0.5555555555555556, \"#d8576b\"], [0.6666666666666666, \"#ed7953\"], [0.7777777777777778, \"#fb9f3a\"], [0.8888888888888888, \"#fdca26\"], [1.0, \"#f0f921\"]], \"type\": \"histogram2dcontour\"}], \"mesh3d\": [{\"colorbar\": {\"outlinewidth\": 0, \"ticks\": \"\"}, \"type\": \"mesh3d\"}], \"parcoords\": [{\"line\": {\"colorbar\": {\"outlinewidth\": 0, \"ticks\": \"\"}}, \"type\": \"parcoords\"}], \"pie\": [{\"automargin\": true, \"type\": \"pie\"}], \"scatter\": [{\"marker\": {\"colorbar\": {\"outlinewidth\": 0, \"ticks\": \"\"}}, \"type\": \"scatter\"}], \"scatter3d\": [{\"line\": {\"colorbar\": {\"outlinewidth\": 0, \"ticks\": \"\"}}, \"marker\": {\"colorbar\": {\"outlinewidth\": 0, \"ticks\": \"\"}}, \"type\": \"scatter3d\"}], \"scattercarpet\": [{\"marker\": {\"colorbar\": {\"outlinewidth\": 0, \"ticks\": \"\"}}, \"type\": \"scattercarpet\"}], \"scattergeo\": [{\"marker\": {\"colorbar\": {\"outlinewidth\": 0, \"ticks\": \"\"}}, \"type\": \"scattergeo\"}], \"scattergl\": [{\"marker\": {\"colorbar\": {\"outlinewidth\": 0, \"ticks\": \"\"}}, \"type\": \"scattergl\"}], \"scattermapbox\": [{\"marker\": {\"colorbar\": {\"outlinewidth\": 0, \"ticks\": \"\"}}, \"type\": \"scattermapbox\"}], \"scatterpolar\": [{\"marker\": {\"colorbar\": {\"outlinewidth\": 0, \"ticks\": \"\"}}, \"type\": \"scatterpolar\"}], \"scatterpolargl\": [{\"marker\": {\"colorbar\": {\"outlinewidth\": 0, \"ticks\": \"\"}}, \"type\": \"scatterpolargl\"}], \"scatterternary\": [{\"marker\": {\"colorbar\": {\"outlinewidth\": 0, \"ticks\": \"\"}}, \"type\": \"scatterternary\"}], \"surface\": [{\"colorbar\": {\"outlinewidth\": 0, \"ticks\": \"\"}, \"colorscale\": [[0.0, \"#0d0887\"], [0.1111111111111111, \"#46039f\"], [0.2222222222222222, \"#7201a8\"], [0.3333333333333333, \"#9c179e\"], [0.4444444444444444, \"#bd3786\"], [0.5555555555555556, \"#d8576b\"], [0.6666666666666666, \"#ed7953\"], [0.7777777777777778, \"#fb9f3a\"], [0.8888888888888888, \"#fdca26\"], [1.0, \"#f0f921\"]], \"type\": \"surface\"}], \"table\": [{\"cells\": {\"fill\": {\"color\": \"#EBF0F8\"}, \"line\": {\"color\": \"white\"}}, \"header\": {\"fill\": {\"color\": \"#C8D4E3\"}, \"line\": {\"color\": \"white\"}}, \"type\": \"table\"}]}, \"layout\": {\"annotationdefaults\": {\"arrowcolor\": \"#2a3f5f\", \"arrowhead\": 0, \"arrowwidth\": 1}, \"coloraxis\": {\"colorbar\": {\"outlinewidth\": 0, \"ticks\": \"\"}}, \"colorscale\": {\"diverging\": [[0, \"#8e0152\"], [0.1, \"#c51b7d\"], [0.2, \"#de77ae\"], [0.3, \"#f1b6da\"], [0.4, \"#fde0ef\"], [0.5, \"#f7f7f7\"], [0.6, \"#e6f5d0\"], [0.7, \"#b8e186\"], [0.8, \"#7fbc41\"], [0.9, \"#4d9221\"], [1, \"#276419\"]], \"sequential\": [[0.0, \"#0d0887\"], [0.1111111111111111, \"#46039f\"], [0.2222222222222222, \"#7201a8\"], [0.3333333333333333, \"#9c179e\"], [0.4444444444444444, \"#bd3786\"], [0.5555555555555556, \"#d8576b\"], [0.6666666666666666, \"#ed7953\"], [0.7777777777777778, \"#fb9f3a\"], [0.8888888888888888, \"#fdca26\"], [1.0, \"#f0f921\"]], \"sequentialminus\": [[0.0, \"#0d0887\"], [0.1111111111111111, \"#46039f\"], [0.2222222222222222, \"#7201a8\"], [0.3333333333333333, \"#9c179e\"], [0.4444444444444444, \"#bd3786\"], [0.5555555555555556, \"#d8576b\"], [0.6666666666666666, \"#ed7953\"], [0.7777777777777778, \"#fb9f3a\"], [0.8888888888888888, \"#fdca26\"], [1.0, \"#f0f921\"]]}, \"colorway\": [\"#636efa\", \"#EF553B\", \"#00cc96\", \"#ab63fa\", \"#FFA15A\", \"#19d3f3\", \"#FF6692\", \"#B6E880\", \"#FF97FF\", \"#FECB52\"], \"font\": {\"color\": \"#2a3f5f\"}, \"geo\": {\"bgcolor\": \"white\", \"lakecolor\": \"white\", \"landcolor\": \"#E5ECF6\", \"showlakes\": true, \"showland\": true, \"subunitcolor\": \"white\"}, \"hoverlabel\": {\"align\": \"left\"}, \"hovermode\": \"closest\", \"mapbox\": {\"style\": \"light\"}, \"paper_bgcolor\": \"white\", \"plot_bgcolor\": \"#E5ECF6\", \"polar\": {\"angularaxis\": {\"gridcolor\": \"white\", \"linecolor\": \"white\", \"ticks\": \"\"}, \"bgcolor\": \"#E5ECF6\", \"radialaxis\": {\"gridcolor\": \"white\", \"linecolor\": \"white\", \"ticks\": \"\"}}, \"scene\": {\"xaxis\": {\"backgroundcolor\": \"#E5ECF6\", \"gridcolor\": \"white\", \"gridwidth\": 2, \"linecolor\": \"white\", \"showbackground\": true, \"ticks\": \"\", \"zerolinecolor\": \"white\"}, \"yaxis\": {\"backgroundcolor\": \"#E5ECF6\", \"gridcolor\": \"white\", \"gridwidth\": 2, \"linecolor\": \"white\", \"showbackground\": true, \"ticks\": \"\", \"zerolinecolor\": \"white\"}, \"zaxis\": {\"backgroundcolor\": \"#E5ECF6\", \"gridcolor\": \"white\", \"gridwidth\": 2, \"linecolor\": \"white\", \"showbackground\": true, \"ticks\": \"\", \"zerolinecolor\": \"white\"}}, \"shapedefaults\": {\"line\": {\"color\": \"#2a3f5f\"}}, \"ternary\": {\"aaxis\": {\"gridcolor\": \"white\", \"linecolor\": \"white\", \"ticks\": \"\"}, \"baxis\": {\"gridcolor\": \"white\", \"linecolor\": \"white\", \"ticks\": \"\"}, \"bgcolor\": \"#E5ECF6\", \"caxis\": {\"gridcolor\": \"white\", \"linecolor\": \"white\", \"ticks\": \"\"}}, \"title\": {\"x\": 0.05}, \"xaxis\": {\"automargin\": true, \"gridcolor\": \"white\", \"linecolor\": \"white\", \"ticks\": \"\", \"title\": {\"standoff\": 15}, \"zerolinecolor\": \"white\", \"zerolinewidth\": 2}, \"yaxis\": {\"automargin\": true, \"gridcolor\": \"white\", \"linecolor\": \"white\", \"ticks\": \"\", \"title\": {\"standoff\": 15}, \"zerolinecolor\": \"white\", \"zerolinewidth\": 2}}}, \"title\": {\"text\": \"boxplot da coluna: baseline value\"}, \"xaxis\": {\"anchor\": \"y\", \"domain\": [0.0, 1.0]}, \"yaxis\": {\"anchor\": \"x\", \"domain\": [0.0, 1.0], \"title\": {\"text\": \"valores\"}}},\n",
              "                        {\"responsive\": true}\n",
              "                    ).then(function(){\n",
              "                            \n",
              "var gd = document.getElementById('fad8e3c2-6bd6-4bef-88d1-e46888767b2f');\n",
              "var x = new MutationObserver(function (mutations, observer) {{\n",
              "        var display = window.getComputedStyle(gd).display;\n",
              "        if (!display || display === 'none') {{\n",
              "            console.log([gd, 'removed!']);\n",
              "            Plotly.purge(gd);\n",
              "            observer.disconnect();\n",
              "        }}\n",
              "}});\n",
              "\n",
              "// Listen for the removal of the full notebook cells\n",
              "var notebookContainer = gd.closest('#notebook-container');\n",
              "if (notebookContainer) {{\n",
              "    x.observe(notebookContainer, {childList: true});\n",
              "}}\n",
              "\n",
              "// Listen for the clearing of the current output cell\n",
              "var outputEl = gd.closest('.output');\n",
              "if (outputEl) {{\n",
              "    x.observe(outputEl, {childList: true});\n",
              "}}\n",
              "\n",
              "                        })\n",
              "                };\n",
              "                \n",
              "            </script>\n",
              "        </div>\n",
              "</body>\n",
              "</html>"
            ]
          },
          "metadata": {
            "tags": []
          }
        }
      ]
    },
    {
      "cell_type": "markdown",
      "metadata": {
        "id": "DWsDHkuufOZF"
      },
      "source": [
        "O histograma e o box plot confirmaram a hipótese de que os dados possuem outliers, porém são bem poucos. Vamos observar as outras colunas."
      ]
    },
    {
      "cell_type": "code",
      "metadata": {
        "colab": {
          "base_uri": "https://localhost:8080/",
          "height": 542
        },
        "id": "2O82JGM-FNlt",
        "outputId": "f6c464c1-37bf-4282-dcaf-7d74463b3aa1"
      },
      "source": [
        "px.histogram(x =train_set['accelerations'], title  = 'Histograma da coluna : accelerations')\n"
      ],
      "execution_count": 69,
      "outputs": [
        {
          "output_type": "display_data",
          "data": {
            "text/html": [
              "<html>\n",
              "<head><meta charset=\"utf-8\" /></head>\n",
              "<body>\n",
              "    <div>\n",
              "            <script src=\"https://cdnjs.cloudflare.com/ajax/libs/mathjax/2.7.5/MathJax.js?config=TeX-AMS-MML_SVG\"></script><script type=\"text/javascript\">if (window.MathJax) {MathJax.Hub.Config({SVG: {font: \"STIX-Web\"}});}</script>\n",
              "                <script type=\"text/javascript\">window.PlotlyConfig = {MathJaxConfig: 'local'};</script>\n",
              "        <script src=\"https://cdn.plot.ly/plotly-latest.min.js\"></script>    \n",
              "            <div id=\"742bba9f-a8ee-40c0-85c9-be67916b41fe\" class=\"plotly-graph-div\" style=\"height:525px; width:100%;\"></div>\n",
              "            <script type=\"text/javascript\">\n",
              "                \n",
              "                    window.PLOTLYENV=window.PLOTLYENV || {};\n",
              "                    \n",
              "                if (document.getElementById(\"742bba9f-a8ee-40c0-85c9-be67916b41fe\")) {\n",
              "                    Plotly.newPlot(\n",
              "                        '742bba9f-a8ee-40c0-85c9-be67916b41fe',\n",
              "                        [{\"alignmentgroup\": \"True\", \"bingroup\": \"x\", \"hoverlabel\": {\"namelength\": 0}, \"hovertemplate\": \"x=%{x}<br>count=%{y}\", \"legendgroup\": \"\", \"marker\": {\"color\": \"#636efa\"}, \"name\": \"\", \"offsetgroup\": \"\", \"orientation\": \"v\", \"showlegend\": false, \"type\": \"histogram\", \"x\": [0.001, 0.002, 0.0, 0.0, 0.006, 0.0, 0.0, 0.0, 0.0, 0.006, 0.0, 0.005, 0.008, 0.0, 0.0, 0.003, 0.006, 0.0, 0.0, 0.0, 0.005, 0.004, 0.005, 0.001, 0.002, 0.0, 0.001, 0.001, 0.006999999999999999, 0.009000000000000001, 0.005, 0.0, 0.002, 0.0, 0.003, 0.001, 0.0, 0.0, 0.006, 0.0, 0.0, 0.004, 0.0, 0.0, 0.0, 0.001, 0.004, 0.005, 0.006999999999999999, 0.0, 0.003, 0.001, 0.0, 0.0, 0.0, 0.006, 0.0, 0.003, 0.001, 0.006999999999999999, 0.0, 0.0, 0.012, 0.001, 0.0, 0.002, 0.003, 0.006, 0.002, 0.0, 0.003, 0.0, 0.0, 0.0, 0.0, 0.0, 0.01, 0.0, 0.0, 0.002, 0.0, 0.0, 0.0, 0.0, 0.003, 0.008, 0.001, 0.0, 0.008, 0.003, 0.0, 0.0, 0.0, 0.001, 0.004, 0.0, 0.001, 0.005, 0.0, 0.005, 0.015, 0.001, 0.0, 0.002, 0.003, 0.008, 0.009000000000000001, 0.008, 0.0, 0.003, 0.008, 0.008, 0.017, 0.001, 0.003, 0.0, 0.0, 0.017, 0.005, 0.0, 0.008, 0.001, 0.0, 0.008, 0.005, 0.001, 0.0, 0.013999999999999999, 0.0, 0.0, 0.0, 0.011000000000000001, 0.005, 0.003, 0.01, 0.0, 0.008, 0.005, 0.005, 0.0, 0.006999999999999999, 0.001, 0.013999999999999999, 0.013000000000000001, 0.0, 0.003, 0.0, 0.013000000000000001, 0.0, 0.0, 0.004, 0.0, 0.0, 0.001, 0.002, 0.003, 0.005, 0.0, 0.0, 0.0, 0.0, 0.0, 0.005, 0.005, 0.003, 0.004, 0.005, 0.0, 0.002, 0.001, 0.01, 0.006, 0.01, 0.004, 0.011000000000000001, 0.0, 0.0, 0.006, 0.004, 0.002, 0.013000000000000001, 0.0, 0.0, 0.0, 0.003, 0.001, 0.006, 0.001, 0.0, 0.0, 0.0, 0.015, 0.0, 0.0, 0.006, 0.0, 0.006, 0.001, 0.0, 0.002, 0.0, 0.0, 0.004, 0.0, 0.0, 0.004, 0.003, 0.001, 0.006, 0.0, 0.002, 0.004, 0.0, 0.0, 0.006999999999999999, 0.0, 0.0, 0.0, 0.0, 0.002, 0.006, 0.0, 0.0, 0.0, 0.0, 0.0, 0.006999999999999999, 0.01, 0.008, 0.0, 0.001, 0.0, 0.0, 0.0, 0.003, 0.005, 0.003, 0.0, 0.006999999999999999, 0.003, 0.0, 0.0, 0.002, 0.005, 0.01, 0.006999999999999999, 0.0, 0.0, 0.01, 0.0, 0.0, 0.006, 0.003, 0.0, 0.0, 0.006, 0.0, 0.0, 0.008, 0.0, 0.002, 0.008, 0.0, 0.011000000000000001, 0.005, 0.0, 0.006, 0.001, 0.0, 0.004, 0.006, 0.004, 0.004, 0.002, 0.001, 0.0, 0.006999999999999999, 0.0, 0.0, 0.002, 0.0, 0.0, 0.003, 0.0, 0.001, 0.005, 0.0, 0.0, 0.0, 0.003, 0.0, 0.01, 0.0, 0.0, 0.002, 0.013000000000000001, 0.0, 0.003, 0.005, 0.003, 0.0, 0.0, 0.013999999999999999, 0.0, 0.005, 0.0, 0.0, 0.0, 0.003, 0.005, 0.002, 0.0, 0.0, 0.001, 0.002, 0.003, 0.006999999999999999, 0.004, 0.006999999999999999, 0.003, 0.009000000000000001, 0.011000000000000001, 0.0, 0.002, 0.002, 0.002, 0.004, 0.008, 0.001, 0.0, 0.0, 0.005, 0.0, 0.0, 0.001, 0.003, 0.004, 0.003, 0.0, 0.005, 0.002, 0.006, 0.004, 0.0, 0.0, 0.0, 0.004, 0.017, 0.004, 0.003, 0.0, 0.0, 0.011000000000000001, 0.009000000000000001, 0.002, 0.004, 0.013000000000000001, 0.002, 0.005, 0.003, 0.0, 0.0, 0.006, 0.015, 0.003, 0.006, 0.001, 0.005, 0.0, 0.011000000000000001, 0.0, 0.002, 0.009000000000000001, 0.0, 0.0, 0.0, 0.001, 0.0, 0.001, 0.004, 0.005, 0.006, 0.003, 0.0, 0.003, 0.004, 0.002, 0.001, 0.003, 0.006999999999999999, 0.0, 0.002, 0.0, 0.005, 0.004, 0.002, 0.0, 0.0, 0.0, 0.005, 0.0, 0.002, 0.0, 0.0, 0.0, 0.0, 0.004, 0.0, 0.002, 0.0, 0.002, 0.002, 0.0, 0.002, 0.013000000000000001, 0.001, 0.01, 0.008, 0.004, 0.001, 0.0, 0.002, 0.006999999999999999, 0.002, 0.001, 0.008, 0.0, 0.0, 0.008, 0.0, 0.0, 0.003, 0.008, 0.0, 0.0, 0.002, 0.0, 0.004, 0.0, 0.001, 0.008, 0.009000000000000001, 0.002, 0.0, 0.004, 0.0, 0.01, 0.006, 0.004, 0.008, 0.0, 0.006999999999999999, 0.008, 0.001, 0.006, 0.008, 0.006999999999999999, 0.0, 0.002, 0.003, 0.012, 0.001, 0.0, 0.003, 0.0, 0.009000000000000001, 0.008, 0.01, 0.006999999999999999, 0.0, 0.0, 0.0, 0.008, 0.003, 0.0, 0.006, 0.001, 0.006, 0.012, 0.006, 0.0, 0.002, 0.0, 0.0, 0.006, 0.0, 0.015, 0.006999999999999999, 0.003, 0.001, 0.0, 0.005, 0.004, 0.005, 0.0, 0.004, 0.0, 0.0, 0.0, 0.005, 0.008, 0.016, 0.003, 0.001, 0.011000000000000001, 0.003, 0.002, 0.0, 0.001, 0.006999999999999999, 0.002, 0.005, 0.0, 0.002, 0.0, 0.006, 0.0, 0.001, 0.0, 0.008, 0.0, 0.002, 0.0, 0.0, 0.004, 0.002, 0.002, 0.0, 0.006, 0.0, 0.002, 0.0, 0.008, 0.004, 0.004, 0.005, 0.006999999999999999, 0.0, 0.004, 0.004, 0.0, 0.0, 0.0, 0.002, 0.0, 0.0, 0.003, 0.002, 0.012, 0.0, 0.003, 0.013999999999999999, 0.011000000000000001, 0.005, 0.0, 0.0, 0.015, 0.0, 0.0, 0.008, 0.0, 0.0, 0.0, 0.0, 0.0, 0.006999999999999999, 0.0, 0.002, 0.0, 0.004, 0.013000000000000001, 0.003, 0.0, 0.001, 0.0, 0.009000000000000001, 0.004, 0.006999999999999999, 0.0, 0.006999999999999999, 0.0, 0.006999999999999999, 0.0, 0.0, 0.003, 0.0, 0.003, 0.001, 0.0, 0.0, 0.0, 0.012, 0.002, 0.003, 0.004, 0.002, 0.0, 0.006999999999999999, 0.005, 0.005, 0.013999999999999999, 0.002, 0.013999999999999999, 0.0, 0.0, 0.006, 0.009000000000000001, 0.0, 0.003, 0.001, 0.0, 0.01, 0.005, 0.0, 0.0, 0.006999999999999999, 0.016, 0.002, 0.0, 0.013000000000000001, 0.006999999999999999, 0.013000000000000001, 0.006999999999999999, 0.002, 0.001, 0.012, 0.006999999999999999, 0.01, 0.003, 0.005, 0.013999999999999999, 0.0, 0.0, 0.001, 0.003, 0.0, 0.006999999999999999, 0.005, 0.0, 0.003, 0.009000000000000001, 0.0, 0.0, 0.0, 0.0, 0.005, 0.0, 0.0, 0.0, 0.002, 0.0, 0.003, 0.001, 0.01, 0.0, 0.009000000000000001, 0.006, 0.005, 0.005, 0.0, 0.0, 0.001, 0.002, 0.0, 0.006999999999999999, 0.0, 0.01, 0.009000000000000001, 0.008, 0.0, 0.013999999999999999, 0.003, 0.004, 0.008, 0.011000000000000001, 0.006, 0.011000000000000001, 0.003, 0.0, 0.0, 0.011000000000000001, 0.0, 0.0, 0.0, 0.0, 0.0, 0.005, 0.009000000000000001, 0.0, 0.006, 0.001, 0.0, 0.011000000000000001, 0.002, 0.004, 0.009000000000000001, 0.0, 0.013000000000000001, 0.005, 0.006999999999999999, 0.003, 0.0, 0.003, 0.0, 0.0, 0.003, 0.0, 0.001, 0.0, 0.0, 0.001, 0.006999999999999999, 0.005, 0.002, 0.0, 0.0, 0.004, 0.001, 0.002, 0.017, 0.006, 0.002, 0.0, 0.0, 0.0, 0.0, 0.0, 0.0, 0.003, 0.002, 0.001, 0.0, 0.001, 0.002, 0.006, 0.0, 0.008, 0.009000000000000001, 0.0, 0.0, 0.004, 0.003, 0.0, 0.0, 0.0, 0.0, 0.006, 0.006, 0.0, 0.0, 0.003, 0.006, 0.003, 0.0, 0.0, 0.0, 0.0, 0.0, 0.001, 0.0, 0.006, 0.0, 0.005, 0.002, 0.001, 0.006999999999999999, 0.0, 0.0, 0.0, 0.006999999999999999, 0.003, 0.0, 0.012, 0.008, 0.003, 0.0, 0.006, 0.001, 0.008, 0.002, 0.006999999999999999, 0.005, 0.0, 0.003, 0.009000000000000001, 0.013000000000000001, 0.0, 0.0, 0.0, 0.009000000000000001, 0.009000000000000001, 0.0, 0.008, 0.001, 0.003, 0.009000000000000001, 0.002, 0.0, 0.005, 0.003, 0.004, 0.009000000000000001, 0.013000000000000001, 0.005, 0.006, 0.0, 0.005, 0.001, 0.003, 0.008, 0.0, 0.009000000000000001, 0.005, 0.003, 0.006999999999999999, 0.006999999999999999, 0.0, 0.005, 0.0, 0.006, 0.009000000000000001, 0.006, 0.0, 0.003, 0.004, 0.0, 0.0, 0.0, 0.0, 0.004, 0.0, 0.0, 0.0, 0.002, 0.0, 0.009000000000000001, 0.0, 0.006, 0.004, 0.0, 0.008, 0.0, 0.006, 0.006999999999999999, 0.0, 0.0, 0.012, 0.001, 0.0, 0.011000000000000001, 0.0, 0.003, 0.005, 0.004, 0.008, 0.0, 0.001, 0.008, 0.003, 0.0, 0.0, 0.0, 0.006, 0.0, 0.0, 0.003, 0.003, 0.001, 0.002, 0.006, 0.008, 0.0, 0.01, 0.0, 0.0, 0.002, 0.0, 0.012, 0.006, 0.0, 0.005, 0.001, 0.003, 0.0, 0.009000000000000001, 0.003, 0.006999999999999999, 0.0, 0.01, 0.0, 0.003, 0.01, 0.008, 0.0, 0.006, 0.011000000000000001, 0.0, 0.0, 0.004, 0.01, 0.0, 0.003, 0.006, 0.004, 0.0, 0.0, 0.001, 0.0, 0.004, 0.004, 0.0, 0.0, 0.005, 0.0, 0.006999999999999999, 0.0, 0.001, 0.01, 0.006999999999999999, 0.005, 0.0, 0.0, 0.0, 0.003, 0.0, 0.002, 0.001, 0.003, 0.002, 0.006999999999999999, 0.003, 0.0, 0.006, 0.0, 0.0, 0.01, 0.006999999999999999, 0.003, 0.0, 0.0, 0.009000000000000001, 0.0, 0.009000000000000001, 0.0, 0.004, 0.0, 0.011000000000000001, 0.0, 0.006999999999999999, 0.0, 0.0, 0.011000000000000001, 0.0, 0.0, 0.003, 0.008, 0.002, 0.0, 0.001, 0.004, 0.0, 0.0, 0.002, 0.0, 0.008, 0.0, 0.0, 0.0, 0.004, 0.0, 0.004, 0.0, 0.0, 0.002, 0.002, 0.003, 0.0, 0.002, 0.0, 0.006, 0.001, 0.005, 0.006, 0.0, 0.0, 0.0, 0.0, 0.003, 0.001, 0.0, 0.0, 0.0, 0.006, 0.004, 0.009000000000000001, 0.0, 0.003, 0.004, 0.004, 0.0, 0.003, 0.006999999999999999, 0.003, 0.0, 0.006, 0.005, 0.009000000000000001, 0.0, 0.0, 0.003, 0.0, 0.009000000000000001, 0.0, 0.001, 0.011000000000000001, 0.013999999999999999, 0.006, 0.0, 0.008, 0.006, 0.006, 0.002, 0.01, 0.004, 0.001, 0.006999999999999999, 0.0, 0.005, 0.004, 0.002, 0.0, 0.009000000000000001, 0.003, 0.004, 0.006, 0.001, 0.01, 0.0, 0.004, 0.002, 0.004, 0.001, 0.0, 0.003, 0.004, 0.013999999999999999, 0.001, 0.002, 0.0, 0.005, 0.0, 0.001, 0.009000000000000001, 0.011000000000000001, 0.008, 0.009000000000000001, 0.0, 0.0, 0.003, 0.0, 0.0, 0.0, 0.006, 0.0, 0.0, 0.001, 0.003, 0.003, 0.0, 0.0, 0.0, 0.0, 0.005, 0.016, 0.0, 0.001, 0.008, 0.0, 0.002, 0.004, 0.006, 0.008, 0.0, 0.005, 0.0, 0.0, 0.0, 0.0, 0.004, 0.006999999999999999, 0.003, 0.0, 0.0, 0.002, 0.003, 0.0, 0.0, 0.0, 0.006, 0.0, 0.01, 0.006999999999999999, 0.003, 0.01, 0.0, 0.0, 0.001, 0.006, 0.008, 0.016, 0.006, 0.0, 0.0, 0.0, 0.0, 0.0, 0.0, 0.005, 0.003, 0.0, 0.0, 0.011000000000000001, 0.005, 0.003, 0.0, 0.0, 0.01, 0.0, 0.01, 0.001, 0.005, 0.009000000000000001, 0.005, 0.009000000000000001, 0.01, 0.0, 0.011000000000000001, 0.009000000000000001, 0.006999999999999999, 0.001, 0.005, 0.0, 0.0, 0.001, 0.012, 0.01, 0.0, 0.008, 0.0, 0.0, 0.0, 0.001, 0.0, 0.001, 0.0, 0.0, 0.0, 0.008, 0.004, 0.001, 0.006999999999999999, 0.002, 0.012, 0.0, 0.0, 0.0, 0.01, 0.0, 0.006, 0.004, 0.006, 0.0, 0.003, 0.008, 0.008, 0.002, 0.008, 0.0, 0.0, 0.0, 0.0, 0.0, 0.003, 0.0, 0.0, 0.0, 0.0, 0.009000000000000001, 0.0, 0.008, 0.004, 0.006999999999999999, 0.006, 0.008, 0.002, 0.002, 0.0, 0.005, 0.012, 0.006999999999999999, 0.0, 0.0, 0.002, 0.004, 0.001, 0.006, 0.0, 0.001, 0.013999999999999999, 0.0, 0.004, 0.0, 0.0, 0.0, 0.013000000000000001, 0.0, 0.008, 0.01, 0.006, 0.001, 0.006999999999999999, 0.0, 0.006, 0.0, 0.0, 0.0, 0.0, 0.002, 0.0, 0.006, 0.0, 0.0, 0.0, 0.005, 0.01, 0.002, 0.012, 0.001, 0.0, 0.003, 0.004, 0.003, 0.013000000000000001, 0.0, 0.003, 0.0, 0.0, 0.0, 0.0, 0.006999999999999999, 0.008, 0.0, 0.012, 0.0, 0.0, 0.0, 0.0, 0.0, 0.0, 0.004, 0.015, 0.0, 0.002, 0.002, 0.006, 0.012, 0.0, 0.0, 0.0, 0.008, 0.0, 0.0, 0.0, 0.004, 0.009000000000000001, 0.005, 0.0, 0.0, 0.0, 0.0, 0.011000000000000001, 0.013999999999999999, 0.0, 0.0, 0.0, 0.006999999999999999, 0.0, 0.003, 0.0, 0.0, 0.002, 0.0, 0.002, 0.0, 0.0, 0.006, 0.0, 0.0, 0.0, 0.0, 0.006, 0.004, 0.006999999999999999, 0.0, 0.0, 0.004, 0.006999999999999999, 0.008, 0.0, 0.0, 0.008, 0.003, 0.0, 0.0, 0.01, 0.011000000000000001, 0.004, 0.0, 0.0, 0.008, 0.01, 0.006999999999999999, 0.0, 0.0, 0.0, 0.005, 0.008, 0.004, 0.0, 0.0, 0.0, 0.003, 0.0, 0.0, 0.0, 0.003, 0.011000000000000001, 0.0, 0.003, 0.009000000000000001, 0.005, 0.013000000000000001, 0.018000000000000002, 0.0, 0.0, 0.0, 0.0, 0.009000000000000001, 0.006999999999999999, 0.012, 0.0, 0.002, 0.0, 0.0, 0.015, 0.009000000000000001, 0.0, 0.016, 0.0, 0.009000000000000001, 0.0, 0.0, 0.008, 0.012, 0.009000000000000001, 0.001, 0.002, 0.006999999999999999, 0.006, 0.006, 0.003, 0.006999999999999999, 0.0, 0.0, 0.0, 0.0, 0.009000000000000001, 0.0, 0.006999999999999999, 0.005, 0.004, 0.011000000000000001, 0.0, 0.006999999999999999, 0.0, 0.01, 0.0, 0.0, 0.003, 0.009000000000000001, 0.002, 0.0, 0.0, 0.0, 0.002, 0.003, 0.0, 0.0, 0.0, 0.005, 0.008, 0.002, 0.001, 0.001, 0.0, 0.0, 0.0, 0.004, 0.002, 0.004, 0.003, 0.0, 0.003, 0.0, 0.0, 0.01, 0.0, 0.0, 0.005, 0.004, 0.006, 0.0, 0.0, 0.008, 0.0, 0.004, 0.0, 0.001, 0.004, 0.016, 0.006, 0.0, 0.002, 0.006, 0.013999999999999999, 0.001, 0.005, 0.0, 0.009000000000000001, 0.0, 0.002, 0.0, 0.006, 0.0, 0.0, 0.0, 0.002, 0.0, 0.0, 0.0, 0.0, 0.0, 0.01, 0.006, 0.005, 0.0, 0.0, 0.0, 0.006, 0.003, 0.0, 0.0, 0.006, 0.01, 0.006999999999999999, 0.004, 0.0, 0.0, 0.0, 0.002, 0.0, 0.013999999999999999, 0.002, 0.0, 0.008, 0.0, 0.0, 0.005, 0.0, 0.0, 0.0, 0.001, 0.008, 0.0, 0.0, 0.003, 0.0, 0.0, 0.0, 0.003, 0.01, 0.0, 0.0, 0.0, 0.0, 0.005, 0.001, 0.002, 0.0, 0.0, 0.0, 0.0, 0.003, 0.003, 0.0, 0.002, 0.003, 0.0, 0.006999999999999999, 0.013999999999999999, 0.013000000000000001, 0.0, 0.0, 0.008, 0.002, 0.003, 0.0, 0.004, 0.008, 0.002, 0.012, 0.0, 0.0, 0.003, 0.0, 0.001, 0.0, 0.0, 0.011000000000000001, 0.008, 0.002, 0.0, 0.001, 0.006, 0.0, 0.003, 0.0, 0.005, 0.0, 0.005, 0.001, 0.004, 0.0, 0.008, 0.011000000000000001, 0.006, 0.0, 0.0, 0.003, 0.0, 0.006999999999999999, 0.0, 0.009000000000000001, 0.0, 0.004, 0.008, 0.008, 0.0, 0.008, 0.0, 0.0, 0.008, 0.0, 0.0, 0.003, 0.001, 0.002, 0.001, 0.0, 0.0, 0.008, 0.0, 0.0, 0.0, 0.0, 0.006, 0.0, 0.0, 0.0, 0.008, 0.002, 0.0, 0.006999999999999999, 0.0, 0.0, 0.003, 0.0, 0.006, 0.001, 0.0, 0.003, 0.013000000000000001, 0.0, 0.003], \"xaxis\": \"x\", \"yaxis\": \"y\"}],\n",
              "                        {\"barmode\": \"relative\", \"legend\": {\"tracegroupgap\": 0}, \"template\": {\"data\": {\"bar\": [{\"error_x\": {\"color\": \"#2a3f5f\"}, \"error_y\": {\"color\": \"#2a3f5f\"}, \"marker\": {\"line\": {\"color\": \"#E5ECF6\", \"width\": 0.5}}, \"type\": \"bar\"}], \"barpolar\": [{\"marker\": {\"line\": {\"color\": \"#E5ECF6\", \"width\": 0.5}}, \"type\": \"barpolar\"}], \"carpet\": [{\"aaxis\": {\"endlinecolor\": \"#2a3f5f\", \"gridcolor\": \"white\", \"linecolor\": \"white\", \"minorgridcolor\": \"white\", \"startlinecolor\": \"#2a3f5f\"}, \"baxis\": {\"endlinecolor\": \"#2a3f5f\", \"gridcolor\": \"white\", \"linecolor\": \"white\", \"minorgridcolor\": \"white\", \"startlinecolor\": \"#2a3f5f\"}, \"type\": \"carpet\"}], \"choropleth\": [{\"colorbar\": {\"outlinewidth\": 0, \"ticks\": \"\"}, \"type\": \"choropleth\"}], \"contour\": [{\"colorbar\": {\"outlinewidth\": 0, \"ticks\": \"\"}, \"colorscale\": [[0.0, \"#0d0887\"], [0.1111111111111111, \"#46039f\"], [0.2222222222222222, \"#7201a8\"], [0.3333333333333333, \"#9c179e\"], [0.4444444444444444, \"#bd3786\"], [0.5555555555555556, \"#d8576b\"], [0.6666666666666666, \"#ed7953\"], [0.7777777777777778, \"#fb9f3a\"], [0.8888888888888888, \"#fdca26\"], [1.0, \"#f0f921\"]], \"type\": \"contour\"}], \"contourcarpet\": [{\"colorbar\": {\"outlinewidth\": 0, \"ticks\": \"\"}, \"type\": \"contourcarpet\"}], \"heatmap\": [{\"colorbar\": {\"outlinewidth\": 0, \"ticks\": \"\"}, \"colorscale\": [[0.0, \"#0d0887\"], [0.1111111111111111, \"#46039f\"], [0.2222222222222222, \"#7201a8\"], [0.3333333333333333, \"#9c179e\"], [0.4444444444444444, \"#bd3786\"], [0.5555555555555556, \"#d8576b\"], [0.6666666666666666, \"#ed7953\"], [0.7777777777777778, \"#fb9f3a\"], [0.8888888888888888, \"#fdca26\"], [1.0, \"#f0f921\"]], \"type\": \"heatmap\"}], \"heatmapgl\": [{\"colorbar\": {\"outlinewidth\": 0, \"ticks\": \"\"}, \"colorscale\": [[0.0, \"#0d0887\"], [0.1111111111111111, \"#46039f\"], [0.2222222222222222, \"#7201a8\"], [0.3333333333333333, \"#9c179e\"], [0.4444444444444444, \"#bd3786\"], [0.5555555555555556, \"#d8576b\"], [0.6666666666666666, \"#ed7953\"], [0.7777777777777778, \"#fb9f3a\"], [0.8888888888888888, \"#fdca26\"], [1.0, \"#f0f921\"]], \"type\": \"heatmapgl\"}], \"histogram\": [{\"marker\": {\"colorbar\": {\"outlinewidth\": 0, \"ticks\": \"\"}}, \"type\": \"histogram\"}], \"histogram2d\": [{\"colorbar\": {\"outlinewidth\": 0, \"ticks\": \"\"}, \"colorscale\": [[0.0, \"#0d0887\"], [0.1111111111111111, \"#46039f\"], [0.2222222222222222, \"#7201a8\"], [0.3333333333333333, \"#9c179e\"], [0.4444444444444444, \"#bd3786\"], [0.5555555555555556, \"#d8576b\"], [0.6666666666666666, \"#ed7953\"], [0.7777777777777778, \"#fb9f3a\"], [0.8888888888888888, \"#fdca26\"], [1.0, \"#f0f921\"]], \"type\": \"histogram2d\"}], \"histogram2dcontour\": [{\"colorbar\": {\"outlinewidth\": 0, \"ticks\": \"\"}, \"colorscale\": [[0.0, \"#0d0887\"], [0.1111111111111111, \"#46039f\"], [0.2222222222222222, \"#7201a8\"], [0.3333333333333333, \"#9c179e\"], [0.4444444444444444, \"#bd3786\"], [0.5555555555555556, \"#d8576b\"], [0.6666666666666666, \"#ed7953\"], [0.7777777777777778, \"#fb9f3a\"], [0.8888888888888888, \"#fdca26\"], [1.0, \"#f0f921\"]], \"type\": \"histogram2dcontour\"}], \"mesh3d\": [{\"colorbar\": {\"outlinewidth\": 0, \"ticks\": \"\"}, \"type\": \"mesh3d\"}], \"parcoords\": [{\"line\": {\"colorbar\": {\"outlinewidth\": 0, \"ticks\": \"\"}}, \"type\": \"parcoords\"}], \"pie\": [{\"automargin\": true, \"type\": \"pie\"}], \"scatter\": [{\"marker\": {\"colorbar\": {\"outlinewidth\": 0, \"ticks\": \"\"}}, \"type\": \"scatter\"}], \"scatter3d\": [{\"line\": {\"colorbar\": {\"outlinewidth\": 0, \"ticks\": \"\"}}, \"marker\": {\"colorbar\": {\"outlinewidth\": 0, \"ticks\": \"\"}}, \"type\": \"scatter3d\"}], \"scattercarpet\": [{\"marker\": {\"colorbar\": {\"outlinewidth\": 0, \"ticks\": \"\"}}, \"type\": \"scattercarpet\"}], \"scattergeo\": [{\"marker\": {\"colorbar\": {\"outlinewidth\": 0, \"ticks\": \"\"}}, \"type\": \"scattergeo\"}], \"scattergl\": [{\"marker\": {\"colorbar\": {\"outlinewidth\": 0, \"ticks\": \"\"}}, \"type\": \"scattergl\"}], \"scattermapbox\": [{\"marker\": {\"colorbar\": {\"outlinewidth\": 0, \"ticks\": \"\"}}, \"type\": \"scattermapbox\"}], \"scatterpolar\": [{\"marker\": {\"colorbar\": {\"outlinewidth\": 0, \"ticks\": \"\"}}, \"type\": \"scatterpolar\"}], \"scatterpolargl\": [{\"marker\": {\"colorbar\": {\"outlinewidth\": 0, \"ticks\": \"\"}}, \"type\": \"scatterpolargl\"}], \"scatterternary\": [{\"marker\": {\"colorbar\": {\"outlinewidth\": 0, \"ticks\": \"\"}}, \"type\": \"scatterternary\"}], \"surface\": [{\"colorbar\": {\"outlinewidth\": 0, \"ticks\": \"\"}, \"colorscale\": [[0.0, \"#0d0887\"], [0.1111111111111111, \"#46039f\"], [0.2222222222222222, \"#7201a8\"], [0.3333333333333333, \"#9c179e\"], [0.4444444444444444, \"#bd3786\"], [0.5555555555555556, \"#d8576b\"], [0.6666666666666666, \"#ed7953\"], [0.7777777777777778, \"#fb9f3a\"], [0.8888888888888888, \"#fdca26\"], [1.0, \"#f0f921\"]], \"type\": \"surface\"}], \"table\": [{\"cells\": {\"fill\": {\"color\": \"#EBF0F8\"}, \"line\": {\"color\": \"white\"}}, \"header\": {\"fill\": {\"color\": \"#C8D4E3\"}, \"line\": {\"color\": \"white\"}}, \"type\": \"table\"}]}, \"layout\": {\"annotationdefaults\": {\"arrowcolor\": \"#2a3f5f\", \"arrowhead\": 0, \"arrowwidth\": 1}, \"coloraxis\": {\"colorbar\": {\"outlinewidth\": 0, \"ticks\": \"\"}}, \"colorscale\": {\"diverging\": [[0, \"#8e0152\"], [0.1, \"#c51b7d\"], [0.2, \"#de77ae\"], [0.3, \"#f1b6da\"], [0.4, \"#fde0ef\"], [0.5, \"#f7f7f7\"], [0.6, \"#e6f5d0\"], [0.7, \"#b8e186\"], [0.8, \"#7fbc41\"], [0.9, \"#4d9221\"], [1, \"#276419\"]], \"sequential\": [[0.0, \"#0d0887\"], [0.1111111111111111, \"#46039f\"], [0.2222222222222222, \"#7201a8\"], [0.3333333333333333, \"#9c179e\"], [0.4444444444444444, \"#bd3786\"], [0.5555555555555556, \"#d8576b\"], [0.6666666666666666, \"#ed7953\"], [0.7777777777777778, \"#fb9f3a\"], [0.8888888888888888, \"#fdca26\"], [1.0, \"#f0f921\"]], \"sequentialminus\": [[0.0, \"#0d0887\"], [0.1111111111111111, \"#46039f\"], [0.2222222222222222, \"#7201a8\"], [0.3333333333333333, \"#9c179e\"], [0.4444444444444444, \"#bd3786\"], [0.5555555555555556, \"#d8576b\"], [0.6666666666666666, \"#ed7953\"], [0.7777777777777778, \"#fb9f3a\"], [0.8888888888888888, \"#fdca26\"], [1.0, \"#f0f921\"]]}, \"colorway\": [\"#636efa\", \"#EF553B\", \"#00cc96\", \"#ab63fa\", \"#FFA15A\", \"#19d3f3\", \"#FF6692\", \"#B6E880\", \"#FF97FF\", \"#FECB52\"], \"font\": {\"color\": \"#2a3f5f\"}, \"geo\": {\"bgcolor\": \"white\", \"lakecolor\": \"white\", \"landcolor\": \"#E5ECF6\", \"showlakes\": true, \"showland\": true, \"subunitcolor\": \"white\"}, \"hoverlabel\": {\"align\": \"left\"}, \"hovermode\": \"closest\", \"mapbox\": {\"style\": \"light\"}, \"paper_bgcolor\": \"white\", \"plot_bgcolor\": \"#E5ECF6\", \"polar\": {\"angularaxis\": {\"gridcolor\": \"white\", \"linecolor\": \"white\", \"ticks\": \"\"}, \"bgcolor\": \"#E5ECF6\", \"radialaxis\": {\"gridcolor\": \"white\", \"linecolor\": \"white\", \"ticks\": \"\"}}, \"scene\": {\"xaxis\": {\"backgroundcolor\": \"#E5ECF6\", \"gridcolor\": \"white\", \"gridwidth\": 2, \"linecolor\": \"white\", \"showbackground\": true, \"ticks\": \"\", \"zerolinecolor\": \"white\"}, \"yaxis\": {\"backgroundcolor\": \"#E5ECF6\", \"gridcolor\": \"white\", \"gridwidth\": 2, \"linecolor\": \"white\", \"showbackground\": true, \"ticks\": \"\", \"zerolinecolor\": \"white\"}, \"zaxis\": {\"backgroundcolor\": \"#E5ECF6\", \"gridcolor\": \"white\", \"gridwidth\": 2, \"linecolor\": \"white\", \"showbackground\": true, \"ticks\": \"\", \"zerolinecolor\": \"white\"}}, \"shapedefaults\": {\"line\": {\"color\": \"#2a3f5f\"}}, \"ternary\": {\"aaxis\": {\"gridcolor\": \"white\", \"linecolor\": \"white\", \"ticks\": \"\"}, \"baxis\": {\"gridcolor\": \"white\", \"linecolor\": \"white\", \"ticks\": \"\"}, \"bgcolor\": \"#E5ECF6\", \"caxis\": {\"gridcolor\": \"white\", \"linecolor\": \"white\", \"ticks\": \"\"}}, \"title\": {\"x\": 0.05}, \"xaxis\": {\"automargin\": true, \"gridcolor\": \"white\", \"linecolor\": \"white\", \"ticks\": \"\", \"title\": {\"standoff\": 15}, \"zerolinecolor\": \"white\", \"zerolinewidth\": 2}, \"yaxis\": {\"automargin\": true, \"gridcolor\": \"white\", \"linecolor\": \"white\", \"ticks\": \"\", \"title\": {\"standoff\": 15}, \"zerolinecolor\": \"white\", \"zerolinewidth\": 2}}}, \"title\": {\"text\": \"Histograma da coluna : accelerations\"}, \"xaxis\": {\"anchor\": \"y\", \"domain\": [0.0, 1.0], \"title\": {\"text\": \"x\"}}, \"yaxis\": {\"anchor\": \"x\", \"domain\": [0.0, 1.0], \"title\": {\"text\": \"count\"}}},\n",
              "                        {\"responsive\": true}\n",
              "                    ).then(function(){\n",
              "                            \n",
              "var gd = document.getElementById('742bba9f-a8ee-40c0-85c9-be67916b41fe');\n",
              "var x = new MutationObserver(function (mutations, observer) {{\n",
              "        var display = window.getComputedStyle(gd).display;\n",
              "        if (!display || display === 'none') {{\n",
              "            console.log([gd, 'removed!']);\n",
              "            Plotly.purge(gd);\n",
              "            observer.disconnect();\n",
              "        }}\n",
              "}});\n",
              "\n",
              "// Listen for the removal of the full notebook cells\n",
              "var notebookContainer = gd.closest('#notebook-container');\n",
              "if (notebookContainer) {{\n",
              "    x.observe(notebookContainer, {childList: true});\n",
              "}}\n",
              "\n",
              "// Listen for the clearing of the current output cell\n",
              "var outputEl = gd.closest('.output');\n",
              "if (outputEl) {{\n",
              "    x.observe(outputEl, {childList: true});\n",
              "}}\n",
              "\n",
              "                        })\n",
              "                };\n",
              "                \n",
              "            </script>\n",
              "        </div>\n",
              "</body>\n",
              "</html>"
            ]
          },
          "metadata": {
            "tags": []
          }
        }
      ]
    },
    {
      "cell_type": "markdown",
      "metadata": {
        "id": "jUv0rKwaf6Hx"
      },
      "source": [
        "O gráfico acima mantém uma forma assimétrica positiva. Os valores mais frequentes estão bem mais perto do 0."
      ]
    },
    {
      "cell_type": "code",
      "metadata": {
        "colab": {
          "base_uri": "https://localhost:8080/",
          "height": 542
        },
        "id": "W4Bc-pBLFUIm",
        "outputId": "be637cbc-6fcb-42d8-c99d-deea8e746d4c"
      },
      "source": [
        "px.histogram(x = train_set['fetal_movement'], title  = 'Histograma da coluna : fetal_movement')\n"
      ],
      "execution_count": 70,
      "outputs": [
        {
          "output_type": "display_data",
          "data": {
            "text/html": [
              "<html>\n",
              "<head><meta charset=\"utf-8\" /></head>\n",
              "<body>\n",
              "    <div>\n",
              "            <script src=\"https://cdnjs.cloudflare.com/ajax/libs/mathjax/2.7.5/MathJax.js?config=TeX-AMS-MML_SVG\"></script><script type=\"text/javascript\">if (window.MathJax) {MathJax.Hub.Config({SVG: {font: \"STIX-Web\"}});}</script>\n",
              "                <script type=\"text/javascript\">window.PlotlyConfig = {MathJaxConfig: 'local'};</script>\n",
              "        <script src=\"https://cdn.plot.ly/plotly-latest.min.js\"></script>    \n",
              "            <div id=\"c88afda8-2ba8-46c7-9b3c-69175d76fc90\" class=\"plotly-graph-div\" style=\"height:525px; width:100%;\"></div>\n",
              "            <script type=\"text/javascript\">\n",
              "                \n",
              "                    window.PLOTLYENV=window.PLOTLYENV || {};\n",
              "                    \n",
              "                if (document.getElementById(\"c88afda8-2ba8-46c7-9b3c-69175d76fc90\")) {\n",
              "                    Plotly.newPlot(\n",
              "                        'c88afda8-2ba8-46c7-9b3c-69175d76fc90',\n",
              "                        [{\"alignmentgroup\": \"True\", \"bingroup\": \"x\", \"hoverlabel\": {\"namelength\": 0}, \"hovertemplate\": \"x=%{x}<br>count=%{y}\", \"legendgroup\": \"\", \"marker\": {\"color\": \"#636efa\"}, \"name\": \"\", \"offsetgroup\": \"\", \"orientation\": \"v\", \"showlegend\": false, \"type\": \"histogram\", \"x\": [0.0, 0.0, 0.0, 0.0, 0.006, 0.005, 0.0, 0.0, 0.0, 0.002, 0.001, 0.0, 0.024, 0.003, 0.0, 0.0, 0.0, 0.0, 0.0, 0.0, 0.0, 0.017, 0.0, 0.0, 0.037000000000000005, 0.0, 0.001, 0.0, 0.0, 0.222, 0.0, 0.0, 0.002, 0.0, 0.139, 0.0, 0.002, 0.019, 0.002, 0.0, 0.021, 0.0, 0.0, 0.0, 0.003, 0.0, 0.011000000000000001, 0.0, 0.0, 0.0, 0.0, 0.0, 0.0, 0.0, 0.003, 0.043, 0.0, 0.001, 0.0, 0.001, 0.001, 0.022000000000000002, 0.054000000000000006, 0.002, 0.0, 0.0, 0.005, 0.001, 0.0, 0.0, 0.049, 0.008, 0.005, 0.004, 0.027999999999999997, 0.021, 0.0, 0.0, 0.012, 0.0, 0.001, 0.0, 0.0, 0.0, 0.0, 0.013000000000000001, 0.0, 0.006, 0.0, 0.0, 0.004, 0.0, 0.0, 0.0, 0.0, 0.0, 0.0, 0.0, 0.001, 0.0, 0.0, 0.0, 0.0, 0.003, 0.002, 0.0, 0.0, 0.006999999999999999, 0.0, 0.0, 0.013999999999999999, 0.043, 0.0, 0.0, 0.0, 0.0, 0.0, 0.002, 0.0, 0.0, 0.0, 0.011000000000000001, 0.006, 0.0, 0.0, 0.0, 0.0, 0.0, 0.0, 0.003, 0.0, 0.0, 0.001, 0.0, 0.001, 0.001, 0.001, 0.0, 0.003, 0.0, 0.001, 0.0, 0.015, 0.0, 0.34600000000000003, 0.0, 0.0, 0.0, 0.0, 0.0, 0.0, 0.0, 0.0, 0.0, 0.0, 0.001, 0.0, 0.0, 0.001, 0.0, 0.0, 0.001, 0.0, 0.001, 0.002, 0.001, 0.0, 0.003, 0.0, 0.0, 0.006999999999999999, 0.0, 0.0, 0.001, 0.0, 0.0, 0.0, 0.0, 0.0, 0.0, 0.05, 0.0, 0.0, 0.0, 0.0, 0.001, 0.0, 0.0, 0.0, 0.0, 0.0, 0.115, 0.0, 0.002, 0.002, 0.0, 0.0, 0.0, 0.0, 0.002, 0.008, 0.0, 0.028999999999999998, 0.0, 0.0, 0.408, 0.001, 0.0, 0.0, 0.011000000000000001, 0.0, 0.0, 0.0, 0.0, 0.054000000000000006, 0.016, 0.0, 0.0, 0.04, 0.0, 0.38, 0.002, 0.005, 0.0, 0.0, 0.002, 0.0, 0.01, 0.001, 0.0, 0.001, 0.0, 0.0, 0.107, 0.446, 0.002, 0.0, 0.0, 0.0, 0.0, 0.0, 0.0, 0.0, 0.0, 0.001, 0.0, 0.0, 0.0, 0.0, 0.0, 0.0, 0.016, 0.002, 0.0, 0.001, 0.0, 0.0, 0.0, 0.001, 0.018000000000000002, 0.002, 0.006, 0.0, 0.0, 0.008, 0.0, 0.0, 0.049, 0.0, 0.051, 0.0, 0.0, 0.0, 0.006999999999999999, 0.02, 0.0, 0.0, 0.0, 0.0, 0.0, 0.001, 0.0, 0.0, 0.0, 0.0, 0.0, 0.0, 0.0, 0.0, 0.0, 0.0, 0.0, 0.0, 0.0, 0.0, 0.0, 0.0, 0.0, 0.425, 0.0, 0.0, 0.0, 0.026000000000000002, 0.0, 0.001, 0.0, 0.0, 0.013000000000000001, 0.003, 0.013999999999999999, 0.0, 0.016, 0.009000000000000001, 0.0, 0.0, 0.0, 0.0, 0.0, 0.0, 0.0, 0.001, 0.0, 0.335, 0.0, 0.038, 0.002, 0.0, 0.057999999999999996, 0.001, 0.0, 0.003, 0.0, 0.0, 0.0, 0.0, 0.0, 0.0, 0.0, 0.018000000000000002, 0.0, 0.0, 0.0, 0.001, 0.002, 0.005, 0.0, 0.0, 0.0, 0.0, 0.0, 0.019, 0.0, 0.001, 0.001, 0.0, 0.001, 0.0, 0.004, 0.02, 0.002, 0.0, 0.0, 0.004, 0.01, 0.048, 0.047, 0.0, 0.0, 0.0, 0.001, 0.0, 0.013999999999999999, 0.008, 0.0, 0.004, 0.0, 0.0, 0.0, 0.0, 0.0, 0.002, 0.004, 0.0, 0.0, 0.0, 0.0, 0.0, 0.0, 0.003, 0.235, 0.0, 0.0, 0.0, 0.0, 0.0, 0.003, 0.001, 0.33399999999999996, 0.0, 0.0, 0.0, 0.0, 0.001, 0.0, 0.0, 0.002, 0.0, 0.001, 0.0, 0.006999999999999999, 0.048, 0.052000000000000005, 0.0, 0.0, 0.013000000000000001, 0.003, 0.006, 0.0, 0.0, 0.0, 0.0, 0.006999999999999999, 0.004, 0.004, 0.0, 0.018000000000000002, 0.0, 0.0, 0.44299999999999995, 0.0, 0.0, 0.003, 0.001, 0.005, 0.009000000000000001, 0.0, 0.0, 0.0, 0.009000000000000001, 0.0, 0.008, 0.0, 0.004, 0.005, 0.001, 0.0, 0.028999999999999998, 0.006999999999999999, 0.0, 0.0, 0.0, 0.005, 0.006999999999999999, 0.0, 0.017, 0.0, 0.008, 0.0, 0.0, 0.017, 0.002, 0.0, 0.001, 0.009000000000000001, 0.002, 0.0, 0.001, 0.0, 0.0, 0.0, 0.0, 0.0, 0.0, 0.0, 0.0, 0.0, 0.0, 0.017, 0.0, 0.0, 0.003, 0.0, 0.002, 0.0, 0.004, 0.008, 0.008, 0.455, 0.0, 0.0, 0.001, 0.0, 0.0, 0.0, 0.32299999999999995, 0.0, 0.006, 0.0, 0.004, 0.0, 0.0, 0.084, 0.0, 0.0, 0.004, 0.0, 0.0, 0.006, 0.0, 0.004, 0.0, 0.0, 0.0, 0.016, 0.0, 0.0, 0.0, 0.006, 0.006999999999999999, 0.035, 0.003, 0.0, 0.0, 0.024, 0.0, 0.0, 0.0, 0.0, 0.408, 0.0, 0.0, 0.0, 0.0, 0.0, 0.002, 0.023, 0.0, 0.016, 0.0, 0.0, 0.0, 0.019, 0.0, 0.005, 0.001, 0.001, 0.0, 0.008, 0.009000000000000001, 0.0, 0.0, 0.003, 0.002, 0.0, 0.0, 0.002, 0.0, 0.003, 0.0, 0.054000000000000006, 0.009000000000000001, 0.004, 0.001, 0.0, 0.36, 0.0, 0.0, 0.0, 0.0, 0.0, 0.0, 0.002, 0.0, 0.001, 0.0, 0.091, 0.002, 0.0, 0.0, 0.003, 0.0, 0.0, 0.0, 0.006999999999999999, 0.0, 0.001, 0.004, 0.0, 0.003, 0.01, 0.0, 0.003, 0.013000000000000001, 0.0, 0.0, 0.0, 0.003, 0.006999999999999999, 0.008, 0.002, 0.0, 0.002, 0.0, 0.0, 0.0, 0.0, 0.040999999999999995, 0.0, 0.0, 0.008, 0.0, 0.0, 0.008, 0.0, 0.0, 0.0, 0.0, 0.0, 0.0, 0.002, 0.0, 0.0, 0.0, 0.0, 0.0, 0.0, 0.0, 0.0, 0.005, 0.0, 0.0, 0.0, 0.0, 0.0, 0.0, 0.004, 0.0, 0.0, 0.003, 0.0, 0.048, 0.003, 0.003, 0.003, 0.0, 0.0, 0.005, 0.0, 0.0, 0.0, 0.0, 0.003, 0.003, 0.0, 0.0, 0.005, 0.0, 0.0, 0.0, 0.012, 0.0, 0.0, 0.0, 0.0, 0.001, 0.001, 0.0, 0.0, 0.005, 0.0, 0.0, 0.0, 0.0, 0.027000000000000003, 0.0, 0.0, 0.001, 0.0, 0.0, 0.0, 0.011000000000000001, 0.0, 0.006999999999999999, 0.0, 0.0, 0.008, 0.157, 0.001, 0.005, 0.0, 0.0, 0.004, 0.0, 0.0, 0.0, 0.035, 0.002, 0.0, 0.0, 0.002, 0.0, 0.0, 0.0, 0.0, 0.0, 0.0, 0.0, 0.0, 0.001, 0.0, 0.0, 0.001, 0.0, 0.002, 0.0, 0.0, 0.0, 0.369, 0.0, 0.0, 0.0, 0.0, 0.006, 0.0, 0.0, 0.003, 0.0, 0.099, 0.0, 0.002, 0.0, 0.003, 0.0, 0.0, 0.003, 0.0, 0.0, 0.001, 0.0, 0.0, 0.0, 0.003, 0.01, 0.0, 0.021, 0.0, 0.004, 0.0, 0.001, 0.0, 0.0, 0.0, 0.0, 0.0, 0.0, 0.001, 0.0, 0.0, 0.0, 0.0, 0.0, 0.009000000000000001, 0.0, 0.0, 0.0, 0.002, 0.0, 0.0, 0.0, 0.0, 0.0, 0.0, 0.002, 0.0, 0.0, 0.002, 0.002, 0.0, 0.0, 0.0, 0.001, 0.0, 0.0, 0.0, 0.0, 0.0, 0.0, 0.0, 0.0, 0.0, 0.0, 0.005, 0.0, 0.0, 0.008, 0.0, 0.001, 0.0, 0.01, 0.002, 0.005, 0.0, 0.006, 0.0, 0.0, 0.0, 0.0, 0.0, 0.01, 0.0, 0.009000000000000001, 0.0, 0.003, 0.006, 0.003, 0.0, 0.009000000000000001, 0.18899999999999997, 0.0, 0.0, 0.001, 0.0, 0.002, 0.005, 0.0, 0.0, 0.0, 0.012, 0.0, 0.0, 0.0, 0.001, 0.0, 0.0, 0.02, 0.0, 0.0, 0.002, 0.0, 0.0, 0.0, 0.0, 0.0, 0.0, 0.0, 0.013999999999999999, 0.0, 0.0, 0.002, 0.057999999999999996, 0.0, 0.0, 0.0, 0.002, 0.004, 0.0, 0.0, 0.0, 0.001, 0.0, 0.0, 0.0, 0.0, 0.006, 0.0, 0.0, 0.02, 0.0, 0.0, 0.003, 0.001, 0.003, 0.031, 0.05, 0.004, 0.0, 0.0, 0.001, 0.0, 0.0, 0.0, 0.0, 0.0, 0.0, 0.0, 0.016, 0.001, 0.002, 0.0, 0.012, 0.002, 0.0, 0.001, 0.003, 0.0, 0.0, 0.0, 0.019, 0.001, 0.01, 0.002, 0.017, 0.0, 0.0, 0.0, 0.0, 0.0, 0.02, 0.0, 0.032, 0.006999999999999999, 0.0, 0.015, 0.001, 0.0, 0.005, 0.0, 0.0, 0.0, 0.0, 0.0, 0.004, 0.001, 0.0, 0.0, 0.0, 0.0, 0.451, 0.0, 0.01, 0.0, 0.0, 0.002, 0.006, 0.0, 0.0, 0.009000000000000001, 0.0, 0.0, 0.002, 0.025, 0.0, 0.0, 0.0, 0.0, 0.008, 0.006999999999999999, 0.004, 0.0, 0.0, 0.34600000000000003, 0.0, 0.013000000000000001, 0.0, 0.0, 0.017, 0.001, 0.019, 0.0, 0.01, 0.0, 0.015, 0.002, 0.004, 0.0, 0.003, 0.0, 0.0, 0.47, 0.0, 0.01, 0.0, 0.011000000000000001, 0.004, 0.0, 0.0, 0.005, 0.0, 0.003, 0.0, 0.0, 0.0, 0.0, 0.0, 0.003, 0.0, 0.002, 0.008, 0.0, 0.0, 0.0, 0.001, 0.01, 0.003, 0.0, 0.002, 0.0, 0.0, 0.0, 0.0, 0.0, 0.0, 0.0, 0.006999999999999999, 0.002, 0.469, 0.001, 0.0, 0.0, 0.005, 0.006, 0.001, 0.004, 0.0, 0.08800000000000001, 0.084, 0.008, 0.0, 0.0, 0.053, 0.47700000000000004, 0.0, 0.0, 0.0, 0.02, 0.0, 0.0, 0.003, 0.001, 0.001, 0.0, 0.0, 0.0, 0.003, 0.0, 0.0, 0.0, 0.0, 0.0, 0.005, 0.001, 0.002, 0.0, 0.0, 0.0, 0.0, 0.0, 0.0, 0.004, 0.001, 0.001, 0.001, 0.0, 0.052000000000000005, 0.01, 0.001, 0.045, 0.0, 0.0, 0.0, 0.0, 0.0, 0.005, 0.001, 0.003, 0.0, 0.0, 0.0, 0.004, 0.0, 0.017, 0.003, 0.015, 0.0, 0.0, 0.0, 0.0, 0.0, 0.0, 0.0, 0.001, 0.0, 0.001, 0.0, 0.005, 0.0, 0.002, 0.0, 0.0, 0.0, 0.003, 0.0, 0.0, 0.004, 0.0, 0.009000000000000001, 0.0, 0.0, 0.0, 0.0, 0.0, 0.0, 0.016, 0.0, 0.0, 0.0, 0.0, 0.006, 0.04, 0.071, 0.0, 0.0, 0.0, 0.0, 0.0, 0.003, 0.0, 0.0, 0.003, 0.0, 0.001, 0.03, 0.0, 0.0, 0.005, 0.002, 0.0, 0.001, 0.0, 0.0, 0.0, 0.0, 0.0, 0.0, 0.0, 0.135, 0.0, 0.055, 0.0, 0.0, 0.0, 0.0, 0.0, 0.0, 0.0, 0.001, 0.003, 0.013999999999999999, 0.0, 0.0, 0.0, 0.0, 0.0, 0.0, 0.0, 0.006999999999999999, 0.0, 0.0, 0.006, 0.0, 0.002, 0.0, 0.0, 0.009000000000000001, 0.004, 0.0, 0.0, 0.0, 0.0, 0.001, 0.0, 0.006, 0.0, 0.005, 0.002, 0.0, 0.003, 0.0, 0.0, 0.0, 0.0, 0.0, 0.0, 0.0, 0.0, 0.002, 0.0, 0.001, 0.0, 0.0, 0.0, 0.0, 0.01, 0.006999999999999999, 0.002, 0.0, 0.004, 0.036000000000000004, 0.0, 0.0, 0.0, 0.0, 0.05, 0.0, 0.0, 0.109, 0.0, 0.0, 0.0, 0.016, 0.0, 0.0, 0.0, 0.0, 0.0, 0.0, 0.0, 0.0, 0.0, 0.0, 0.0, 0.0, 0.006, 0.001, 0.0, 0.0, 0.012, 0.002, 0.0, 0.0, 0.0, 0.375, 0.013000000000000001, 0.0, 0.006999999999999999, 0.009000000000000001, 0.026000000000000002, 0.0, 0.002, 0.006, 0.0, 0.0, 0.0, 0.013000000000000001, 0.0, 0.0, 0.0, 0.0, 0.0, 0.0, 0.0, 0.0, 0.0, 0.009000000000000001, 0.0, 0.0, 0.009000000000000001, 0.001, 0.0, 0.0, 0.063, 0.005, 0.001, 0.0, 0.0, 0.0, 0.0, 0.0, 0.0, 0.003, 0.0, 0.0, 0.004, 0.006999999999999999, 0.0, 0.07200000000000001, 0.0, 0.298, 0.013999999999999999, 0.0, 0.002, 0.0, 0.0, 0.001, 0.01, 0.0, 0.011000000000000001, 0.0, 0.0, 0.0, 0.0, 0.0, 0.0, 0.34, 0.0, 0.0, 0.004, 0.0, 0.0, 0.013999999999999999, 0.0, 0.0, 0.009000000000000001, 0.006, 0.0, 0.0, 0.0, 0.0, 0.0, 0.006999999999999999, 0.0, 0.0, 0.0, 0.0, 0.0, 0.0, 0.001, 0.004, 0.001, 0.013000000000000001, 0.0, 0.006999999999999999, 0.001, 0.0, 0.0, 0.0, 0.0, 0.0, 0.0, 0.002, 0.0, 0.0, 0.0, 0.024, 0.0, 0.0, 0.0, 0.0, 0.001, 0.0, 0.0, 0.027999999999999997, 0.0, 0.0, 0.001, 0.0, 0.022000000000000002, 0.0, 0.0, 0.0, 0.001, 0.0, 0.0, 0.0, 0.0, 0.0, 0.008, 0.0, 0.002, 0.006, 0.0, 0.0, 0.03, 0.002, 0.003, 0.0, 0.015, 0.0, 0.006, 0.027000000000000003, 0.0, 0.0, 0.0, 0.0, 0.0, 0.0, 0.0, 0.025, 0.057999999999999996, 0.001, 0.0, 0.001, 0.004, 0.0, 0.0, 0.006, 0.0, 0.002, 0.01, 0.003, 0.0, 0.0, 0.0, 0.006999999999999999, 0.0, 0.006, 0.005, 0.0, 0.02, 0.0, 0.0, 0.0, 0.013000000000000001, 0.0, 0.0, 0.0, 0.0, 0.0, 0.004, 0.0, 0.003, 0.0, 0.005, 0.002, 0.01, 0.04, 0.003, 0.003, 0.0, 0.0, 0.015, 0.0, 0.0, 0.0, 0.0, 0.01, 0.0, 0.003, 0.0, 0.0, 0.0, 0.005, 0.0, 0.0, 0.026000000000000002, 0.0, 0.0, 0.0, 0.028999999999999998, 0.0, 0.0, 0.019, 0.035, 0.0, 0.0, 0.0, 0.0, 0.008, 0.0, 0.0, 0.001, 0.013000000000000001, 0.0, 0.0, 0.0, 0.0, 0.001, 0.0, 0.0, 0.0, 0.0, 0.0, 0.003, 0.043, 0.0, 0.0, 0.0, 0.0, 0.0, 0.0, 0.0, 0.01, 0.0, 0.002, 0.048, 0.0, 0.001, 0.013000000000000001, 0.0, 0.018000000000000002, 0.0, 0.0, 0.0, 0.003, 0.353, 0.0, 0.001, 0.0, 0.0, 0.008, 0.0, 0.013999999999999999, 0.0, 0.0, 0.0, 0.0, 0.003, 0.0, 0.0, 0.011000000000000001, 0.08900000000000001, 0.001, 0.001, 0.002, 0.0, 0.0, 0.0, 0.0, 0.0, 0.0, 0.0, 0.001, 0.027999999999999997, 0.009000000000000001, 0.002, 0.0, 0.004, 0.002, 0.0, 0.0, 0.0, 0.0, 0.009000000000000001, 0.05, 0.003, 0.0, 0.0, 0.001, 0.005, 0.0, 0.0, 0.0, 0.0, 0.011000000000000001, 0.0, 0.0, 0.001, 0.001, 0.0, 0.003, 0.0, 0.0, 0.0, 0.0, 0.033, 0.0, 0.0, 0.0, 0.006999999999999999, 0.013000000000000001, 0.001, 0.006, 0.003, 0.019, 0.0, 0.003, 0.0, 0.0, 0.0, 0.002, 0.002, 0.01, 0.001, 0.0, 0.0, 0.0, 0.012, 0.0, 0.003, 0.0, 0.0, 0.0, 0.0, 0.001, 0.001, 0.0, 0.0, 0.02, 0.0, 0.0, 0.0, 0.001, 0.002, 0.0, 0.0, 0.002, 0.0, 0.001, 0.0, 0.004, 0.003, 0.0, 0.012, 0.003], \"xaxis\": \"x\", \"yaxis\": \"y\"}],\n",
              "                        {\"barmode\": \"relative\", \"legend\": {\"tracegroupgap\": 0}, \"template\": {\"data\": {\"bar\": [{\"error_x\": {\"color\": \"#2a3f5f\"}, \"error_y\": {\"color\": \"#2a3f5f\"}, \"marker\": {\"line\": {\"color\": \"#E5ECF6\", \"width\": 0.5}}, \"type\": \"bar\"}], \"barpolar\": [{\"marker\": {\"line\": {\"color\": \"#E5ECF6\", \"width\": 0.5}}, \"type\": \"barpolar\"}], \"carpet\": [{\"aaxis\": {\"endlinecolor\": \"#2a3f5f\", \"gridcolor\": \"white\", \"linecolor\": \"white\", \"minorgridcolor\": \"white\", \"startlinecolor\": \"#2a3f5f\"}, \"baxis\": {\"endlinecolor\": \"#2a3f5f\", \"gridcolor\": \"white\", \"linecolor\": \"white\", \"minorgridcolor\": \"white\", \"startlinecolor\": \"#2a3f5f\"}, \"type\": \"carpet\"}], \"choropleth\": [{\"colorbar\": {\"outlinewidth\": 0, \"ticks\": \"\"}, \"type\": \"choropleth\"}], \"contour\": [{\"colorbar\": {\"outlinewidth\": 0, \"ticks\": \"\"}, \"colorscale\": [[0.0, \"#0d0887\"], [0.1111111111111111, \"#46039f\"], [0.2222222222222222, \"#7201a8\"], [0.3333333333333333, \"#9c179e\"], [0.4444444444444444, \"#bd3786\"], [0.5555555555555556, \"#d8576b\"], [0.6666666666666666, \"#ed7953\"], [0.7777777777777778, \"#fb9f3a\"], [0.8888888888888888, \"#fdca26\"], [1.0, \"#f0f921\"]], \"type\": \"contour\"}], \"contourcarpet\": [{\"colorbar\": {\"outlinewidth\": 0, \"ticks\": \"\"}, \"type\": \"contourcarpet\"}], \"heatmap\": [{\"colorbar\": {\"outlinewidth\": 0, \"ticks\": \"\"}, \"colorscale\": [[0.0, \"#0d0887\"], [0.1111111111111111, \"#46039f\"], [0.2222222222222222, \"#7201a8\"], [0.3333333333333333, \"#9c179e\"], [0.4444444444444444, \"#bd3786\"], [0.5555555555555556, \"#d8576b\"], [0.6666666666666666, \"#ed7953\"], [0.7777777777777778, \"#fb9f3a\"], [0.8888888888888888, \"#fdca26\"], [1.0, \"#f0f921\"]], \"type\": \"heatmap\"}], \"heatmapgl\": [{\"colorbar\": {\"outlinewidth\": 0, \"ticks\": \"\"}, \"colorscale\": [[0.0, \"#0d0887\"], [0.1111111111111111, \"#46039f\"], [0.2222222222222222, \"#7201a8\"], [0.3333333333333333, \"#9c179e\"], [0.4444444444444444, \"#bd3786\"], [0.5555555555555556, \"#d8576b\"], [0.6666666666666666, \"#ed7953\"], [0.7777777777777778, \"#fb9f3a\"], [0.8888888888888888, \"#fdca26\"], [1.0, \"#f0f921\"]], \"type\": \"heatmapgl\"}], \"histogram\": [{\"marker\": {\"colorbar\": {\"outlinewidth\": 0, \"ticks\": \"\"}}, \"type\": \"histogram\"}], \"histogram2d\": [{\"colorbar\": {\"outlinewidth\": 0, \"ticks\": \"\"}, \"colorscale\": [[0.0, \"#0d0887\"], [0.1111111111111111, \"#46039f\"], [0.2222222222222222, \"#7201a8\"], [0.3333333333333333, \"#9c179e\"], [0.4444444444444444, \"#bd3786\"], [0.5555555555555556, \"#d8576b\"], [0.6666666666666666, \"#ed7953\"], [0.7777777777777778, \"#fb9f3a\"], [0.8888888888888888, \"#fdca26\"], [1.0, \"#f0f921\"]], \"type\": \"histogram2d\"}], \"histogram2dcontour\": [{\"colorbar\": {\"outlinewidth\": 0, \"ticks\": \"\"}, \"colorscale\": [[0.0, \"#0d0887\"], [0.1111111111111111, \"#46039f\"], [0.2222222222222222, \"#7201a8\"], [0.3333333333333333, \"#9c179e\"], [0.4444444444444444, \"#bd3786\"], [0.5555555555555556, \"#d8576b\"], [0.6666666666666666, \"#ed7953\"], [0.7777777777777778, \"#fb9f3a\"], [0.8888888888888888, \"#fdca26\"], [1.0, \"#f0f921\"]], \"type\": \"histogram2dcontour\"}], \"mesh3d\": [{\"colorbar\": {\"outlinewidth\": 0, \"ticks\": \"\"}, \"type\": \"mesh3d\"}], \"parcoords\": [{\"line\": {\"colorbar\": {\"outlinewidth\": 0, \"ticks\": \"\"}}, \"type\": \"parcoords\"}], \"pie\": [{\"automargin\": true, \"type\": \"pie\"}], \"scatter\": [{\"marker\": {\"colorbar\": {\"outlinewidth\": 0, \"ticks\": \"\"}}, \"type\": \"scatter\"}], \"scatter3d\": [{\"line\": {\"colorbar\": {\"outlinewidth\": 0, \"ticks\": \"\"}}, \"marker\": {\"colorbar\": {\"outlinewidth\": 0, \"ticks\": \"\"}}, \"type\": \"scatter3d\"}], \"scattercarpet\": [{\"marker\": {\"colorbar\": {\"outlinewidth\": 0, \"ticks\": \"\"}}, \"type\": \"scattercarpet\"}], \"scattergeo\": [{\"marker\": {\"colorbar\": {\"outlinewidth\": 0, \"ticks\": \"\"}}, \"type\": \"scattergeo\"}], \"scattergl\": [{\"marker\": {\"colorbar\": {\"outlinewidth\": 0, \"ticks\": \"\"}}, \"type\": \"scattergl\"}], \"scattermapbox\": [{\"marker\": {\"colorbar\": {\"outlinewidth\": 0, \"ticks\": \"\"}}, \"type\": \"scattermapbox\"}], \"scatterpolar\": [{\"marker\": {\"colorbar\": {\"outlinewidth\": 0, \"ticks\": \"\"}}, \"type\": \"scatterpolar\"}], \"scatterpolargl\": [{\"marker\": {\"colorbar\": {\"outlinewidth\": 0, \"ticks\": \"\"}}, \"type\": \"scatterpolargl\"}], \"scatterternary\": [{\"marker\": {\"colorbar\": {\"outlinewidth\": 0, \"ticks\": \"\"}}, \"type\": \"scatterternary\"}], \"surface\": [{\"colorbar\": {\"outlinewidth\": 0, \"ticks\": \"\"}, \"colorscale\": [[0.0, \"#0d0887\"], [0.1111111111111111, \"#46039f\"], [0.2222222222222222, \"#7201a8\"], [0.3333333333333333, \"#9c179e\"], [0.4444444444444444, \"#bd3786\"], [0.5555555555555556, \"#d8576b\"], [0.6666666666666666, \"#ed7953\"], [0.7777777777777778, \"#fb9f3a\"], [0.8888888888888888, \"#fdca26\"], [1.0, \"#f0f921\"]], \"type\": \"surface\"}], \"table\": [{\"cells\": {\"fill\": {\"color\": \"#EBF0F8\"}, \"line\": {\"color\": \"white\"}}, \"header\": {\"fill\": {\"color\": \"#C8D4E3\"}, \"line\": {\"color\": \"white\"}}, \"type\": \"table\"}]}, \"layout\": {\"annotationdefaults\": {\"arrowcolor\": \"#2a3f5f\", \"arrowhead\": 0, \"arrowwidth\": 1}, \"coloraxis\": {\"colorbar\": {\"outlinewidth\": 0, \"ticks\": \"\"}}, \"colorscale\": {\"diverging\": [[0, \"#8e0152\"], [0.1, \"#c51b7d\"], [0.2, \"#de77ae\"], [0.3, \"#f1b6da\"], [0.4, \"#fde0ef\"], [0.5, \"#f7f7f7\"], [0.6, \"#e6f5d0\"], [0.7, \"#b8e186\"], [0.8, \"#7fbc41\"], [0.9, \"#4d9221\"], [1, \"#276419\"]], \"sequential\": [[0.0, \"#0d0887\"], [0.1111111111111111, \"#46039f\"], [0.2222222222222222, \"#7201a8\"], [0.3333333333333333, \"#9c179e\"], [0.4444444444444444, \"#bd3786\"], [0.5555555555555556, \"#d8576b\"], [0.6666666666666666, \"#ed7953\"], [0.7777777777777778, \"#fb9f3a\"], [0.8888888888888888, \"#fdca26\"], [1.0, \"#f0f921\"]], \"sequentialminus\": [[0.0, \"#0d0887\"], [0.1111111111111111, \"#46039f\"], [0.2222222222222222, \"#7201a8\"], [0.3333333333333333, \"#9c179e\"], [0.4444444444444444, \"#bd3786\"], [0.5555555555555556, \"#d8576b\"], [0.6666666666666666, \"#ed7953\"], [0.7777777777777778, \"#fb9f3a\"], [0.8888888888888888, \"#fdca26\"], [1.0, \"#f0f921\"]]}, \"colorway\": [\"#636efa\", \"#EF553B\", \"#00cc96\", \"#ab63fa\", \"#FFA15A\", \"#19d3f3\", \"#FF6692\", \"#B6E880\", \"#FF97FF\", \"#FECB52\"], \"font\": {\"color\": \"#2a3f5f\"}, \"geo\": {\"bgcolor\": \"white\", \"lakecolor\": \"white\", \"landcolor\": \"#E5ECF6\", \"showlakes\": true, \"showland\": true, \"subunitcolor\": \"white\"}, \"hoverlabel\": {\"align\": \"left\"}, \"hovermode\": \"closest\", \"mapbox\": {\"style\": \"light\"}, \"paper_bgcolor\": \"white\", \"plot_bgcolor\": \"#E5ECF6\", \"polar\": {\"angularaxis\": {\"gridcolor\": \"white\", \"linecolor\": \"white\", \"ticks\": \"\"}, \"bgcolor\": \"#E5ECF6\", \"radialaxis\": {\"gridcolor\": \"white\", \"linecolor\": \"white\", \"ticks\": \"\"}}, \"scene\": {\"xaxis\": {\"backgroundcolor\": \"#E5ECF6\", \"gridcolor\": \"white\", \"gridwidth\": 2, \"linecolor\": \"white\", \"showbackground\": true, \"ticks\": \"\", \"zerolinecolor\": \"white\"}, \"yaxis\": {\"backgroundcolor\": \"#E5ECF6\", \"gridcolor\": \"white\", \"gridwidth\": 2, \"linecolor\": \"white\", \"showbackground\": true, \"ticks\": \"\", \"zerolinecolor\": \"white\"}, \"zaxis\": {\"backgroundcolor\": \"#E5ECF6\", \"gridcolor\": \"white\", \"gridwidth\": 2, \"linecolor\": \"white\", \"showbackground\": true, \"ticks\": \"\", \"zerolinecolor\": \"white\"}}, \"shapedefaults\": {\"line\": {\"color\": \"#2a3f5f\"}}, \"ternary\": {\"aaxis\": {\"gridcolor\": \"white\", \"linecolor\": \"white\", \"ticks\": \"\"}, \"baxis\": {\"gridcolor\": \"white\", \"linecolor\": \"white\", \"ticks\": \"\"}, \"bgcolor\": \"#E5ECF6\", \"caxis\": {\"gridcolor\": \"white\", \"linecolor\": \"white\", \"ticks\": \"\"}}, \"title\": {\"x\": 0.05}, \"xaxis\": {\"automargin\": true, \"gridcolor\": \"white\", \"linecolor\": \"white\", \"ticks\": \"\", \"title\": {\"standoff\": 15}, \"zerolinecolor\": \"white\", \"zerolinewidth\": 2}, \"yaxis\": {\"automargin\": true, \"gridcolor\": \"white\", \"linecolor\": \"white\", \"ticks\": \"\", \"title\": {\"standoff\": 15}, \"zerolinecolor\": \"white\", \"zerolinewidth\": 2}}}, \"title\": {\"text\": \"Histograma da coluna : fetal_movement\"}, \"xaxis\": {\"anchor\": \"y\", \"domain\": [0.0, 1.0], \"title\": {\"text\": \"x\"}}, \"yaxis\": {\"anchor\": \"x\", \"domain\": [0.0, 1.0], \"title\": {\"text\": \"count\"}}},\n",
              "                        {\"responsive\": true}\n",
              "                    ).then(function(){\n",
              "                            \n",
              "var gd = document.getElementById('c88afda8-2ba8-46c7-9b3c-69175d76fc90');\n",
              "var x = new MutationObserver(function (mutations, observer) {{\n",
              "        var display = window.getComputedStyle(gd).display;\n",
              "        if (!display || display === 'none') {{\n",
              "            console.log([gd, 'removed!']);\n",
              "            Plotly.purge(gd);\n",
              "            observer.disconnect();\n",
              "        }}\n",
              "}});\n",
              "\n",
              "// Listen for the removal of the full notebook cells\n",
              "var notebookContainer = gd.closest('#notebook-container');\n",
              "if (notebookContainer) {{\n",
              "    x.observe(notebookContainer, {childList: true});\n",
              "}}\n",
              "\n",
              "// Listen for the clearing of the current output cell\n",
              "var outputEl = gd.closest('.output');\n",
              "if (outputEl) {{\n",
              "    x.observe(outputEl, {childList: true});\n",
              "}}\n",
              "\n",
              "                        })\n",
              "                };\n",
              "                \n",
              "            </script>\n",
              "        </div>\n",
              "</body>\n",
              "</html>"
            ]
          },
          "metadata": {
            "tags": []
          }
        }
      ]
    },
    {
      "cell_type": "markdown",
      "metadata": {
        "id": "me4kyOLAgEwX"
      },
      "source": [
        "O padrão de assimetria positiva permanece para a  coluna acima. Observe que ela possui alguns outliers."
      ]
    },
    {
      "cell_type": "code",
      "metadata": {
        "colab": {
          "base_uri": "https://localhost:8080/",
          "height": 542
        },
        "id": "ns1jc3-VFY9L",
        "outputId": "08d2152e-5623-4e04-89ff-6845651ceb48"
      },
      "source": [
        "px.histogram(x =train_set['uterine_contractions'], title  = 'Histograma da coluna : uterine contractions')"
      ],
      "execution_count": 71,
      "outputs": [
        {
          "output_type": "display_data",
          "data": {
            "text/html": [
              "<html>\n",
              "<head><meta charset=\"utf-8\" /></head>\n",
              "<body>\n",
              "    <div>\n",
              "            <script src=\"https://cdnjs.cloudflare.com/ajax/libs/mathjax/2.7.5/MathJax.js?config=TeX-AMS-MML_SVG\"></script><script type=\"text/javascript\">if (window.MathJax) {MathJax.Hub.Config({SVG: {font: \"STIX-Web\"}});}</script>\n",
              "                <script type=\"text/javascript\">window.PlotlyConfig = {MathJaxConfig: 'local'};</script>\n",
              "        <script src=\"https://cdn.plot.ly/plotly-latest.min.js\"></script>    \n",
              "            <div id=\"07f7c464-f4cb-4c1d-986e-495239f2d357\" class=\"plotly-graph-div\" style=\"height:525px; width:100%;\"></div>\n",
              "            <script type=\"text/javascript\">\n",
              "                \n",
              "                    window.PLOTLYENV=window.PLOTLYENV || {};\n",
              "                    \n",
              "                if (document.getElementById(\"07f7c464-f4cb-4c1d-986e-495239f2d357\")) {\n",
              "                    Plotly.newPlot(\n",
              "                        '07f7c464-f4cb-4c1d-986e-495239f2d357',\n",
              "                        [{\"alignmentgroup\": \"True\", \"bingroup\": \"x\", \"hoverlabel\": {\"namelength\": 0}, \"hovertemplate\": \"x=%{x}<br>count=%{y}\", \"legendgroup\": \"\", \"marker\": {\"color\": \"#636efa\"}, \"name\": \"\", \"offsetgroup\": \"\", \"orientation\": \"v\", \"showlegend\": false, \"type\": \"histogram\", \"x\": [0.005, 0.006999999999999999, 0.009000000000000001, 0.001, 0.003, 0.006, 0.004, 0.0, 0.0, 0.005, 0.006, 0.006, 0.002, 0.004, 0.006999999999999999, 0.008, 0.006, 0.005, 0.005, 0.001, 0.002, 0.0, 0.005, 0.006, 0.003, 0.0, 0.008, 0.004, 0.006999999999999999, 0.006, 0.006, 0.001, 0.004, 0.008, 0.006999999999999999, 0.005, 0.0, 0.002, 0.01, 0.0, 0.0, 0.008, 0.002, 0.002, 0.006, 0.005, 0.003, 0.008, 0.006999999999999999, 0.001, 0.006, 0.004, 0.012, 0.01, 0.0, 0.003, 0.011000000000000001, 0.0, 0.001, 0.001, 0.006, 0.0, 0.003, 0.0, 0.001, 0.009000000000000001, 0.006, 0.004, 0.005, 0.004, 0.002, 0.001, 0.008, 0.006, 0.004, 0.0, 0.009000000000000001, 0.004, 0.002, 0.006999999999999999, 0.0, 0.006999999999999999, 0.004, 0.005, 0.008, 0.004, 0.006, 0.003, 0.005, 0.004, 0.008, 0.006999999999999999, 0.008, 0.006, 0.005, 0.005, 0.006999999999999999, 0.002, 0.003, 0.006999999999999999, 0.004, 0.009000000000000001, 0.01, 0.002, 0.006, 0.005, 0.0, 0.004, 0.006999999999999999, 0.006999999999999999, 0.004, 0.008, 0.005, 0.006, 0.004, 0.002, 0.0, 0.004, 0.004, 0.006999999999999999, 0.005, 0.005, 0.0, 0.0, 0.003, 0.011000000000000001, 0.005, 0.008, 0.005, 0.005, 0.005, 0.0, 0.006, 0.004, 0.003, 0.008, 0.01, 0.006999999999999999, 0.001, 0.003, 0.004, 0.006999999999999999, 0.001, 0.006999999999999999, 0.003, 0.004, 0.001, 0.005, 0.006999999999999999, 0.001, 0.009000000000000001, 0.006999999999999999, 0.0, 0.004, 0.005, 0.006999999999999999, 0.002, 0.003, 0.0, 0.008, 0.003, 0.005, 0.005, 0.003, 0.006999999999999999, 0.0, 0.006, 0.0, 0.004, 0.002, 0.001, 0.006, 0.005, 0.009000000000000001, 0.011000000000000001, 0.001, 0.001, 0.006999999999999999, 0.006, 0.006, 0.002, 0.01, 0.006, 0.005, 0.003, 0.012, 0.008, 0.005, 0.0, 0.01, 0.006, 0.0, 0.005, 0.0, 0.005, 0.008, 0.003, 0.004, 0.004, 0.004, 0.006999999999999999, 0.0, 0.003, 0.0, 0.003, 0.004, 0.006999999999999999, 0.005, 0.004, 0.0, 0.005, 0.006, 0.004, 0.006999999999999999, 0.005, 0.0, 0.0, 0.008, 0.001, 0.006, 0.004, 0.008, 0.0, 0.01, 0.004, 0.003, 0.003, 0.002, 0.009000000000000001, 0.01, 0.003, 0.005, 0.001, 0.0, 0.006, 0.002, 0.003, 0.002, 0.01, 0.002, 0.0, 0.0, 0.006999999999999999, 0.005, 0.008, 0.006999999999999999, 0.01, 0.006999999999999999, 0.009000000000000001, 0.008, 0.0, 0.003, 0.006, 0.001, 0.005, 0.0, 0.003, 0.006999999999999999, 0.006999999999999999, 0.003, 0.008, 0.004, 0.006, 0.006, 0.002, 0.006, 0.006, 0.001, 0.006, 0.004, 0.006, 0.008, 0.002, 0.0, 0.001, 0.0, 0.006999999999999999, 0.005, 0.0, 0.005, 0.006, 0.001, 0.003, 0.006, 0.006999999999999999, 0.002, 0.002, 0.006, 0.005, 0.002, 0.008, 0.008, 0.0, 0.006999999999999999, 0.005, 0.006, 0.0, 0.004, 0.003, 0.0, 0.008, 0.006999999999999999, 0.001, 0.004, 0.008, 0.006, 0.006, 0.002, 0.0, 0.003, 0.004, 0.0, 0.006, 0.006999999999999999, 0.006, 0.003, 0.008, 0.013000000000000001, 0.004, 0.001, 0.002, 0.005, 0.003, 0.006, 0.005, 0.008, 0.006, 0.006999999999999999, 0.004, 0.005, 0.0, 0.009000000000000001, 0.0, 0.006, 0.004, 0.0, 0.006999999999999999, 0.011000000000000001, 0.0, 0.005, 0.005, 0.008, 0.006, 0.002, 0.001, 0.0, 0.003, 0.002, 0.006, 0.006999999999999999, 0.003, 0.006, 0.005, 0.005, 0.009000000000000001, 0.001, 0.0, 0.006999999999999999, 0.005, 0.002, 0.005, 0.005, 0.002, 0.005, 0.003, 0.009000000000000001, 0.003, 0.004, 0.01, 0.006999999999999999, 0.002, 0.006, 0.0, 0.0, 0.004, 0.006999999999999999, 0.003, 0.003, 0.005, 0.011000000000000001, 0.001, 0.004, 0.001, 0.0, 0.006, 0.005, 0.006, 0.004, 0.0, 0.006999999999999999, 0.003, 0.0, 0.003, 0.005, 0.005, 0.006, 0.006, 0.003, 0.0, 0.002, 0.003, 0.003, 0.001, 0.0, 0.008, 0.006999999999999999, 0.003, 0.0, 0.006999999999999999, 0.002, 0.004, 0.001, 0.006999999999999999, 0.003, 0.004, 0.001, 0.003, 0.003, 0.009000000000000001, 0.008, 0.003, 0.005, 0.006, 0.01, 0.005, 0.008, 0.004, 0.005, 0.005, 0.0, 0.004, 0.0, 0.005, 0.0, 0.0, 0.006999999999999999, 0.008, 0.001, 0.002, 0.005, 0.004, 0.006999999999999999, 0.0, 0.0, 0.006, 0.006999999999999999, 0.003, 0.002, 0.009000000000000001, 0.006, 0.001, 0.0, 0.006999999999999999, 0.006999999999999999, 0.0, 0.006, 0.005, 0.002, 0.006999999999999999, 0.005, 0.006999999999999999, 0.003, 0.004, 0.006999999999999999, 0.002, 0.003, 0.004, 0.006999999999999999, 0.006999999999999999, 0.0, 0.001, 0.002, 0.005, 0.005, 0.006999999999999999, 0.004, 0.008, 0.009000000000000001, 0.009000000000000001, 0.004, 0.0, 0.002, 0.0, 0.0, 0.0, 0.005, 0.002, 0.003, 0.004, 0.006, 0.006, 0.004, 0.006, 0.003, 0.002, 0.009000000000000001, 0.0, 0.006999999999999999, 0.002, 0.01, 0.012, 0.002, 0.0, 0.005, 0.004, 0.006999999999999999, 0.005, 0.009000000000000001, 0.001, 0.003, 0.0, 0.002, 0.003, 0.0, 0.004, 0.006999999999999999, 0.004, 0.006, 0.004, 0.005, 0.005, 0.009000000000000001, 0.004, 0.0, 0.005, 0.01, 0.006, 0.004, 0.004, 0.0, 0.006999999999999999, 0.009000000000000001, 0.009000000000000001, 0.006999999999999999, 0.002, 0.002, 0.004, 0.0, 0.005, 0.009000000000000001, 0.0, 0.002, 0.006999999999999999, 0.003, 0.006, 0.0, 0.004, 0.003, 0.001, 0.005, 0.0, 0.0, 0.004, 0.006999999999999999, 0.006999999999999999, 0.0, 0.003, 0.005, 0.006999999999999999, 0.002, 0.005, 0.008, 0.0, 0.003, 0.004, 0.006, 0.008, 0.006, 0.006999999999999999, 0.006, 0.01, 0.002, 0.005, 0.008, 0.006, 0.002, 0.005, 0.006, 0.005, 0.003, 0.008, 0.005, 0.006999999999999999, 0.0, 0.002, 0.008, 0.0, 0.004, 0.001, 0.005, 0.008, 0.006, 0.0, 0.005, 0.002, 0.003, 0.0, 0.005, 0.004, 0.006, 0.004, 0.006999999999999999, 0.006999999999999999, 0.004, 0.001, 0.006, 0.004, 0.003, 0.0, 0.003, 0.006999999999999999, 0.008, 0.001, 0.005, 0.002, 0.006, 0.0, 0.005, 0.006999999999999999, 0.006999999999999999, 0.01, 0.006999999999999999, 0.006999999999999999, 0.005, 0.006, 0.003, 0.006999999999999999, 0.01, 0.0, 0.008, 0.003, 0.006999999999999999, 0.003, 0.006999999999999999, 0.004, 0.008, 0.005, 0.005, 0.002, 0.001, 0.003, 0.003, 0.0, 0.0, 0.006999999999999999, 0.0, 0.003, 0.005, 0.003, 0.006, 0.008, 0.0, 0.006, 0.0, 0.003, 0.0, 0.005, 0.004, 0.005, 0.0, 0.005, 0.003, 0.011000000000000001, 0.004, 0.002, 0.005, 0.006, 0.006999999999999999, 0.004, 0.006999999999999999, 0.004, 0.005, 0.008, 0.002, 0.005, 0.006, 0.008, 0.004, 0.005, 0.012, 0.005, 0.005, 0.006999999999999999, 0.004, 0.006, 0.0, 0.008, 0.009000000000000001, 0.0, 0.003, 0.006999999999999999, 0.002, 0.008, 0.006, 0.005, 0.003, 0.0, 0.005, 0.003, 0.011000000000000001, 0.004, 0.006999999999999999, 0.008, 0.008, 0.006999999999999999, 0.003, 0.0, 0.003, 0.004, 0.005, 0.0, 0.001, 0.001, 0.002, 0.006, 0.006999999999999999, 0.004, 0.003, 0.004, 0.004, 0.005, 0.002, 0.003, 0.006, 0.009000000000000001, 0.004, 0.004, 0.0, 0.008, 0.0, 0.008, 0.0, 0.003, 0.006999999999999999, 0.003, 0.001, 0.006, 0.006, 0.0, 0.004, 0.006, 0.006999999999999999, 0.001, 0.008, 0.0, 0.004, 0.0, 0.008, 0.006999999999999999, 0.005, 0.003, 0.001, 0.0, 0.004, 0.003, 0.005, 0.006, 0.005, 0.004, 0.0, 0.008, 0.002, 0.005, 0.005, 0.003, 0.006, 0.001, 0.004, 0.004, 0.006999999999999999, 0.004, 0.005, 0.002, 0.003, 0.006999999999999999, 0.001, 0.003, 0.005, 0.006999999999999999, 0.001, 0.005, 0.004, 0.004, 0.008, 0.0, 0.002, 0.006999999999999999, 0.006999999999999999, 0.006999999999999999, 0.006999999999999999, 0.004, 0.008, 0.008, 0.003, 0.004, 0.006999999999999999, 0.006999999999999999, 0.0, 0.005, 0.006, 0.0, 0.01, 0.003, 0.008, 0.006, 0.0, 0.006, 0.008, 0.0, 0.012, 0.003, 0.011000000000000001, 0.005, 0.006, 0.0, 0.005, 0.008, 0.006999999999999999, 0.008, 0.0, 0.009000000000000001, 0.006999999999999999, 0.01, 0.0, 0.002, 0.0, 0.0, 0.0, 0.003, 0.009000000000000001, 0.0, 0.006, 0.005, 0.003, 0.003, 0.006, 0.008, 0.003, 0.001, 0.005, 0.008, 0.002, 0.006, 0.006, 0.005, 0.008, 0.005, 0.002, 0.0, 0.001, 0.005, 0.004, 0.008, 0.002, 0.004, 0.0, 0.002, 0.003, 0.01, 0.0, 0.006999999999999999, 0.001, 0.006999999999999999, 0.006999999999999999, 0.004, 0.002, 0.004, 0.006999999999999999, 0.003, 0.004, 0.005, 0.006999999999999999, 0.003, 0.0, 0.002, 0.006, 0.006999999999999999, 0.006, 0.01, 0.006999999999999999, 0.01, 0.01, 0.008, 0.001, 0.006999999999999999, 0.0, 0.002, 0.009000000000000001, 0.001, 0.005, 0.006999999999999999, 0.006, 0.004, 0.0, 0.006, 0.01, 0.003, 0.0, 0.002, 0.002, 0.002, 0.004, 0.009000000000000001, 0.0, 0.006, 0.0, 0.009000000000000001, 0.0, 0.008, 0.004, 0.0, 0.0, 0.006999999999999999, 0.006, 0.008, 0.002, 0.004, 0.006, 0.005, 0.005, 0.003, 0.009000000000000001, 0.0, 0.006, 0.005, 0.006999999999999999, 0.004, 0.006, 0.008, 0.004, 0.006999999999999999, 0.003, 0.008, 0.009000000000000001, 0.006999999999999999, 0.006999999999999999, 0.003, 0.005, 0.01, 0.005, 0.004, 0.0, 0.009000000000000001, 0.005, 0.002, 0.003, 0.001, 0.0, 0.006, 0.009000000000000001, 0.0, 0.009000000000000001, 0.0, 0.006999999999999999, 0.002, 0.004, 0.008, 0.0, 0.005, 0.005, 0.006999999999999999, 0.0, 0.004, 0.008, 0.002, 0.0, 0.005, 0.0, 0.005, 0.005, 0.004, 0.002, 0.006999999999999999, 0.002, 0.006, 0.005, 0.0, 0.005, 0.0, 0.008, 0.006, 0.006999999999999999, 0.006, 0.009000000000000001, 0.0, 0.006999999999999999, 0.0, 0.004, 0.002, 0.0, 0.002, 0.006999999999999999, 0.004, 0.0, 0.006999999999999999, 0.0, 0.006, 0.001, 0.003, 0.0, 0.008, 0.01, 0.005, 0.008, 0.002, 0.005, 0.006, 0.008, 0.005, 0.002, 0.0, 0.004, 0.0, 0.008, 0.005, 0.001, 0.002, 0.006, 0.002, 0.006, 0.005, 0.005, 0.0, 0.004, 0.001, 0.008, 0.002, 0.005, 0.001, 0.006999999999999999, 0.0, 0.006999999999999999, 0.006999999999999999, 0.004, 0.005, 0.005, 0.003, 0.002, 0.004, 0.003, 0.006999999999999999, 0.006, 0.004, 0.005, 0.006, 0.006, 0.004, 0.004, 0.001, 0.006999999999999999, 0.006, 0.0, 0.005, 0.0, 0.003, 0.004, 0.0, 0.005, 0.006999999999999999, 0.006999999999999999, 0.006, 0.0, 0.005, 0.005, 0.001, 0.001, 0.006999999999999999, 0.004, 0.006, 0.001, 0.002, 0.006, 0.002, 0.004, 0.003, 0.008, 0.008, 0.004, 0.0, 0.006, 0.001, 0.003, 0.006, 0.004, 0.003, 0.006999999999999999, 0.006999999999999999, 0.002, 0.0, 0.01, 0.003, 0.005, 0.005, 0.006999999999999999, 0.006999999999999999, 0.008, 0.002, 0.004, 0.001, 0.005, 0.004, 0.006, 0.0, 0.0, 0.005, 0.001, 0.005, 0.0, 0.005, 0.0, 0.005, 0.001, 0.01, 0.004, 0.006999999999999999, 0.0, 0.006, 0.004, 0.004, 0.005, 0.006, 0.003, 0.002, 0.003, 0.0, 0.0, 0.006, 0.009000000000000001, 0.006, 0.001, 0.005, 0.004, 0.003, 0.009000000000000001, 0.006999999999999999, 0.001, 0.011000000000000001, 0.005, 0.01, 0.005, 0.002, 0.006, 0.006, 0.005, 0.008, 0.004, 0.0, 0.006, 0.0, 0.002, 0.005, 0.004, 0.003, 0.006999999999999999, 0.005, 0.0, 0.001, 0.008, 0.0, 0.005, 0.002, 0.006, 0.006999999999999999, 0.002, 0.0, 0.001, 0.006, 0.0, 0.004, 0.008, 0.004, 0.006, 0.004, 0.006, 0.004, 0.012, 0.0, 0.009000000000000001, 0.001, 0.005, 0.003, 0.005, 0.005, 0.003, 0.009000000000000001, 0.002, 0.006, 0.01, 0.004, 0.006999999999999999, 0.008, 0.01, 0.005, 0.001, 0.008, 0.002, 0.0, 0.004, 0.012, 0.006999999999999999, 0.0, 0.006, 0.001, 0.003, 0.006, 0.006999999999999999, 0.002, 0.003, 0.004, 0.01, 0.005, 0.003, 0.004, 0.003, 0.009000000000000001, 0.0, 0.006, 0.006, 0.004, 0.005, 0.005, 0.004, 0.006, 0.006, 0.002, 0.008, 0.005, 0.009000000000000001, 0.006, 0.006, 0.008, 0.0, 0.001, 0.003, 0.002, 0.0, 0.0, 0.004, 0.002, 0.004, 0.005, 0.006, 0.003, 0.0, 0.002, 0.004, 0.009000000000000001, 0.0, 0.002, 0.008, 0.005, 0.006999999999999999, 0.003, 0.006, 0.005, 0.006999999999999999, 0.003, 0.006, 0.011000000000000001, 0.006999999999999999, 0.002, 0.0, 0.009000000000000001, 0.004, 0.009000000000000001, 0.008, 0.004, 0.009000000000000001, 0.006, 0.002, 0.006, 0.002, 0.0, 0.0, 0.005, 0.008, 0.008, 0.002, 0.005, 0.005, 0.01, 0.006, 0.0, 0.006999999999999999, 0.005, 0.006, 0.004, 0.006999999999999999, 0.005, 0.0, 0.006, 0.006999999999999999, 0.0, 0.004, 0.003, 0.006999999999999999, 0.0, 0.006999999999999999, 0.001, 0.0, 0.005, 0.002, 0.009000000000000001, 0.0, 0.006, 0.004, 0.005, 0.005, 0.006, 0.0, 0.008, 0.003, 0.005, 0.008, 0.003, 0.006, 0.001, 0.005, 0.008, 0.002, 0.01, 0.004, 0.009000000000000001, 0.002, 0.006, 0.005, 0.006999999999999999, 0.006999999999999999, 0.006999999999999999, 0.002, 0.008, 0.006999999999999999, 0.004, 0.0, 0.005, 0.006, 0.003, 0.008, 0.005, 0.004, 0.0, 0.001, 0.002, 0.001, 0.005, 0.006, 0.0, 0.011000000000000001, 0.006999999999999999, 0.003, 0.006, 0.008, 0.005, 0.003, 0.006, 0.011000000000000001, 0.006, 0.005, 0.002, 0.002, 0.008, 0.008, 0.005, 0.005, 0.001, 0.003, 0.0, 0.006999999999999999, 0.005, 0.006, 0.003, 0.004, 0.006999999999999999, 0.006, 0.005, 0.008, 0.003, 0.0, 0.002, 0.0, 0.008, 0.001, 0.001, 0.004, 0.006, 0.004, 0.004, 0.006999999999999999, 0.003, 0.008, 0.006, 0.008, 0.005, 0.0, 0.0, 0.003, 0.001, 0.006, 0.0, 0.006, 0.002, 0.005, 0.0, 0.013000000000000001, 0.006999999999999999, 0.005, 0.003, 0.005, 0.003, 0.006, 0.001, 0.0, 0.004, 0.003, 0.004, 0.004, 0.0, 0.005, 0.006, 0.005, 0.004, 0.0, 0.01, 0.002, 0.005, 0.005, 0.005, 0.006, 0.004, 0.001, 0.001, 0.001, 0.002, 0.003, 0.002, 0.005, 0.004, 0.0, 0.005, 0.008, 0.002, 0.0, 0.003, 0.0, 0.008, 0.004, 0.003, 0.002, 0.002, 0.005, 0.005, 0.002, 0.006999999999999999, 0.006, 0.006, 0.003, 0.006, 0.0, 0.006999999999999999, 0.004, 0.008, 0.001, 0.0, 0.003, 0.006999999999999999, 0.005, 0.0, 0.008, 0.003, 0.005, 0.006999999999999999, 0.005, 0.004, 0.006999999999999999, 0.006999999999999999, 0.008, 0.006, 0.003, 0.006, 0.0, 0.008, 0.008, 0.006999999999999999, 0.009000000000000001, 0.0, 0.006, 0.003, 0.008, 0.004, 0.0, 0.002, 0.0, 0.009000000000000001, 0.005, 0.005, 0.011000000000000001, 0.001, 0.013999999999999999, 0.005, 0.004, 0.001, 0.005, 0.006999999999999999, 0.003, 0.0, 0.006999999999999999, 0.004, 0.008, 0.0, 0.003, 0.003, 0.0, 0.0, 0.003, 0.004, 0.006999999999999999, 0.0, 0.004, 0.01, 0.006, 0.006999999999999999, 0.003, 0.0, 0.002, 0.009000000000000001, 0.005, 0.004, 0.005, 0.002, 0.01, 0.0, 0.003, 0.003, 0.004, 0.006, 0.003, 0.006, 0.001, 0.004, 0.0, 0.003, 0.005, 0.0, 0.0, 0.002, 0.008, 0.004, 0.002, 0.001, 0.0, 0.001, 0.0, 0.004, 0.0, 0.0, 0.004, 0.004, 0.0, 0.003, 0.0, 0.0, 0.003, 0.0, 0.01, 0.004, 0.001, 0.005, 0.004, 0.008, 0.008, 0.006999999999999999, 0.006, 0.0, 0.009000000000000001, 0.008, 0.008, 0.0, 0.0, 0.005, 0.004, 0.005, 0.008, 0.006, 0.002, 0.0, 0.0, 0.006, 0.006999999999999999, 0.01, 0.005, 0.003, 0.01, 0.0, 0.0], \"xaxis\": \"x\", \"yaxis\": \"y\"}],\n",
              "                        {\"barmode\": \"relative\", \"legend\": {\"tracegroupgap\": 0}, \"template\": {\"data\": {\"bar\": [{\"error_x\": {\"color\": \"#2a3f5f\"}, \"error_y\": {\"color\": \"#2a3f5f\"}, \"marker\": {\"line\": {\"color\": \"#E5ECF6\", \"width\": 0.5}}, \"type\": \"bar\"}], \"barpolar\": [{\"marker\": {\"line\": {\"color\": \"#E5ECF6\", \"width\": 0.5}}, \"type\": \"barpolar\"}], \"carpet\": [{\"aaxis\": {\"endlinecolor\": \"#2a3f5f\", \"gridcolor\": \"white\", \"linecolor\": \"white\", \"minorgridcolor\": \"white\", \"startlinecolor\": \"#2a3f5f\"}, \"baxis\": {\"endlinecolor\": \"#2a3f5f\", \"gridcolor\": \"white\", \"linecolor\": \"white\", \"minorgridcolor\": \"white\", \"startlinecolor\": \"#2a3f5f\"}, \"type\": \"carpet\"}], \"choropleth\": [{\"colorbar\": {\"outlinewidth\": 0, \"ticks\": \"\"}, \"type\": \"choropleth\"}], \"contour\": [{\"colorbar\": {\"outlinewidth\": 0, \"ticks\": \"\"}, \"colorscale\": [[0.0, \"#0d0887\"], [0.1111111111111111, \"#46039f\"], [0.2222222222222222, \"#7201a8\"], [0.3333333333333333, \"#9c179e\"], [0.4444444444444444, \"#bd3786\"], [0.5555555555555556, \"#d8576b\"], [0.6666666666666666, \"#ed7953\"], [0.7777777777777778, \"#fb9f3a\"], [0.8888888888888888, \"#fdca26\"], [1.0, \"#f0f921\"]], \"type\": \"contour\"}], \"contourcarpet\": [{\"colorbar\": {\"outlinewidth\": 0, \"ticks\": \"\"}, \"type\": \"contourcarpet\"}], \"heatmap\": [{\"colorbar\": {\"outlinewidth\": 0, \"ticks\": \"\"}, \"colorscale\": [[0.0, \"#0d0887\"], [0.1111111111111111, \"#46039f\"], [0.2222222222222222, \"#7201a8\"], [0.3333333333333333, \"#9c179e\"], [0.4444444444444444, \"#bd3786\"], [0.5555555555555556, \"#d8576b\"], [0.6666666666666666, \"#ed7953\"], [0.7777777777777778, \"#fb9f3a\"], [0.8888888888888888, \"#fdca26\"], [1.0, \"#f0f921\"]], \"type\": \"heatmap\"}], \"heatmapgl\": [{\"colorbar\": {\"outlinewidth\": 0, \"ticks\": \"\"}, \"colorscale\": [[0.0, \"#0d0887\"], [0.1111111111111111, \"#46039f\"], [0.2222222222222222, \"#7201a8\"], [0.3333333333333333, \"#9c179e\"], [0.4444444444444444, \"#bd3786\"], [0.5555555555555556, \"#d8576b\"], [0.6666666666666666, \"#ed7953\"], [0.7777777777777778, \"#fb9f3a\"], [0.8888888888888888, \"#fdca26\"], [1.0, \"#f0f921\"]], \"type\": \"heatmapgl\"}], \"histogram\": [{\"marker\": {\"colorbar\": {\"outlinewidth\": 0, \"ticks\": \"\"}}, \"type\": \"histogram\"}], \"histogram2d\": [{\"colorbar\": {\"outlinewidth\": 0, \"ticks\": \"\"}, \"colorscale\": [[0.0, \"#0d0887\"], [0.1111111111111111, \"#46039f\"], [0.2222222222222222, \"#7201a8\"], [0.3333333333333333, \"#9c179e\"], [0.4444444444444444, \"#bd3786\"], [0.5555555555555556, \"#d8576b\"], [0.6666666666666666, \"#ed7953\"], [0.7777777777777778, \"#fb9f3a\"], [0.8888888888888888, \"#fdca26\"], [1.0, \"#f0f921\"]], \"type\": \"histogram2d\"}], \"histogram2dcontour\": [{\"colorbar\": {\"outlinewidth\": 0, \"ticks\": \"\"}, \"colorscale\": [[0.0, \"#0d0887\"], [0.1111111111111111, \"#46039f\"], [0.2222222222222222, \"#7201a8\"], [0.3333333333333333, \"#9c179e\"], [0.4444444444444444, \"#bd3786\"], [0.5555555555555556, \"#d8576b\"], [0.6666666666666666, \"#ed7953\"], [0.7777777777777778, \"#fb9f3a\"], [0.8888888888888888, \"#fdca26\"], [1.0, \"#f0f921\"]], \"type\": \"histogram2dcontour\"}], \"mesh3d\": [{\"colorbar\": {\"outlinewidth\": 0, \"ticks\": \"\"}, \"type\": \"mesh3d\"}], \"parcoords\": [{\"line\": {\"colorbar\": {\"outlinewidth\": 0, \"ticks\": \"\"}}, \"type\": \"parcoords\"}], \"pie\": [{\"automargin\": true, \"type\": \"pie\"}], \"scatter\": [{\"marker\": {\"colorbar\": {\"outlinewidth\": 0, \"ticks\": \"\"}}, \"type\": \"scatter\"}], \"scatter3d\": [{\"line\": {\"colorbar\": {\"outlinewidth\": 0, \"ticks\": \"\"}}, \"marker\": {\"colorbar\": {\"outlinewidth\": 0, \"ticks\": \"\"}}, \"type\": \"scatter3d\"}], \"scattercarpet\": [{\"marker\": {\"colorbar\": {\"outlinewidth\": 0, \"ticks\": \"\"}}, \"type\": \"scattercarpet\"}], \"scattergeo\": [{\"marker\": {\"colorbar\": {\"outlinewidth\": 0, \"ticks\": \"\"}}, \"type\": \"scattergeo\"}], \"scattergl\": [{\"marker\": {\"colorbar\": {\"outlinewidth\": 0, \"ticks\": \"\"}}, \"type\": \"scattergl\"}], \"scattermapbox\": [{\"marker\": {\"colorbar\": {\"outlinewidth\": 0, \"ticks\": \"\"}}, \"type\": \"scattermapbox\"}], \"scatterpolar\": [{\"marker\": {\"colorbar\": {\"outlinewidth\": 0, \"ticks\": \"\"}}, \"type\": \"scatterpolar\"}], \"scatterpolargl\": [{\"marker\": {\"colorbar\": {\"outlinewidth\": 0, \"ticks\": \"\"}}, \"type\": \"scatterpolargl\"}], \"scatterternary\": [{\"marker\": {\"colorbar\": {\"outlinewidth\": 0, \"ticks\": \"\"}}, \"type\": \"scatterternary\"}], \"surface\": [{\"colorbar\": {\"outlinewidth\": 0, \"ticks\": \"\"}, \"colorscale\": [[0.0, \"#0d0887\"], [0.1111111111111111, \"#46039f\"], [0.2222222222222222, \"#7201a8\"], [0.3333333333333333, \"#9c179e\"], [0.4444444444444444, \"#bd3786\"], [0.5555555555555556, \"#d8576b\"], [0.6666666666666666, \"#ed7953\"], [0.7777777777777778, \"#fb9f3a\"], [0.8888888888888888, \"#fdca26\"], [1.0, \"#f0f921\"]], \"type\": \"surface\"}], \"table\": [{\"cells\": {\"fill\": {\"color\": \"#EBF0F8\"}, \"line\": {\"color\": \"white\"}}, \"header\": {\"fill\": {\"color\": \"#C8D4E3\"}, \"line\": {\"color\": \"white\"}}, \"type\": \"table\"}]}, \"layout\": {\"annotationdefaults\": {\"arrowcolor\": \"#2a3f5f\", \"arrowhead\": 0, \"arrowwidth\": 1}, \"coloraxis\": {\"colorbar\": {\"outlinewidth\": 0, \"ticks\": \"\"}}, \"colorscale\": {\"diverging\": [[0, \"#8e0152\"], [0.1, \"#c51b7d\"], [0.2, \"#de77ae\"], [0.3, \"#f1b6da\"], [0.4, \"#fde0ef\"], [0.5, \"#f7f7f7\"], [0.6, \"#e6f5d0\"], [0.7, \"#b8e186\"], [0.8, \"#7fbc41\"], [0.9, \"#4d9221\"], [1, \"#276419\"]], \"sequential\": [[0.0, \"#0d0887\"], [0.1111111111111111, \"#46039f\"], [0.2222222222222222, \"#7201a8\"], [0.3333333333333333, \"#9c179e\"], [0.4444444444444444, \"#bd3786\"], [0.5555555555555556, \"#d8576b\"], [0.6666666666666666, \"#ed7953\"], [0.7777777777777778, \"#fb9f3a\"], [0.8888888888888888, \"#fdca26\"], [1.0, \"#f0f921\"]], \"sequentialminus\": [[0.0, \"#0d0887\"], [0.1111111111111111, \"#46039f\"], [0.2222222222222222, \"#7201a8\"], [0.3333333333333333, \"#9c179e\"], [0.4444444444444444, \"#bd3786\"], [0.5555555555555556, \"#d8576b\"], [0.6666666666666666, \"#ed7953\"], [0.7777777777777778, \"#fb9f3a\"], [0.8888888888888888, \"#fdca26\"], [1.0, \"#f0f921\"]]}, \"colorway\": [\"#636efa\", \"#EF553B\", \"#00cc96\", \"#ab63fa\", \"#FFA15A\", \"#19d3f3\", \"#FF6692\", \"#B6E880\", \"#FF97FF\", \"#FECB52\"], \"font\": {\"color\": \"#2a3f5f\"}, \"geo\": {\"bgcolor\": \"white\", \"lakecolor\": \"white\", \"landcolor\": \"#E5ECF6\", \"showlakes\": true, \"showland\": true, \"subunitcolor\": \"white\"}, \"hoverlabel\": {\"align\": \"left\"}, \"hovermode\": \"closest\", \"mapbox\": {\"style\": \"light\"}, \"paper_bgcolor\": \"white\", \"plot_bgcolor\": \"#E5ECF6\", \"polar\": {\"angularaxis\": {\"gridcolor\": \"white\", \"linecolor\": \"white\", \"ticks\": \"\"}, \"bgcolor\": \"#E5ECF6\", \"radialaxis\": {\"gridcolor\": \"white\", \"linecolor\": \"white\", \"ticks\": \"\"}}, \"scene\": {\"xaxis\": {\"backgroundcolor\": \"#E5ECF6\", \"gridcolor\": \"white\", \"gridwidth\": 2, \"linecolor\": \"white\", \"showbackground\": true, \"ticks\": \"\", \"zerolinecolor\": \"white\"}, \"yaxis\": {\"backgroundcolor\": \"#E5ECF6\", \"gridcolor\": \"white\", \"gridwidth\": 2, \"linecolor\": \"white\", \"showbackground\": true, \"ticks\": \"\", \"zerolinecolor\": \"white\"}, \"zaxis\": {\"backgroundcolor\": \"#E5ECF6\", \"gridcolor\": \"white\", \"gridwidth\": 2, \"linecolor\": \"white\", \"showbackground\": true, \"ticks\": \"\", \"zerolinecolor\": \"white\"}}, \"shapedefaults\": {\"line\": {\"color\": \"#2a3f5f\"}}, \"ternary\": {\"aaxis\": {\"gridcolor\": \"white\", \"linecolor\": \"white\", \"ticks\": \"\"}, \"baxis\": {\"gridcolor\": \"white\", \"linecolor\": \"white\", \"ticks\": \"\"}, \"bgcolor\": \"#E5ECF6\", \"caxis\": {\"gridcolor\": \"white\", \"linecolor\": \"white\", \"ticks\": \"\"}}, \"title\": {\"x\": 0.05}, \"xaxis\": {\"automargin\": true, \"gridcolor\": \"white\", \"linecolor\": \"white\", \"ticks\": \"\", \"title\": {\"standoff\": 15}, \"zerolinecolor\": \"white\", \"zerolinewidth\": 2}, \"yaxis\": {\"automargin\": true, \"gridcolor\": \"white\", \"linecolor\": \"white\", \"ticks\": \"\", \"title\": {\"standoff\": 15}, \"zerolinecolor\": \"white\", \"zerolinewidth\": 2}}}, \"title\": {\"text\": \"Histograma da coluna : uterine contractions\"}, \"xaxis\": {\"anchor\": \"y\", \"domain\": [0.0, 1.0], \"title\": {\"text\": \"x\"}}, \"yaxis\": {\"anchor\": \"x\", \"domain\": [0.0, 1.0], \"title\": {\"text\": \"count\"}}},\n",
              "                        {\"responsive\": true}\n",
              "                    ).then(function(){\n",
              "                            \n",
              "var gd = document.getElementById('07f7c464-f4cb-4c1d-986e-495239f2d357');\n",
              "var x = new MutationObserver(function (mutations, observer) {{\n",
              "        var display = window.getComputedStyle(gd).display;\n",
              "        if (!display || display === 'none') {{\n",
              "            console.log([gd, 'removed!']);\n",
              "            Plotly.purge(gd);\n",
              "            observer.disconnect();\n",
              "        }}\n",
              "}});\n",
              "\n",
              "// Listen for the removal of the full notebook cells\n",
              "var notebookContainer = gd.closest('#notebook-container');\n",
              "if (notebookContainer) {{\n",
              "    x.observe(notebookContainer, {childList: true});\n",
              "}}\n",
              "\n",
              "// Listen for the clearing of the current output cell\n",
              "var outputEl = gd.closest('.output');\n",
              "if (outputEl) {{\n",
              "    x.observe(outputEl, {childList: true});\n",
              "}}\n",
              "\n",
              "                        })\n",
              "                };\n",
              "                \n",
              "            </script>\n",
              "        </div>\n",
              "</body>\n",
              "</html>"
            ]
          },
          "metadata": {
            "tags": []
          }
        }
      ]
    },
    {
      "cell_type": "code",
      "metadata": {
        "colab": {
          "base_uri": "https://localhost:8080/",
          "height": 542
        },
        "id": "PbXsY44AFdUQ",
        "outputId": "ffd8dc6a-3cad-42db-bcbb-f60c115b35c9"
      },
      "source": [
        "px.box(y =train_set['uterine_contractions'], color = train_set['fetal_health'],\n",
        "          title = 'boxplot da coluna: uterine contractions', labels = {'color' : 'Classe', 'y' : 'valores'}\n",
        "       )"
      ],
      "execution_count": 72,
      "outputs": [
        {
          "output_type": "display_data",
          "data": {
            "text/html": [
              "<html>\n",
              "<head><meta charset=\"utf-8\" /></head>\n",
              "<body>\n",
              "    <div>\n",
              "            <script src=\"https://cdnjs.cloudflare.com/ajax/libs/mathjax/2.7.5/MathJax.js?config=TeX-AMS-MML_SVG\"></script><script type=\"text/javascript\">if (window.MathJax) {MathJax.Hub.Config({SVG: {font: \"STIX-Web\"}});}</script>\n",
              "                <script type=\"text/javascript\">window.PlotlyConfig = {MathJaxConfig: 'local'};</script>\n",
              "        <script src=\"https://cdn.plot.ly/plotly-latest.min.js\"></script>    \n",
              "            <div id=\"1229ecc3-f0ff-451f-8407-ff90ea02085b\" class=\"plotly-graph-div\" style=\"height:525px; width:100%;\"></div>\n",
              "            <script type=\"text/javascript\">\n",
              "                \n",
              "                    window.PLOTLYENV=window.PLOTLYENV || {};\n",
              "                    \n",
              "                if (document.getElementById(\"1229ecc3-f0ff-451f-8407-ff90ea02085b\")) {\n",
              "                    Plotly.newPlot(\n",
              "                        '1229ecc3-f0ff-451f-8407-ff90ea02085b',\n",
              "                        [{\"alignmentgroup\": \"True\", \"hoverlabel\": {\"namelength\": 0}, \"hovertemplate\": \"Classe=1.0<br>valores=%{y}\", \"legendgroup\": \"Classe=1.0\", \"marker\": {\"color\": \"#636efa\"}, \"name\": \"Classe=1.0\", \"notched\": false, \"offsetgroup\": \"Classe=1.0\", \"orientation\": \"v\", \"showlegend\": true, \"type\": \"box\", \"x0\": \" \", \"xaxis\": \"x\", \"y\": [0.005, 0.006999999999999999, 0.009000000000000001, 0.003, 0.006, 0.004, 0.005, 0.006, 0.002, 0.008, 0.006, 0.005, 0.005, 0.001, 0.002, 0.0, 0.005, 0.003, 0.0, 0.008, 0.004, 0.006999999999999999, 0.006, 0.006, 0.008, 0.006999999999999999, 0.005, 0.01, 0.008, 0.002, 0.002, 0.006, 0.005, 0.003, 0.008, 0.006999999999999999, 0.006, 0.004, 0.01, 0.003, 0.0, 0.001, 0.001, 0.003, 0.0, 0.001, 0.009000000000000001, 0.006, 0.004, 0.005, 0.004, 0.002, 0.008, 0.006, 0.009000000000000001, 0.004, 0.006999999999999999, 0.006999999999999999, 0.004, 0.005, 0.008, 0.004, 0.006, 0.003, 0.005, 0.004, 0.008, 0.006999999999999999, 0.008, 0.006, 0.005, 0.005, 0.006999999999999999, 0.002, 0.003, 0.006999999999999999, 0.004, 0.01, 0.005, 0.0, 0.004, 0.006999999999999999, 0.006999999999999999, 0.004, 0.008, 0.005, 0.006, 0.004, 0.002, 0.0, 0.004, 0.004, 0.006999999999999999, 0.005, 0.005, 0.0, 0.003, 0.011000000000000001, 0.005, 0.008, 0.005, 0.005, 0.0, 0.006, 0.004, 0.003, 0.01, 0.006999999999999999, 0.001, 0.003, 0.004, 0.006999999999999999, 0.001, 0.006999999999999999, 0.004, 0.005, 0.006999999999999999, 0.001, 0.006999999999999999, 0.004, 0.005, 0.006999999999999999, 0.002, 0.008, 0.003, 0.005, 0.005, 0.003, 0.0, 0.006, 0.004, 0.001, 0.006, 0.005, 0.009000000000000001, 0.011000000000000001, 0.001, 0.006999999999999999, 0.006, 0.006, 0.002, 0.01, 0.006, 0.005, 0.003, 0.008, 0.0, 0.006, 0.0, 0.005, 0.0, 0.005, 0.003, 0.004, 0.004, 0.004, 0.006999999999999999, 0.0, 0.003, 0.0, 0.006999999999999999, 0.005, 0.004, 0.0, 0.005, 0.006, 0.004, 0.006999999999999999, 0.005, 0.0, 0.008, 0.001, 0.006, 0.004, 0.008, 0.0, 0.01, 0.004, 0.003, 0.003, 0.002, 0.009000000000000001, 0.003, 0.005, 0.001, 0.0, 0.006, 0.003, 0.002, 0.01, 0.002, 0.0, 0.006999999999999999, 0.005, 0.008, 0.006999999999999999, 0.006999999999999999, 0.009000000000000001, 0.008, 0.003, 0.0, 0.003, 0.006999999999999999, 0.006999999999999999, 0.003, 0.008, 0.004, 0.006, 0.002, 0.006, 0.006, 0.001, 0.006, 0.004, 0.006, 0.008, 0.002, 0.0, 0.006999999999999999, 0.005, 0.005, 0.006, 0.001, 0.003, 0.006, 0.006999999999999999, 0.002, 0.006, 0.005, 0.002, 0.008, 0.008, 0.006999999999999999, 0.005, 0.006, 0.004, 0.003, 0.008, 0.006999999999999999, 0.001, 0.004, 0.008, 0.0, 0.003, 0.004, 0.0, 0.006, 0.006999999999999999, 0.003, 0.008, 0.013000000000000001, 0.004, 0.001, 0.002, 0.005, 0.006, 0.005, 0.006, 0.006999999999999999, 0.004, 0.005, 0.009000000000000001, 0.0, 0.004, 0.0, 0.006999999999999999, 0.011000000000000001, 0.005, 0.005, 0.008, 0.006, 0.002, 0.003, 0.002, 0.006, 0.006999999999999999, 0.005, 0.005, 0.0, 0.006999999999999999, 0.005, 0.002, 0.005, 0.005, 0.002, 0.005, 0.003, 0.009000000000000001, 0.003, 0.004, 0.01, 0.006999999999999999, 0.006, 0.0, 0.005, 0.011000000000000001, 0.001, 0.004, 0.001, 0.006, 0.005, 0.006, 0.004, 0.0, 0.006999999999999999, 0.0, 0.003, 0.005, 0.005, 0.006, 0.006, 0.002, 0.003, 0.003, 0.0, 0.008, 0.003, 0.006999999999999999, 0.002, 0.004, 0.001, 0.006999999999999999, 0.003, 0.004, 0.001, 0.003, 0.003, 0.009000000000000001, 0.008, 0.005, 0.006, 0.01, 0.005, 0.008, 0.004, 0.005, 0.005, 0.0, 0.005, 0.006999999999999999, 0.008, 0.001, 0.002, 0.005, 0.004, 0.006999999999999999, 0.006, 0.006999999999999999, 0.003, 0.002, 0.009000000000000001, 0.006, 0.0, 0.006999999999999999, 0.0, 0.006, 0.005, 0.006999999999999999, 0.005, 0.006999999999999999, 0.003, 0.006999999999999999, 0.002, 0.003, 0.004, 0.006999999999999999, 0.006999999999999999, 0.001, 0.002, 0.005, 0.005, 0.004, 0.008, 0.009000000000000001, 0.009000000000000001, 0.004, 0.0, 0.005, 0.002, 0.003, 0.004, 0.006, 0.006, 0.004, 0.006, 0.003, 0.009000000000000001, 0.006999999999999999, 0.01, 0.012, 0.002, 0.0, 0.005, 0.004, 0.006999999999999999, 0.005, 0.009000000000000001, 0.003, 0.0, 0.002, 0.0, 0.006999999999999999, 0.004, 0.006, 0.005, 0.005, 0.009000000000000001, 0.005, 0.01, 0.006, 0.004, 0.004, 0.006999999999999999, 0.009000000000000001, 0.009000000000000001, 0.006999999999999999, 0.002, 0.004, 0.005, 0.009000000000000001, 0.0, 0.003, 0.004, 0.003, 0.001, 0.005, 0.0, 0.0, 0.004, 0.006999999999999999, 0.006999999999999999, 0.003, 0.005, 0.006999999999999999, 0.002, 0.005, 0.008, 0.006, 0.008, 0.006, 0.006999999999999999, 0.006, 0.01, 0.002, 0.005, 0.008, 0.006, 0.002, 0.006, 0.003, 0.008, 0.005, 0.002, 0.008, 0.0, 0.008, 0.006, 0.0, 0.005, 0.002, 0.003, 0.005, 0.004, 0.006, 0.004, 0.006999999999999999, 0.006999999999999999, 0.004, 0.001, 0.006, 0.004, 0.003, 0.003, 0.008, 0.001, 0.002, 0.006, 0.0, 0.005, 0.006999999999999999, 0.006999999999999999, 0.01, 0.006999999999999999, 0.006999999999999999, 0.005, 0.006, 0.003, 0.006999999999999999, 0.01, 0.0, 0.008, 0.003, 0.006999999999999999, 0.003, 0.004, 0.008, 0.005, 0.005, 0.002, 0.001, 0.003, 0.006999999999999999, 0.0, 0.003, 0.005, 0.006, 0.008, 0.006, 0.0, 0.0, 0.005, 0.004, 0.005, 0.003, 0.011000000000000001, 0.004, 0.002, 0.005, 0.006, 0.006999999999999999, 0.004, 0.006999999999999999, 0.004, 0.005, 0.008, 0.002, 0.005, 0.006, 0.008, 0.004, 0.005, 0.012, 0.005, 0.005, 0.006999999999999999, 0.004, 0.006, 0.008, 0.009000000000000001, 0.003, 0.006999999999999999, 0.002, 0.008, 0.006, 0.005, 0.003, 0.005, 0.003, 0.011000000000000001, 0.004, 0.006999999999999999, 0.008, 0.008, 0.006999999999999999, 0.003, 0.003, 0.004, 0.005, 0.001, 0.001, 0.006, 0.006999999999999999, 0.004, 0.004, 0.004, 0.005, 0.009000000000000001, 0.004, 0.0, 0.008, 0.008, 0.0, 0.003, 0.006999999999999999, 0.003, 0.006, 0.006, 0.006, 0.006999999999999999, 0.008, 0.004, 0.0, 0.008, 0.006999999999999999, 0.005, 0.003, 0.001, 0.004, 0.003, 0.005, 0.004, 0.008, 0.005, 0.005, 0.003, 0.006, 0.001, 0.004, 0.004, 0.006999999999999999, 0.004, 0.002, 0.003, 0.006999999999999999, 0.003, 0.005, 0.006999999999999999, 0.001, 0.005, 0.004, 0.004, 0.008, 0.0, 0.002, 0.006999999999999999, 0.006999999999999999, 0.006999999999999999, 0.006999999999999999, 0.004, 0.008, 0.008, 0.003, 0.004, 0.006999999999999999, 0.006999999999999999, 0.005, 0.006, 0.0, 0.01, 0.003, 0.008, 0.006, 0.006, 0.008, 0.0, 0.012, 0.011000000000000001, 0.005, 0.006, 0.0, 0.005, 0.008, 0.006999999999999999, 0.008, 0.0, 0.009000000000000001, 0.006999999999999999, 0.0, 0.002, 0.0, 0.003, 0.009000000000000001, 0.006, 0.005, 0.003, 0.003, 0.006, 0.003, 0.001, 0.008, 0.006, 0.006, 0.005, 0.008, 0.005, 0.002, 0.001, 0.005, 0.004, 0.008, 0.002, 0.004, 0.0, 0.002, 0.003, 0.01, 0.006999999999999999, 0.001, 0.006999999999999999, 0.006999999999999999, 0.002, 0.004, 0.006999999999999999, 0.003, 0.004, 0.005, 0.003, 0.0, 0.002, 0.006, 0.006999999999999999, 0.006, 0.01, 0.006999999999999999, 0.01, 0.008, 0.001, 0.006999999999999999, 0.0, 0.002, 0.001, 0.005, 0.006999999999999999, 0.006, 0.004, 0.0, 0.006, 0.01, 0.002, 0.002, 0.002, 0.004, 0.009000000000000001, 0.0, 0.0, 0.008, 0.004, 0.006999999999999999, 0.006, 0.008, 0.004, 0.006, 0.005, 0.005, 0.003, 0.009000000000000001, 0.006, 0.006999999999999999, 0.004, 0.006, 0.008, 0.004, 0.006999999999999999, 0.003, 0.008, 0.009000000000000001, 0.006999999999999999, 0.006999999999999999, 0.003, 0.005, 0.01, 0.005, 0.004, 0.009000000000000001, 0.005, 0.002, 0.001, 0.006, 0.009000000000000001, 0.009000000000000001, 0.0, 0.006999999999999999, 0.002, 0.004, 0.008, 0.0, 0.005, 0.005, 0.006999999999999999, 0.004, 0.008, 0.002, 0.0, 0.005, 0.005, 0.004, 0.002, 0.006999999999999999, 0.002, 0.006, 0.005, 0.005, 0.008, 0.006, 0.006999999999999999, 0.006, 0.009000000000000001, 0.0, 0.006999999999999999, 0.004, 0.002, 0.006999999999999999, 0.004, 0.0, 0.006999999999999999, 0.0, 0.006, 0.001, 0.003, 0.008, 0.01, 0.005, 0.008, 0.002, 0.005, 0.006, 0.008, 0.005, 0.002, 0.004, 0.008, 0.005, 0.001, 0.002, 0.002, 0.006, 0.005, 0.005, 0.0, 0.004, 0.008, 0.005, 0.006999999999999999, 0.0, 0.006999999999999999, 0.006999999999999999, 0.004, 0.005, 0.005, 0.003, 0.004, 0.003, 0.006999999999999999, 0.006, 0.004, 0.005, 0.006, 0.006, 0.004, 0.004, 0.006999999999999999, 0.0, 0.005, 0.0, 0.003, 0.004, 0.0, 0.005, 0.006999999999999999, 0.006, 0.005, 0.001, 0.006999999999999999, 0.004, 0.006, 0.002, 0.004, 0.003, 0.008, 0.008, 0.004, 0.0, 0.006, 0.001, 0.003, 0.004, 0.006999999999999999, 0.002, 0.01, 0.003, 0.005, 0.005, 0.006999999999999999, 0.006999999999999999, 0.008, 0.004, 0.001, 0.005, 0.004, 0.006, 0.0, 0.0, 0.001, 0.005, 0.0, 0.005, 0.0, 0.005, 0.01, 0.004, 0.006999999999999999, 0.004, 0.004, 0.005, 0.006, 0.003, 0.002, 0.003, 0.006, 0.009000000000000001, 0.006, 0.001, 0.005, 0.004, 0.003, 0.009000000000000001, 0.006999999999999999, 0.011000000000000001, 0.005, 0.01, 0.005, 0.002, 0.005, 0.008, 0.004, 0.006, 0.004, 0.003, 0.006999999999999999, 0.005, 0.001, 0.008, 0.0, 0.005, 0.002, 0.006, 0.006999999999999999, 0.002, 0.006, 0.004, 0.008, 0.004, 0.006, 0.004, 0.006, 0.004, 0.0, 0.009000000000000001, 0.005, 0.005, 0.005, 0.009000000000000001, 0.006, 0.01, 0.004, 0.006999999999999999, 0.008, 0.01, 0.005, 0.001, 0.002, 0.0, 0.004, 0.012, 0.006999999999999999, 0.006, 0.001, 0.003, 0.006, 0.006999999999999999, 0.003, 0.004, 0.01, 0.005, 0.003, 0.004, 0.009000000000000001, 0.006, 0.006, 0.004, 0.005, 0.006, 0.005, 0.006, 0.006, 0.008, 0.003, 0.002, 0.0, 0.0, 0.004, 0.004, 0.005, 0.006, 0.003, 0.002, 0.009000000000000001, 0.0, 0.002, 0.008, 0.005, 0.006999999999999999, 0.003, 0.005, 0.006999999999999999, 0.002, 0.009000000000000001, 0.004, 0.009000000000000001, 0.008, 0.004, 0.006, 0.002, 0.006, 0.0, 0.005, 0.008, 0.008, 0.005, 0.005, 0.01, 0.006, 0.005, 0.006, 0.004, 0.006999999999999999, 0.005, 0.0, 0.006, 0.006999999999999999, 0.0, 0.003, 0.006999999999999999, 0.006999999999999999, 0.001, 0.005, 0.002, 0.009000000000000001, 0.004, 0.005, 0.005, 0.0, 0.008, 0.003, 0.005, 0.003, 0.006, 0.008, 0.002, 0.01, 0.004, 0.009000000000000001, 0.006, 0.005, 0.006999999999999999, 0.006999999999999999, 0.006999999999999999, 0.002, 0.006999999999999999, 0.004, 0.006, 0.003, 0.008, 0.005, 0.004, 0.0, 0.001, 0.002, 0.001, 0.005, 0.0, 0.011000000000000001, 0.006999999999999999, 0.003, 0.006, 0.008, 0.005, 0.003, 0.006, 0.011000000000000001, 0.005, 0.002, 0.008, 0.005, 0.005, 0.001, 0.003, 0.006999999999999999, 0.005, 0.006, 0.003, 0.004, 0.006999999999999999, 0.006, 0.008, 0.003, 0.002, 0.0, 0.008, 0.001, 0.001, 0.004, 0.006, 0.004, 0.004, 0.008, 0.006, 0.008, 0.005, 0.003, 0.006, 0.006, 0.002, 0.005, 0.0, 0.006999999999999999, 0.003, 0.005, 0.003, 0.006, 0.001, 0.004, 0.003, 0.004, 0.004, 0.0, 0.005, 0.006, 0.005, 0.004, 0.002, 0.005, 0.005, 0.006, 0.004, 0.001, 0.001, 0.002, 0.003, 0.002, 0.004, 0.0, 0.005, 0.008, 0.002, 0.003, 0.0, 0.008, 0.004, 0.003, 0.002, 0.005, 0.006999999999999999, 0.006, 0.006, 0.003, 0.006999999999999999, 0.004, 0.008, 0.0, 0.003, 0.006999999999999999, 0.005, 0.008, 0.003, 0.005, 0.006999999999999999, 0.005, 0.004, 0.006999999999999999, 0.006999999999999999, 0.008, 0.003, 0.006, 0.008, 0.008, 0.006999999999999999, 0.009000000000000001, 0.006, 0.003, 0.004, 0.0, 0.002, 0.009000000000000001, 0.005, 0.011000000000000001, 0.001, 0.005, 0.001, 0.006999999999999999, 0.003, 0.006999999999999999, 0.004, 0.008, 0.0, 0.003, 0.003, 0.0, 0.003, 0.004, 0.006999999999999999, 0.004, 0.01, 0.006, 0.006999999999999999, 0.002, 0.009000000000000001, 0.005, 0.004, 0.002, 0.01, 0.0, 0.003, 0.003, 0.004, 0.006, 0.003, 0.006, 0.001, 0.0, 0.003, 0.005, 0.0, 0.0, 0.002, 0.008, 0.004, 0.002, 0.001, 0.0, 0.001, 0.004, 0.0, 0.004, 0.004, 0.0, 0.003, 0.003, 0.004, 0.001, 0.005, 0.004, 0.008, 0.006999999999999999, 0.006, 0.0, 0.009000000000000001, 0.008, 0.008, 0.004, 0.008, 0.006, 0.002, 0.0, 0.0, 0.006999999999999999, 0.01, 0.005, 0.003, 0.01, 0.0], \"y0\": \" \", \"yaxis\": \"y\"}, {\"alignmentgroup\": \"True\", \"hoverlabel\": {\"namelength\": 0}, \"hovertemplate\": \"Classe=2.0<br>valores=%{y}\", \"legendgroup\": \"Classe=2.0\", \"marker\": {\"color\": \"#EF553B\"}, \"name\": \"Classe=2.0\", \"notched\": false, \"offsetgroup\": \"Classe=2.0\", \"orientation\": \"v\", \"showlegend\": true, \"type\": \"box\", \"x0\": \" \", \"xaxis\": \"x\", \"y\": [0.001, 0.004, 0.006999999999999999, 0.006, 0.001, 0.004, 0.0, 0.002, 0.0, 0.001, 0.0, 0.0, 0.001, 0.0, 0.002, 0.0, 0.0, 0.003, 0.001, 0.005, 0.008, 0.003, 0.004, 0.0, 0.0, 0.0, 0.001, 0.006, 0.0, 0.001, 0.002, 0.0, 0.006, 0.006, 0.002, 0.006, 0.0, 0.001, 0.0, 0.006, 0.009000000000000001, 0.002, 0.004, 0.006999999999999999, 0.003, 0.003, 0.0, 0.003, 0.0, 0.0, 0.0, 0.0, 0.0, 0.006999999999999999, 0.006999999999999999, 0.0, 0.002, 0.0, 0.0, 0.002, 0.001, 0.003, 0.004, 0.004, 0.0, 0.0, 0.002, 0.0, 0.002, 0.006999999999999999, 0.0, 0.0, 0.0, 0.005, 0.006999999999999999, 0.0, 0.004, 0.001, 0.005, 0.0, 0.0, 0.006999999999999999, 0.005, 0.006999999999999999, 0.0, 0.0, 0.003, 0.0, 0.003, 0.0, 0.0, 0.0, 0.0, 0.0, 0.0, 0.002, 0.002, 0.003, 0.004, 0.001, 0.0, 0.004, 0.001, 0.0, 0.006, 0.005, 0.002, 0.005, 0.001, 0.0, 0.003, 0.0, 0.0, 0.008, 0.002, 0.0, 0.0, 0.004, 0.003, 0.0, 0.006, 0.0, 0.0, 0.0, 0.005, 0.0, 0.003, 0.0, 0.005, 0.0, 0.0, 0.0, 0.0, 0.0, 0.0, 0.006, 0.001, 0.002, 0.002, 0.001, 0.006999999999999999, 0.001, 0.001, 0.002, 0.006, 0.003, 0.002, 0.005, 0.001, 0.006, 0.0, 0.0, 0.001, 0.006, 0.006, 0.0, 0.0, 0.005, 0.0, 0.0, 0.001, 0.0, 0.001, 0.003, 0.003, 0.0, 0.005, 0.004, 0.002, 0.008, 0.0, 0.006, 0.003, 0.011000000000000001, 0.0, 0.002, 0.0, 0.0, 0.0, 0.0, 0.006, 0.006, 0.005, 0.002, 0.008, 0.005, 0.006, 0.008, 0.0, 0.003, 0.0, 0.0, 0.001, 0.0, 0.005, 0.005, 0.001, 0.005, 0.002, 0.002, 0.001, 0.0, 0.0, 0.0, 0.005, 0.004, 0.005, 0.0, 0.0, 0.003, 0.004, 0.0, 0.0, 0.0, 0.0, 0.0, 0.008, 0.0, 0.0, 0.005, 0.006], \"y0\": \" \", \"yaxis\": \"y\"}, {\"alignmentgroup\": \"True\", \"hoverlabel\": {\"namelength\": 0}, \"hovertemplate\": \"Classe=3.0<br>valores=%{y}\", \"legendgroup\": \"Classe=3.0\", \"marker\": {\"color\": \"#00cc96\"}, \"name\": \"Classe=3.0\", \"notched\": false, \"offsetgroup\": \"Classe=3.0\", \"orientation\": \"v\", \"showlegend\": true, \"type\": \"box\", \"x0\": \" \", \"xaxis\": \"x\", \"y\": [0.0, 0.0, 0.006, 0.0, 0.012, 0.011000000000000001, 0.006, 0.004, 0.009000000000000001, 0.002, 0.006, 0.005, 0.008, 0.003, 0.001, 0.009000000000000001, 0.0, 0.0, 0.006999999999999999, 0.0, 0.002, 0.012, 0.01, 0.01, 0.002, 0.01, 0.006, 0.005, 0.0, 0.0, 0.0, 0.003, 0.008, 0.0, 0.006, 0.003, 0.001, 0.0, 0.0, 0.003, 0.003, 0.0, 0.001, 0.006999999999999999, 0.004, 0.001, 0.002, 0.004, 0.0, 0.0, 0.002, 0.004, 0.006, 0.003, 0.004, 0.005, 0.003, 0.005, 0.003, 0.006, 0.0, 0.0, 0.0, 0.0, 0.01, 0.0, 0.005, 0.006999999999999999, 0.01, 0.009000000000000001, 0.009000000000000001, 0.0, 0.002, 0.0, 0.0, 0.0, 0.0, 0.002, 0.001, 0.006, 0.0, 0.005, 0.006, 0.006999999999999999, 0.0, 0.0, 0.002, 0.012, 0.002, 0.008, 0.0, 0.002, 0.003, 0.006, 0.009000000000000001, 0.0, 0.001, 0.002, 0.004, 0.006999999999999999, 0.006, 0.009000000000000001, 0.002, 0.0, 0.006999999999999999, 0.004, 0.008, 0.001, 0.0, 0.006, 0.002, 0.005, 0.0, 0.006999999999999999, 0.013000000000000001, 0.0, 0.0, 0.01, 0.0, 0.005, 0.006, 0.0, 0.006, 0.0, 0.008, 0.013999999999999999, 0.0, 0.0, 0.005, 0.01, 0.005, 0.0], \"y0\": \" \", \"yaxis\": \"y\"}],\n",
              "                        {\"boxmode\": \"group\", \"legend\": {\"tracegroupgap\": 0}, \"template\": {\"data\": {\"bar\": [{\"error_x\": {\"color\": \"#2a3f5f\"}, \"error_y\": {\"color\": \"#2a3f5f\"}, \"marker\": {\"line\": {\"color\": \"#E5ECF6\", \"width\": 0.5}}, \"type\": \"bar\"}], \"barpolar\": [{\"marker\": {\"line\": {\"color\": \"#E5ECF6\", \"width\": 0.5}}, \"type\": \"barpolar\"}], \"carpet\": [{\"aaxis\": {\"endlinecolor\": \"#2a3f5f\", \"gridcolor\": \"white\", \"linecolor\": \"white\", \"minorgridcolor\": \"white\", \"startlinecolor\": \"#2a3f5f\"}, \"baxis\": {\"endlinecolor\": \"#2a3f5f\", \"gridcolor\": \"white\", \"linecolor\": \"white\", \"minorgridcolor\": \"white\", \"startlinecolor\": \"#2a3f5f\"}, \"type\": \"carpet\"}], \"choropleth\": [{\"colorbar\": {\"outlinewidth\": 0, \"ticks\": \"\"}, \"type\": \"choropleth\"}], \"contour\": [{\"colorbar\": {\"outlinewidth\": 0, \"ticks\": \"\"}, \"colorscale\": [[0.0, \"#0d0887\"], [0.1111111111111111, \"#46039f\"], [0.2222222222222222, \"#7201a8\"], [0.3333333333333333, \"#9c179e\"], [0.4444444444444444, \"#bd3786\"], [0.5555555555555556, \"#d8576b\"], [0.6666666666666666, \"#ed7953\"], [0.7777777777777778, \"#fb9f3a\"], [0.8888888888888888, \"#fdca26\"], [1.0, \"#f0f921\"]], \"type\": \"contour\"}], \"contourcarpet\": [{\"colorbar\": {\"outlinewidth\": 0, \"ticks\": \"\"}, \"type\": \"contourcarpet\"}], \"heatmap\": [{\"colorbar\": {\"outlinewidth\": 0, \"ticks\": \"\"}, \"colorscale\": [[0.0, \"#0d0887\"], [0.1111111111111111, \"#46039f\"], [0.2222222222222222, \"#7201a8\"], [0.3333333333333333, \"#9c179e\"], [0.4444444444444444, \"#bd3786\"], [0.5555555555555556, \"#d8576b\"], [0.6666666666666666, \"#ed7953\"], [0.7777777777777778, \"#fb9f3a\"], [0.8888888888888888, \"#fdca26\"], [1.0, \"#f0f921\"]], \"type\": \"heatmap\"}], \"heatmapgl\": [{\"colorbar\": {\"outlinewidth\": 0, \"ticks\": \"\"}, \"colorscale\": [[0.0, \"#0d0887\"], [0.1111111111111111, \"#46039f\"], [0.2222222222222222, \"#7201a8\"], [0.3333333333333333, \"#9c179e\"], [0.4444444444444444, \"#bd3786\"], [0.5555555555555556, \"#d8576b\"], [0.6666666666666666, \"#ed7953\"], [0.7777777777777778, \"#fb9f3a\"], [0.8888888888888888, \"#fdca26\"], [1.0, \"#f0f921\"]], \"type\": \"heatmapgl\"}], \"histogram\": [{\"marker\": {\"colorbar\": {\"outlinewidth\": 0, \"ticks\": \"\"}}, \"type\": \"histogram\"}], \"histogram2d\": [{\"colorbar\": {\"outlinewidth\": 0, \"ticks\": \"\"}, \"colorscale\": [[0.0, \"#0d0887\"], [0.1111111111111111, \"#46039f\"], [0.2222222222222222, \"#7201a8\"], [0.3333333333333333, \"#9c179e\"], [0.4444444444444444, \"#bd3786\"], [0.5555555555555556, \"#d8576b\"], [0.6666666666666666, \"#ed7953\"], [0.7777777777777778, \"#fb9f3a\"], [0.8888888888888888, \"#fdca26\"], [1.0, \"#f0f921\"]], \"type\": \"histogram2d\"}], \"histogram2dcontour\": [{\"colorbar\": {\"outlinewidth\": 0, \"ticks\": \"\"}, \"colorscale\": [[0.0, \"#0d0887\"], [0.1111111111111111, \"#46039f\"], [0.2222222222222222, \"#7201a8\"], [0.3333333333333333, \"#9c179e\"], [0.4444444444444444, \"#bd3786\"], [0.5555555555555556, \"#d8576b\"], [0.6666666666666666, \"#ed7953\"], [0.7777777777777778, \"#fb9f3a\"], [0.8888888888888888, \"#fdca26\"], [1.0, \"#f0f921\"]], \"type\": \"histogram2dcontour\"}], \"mesh3d\": [{\"colorbar\": {\"outlinewidth\": 0, \"ticks\": \"\"}, \"type\": \"mesh3d\"}], \"parcoords\": [{\"line\": {\"colorbar\": {\"outlinewidth\": 0, \"ticks\": \"\"}}, \"type\": \"parcoords\"}], \"pie\": [{\"automargin\": true, \"type\": \"pie\"}], \"scatter\": [{\"marker\": {\"colorbar\": {\"outlinewidth\": 0, \"ticks\": \"\"}}, \"type\": \"scatter\"}], \"scatter3d\": [{\"line\": {\"colorbar\": {\"outlinewidth\": 0, \"ticks\": \"\"}}, \"marker\": {\"colorbar\": {\"outlinewidth\": 0, \"ticks\": \"\"}}, \"type\": \"scatter3d\"}], \"scattercarpet\": [{\"marker\": {\"colorbar\": {\"outlinewidth\": 0, \"ticks\": \"\"}}, \"type\": \"scattercarpet\"}], \"scattergeo\": [{\"marker\": {\"colorbar\": {\"outlinewidth\": 0, \"ticks\": \"\"}}, \"type\": \"scattergeo\"}], \"scattergl\": [{\"marker\": {\"colorbar\": {\"outlinewidth\": 0, \"ticks\": \"\"}}, \"type\": \"scattergl\"}], \"scattermapbox\": [{\"marker\": {\"colorbar\": {\"outlinewidth\": 0, \"ticks\": \"\"}}, \"type\": \"scattermapbox\"}], \"scatterpolar\": [{\"marker\": {\"colorbar\": {\"outlinewidth\": 0, \"ticks\": \"\"}}, \"type\": \"scatterpolar\"}], \"scatterpolargl\": [{\"marker\": {\"colorbar\": {\"outlinewidth\": 0, \"ticks\": \"\"}}, \"type\": \"scatterpolargl\"}], \"scatterternary\": [{\"marker\": {\"colorbar\": {\"outlinewidth\": 0, \"ticks\": \"\"}}, \"type\": \"scatterternary\"}], \"surface\": [{\"colorbar\": {\"outlinewidth\": 0, \"ticks\": \"\"}, \"colorscale\": [[0.0, \"#0d0887\"], [0.1111111111111111, \"#46039f\"], [0.2222222222222222, \"#7201a8\"], [0.3333333333333333, \"#9c179e\"], [0.4444444444444444, \"#bd3786\"], [0.5555555555555556, \"#d8576b\"], [0.6666666666666666, \"#ed7953\"], [0.7777777777777778, \"#fb9f3a\"], [0.8888888888888888, \"#fdca26\"], [1.0, \"#f0f921\"]], \"type\": \"surface\"}], \"table\": [{\"cells\": {\"fill\": {\"color\": \"#EBF0F8\"}, \"line\": {\"color\": \"white\"}}, \"header\": {\"fill\": {\"color\": \"#C8D4E3\"}, \"line\": {\"color\": \"white\"}}, \"type\": \"table\"}]}, \"layout\": {\"annotationdefaults\": {\"arrowcolor\": \"#2a3f5f\", \"arrowhead\": 0, \"arrowwidth\": 1}, \"coloraxis\": {\"colorbar\": {\"outlinewidth\": 0, \"ticks\": \"\"}}, \"colorscale\": {\"diverging\": [[0, \"#8e0152\"], [0.1, \"#c51b7d\"], [0.2, \"#de77ae\"], [0.3, \"#f1b6da\"], [0.4, \"#fde0ef\"], [0.5, \"#f7f7f7\"], [0.6, \"#e6f5d0\"], [0.7, \"#b8e186\"], [0.8, \"#7fbc41\"], [0.9, \"#4d9221\"], [1, \"#276419\"]], \"sequential\": [[0.0, \"#0d0887\"], [0.1111111111111111, \"#46039f\"], [0.2222222222222222, \"#7201a8\"], [0.3333333333333333, \"#9c179e\"], [0.4444444444444444, \"#bd3786\"], [0.5555555555555556, \"#d8576b\"], [0.6666666666666666, \"#ed7953\"], [0.7777777777777778, \"#fb9f3a\"], [0.8888888888888888, \"#fdca26\"], [1.0, \"#f0f921\"]], \"sequentialminus\": [[0.0, \"#0d0887\"], [0.1111111111111111, \"#46039f\"], [0.2222222222222222, \"#7201a8\"], [0.3333333333333333, \"#9c179e\"], [0.4444444444444444, \"#bd3786\"], [0.5555555555555556, \"#d8576b\"], [0.6666666666666666, \"#ed7953\"], [0.7777777777777778, \"#fb9f3a\"], [0.8888888888888888, \"#fdca26\"], [1.0, \"#f0f921\"]]}, \"colorway\": [\"#636efa\", \"#EF553B\", \"#00cc96\", \"#ab63fa\", \"#FFA15A\", \"#19d3f3\", \"#FF6692\", \"#B6E880\", \"#FF97FF\", \"#FECB52\"], \"font\": {\"color\": \"#2a3f5f\"}, \"geo\": {\"bgcolor\": \"white\", \"lakecolor\": \"white\", \"landcolor\": \"#E5ECF6\", \"showlakes\": true, \"showland\": true, \"subunitcolor\": \"white\"}, \"hoverlabel\": {\"align\": \"left\"}, \"hovermode\": \"closest\", \"mapbox\": {\"style\": \"light\"}, \"paper_bgcolor\": \"white\", \"plot_bgcolor\": \"#E5ECF6\", \"polar\": {\"angularaxis\": {\"gridcolor\": \"white\", \"linecolor\": \"white\", \"ticks\": \"\"}, \"bgcolor\": \"#E5ECF6\", \"radialaxis\": {\"gridcolor\": \"white\", \"linecolor\": \"white\", \"ticks\": \"\"}}, \"scene\": {\"xaxis\": {\"backgroundcolor\": \"#E5ECF6\", \"gridcolor\": \"white\", \"gridwidth\": 2, \"linecolor\": \"white\", \"showbackground\": true, \"ticks\": \"\", \"zerolinecolor\": \"white\"}, \"yaxis\": {\"backgroundcolor\": \"#E5ECF6\", \"gridcolor\": \"white\", \"gridwidth\": 2, \"linecolor\": \"white\", \"showbackground\": true, \"ticks\": \"\", \"zerolinecolor\": \"white\"}, \"zaxis\": {\"backgroundcolor\": \"#E5ECF6\", \"gridcolor\": \"white\", \"gridwidth\": 2, \"linecolor\": \"white\", \"showbackground\": true, \"ticks\": \"\", \"zerolinecolor\": \"white\"}}, \"shapedefaults\": {\"line\": {\"color\": \"#2a3f5f\"}}, \"ternary\": {\"aaxis\": {\"gridcolor\": \"white\", \"linecolor\": \"white\", \"ticks\": \"\"}, \"baxis\": {\"gridcolor\": \"white\", \"linecolor\": \"white\", \"ticks\": \"\"}, \"bgcolor\": \"#E5ECF6\", \"caxis\": {\"gridcolor\": \"white\", \"linecolor\": \"white\", \"ticks\": \"\"}}, \"title\": {\"x\": 0.05}, \"xaxis\": {\"automargin\": true, \"gridcolor\": \"white\", \"linecolor\": \"white\", \"ticks\": \"\", \"title\": {\"standoff\": 15}, \"zerolinecolor\": \"white\", \"zerolinewidth\": 2}, \"yaxis\": {\"automargin\": true, \"gridcolor\": \"white\", \"linecolor\": \"white\", \"ticks\": \"\", \"title\": {\"standoff\": 15}, \"zerolinecolor\": \"white\", \"zerolinewidth\": 2}}}, \"title\": {\"text\": \"boxplot da coluna: uterine contractions\"}, \"xaxis\": {\"anchor\": \"y\", \"domain\": [0.0, 1.0]}, \"yaxis\": {\"anchor\": \"x\", \"domain\": [0.0, 1.0], \"title\": {\"text\": \"valores\"}}},\n",
              "                        {\"responsive\": true}\n",
              "                    ).then(function(){\n",
              "                            \n",
              "var gd = document.getElementById('1229ecc3-f0ff-451f-8407-ff90ea02085b');\n",
              "var x = new MutationObserver(function (mutations, observer) {{\n",
              "        var display = window.getComputedStyle(gd).display;\n",
              "        if (!display || display === 'none') {{\n",
              "            console.log([gd, 'removed!']);\n",
              "            Plotly.purge(gd);\n",
              "            observer.disconnect();\n",
              "        }}\n",
              "}});\n",
              "\n",
              "// Listen for the removal of the full notebook cells\n",
              "var notebookContainer = gd.closest('#notebook-container');\n",
              "if (notebookContainer) {{\n",
              "    x.observe(notebookContainer, {childList: true});\n",
              "}}\n",
              "\n",
              "// Listen for the clearing of the current output cell\n",
              "var outputEl = gd.closest('.output');\n",
              "if (outputEl) {{\n",
              "    x.observe(outputEl, {childList: true});\n",
              "}}\n",
              "\n",
              "                        })\n",
              "                };\n",
              "                \n",
              "            </script>\n",
              "        </div>\n",
              "</body>\n",
              "</html>"
            ]
          },
          "metadata": {
            "tags": []
          }
        }
      ]
    },
    {
      "cell_type": "markdown",
      "metadata": {
        "id": "SbQ6sW8kgvQI"
      },
      "source": [
        "A coluna acima não possui muitos outliers."
      ]
    },
    {
      "cell_type": "code",
      "metadata": {
        "colab": {
          "base_uri": "https://localhost:8080/",
          "height": 542
        },
        "id": "Krm1yxgCFqSB",
        "outputId": "d50a6e62-f013-468d-c343-243d2dc031d5"
      },
      "source": [
        "px.histogram(x = train_set['light_decelerations'], title  = 'Histograma da coluna: light decelerations')\n"
      ],
      "execution_count": 73,
      "outputs": [
        {
          "output_type": "display_data",
          "data": {
            "text/html": [
              "<html>\n",
              "<head><meta charset=\"utf-8\" /></head>\n",
              "<body>\n",
              "    <div>\n",
              "            <script src=\"https://cdnjs.cloudflare.com/ajax/libs/mathjax/2.7.5/MathJax.js?config=TeX-AMS-MML_SVG\"></script><script type=\"text/javascript\">if (window.MathJax) {MathJax.Hub.Config({SVG: {font: \"STIX-Web\"}});}</script>\n",
              "                <script type=\"text/javascript\">window.PlotlyConfig = {MathJaxConfig: 'local'};</script>\n",
              "        <script src=\"https://cdn.plot.ly/plotly-latest.min.js\"></script>    \n",
              "            <div id=\"1932692f-d275-422b-aae1-7659d38a6e9e\" class=\"plotly-graph-div\" style=\"height:525px; width:100%;\"></div>\n",
              "            <script type=\"text/javascript\">\n",
              "                \n",
              "                    window.PLOTLYENV=window.PLOTLYENV || {};\n",
              "                    \n",
              "                if (document.getElementById(\"1932692f-d275-422b-aae1-7659d38a6e9e\")) {\n",
              "                    Plotly.newPlot(\n",
              "                        '1932692f-d275-422b-aae1-7659d38a6e9e',\n",
              "                        [{\"alignmentgroup\": \"True\", \"bingroup\": \"x\", \"hoverlabel\": {\"namelength\": 0}, \"hovertemplate\": \"x=%{x}<br>count=%{y}\", \"legendgroup\": \"\", \"marker\": {\"color\": \"#636efa\"}, \"name\": \"\", \"offsetgroup\": \"\", \"orientation\": \"v\", \"showlegend\": false, \"type\": \"histogram\", \"x\": [0.0, 0.002, 0.0, 0.001, 0.0, 0.008, 0.009000000000000001, 0.0, 0.0, 0.002, 0.005, 0.001, 0.002, 0.0, 0.0, 0.004, 0.005, 0.0, 0.006999999999999999, 0.008, 0.0, 0.0, 0.003, 0.0, 0.001, 0.008, 0.006999999999999999, 0.004, 0.002, 0.002, 0.0, 0.0, 0.0, 0.0, 0.002, 0.001, 0.0, 0.0, 0.006, 0.0, 0.0, 0.0, 0.0, 0.0, 0.0, 0.0, 0.0, 0.0, 0.0, 0.0, 0.0, 0.0, 0.001, 0.0, 0.001, 0.001, 0.001, 0.0, 0.0, 0.0, 0.008, 0.0, 0.0, 0.0, 0.001, 0.0, 0.0, 0.001, 0.0, 0.0, 0.006, 0.002, 0.009000000000000001, 0.004, 0.004, 0.0, 0.004, 0.0, 0.002, 0.0, 0.0, 0.0, 0.002, 0.0, 0.003, 0.0, 0.006, 0.002, 0.0, 0.0, 0.004, 0.0, 0.006999999999999999, 0.0, 0.004, 0.0, 0.006, 0.003, 0.006999999999999999, 0.0, 0.0, 0.004, 0.0, 0.009000000000000001, 0.006999999999999999, 0.0, 0.0, 0.004, 0.012, 0.0, 0.0, 0.0, 0.0, 0.0, 0.0, 0.0, 0.0, 0.0, 0.0, 0.0, 0.001, 0.004, 0.0, 0.003, 0.0, 0.0, 0.004, 0.0, 0.005, 0.0, 0.002, 0.002, 0.005, 0.0, 0.0, 0.005, 0.006, 0.002, 0.0, 0.0, 0.003, 0.004, 0.0, 0.001, 0.003, 0.0, 0.0, 0.0, 0.0, 0.0, 0.006999999999999999, 0.006999999999999999, 0.0, 0.001, 0.0, 0.005, 0.0, 0.0, 0.0, 0.0, 0.013999999999999999, 0.0, 0.0, 0.006, 0.006999999999999999, 0.001, 0.0, 0.0, 0.002, 0.005, 0.001, 0.0, 0.0, 0.003, 0.0, 0.0, 0.0, 0.0, 0.011000000000000001, 0.0, 0.0, 0.0, 0.0, 0.0, 0.0, 0.01, 0.001, 0.0, 0.002, 0.003, 0.0, 0.0, 0.0, 0.0, 0.003, 0.0, 0.0, 0.0, 0.0, 0.009000000000000001, 0.01, 0.0, 0.004, 0.001, 0.0, 0.003, 0.005, 0.011000000000000001, 0.0, 0.0, 0.002, 0.0, 0.0, 0.001, 0.001, 0.0, 0.0, 0.0, 0.006999999999999999, 0.0, 0.004, 0.0, 0.0, 0.005, 0.0, 0.0, 0.0, 0.0, 0.005, 0.003, 0.0, 0.001, 0.0, 0.002, 0.004, 0.003, 0.0, 0.0, 0.004, 0.001, 0.0, 0.0, 0.001, 0.002, 0.004, 0.006999999999999999, 0.003, 0.0, 0.001, 0.006, 0.0, 0.0, 0.006, 0.0, 0.003, 0.002, 0.0, 0.008, 0.004, 0.005, 0.0, 0.0, 0.0, 0.004, 0.001, 0.004, 0.0, 0.009000000000000001, 0.0, 0.002, 0.0, 0.0, 0.0, 0.0, 0.001, 0.006, 0.003, 0.004, 0.0, 0.0, 0.0, 0.0, 0.0, 0.0, 0.011000000000000001, 0.003, 0.0, 0.0, 0.008, 0.0, 0.005, 0.002, 0.0, 0.0, 0.002, 0.004, 0.0, 0.0, 0.003, 0.0, 0.009000000000000001, 0.002, 0.0, 0.001, 0.001, 0.0, 0.0, 0.0, 0.0, 0.0, 0.0, 0.0, 0.0, 0.004, 0.0, 0.002, 0.0, 0.004, 0.0, 0.01, 0.0, 0.0, 0.003, 0.003, 0.0, 0.008, 0.0, 0.001, 0.0, 0.0, 0.0, 0.002, 0.0, 0.0, 0.0, 0.0, 0.0, 0.008, 0.0, 0.0, 0.002, 0.0, 0.006, 0.0, 0.0, 0.0, 0.0, 0.0, 0.0, 0.0, 0.003, 0.002, 0.0, 0.003, 0.001, 0.004, 0.0, 0.003, 0.0, 0.004, 0.001, 0.0, 0.0, 0.003, 0.006, 0.0, 0.0, 0.003, 0.0, 0.0, 0.002, 0.008, 0.0, 0.0, 0.0, 0.0, 0.0, 0.0, 0.003, 0.002, 0.0, 0.006, 0.009000000000000001, 0.0, 0.0, 0.0, 0.003, 0.0, 0.0, 0.002, 0.0, 0.0, 0.0, 0.0, 0.005, 0.002, 0.0, 0.003, 0.0, 0.0, 0.0, 0.0, 0.0, 0.0, 0.0, 0.005, 0.0, 0.001, 0.0, 0.0, 0.004, 0.008, 0.006999999999999999, 0.0, 0.0, 0.002, 0.0, 0.002, 0.002, 0.0, 0.0, 0.0, 0.002, 0.006999999999999999, 0.0, 0.0, 0.0, 0.006999999999999999, 0.005, 0.0, 0.006999999999999999, 0.0, 0.003, 0.0, 0.0, 0.001, 0.005, 0.006, 0.002, 0.005, 0.005, 0.0, 0.0, 0.0, 0.009000000000000001, 0.0, 0.0, 0.0, 0.004, 0.001, 0.006999999999999999, 0.0, 0.005, 0.0, 0.0, 0.0, 0.005, 0.0, 0.006, 0.0, 0.001, 0.0, 0.01, 0.005, 0.0, 0.0, 0.0, 0.001, 0.0, 0.0, 0.0, 0.0, 0.0, 0.0, 0.0, 0.0, 0.0, 0.0, 0.0, 0.0, 0.0, 0.0, 0.002, 0.0, 0.0, 0.0, 0.0, 0.003, 0.0, 0.001, 0.003, 0.003, 0.002, 0.004, 0.002, 0.003, 0.003, 0.003, 0.0, 0.003, 0.005, 0.0, 0.0, 0.0, 0.001, 0.005, 0.0, 0.01, 0.0, 0.0, 0.008, 0.0, 0.0, 0.0, 0.0, 0.0, 0.0, 0.0, 0.0, 0.0, 0.004, 0.009000000000000001, 0.0, 0.0, 0.0, 0.0, 0.001, 0.001, 0.005, 0.001, 0.0, 0.006999999999999999, 0.012, 0.001, 0.003, 0.001, 0.0, 0.0, 0.006999999999999999, 0.005, 0.0, 0.0, 0.0, 0.0, 0.002, 0.001, 0.0, 0.0, 0.0, 0.008, 0.009000000000000001, 0.0, 0.0, 0.003, 0.0, 0.0, 0.0, 0.003, 0.003, 0.0, 0.0, 0.008, 0.0, 0.0, 0.002, 0.0, 0.0, 0.006, 0.006999999999999999, 0.0, 0.0, 0.0, 0.0, 0.01, 0.0, 0.0, 0.008, 0.006, 0.0, 0.0, 0.008, 0.003, 0.0, 0.0, 0.005, 0.0, 0.0, 0.0, 0.0, 0.0, 0.008, 0.0, 0.0, 0.0, 0.006999999999999999, 0.003, 0.0, 0.006999999999999999, 0.005, 0.009000000000000001, 0.001, 0.006, 0.003, 0.0, 0.0, 0.003, 0.0, 0.0, 0.0, 0.001, 0.005, 0.0, 0.001, 0.0, 0.0, 0.0, 0.0, 0.0, 0.0, 0.001, 0.0, 0.003, 0.001, 0.0, 0.0, 0.004, 0.002, 0.0, 0.0, 0.003, 0.0, 0.003, 0.0, 0.0, 0.0, 0.006999999999999999, 0.006999999999999999, 0.004, 0.0, 0.004, 0.001, 0.008, 0.003, 0.0, 0.0, 0.0, 0.0, 0.0, 0.0, 0.0, 0.006999999999999999, 0.0, 0.01, 0.0, 0.0, 0.0, 0.0, 0.0, 0.002, 0.0, 0.006, 0.0, 0.002, 0.0, 0.0, 0.0, 0.004, 0.002, 0.0, 0.0, 0.0, 0.013000000000000001, 0.001, 0.0, 0.0, 0.0, 0.005, 0.001, 0.0, 0.0, 0.003, 0.0, 0.006999999999999999, 0.002, 0.0, 0.0, 0.003, 0.006, 0.0, 0.004, 0.0, 0.006, 0.0, 0.0, 0.003, 0.0, 0.0, 0.0, 0.004, 0.006999999999999999, 0.0, 0.001, 0.006, 0.0, 0.002, 0.003, 0.0, 0.0, 0.0, 0.0, 0.0, 0.0, 0.0, 0.0, 0.0, 0.002, 0.004, 0.003, 0.001, 0.0, 0.001, 0.0, 0.0, 0.01, 0.0, 0.0, 0.0, 0.012, 0.008, 0.002, 0.001, 0.0, 0.012, 0.005, 0.0, 0.0, 0.0, 0.005, 0.001, 0.0, 0.001, 0.0, 0.0, 0.0, 0.0, 0.0, 0.0, 0.002, 0.004, 0.0, 0.003, 0.0, 0.0, 0.0, 0.0, 0.0, 0.0, 0.0, 0.006, 0.0, 0.0, 0.002, 0.0, 0.0, 0.0, 0.0, 0.0, 0.0, 0.0, 0.005, 0.004, 0.0, 0.0, 0.0, 0.005, 0.001, 0.0, 0.0, 0.0, 0.0, 0.0, 0.005, 0.0, 0.003, 0.0, 0.0, 0.0, 0.001, 0.0, 0.0, 0.0, 0.003, 0.001, 0.001, 0.0, 0.0, 0.005, 0.005, 0.0, 0.006999999999999999, 0.0, 0.005, 0.0, 0.001, 0.004, 0.0, 0.001, 0.0, 0.0, 0.006, 0.0, 0.0, 0.0, 0.006, 0.0, 0.0, 0.0, 0.002, 0.0, 0.0, 0.005, 0.0, 0.012, 0.0, 0.0, 0.0, 0.0, 0.0, 0.0, 0.002, 0.0, 0.0, 0.002, 0.0, 0.006, 0.0, 0.005, 0.0, 0.0, 0.011000000000000001, 0.0, 0.0, 0.0, 0.0, 0.0, 0.006, 0.0, 0.0, 0.0, 0.0, 0.005, 0.004, 0.001, 0.005, 0.0, 0.0, 0.008, 0.005, 0.004, 0.0, 0.0, 0.0, 0.0, 0.0, 0.0, 0.0, 0.0, 0.001, 0.0, 0.004, 0.003, 0.006, 0.0, 0.008, 0.006999999999999999, 0.0, 0.004, 0.0, 0.0, 0.0, 0.0, 0.004, 0.0, 0.0, 0.002, 0.0, 0.004, 0.011000000000000001, 0.0, 0.006999999999999999, 0.008, 0.0, 0.004, 0.0, 0.0, 0.004, 0.0, 0.0, 0.001, 0.0, 0.008, 0.0, 0.001, 0.0, 0.0, 0.006999999999999999, 0.003, 0.0, 0.006, 0.001, 0.0, 0.0, 0.0, 0.0, 0.005, 0.0, 0.0, 0.0, 0.0, 0.003, 0.0, 0.009000000000000001, 0.0, 0.0, 0.0, 0.0, 0.0, 0.004, 0.001, 0.006, 0.0, 0.0, 0.0, 0.009000000000000001, 0.0, 0.001, 0.005, 0.001, 0.0, 0.013000000000000001, 0.0, 0.0, 0.0, 0.0, 0.002, 0.0, 0.0, 0.0, 0.002, 0.009000000000000001, 0.0, 0.0, 0.0, 0.0, 0.0, 0.0, 0.004, 0.0, 0.0, 0.005, 0.003, 0.0, 0.005, 0.003, 0.0, 0.0, 0.0, 0.0, 0.003, 0.005, 0.0, 0.015, 0.015, 0.0, 0.0, 0.0, 0.0, 0.0, 0.0, 0.0, 0.0, 0.0, 0.001, 0.006999999999999999, 0.0, 0.008, 0.0, 0.0, 0.0, 0.0, 0.01, 0.006999999999999999, 0.005, 0.0, 0.001, 0.0, 0.006, 0.0, 0.004, 0.0, 0.0, 0.002, 0.0, 0.009000000000000001, 0.004, 0.004, 0.005, 0.0, 0.0, 0.0, 0.0, 0.001, 0.0, 0.0, 0.0, 0.0, 0.001, 0.0, 0.0, 0.005, 0.003, 0.0, 0.002, 0.0, 0.001, 0.0, 0.0, 0.004, 0.003, 0.004, 0.0, 0.0, 0.002, 0.005, 0.006, 0.0, 0.004, 0.002, 0.004, 0.006, 0.005, 0.006, 0.004, 0.001, 0.006, 0.0, 0.0, 0.0, 0.0, 0.005, 0.006, 0.0, 0.0, 0.0, 0.005, 0.001, 0.0, 0.0, 0.002, 0.0, 0.008, 0.0, 0.001, 0.012, 0.0, 0.003, 0.005, 0.0, 0.0, 0.001, 0.002, 0.0, 0.0, 0.0, 0.0, 0.006, 0.0, 0.0, 0.006999999999999999, 0.0, 0.0, 0.0, 0.009000000000000001, 0.0, 0.0, 0.0, 0.006, 0.0, 0.001, 0.011000000000000001, 0.0, 0.006, 0.0, 0.006, 0.006, 0.0, 0.0, 0.001, 0.0, 0.0, 0.001, 0.0, 0.0, 0.0, 0.001, 0.0, 0.004, 0.0, 0.0, 0.002, 0.0, 0.001, 0.005, 0.001, 0.011000000000000001, 0.0, 0.006, 0.001, 0.0, 0.0, 0.0, 0.0, 0.0, 0.001, 0.0, 0.0, 0.0, 0.009000000000000001, 0.001, 0.0, 0.0, 0.001, 0.0, 0.0, 0.0, 0.008, 0.0, 0.0, 0.0, 0.004, 0.0, 0.0, 0.0, 0.0, 0.0, 0.0, 0.0, 0.0, 0.0, 0.0, 0.0, 0.004, 0.0, 0.004, 0.002, 0.0, 0.0, 0.006, 0.0, 0.005, 0.005, 0.0, 0.0, 0.0, 0.0, 0.0, 0.0, 0.0, 0.001, 0.005, 0.0, 0.0, 0.004, 0.0, 0.002, 0.013000000000000001, 0.001, 0.011000000000000001, 0.001, 0.0, 0.0, 0.0, 0.0, 0.0, 0.0, 0.0, 0.009000000000000001, 0.006, 0.0, 0.0, 0.001, 0.012, 0.005, 0.001, 0.008, 0.003, 0.0, 0.001, 0.0, 0.003, 0.0, 0.0, 0.002, 0.0, 0.0, 0.0, 0.008, 0.0, 0.0, 0.008, 0.0, 0.0, 0.0, 0.012, 0.0, 0.0, 0.0, 0.0, 0.001, 0.0, 0.002, 0.0, 0.0, 0.002, 0.0, 0.0, 0.006999999999999999, 0.009000000000000001, 0.009000000000000001, 0.003, 0.0, 0.0, 0.0, 0.002, 0.0, 0.0, 0.0, 0.0, 0.015, 0.0, 0.0, 0.001, 0.003, 0.0, 0.0, 0.009000000000000001, 0.008, 0.003, 0.002, 0.0, 0.0, 0.001, 0.004, 0.0, 0.003, 0.002, 0.0, 0.006, 0.008, 0.0, 0.001, 0.0, 0.001, 0.0, 0.0, 0.004, 0.0, 0.006, 0.004, 0.0, 0.002, 0.0, 0.0, 0.0, 0.0, 0.003, 0.006999999999999999, 0.002, 0.0, 0.005, 0.008, 0.0, 0.0, 0.006, 0.0, 0.0, 0.006, 0.0, 0.0, 0.0, 0.0, 0.008, 0.002, 0.002, 0.0, 0.003, 0.0, 0.0, 0.0, 0.0, 0.0, 0.0, 0.012, 0.0, 0.006, 0.0, 0.0, 0.001, 0.004, 0.0, 0.013000000000000001, 0.0, 0.003, 0.01, 0.001, 0.0, 0.003, 0.0, 0.008, 0.0, 0.002, 0.006, 0.005, 0.0, 0.008, 0.0, 0.004, 0.0, 0.009000000000000001, 0.008, 0.001, 0.003, 0.006999999999999999, 0.0, 0.0, 0.0, 0.0, 0.0, 0.001, 0.0, 0.0, 0.0, 0.0, 0.0, 0.0, 0.0, 0.0, 0.004, 0.004, 0.004, 0.0, 0.0, 0.0, 0.013999999999999999, 0.0, 0.002, 0.002, 0.0, 0.0, 0.0, 0.0, 0.008, 0.0, 0.0, 0.0, 0.004, 0.0, 0.0, 0.004, 0.0, 0.005, 0.0, 0.008, 0.0, 0.009000000000000001, 0.005, 0.001, 0.0, 0.006999999999999999, 0.0, 0.0, 0.0, 0.0, 0.005, 0.003, 0.0, 0.0, 0.006999999999999999, 0.0, 0.0, 0.0, 0.0, 0.0, 0.0, 0.003, 0.006, 0.0, 0.0, 0.0, 0.0, 0.0, 0.006, 0.0, 0.008, 0.005, 0.0, 0.003, 0.0, 0.0, 0.0, 0.0, 0.0, 0.002, 0.008, 0.0, 0.0, 0.0, 0.004, 0.004, 0.001, 0.0, 0.0, 0.003, 0.0, 0.0, 0.004, 0.001, 0.0, 0.0, 0.0, 0.0, 0.001, 0.0, 0.005, 0.0, 0.0, 0.0, 0.0, 0.0, 0.0, 0.0, 0.0, 0.001, 0.0, 0.009000000000000001, 0.0, 0.0, 0.0, 0.005, 0.0, 0.003, 0.0, 0.0, 0.0, 0.0, 0.0, 0.003, 0.0, 0.001, 0.002, 0.0, 0.0, 0.0, 0.0, 0.0, 0.0, 0.0, 0.008, 0.003, 0.003, 0.005, 0.005, 0.002, 0.004, 0.0, 0.002, 0.003, 0.0, 0.0, 0.0, 0.006999999999999999, 0.006999999999999999, 0.0, 0.003, 0.0, 0.004, 0.008, 0.002, 0.0, 0.0, 0.0, 0.0, 0.006, 0.0, 0.0, 0.013999999999999999, 0.002, 0.013999999999999999, 0.006, 0.0, 0.01, 0.001, 0.004, 0.005, 0.003, 0.002, 0.0, 0.0, 0.002, 0.005, 0.003, 0.0, 0.0, 0.0, 0.008, 0.0, 0.0, 0.006, 0.0, 0.002, 0.001, 0.0, 0.0, 0.006, 0.003, 0.003, 0.0, 0.008, 0.0, 0.005, 0.006999999999999999, 0.0, 0.0, 0.004, 0.002, 0.003, 0.0, 0.0, 0.0, 0.0, 0.0, 0.0, 0.0, 0.0, 0.0, 0.004, 0.0, 0.0, 0.0, 0.0, 0.0, 0.0, 0.001, 0.0, 0.003, 0.001, 0.006, 0.0, 0.0, 0.0, 0.0, 0.005, 0.0, 0.002, 0.0, 0.004, 0.0, 0.001, 0.001, 0.0, 0.0, 0.0, 0.0, 0.008, 0.009000000000000001, 0.005, 0.0, 0.0, 0.01, 0.0, 0.0, 0.0, 0.0, 0.0, 0.0, 0.0, 0.0, 0.004, 0.003, 0.004, 0.0, 0.0, 0.0, 0.0], \"xaxis\": \"x\", \"yaxis\": \"y\"}],\n",
              "                        {\"barmode\": \"relative\", \"legend\": {\"tracegroupgap\": 0}, \"template\": {\"data\": {\"bar\": [{\"error_x\": {\"color\": \"#2a3f5f\"}, \"error_y\": {\"color\": \"#2a3f5f\"}, \"marker\": {\"line\": {\"color\": \"#E5ECF6\", \"width\": 0.5}}, \"type\": \"bar\"}], \"barpolar\": [{\"marker\": {\"line\": {\"color\": \"#E5ECF6\", \"width\": 0.5}}, \"type\": \"barpolar\"}], \"carpet\": [{\"aaxis\": {\"endlinecolor\": \"#2a3f5f\", \"gridcolor\": \"white\", \"linecolor\": \"white\", \"minorgridcolor\": \"white\", \"startlinecolor\": \"#2a3f5f\"}, \"baxis\": {\"endlinecolor\": \"#2a3f5f\", \"gridcolor\": \"white\", \"linecolor\": \"white\", \"minorgridcolor\": \"white\", \"startlinecolor\": \"#2a3f5f\"}, \"type\": \"carpet\"}], \"choropleth\": [{\"colorbar\": {\"outlinewidth\": 0, \"ticks\": \"\"}, \"type\": \"choropleth\"}], \"contour\": [{\"colorbar\": {\"outlinewidth\": 0, \"ticks\": \"\"}, \"colorscale\": [[0.0, \"#0d0887\"], [0.1111111111111111, \"#46039f\"], [0.2222222222222222, \"#7201a8\"], [0.3333333333333333, \"#9c179e\"], [0.4444444444444444, \"#bd3786\"], [0.5555555555555556, \"#d8576b\"], [0.6666666666666666, \"#ed7953\"], [0.7777777777777778, \"#fb9f3a\"], [0.8888888888888888, \"#fdca26\"], [1.0, \"#f0f921\"]], \"type\": \"contour\"}], \"contourcarpet\": [{\"colorbar\": {\"outlinewidth\": 0, \"ticks\": \"\"}, \"type\": \"contourcarpet\"}], \"heatmap\": [{\"colorbar\": {\"outlinewidth\": 0, \"ticks\": \"\"}, \"colorscale\": [[0.0, \"#0d0887\"], [0.1111111111111111, \"#46039f\"], [0.2222222222222222, \"#7201a8\"], [0.3333333333333333, \"#9c179e\"], [0.4444444444444444, \"#bd3786\"], [0.5555555555555556, \"#d8576b\"], [0.6666666666666666, \"#ed7953\"], [0.7777777777777778, \"#fb9f3a\"], [0.8888888888888888, \"#fdca26\"], [1.0, \"#f0f921\"]], \"type\": \"heatmap\"}], \"heatmapgl\": [{\"colorbar\": {\"outlinewidth\": 0, \"ticks\": \"\"}, \"colorscale\": [[0.0, \"#0d0887\"], [0.1111111111111111, \"#46039f\"], [0.2222222222222222, \"#7201a8\"], [0.3333333333333333, \"#9c179e\"], [0.4444444444444444, \"#bd3786\"], [0.5555555555555556, \"#d8576b\"], [0.6666666666666666, \"#ed7953\"], [0.7777777777777778, \"#fb9f3a\"], [0.8888888888888888, \"#fdca26\"], [1.0, \"#f0f921\"]], \"type\": \"heatmapgl\"}], \"histogram\": [{\"marker\": {\"colorbar\": {\"outlinewidth\": 0, \"ticks\": \"\"}}, \"type\": \"histogram\"}], \"histogram2d\": [{\"colorbar\": {\"outlinewidth\": 0, \"ticks\": \"\"}, \"colorscale\": [[0.0, \"#0d0887\"], [0.1111111111111111, \"#46039f\"], [0.2222222222222222, \"#7201a8\"], [0.3333333333333333, \"#9c179e\"], [0.4444444444444444, \"#bd3786\"], [0.5555555555555556, \"#d8576b\"], [0.6666666666666666, \"#ed7953\"], [0.7777777777777778, \"#fb9f3a\"], [0.8888888888888888, \"#fdca26\"], [1.0, \"#f0f921\"]], \"type\": \"histogram2d\"}], \"histogram2dcontour\": [{\"colorbar\": {\"outlinewidth\": 0, \"ticks\": \"\"}, \"colorscale\": [[0.0, \"#0d0887\"], [0.1111111111111111, \"#46039f\"], [0.2222222222222222, \"#7201a8\"], [0.3333333333333333, \"#9c179e\"], [0.4444444444444444, \"#bd3786\"], [0.5555555555555556, \"#d8576b\"], [0.6666666666666666, \"#ed7953\"], [0.7777777777777778, \"#fb9f3a\"], [0.8888888888888888, \"#fdca26\"], [1.0, \"#f0f921\"]], \"type\": \"histogram2dcontour\"}], \"mesh3d\": [{\"colorbar\": {\"outlinewidth\": 0, \"ticks\": \"\"}, \"type\": \"mesh3d\"}], \"parcoords\": [{\"line\": {\"colorbar\": {\"outlinewidth\": 0, \"ticks\": \"\"}}, \"type\": \"parcoords\"}], \"pie\": [{\"automargin\": true, \"type\": \"pie\"}], \"scatter\": [{\"marker\": {\"colorbar\": {\"outlinewidth\": 0, \"ticks\": \"\"}}, \"type\": \"scatter\"}], \"scatter3d\": [{\"line\": {\"colorbar\": {\"outlinewidth\": 0, \"ticks\": \"\"}}, \"marker\": {\"colorbar\": {\"outlinewidth\": 0, \"ticks\": \"\"}}, \"type\": \"scatter3d\"}], \"scattercarpet\": [{\"marker\": {\"colorbar\": {\"outlinewidth\": 0, \"ticks\": \"\"}}, \"type\": \"scattercarpet\"}], \"scattergeo\": [{\"marker\": {\"colorbar\": {\"outlinewidth\": 0, \"ticks\": \"\"}}, \"type\": \"scattergeo\"}], \"scattergl\": [{\"marker\": {\"colorbar\": {\"outlinewidth\": 0, \"ticks\": \"\"}}, \"type\": \"scattergl\"}], \"scattermapbox\": [{\"marker\": {\"colorbar\": {\"outlinewidth\": 0, \"ticks\": \"\"}}, \"type\": \"scattermapbox\"}], \"scatterpolar\": [{\"marker\": {\"colorbar\": {\"outlinewidth\": 0, \"ticks\": \"\"}}, \"type\": \"scatterpolar\"}], \"scatterpolargl\": [{\"marker\": {\"colorbar\": {\"outlinewidth\": 0, \"ticks\": \"\"}}, \"type\": \"scatterpolargl\"}], \"scatterternary\": [{\"marker\": {\"colorbar\": {\"outlinewidth\": 0, \"ticks\": \"\"}}, \"type\": \"scatterternary\"}], \"surface\": [{\"colorbar\": {\"outlinewidth\": 0, \"ticks\": \"\"}, \"colorscale\": [[0.0, \"#0d0887\"], [0.1111111111111111, \"#46039f\"], [0.2222222222222222, \"#7201a8\"], [0.3333333333333333, \"#9c179e\"], [0.4444444444444444, \"#bd3786\"], [0.5555555555555556, \"#d8576b\"], [0.6666666666666666, \"#ed7953\"], [0.7777777777777778, \"#fb9f3a\"], [0.8888888888888888, \"#fdca26\"], [1.0, \"#f0f921\"]], \"type\": \"surface\"}], \"table\": [{\"cells\": {\"fill\": {\"color\": \"#EBF0F8\"}, \"line\": {\"color\": \"white\"}}, \"header\": {\"fill\": {\"color\": \"#C8D4E3\"}, \"line\": {\"color\": \"white\"}}, \"type\": \"table\"}]}, \"layout\": {\"annotationdefaults\": {\"arrowcolor\": \"#2a3f5f\", \"arrowhead\": 0, \"arrowwidth\": 1}, \"coloraxis\": {\"colorbar\": {\"outlinewidth\": 0, \"ticks\": \"\"}}, \"colorscale\": {\"diverging\": [[0, \"#8e0152\"], [0.1, \"#c51b7d\"], [0.2, \"#de77ae\"], [0.3, \"#f1b6da\"], [0.4, \"#fde0ef\"], [0.5, \"#f7f7f7\"], [0.6, \"#e6f5d0\"], [0.7, \"#b8e186\"], [0.8, \"#7fbc41\"], [0.9, \"#4d9221\"], [1, \"#276419\"]], \"sequential\": [[0.0, \"#0d0887\"], [0.1111111111111111, \"#46039f\"], [0.2222222222222222, \"#7201a8\"], [0.3333333333333333, \"#9c179e\"], [0.4444444444444444, \"#bd3786\"], [0.5555555555555556, \"#d8576b\"], [0.6666666666666666, \"#ed7953\"], [0.7777777777777778, \"#fb9f3a\"], [0.8888888888888888, \"#fdca26\"], [1.0, \"#f0f921\"]], \"sequentialminus\": [[0.0, \"#0d0887\"], [0.1111111111111111, \"#46039f\"], [0.2222222222222222, \"#7201a8\"], [0.3333333333333333, \"#9c179e\"], [0.4444444444444444, \"#bd3786\"], [0.5555555555555556, \"#d8576b\"], [0.6666666666666666, \"#ed7953\"], [0.7777777777777778, \"#fb9f3a\"], [0.8888888888888888, \"#fdca26\"], [1.0, \"#f0f921\"]]}, \"colorway\": [\"#636efa\", \"#EF553B\", \"#00cc96\", \"#ab63fa\", \"#FFA15A\", \"#19d3f3\", \"#FF6692\", \"#B6E880\", \"#FF97FF\", \"#FECB52\"], \"font\": {\"color\": \"#2a3f5f\"}, \"geo\": {\"bgcolor\": \"white\", \"lakecolor\": \"white\", \"landcolor\": \"#E5ECF6\", \"showlakes\": true, \"showland\": true, \"subunitcolor\": \"white\"}, \"hoverlabel\": {\"align\": \"left\"}, \"hovermode\": \"closest\", \"mapbox\": {\"style\": \"light\"}, \"paper_bgcolor\": \"white\", \"plot_bgcolor\": \"#E5ECF6\", \"polar\": {\"angularaxis\": {\"gridcolor\": \"white\", \"linecolor\": \"white\", \"ticks\": \"\"}, \"bgcolor\": \"#E5ECF6\", \"radialaxis\": {\"gridcolor\": \"white\", \"linecolor\": \"white\", \"ticks\": \"\"}}, \"scene\": {\"xaxis\": {\"backgroundcolor\": \"#E5ECF6\", \"gridcolor\": \"white\", \"gridwidth\": 2, \"linecolor\": \"white\", \"showbackground\": true, \"ticks\": \"\", \"zerolinecolor\": \"white\"}, \"yaxis\": {\"backgroundcolor\": \"#E5ECF6\", \"gridcolor\": \"white\", \"gridwidth\": 2, \"linecolor\": \"white\", \"showbackground\": true, \"ticks\": \"\", \"zerolinecolor\": \"white\"}, \"zaxis\": {\"backgroundcolor\": \"#E5ECF6\", \"gridcolor\": \"white\", \"gridwidth\": 2, \"linecolor\": \"white\", \"showbackground\": true, \"ticks\": \"\", \"zerolinecolor\": \"white\"}}, \"shapedefaults\": {\"line\": {\"color\": \"#2a3f5f\"}}, \"ternary\": {\"aaxis\": {\"gridcolor\": \"white\", \"linecolor\": \"white\", \"ticks\": \"\"}, \"baxis\": {\"gridcolor\": \"white\", \"linecolor\": \"white\", \"ticks\": \"\"}, \"bgcolor\": \"#E5ECF6\", \"caxis\": {\"gridcolor\": \"white\", \"linecolor\": \"white\", \"ticks\": \"\"}}, \"title\": {\"x\": 0.05}, \"xaxis\": {\"automargin\": true, \"gridcolor\": \"white\", \"linecolor\": \"white\", \"ticks\": \"\", \"title\": {\"standoff\": 15}, \"zerolinecolor\": \"white\", \"zerolinewidth\": 2}, \"yaxis\": {\"automargin\": true, \"gridcolor\": \"white\", \"linecolor\": \"white\", \"ticks\": \"\", \"title\": {\"standoff\": 15}, \"zerolinecolor\": \"white\", \"zerolinewidth\": 2}}}, \"title\": {\"text\": \"Histograma da coluna: light decelerations\"}, \"xaxis\": {\"anchor\": \"y\", \"domain\": [0.0, 1.0], \"title\": {\"text\": \"x\"}}, \"yaxis\": {\"anchor\": \"x\", \"domain\": [0.0, 1.0], \"title\": {\"text\": \"count\"}}},\n",
              "                        {\"responsive\": true}\n",
              "                    ).then(function(){\n",
              "                            \n",
              "var gd = document.getElementById('1932692f-d275-422b-aae1-7659d38a6e9e');\n",
              "var x = new MutationObserver(function (mutations, observer) {{\n",
              "        var display = window.getComputedStyle(gd).display;\n",
              "        if (!display || display === 'none') {{\n",
              "            console.log([gd, 'removed!']);\n",
              "            Plotly.purge(gd);\n",
              "            observer.disconnect();\n",
              "        }}\n",
              "}});\n",
              "\n",
              "// Listen for the removal of the full notebook cells\n",
              "var notebookContainer = gd.closest('#notebook-container');\n",
              "if (notebookContainer) {{\n",
              "    x.observe(notebookContainer, {childList: true});\n",
              "}}\n",
              "\n",
              "// Listen for the clearing of the current output cell\n",
              "var outputEl = gd.closest('.output');\n",
              "if (outputEl) {{\n",
              "    x.observe(outputEl, {childList: true});\n",
              "}}\n",
              "\n",
              "                        })\n",
              "                };\n",
              "                \n",
              "            </script>\n",
              "        </div>\n",
              "</body>\n",
              "</html>"
            ]
          },
          "metadata": {
            "tags": []
          }
        }
      ]
    },
    {
      "cell_type": "code",
      "metadata": {
        "colab": {
          "base_uri": "https://localhost:8080/",
          "height": 542
        },
        "id": "mP0jTTS1Fswm",
        "outputId": "6a86d8fa-2900-48e1-8552-512806f1e3ab"
      },
      "source": [
        "px.bar(x = train_set['severe_decelerations'].value_counts().sort_index().index,\n",
        "       y = train_set['severe_decelerations'].value_counts().sort_index().values,\n",
        "      color = train_set['severe_decelerations'].value_counts().sort_index().values,\n",
        "       color_continuous_scale = 'RdBu',\n",
        "       title = 'Frequência dos valores da coluna: severe decelerations',\n",
        "       labels = {'color' : 'Quantidade', 'x' : 'Valor', 'y':'Quantidade'}\n",
        "      )"
      ],
      "execution_count": 74,
      "outputs": [
        {
          "output_type": "display_data",
          "data": {
            "text/html": [
              "<html>\n",
              "<head><meta charset=\"utf-8\" /></head>\n",
              "<body>\n",
              "    <div>\n",
              "            <script src=\"https://cdnjs.cloudflare.com/ajax/libs/mathjax/2.7.5/MathJax.js?config=TeX-AMS-MML_SVG\"></script><script type=\"text/javascript\">if (window.MathJax) {MathJax.Hub.Config({SVG: {font: \"STIX-Web\"}});}</script>\n",
              "                <script type=\"text/javascript\">window.PlotlyConfig = {MathJaxConfig: 'local'};</script>\n",
              "        <script src=\"https://cdn.plot.ly/plotly-latest.min.js\"></script>    \n",
              "            <div id=\"2470adbd-e9d5-4a99-b289-2302b71347c0\" class=\"plotly-graph-div\" style=\"height:525px; width:100%;\"></div>\n",
              "            <script type=\"text/javascript\">\n",
              "                \n",
              "                    window.PLOTLYENV=window.PLOTLYENV || {};\n",
              "                    \n",
              "                if (document.getElementById(\"2470adbd-e9d5-4a99-b289-2302b71347c0\")) {\n",
              "                    Plotly.newPlot(\n",
              "                        '2470adbd-e9d5-4a99-b289-2302b71347c0',\n",
              "                        [{\"alignmentgroup\": \"True\", \"hoverlabel\": {\"namelength\": 0}, \"hovertemplate\": \"Valor=%{x}<br>Quantidade=%{marker.color}\", \"legendgroup\": \"\", \"marker\": {\"color\": [1590, 4], \"coloraxis\": \"coloraxis\"}, \"name\": \"\", \"offsetgroup\": \"\", \"orientation\": \"v\", \"showlegend\": false, \"textposition\": \"auto\", \"type\": \"bar\", \"x\": [0.0, 0.001], \"xaxis\": \"x\", \"y\": [1590, 4], \"yaxis\": \"y\"}],\n",
              "                        {\"barmode\": \"relative\", \"coloraxis\": {\"colorbar\": {\"title\": {\"text\": \"Quantidade\"}}, \"colorscale\": [[0.0, \"rgb(103,0,31)\"], [0.1, \"rgb(178,24,43)\"], [0.2, \"rgb(214,96,77)\"], [0.3, \"rgb(244,165,130)\"], [0.4, \"rgb(253,219,199)\"], [0.5, \"rgb(247,247,247)\"], [0.6, \"rgb(209,229,240)\"], [0.7, \"rgb(146,197,222)\"], [0.8, \"rgb(67,147,195)\"], [0.9, \"rgb(33,102,172)\"], [1.0, \"rgb(5,48,97)\"]]}, \"legend\": {\"tracegroupgap\": 0}, \"template\": {\"data\": {\"bar\": [{\"error_x\": {\"color\": \"#2a3f5f\"}, \"error_y\": {\"color\": \"#2a3f5f\"}, \"marker\": {\"line\": {\"color\": \"#E5ECF6\", \"width\": 0.5}}, \"type\": \"bar\"}], \"barpolar\": [{\"marker\": {\"line\": {\"color\": \"#E5ECF6\", \"width\": 0.5}}, \"type\": \"barpolar\"}], \"carpet\": [{\"aaxis\": {\"endlinecolor\": \"#2a3f5f\", \"gridcolor\": \"white\", \"linecolor\": \"white\", \"minorgridcolor\": \"white\", \"startlinecolor\": \"#2a3f5f\"}, \"baxis\": {\"endlinecolor\": \"#2a3f5f\", \"gridcolor\": \"white\", \"linecolor\": \"white\", \"minorgridcolor\": \"white\", \"startlinecolor\": \"#2a3f5f\"}, \"type\": \"carpet\"}], \"choropleth\": [{\"colorbar\": {\"outlinewidth\": 0, \"ticks\": \"\"}, \"type\": \"choropleth\"}], \"contour\": [{\"colorbar\": {\"outlinewidth\": 0, \"ticks\": \"\"}, \"colorscale\": [[0.0, \"#0d0887\"], [0.1111111111111111, \"#46039f\"], [0.2222222222222222, \"#7201a8\"], [0.3333333333333333, \"#9c179e\"], [0.4444444444444444, \"#bd3786\"], [0.5555555555555556, \"#d8576b\"], [0.6666666666666666, \"#ed7953\"], [0.7777777777777778, \"#fb9f3a\"], [0.8888888888888888, \"#fdca26\"], [1.0, \"#f0f921\"]], \"type\": \"contour\"}], \"contourcarpet\": [{\"colorbar\": {\"outlinewidth\": 0, \"ticks\": \"\"}, \"type\": \"contourcarpet\"}], \"heatmap\": [{\"colorbar\": {\"outlinewidth\": 0, \"ticks\": \"\"}, \"colorscale\": [[0.0, \"#0d0887\"], [0.1111111111111111, \"#46039f\"], [0.2222222222222222, \"#7201a8\"], [0.3333333333333333, \"#9c179e\"], [0.4444444444444444, \"#bd3786\"], [0.5555555555555556, \"#d8576b\"], [0.6666666666666666, \"#ed7953\"], [0.7777777777777778, \"#fb9f3a\"], [0.8888888888888888, \"#fdca26\"], [1.0, \"#f0f921\"]], \"type\": \"heatmap\"}], \"heatmapgl\": [{\"colorbar\": {\"outlinewidth\": 0, \"ticks\": \"\"}, \"colorscale\": [[0.0, \"#0d0887\"], [0.1111111111111111, \"#46039f\"], [0.2222222222222222, \"#7201a8\"], [0.3333333333333333, \"#9c179e\"], [0.4444444444444444, \"#bd3786\"], [0.5555555555555556, \"#d8576b\"], [0.6666666666666666, \"#ed7953\"], [0.7777777777777778, \"#fb9f3a\"], [0.8888888888888888, \"#fdca26\"], [1.0, \"#f0f921\"]], \"type\": \"heatmapgl\"}], \"histogram\": [{\"marker\": {\"colorbar\": {\"outlinewidth\": 0, \"ticks\": \"\"}}, \"type\": \"histogram\"}], \"histogram2d\": [{\"colorbar\": {\"outlinewidth\": 0, \"ticks\": \"\"}, \"colorscale\": [[0.0, \"#0d0887\"], [0.1111111111111111, \"#46039f\"], [0.2222222222222222, \"#7201a8\"], [0.3333333333333333, \"#9c179e\"], [0.4444444444444444, \"#bd3786\"], [0.5555555555555556, \"#d8576b\"], [0.6666666666666666, \"#ed7953\"], [0.7777777777777778, \"#fb9f3a\"], [0.8888888888888888, \"#fdca26\"], [1.0, \"#f0f921\"]], \"type\": \"histogram2d\"}], \"histogram2dcontour\": [{\"colorbar\": {\"outlinewidth\": 0, \"ticks\": \"\"}, \"colorscale\": [[0.0, \"#0d0887\"], [0.1111111111111111, \"#46039f\"], [0.2222222222222222, \"#7201a8\"], [0.3333333333333333, \"#9c179e\"], [0.4444444444444444, \"#bd3786\"], [0.5555555555555556, \"#d8576b\"], [0.6666666666666666, \"#ed7953\"], [0.7777777777777778, \"#fb9f3a\"], [0.8888888888888888, \"#fdca26\"], [1.0, \"#f0f921\"]], \"type\": \"histogram2dcontour\"}], \"mesh3d\": [{\"colorbar\": {\"outlinewidth\": 0, \"ticks\": \"\"}, \"type\": \"mesh3d\"}], \"parcoords\": [{\"line\": {\"colorbar\": {\"outlinewidth\": 0, \"ticks\": \"\"}}, \"type\": \"parcoords\"}], \"pie\": [{\"automargin\": true, \"type\": \"pie\"}], \"scatter\": [{\"marker\": {\"colorbar\": {\"outlinewidth\": 0, \"ticks\": \"\"}}, \"type\": \"scatter\"}], \"scatter3d\": [{\"line\": {\"colorbar\": {\"outlinewidth\": 0, \"ticks\": \"\"}}, \"marker\": {\"colorbar\": {\"outlinewidth\": 0, \"ticks\": \"\"}}, \"type\": \"scatter3d\"}], \"scattercarpet\": [{\"marker\": {\"colorbar\": {\"outlinewidth\": 0, \"ticks\": \"\"}}, \"type\": \"scattercarpet\"}], \"scattergeo\": [{\"marker\": {\"colorbar\": {\"outlinewidth\": 0, \"ticks\": \"\"}}, \"type\": \"scattergeo\"}], \"scattergl\": [{\"marker\": {\"colorbar\": {\"outlinewidth\": 0, \"ticks\": \"\"}}, \"type\": \"scattergl\"}], \"scattermapbox\": [{\"marker\": {\"colorbar\": {\"outlinewidth\": 0, \"ticks\": \"\"}}, \"type\": \"scattermapbox\"}], \"scatterpolar\": [{\"marker\": {\"colorbar\": {\"outlinewidth\": 0, \"ticks\": \"\"}}, \"type\": \"scatterpolar\"}], \"scatterpolargl\": [{\"marker\": {\"colorbar\": {\"outlinewidth\": 0, \"ticks\": \"\"}}, \"type\": \"scatterpolargl\"}], \"scatterternary\": [{\"marker\": {\"colorbar\": {\"outlinewidth\": 0, \"ticks\": \"\"}}, \"type\": \"scatterternary\"}], \"surface\": [{\"colorbar\": {\"outlinewidth\": 0, \"ticks\": \"\"}, \"colorscale\": [[0.0, \"#0d0887\"], [0.1111111111111111, \"#46039f\"], [0.2222222222222222, \"#7201a8\"], [0.3333333333333333, \"#9c179e\"], [0.4444444444444444, \"#bd3786\"], [0.5555555555555556, \"#d8576b\"], [0.6666666666666666, \"#ed7953\"], [0.7777777777777778, \"#fb9f3a\"], [0.8888888888888888, \"#fdca26\"], [1.0, \"#f0f921\"]], \"type\": \"surface\"}], \"table\": [{\"cells\": {\"fill\": {\"color\": \"#EBF0F8\"}, \"line\": {\"color\": \"white\"}}, \"header\": {\"fill\": {\"color\": \"#C8D4E3\"}, \"line\": {\"color\": \"white\"}}, \"type\": \"table\"}]}, \"layout\": {\"annotationdefaults\": {\"arrowcolor\": \"#2a3f5f\", \"arrowhead\": 0, \"arrowwidth\": 1}, \"coloraxis\": {\"colorbar\": {\"outlinewidth\": 0, \"ticks\": \"\"}}, \"colorscale\": {\"diverging\": [[0, \"#8e0152\"], [0.1, \"#c51b7d\"], [0.2, \"#de77ae\"], [0.3, \"#f1b6da\"], [0.4, \"#fde0ef\"], [0.5, \"#f7f7f7\"], [0.6, \"#e6f5d0\"], [0.7, \"#b8e186\"], [0.8, \"#7fbc41\"], [0.9, \"#4d9221\"], [1, \"#276419\"]], \"sequential\": [[0.0, \"#0d0887\"], [0.1111111111111111, \"#46039f\"], [0.2222222222222222, \"#7201a8\"], [0.3333333333333333, \"#9c179e\"], [0.4444444444444444, \"#bd3786\"], [0.5555555555555556, \"#d8576b\"], [0.6666666666666666, \"#ed7953\"], [0.7777777777777778, \"#fb9f3a\"], [0.8888888888888888, \"#fdca26\"], [1.0, \"#f0f921\"]], \"sequentialminus\": [[0.0, \"#0d0887\"], [0.1111111111111111, \"#46039f\"], [0.2222222222222222, \"#7201a8\"], [0.3333333333333333, \"#9c179e\"], [0.4444444444444444, \"#bd3786\"], [0.5555555555555556, \"#d8576b\"], [0.6666666666666666, \"#ed7953\"], [0.7777777777777778, \"#fb9f3a\"], [0.8888888888888888, \"#fdca26\"], [1.0, \"#f0f921\"]]}, \"colorway\": [\"#636efa\", \"#EF553B\", \"#00cc96\", \"#ab63fa\", \"#FFA15A\", \"#19d3f3\", \"#FF6692\", \"#B6E880\", \"#FF97FF\", \"#FECB52\"], \"font\": {\"color\": \"#2a3f5f\"}, \"geo\": {\"bgcolor\": \"white\", \"lakecolor\": \"white\", \"landcolor\": \"#E5ECF6\", \"showlakes\": true, \"showland\": true, \"subunitcolor\": \"white\"}, \"hoverlabel\": {\"align\": \"left\"}, \"hovermode\": \"closest\", \"mapbox\": {\"style\": \"light\"}, \"paper_bgcolor\": \"white\", \"plot_bgcolor\": \"#E5ECF6\", \"polar\": {\"angularaxis\": {\"gridcolor\": \"white\", \"linecolor\": \"white\", \"ticks\": \"\"}, \"bgcolor\": \"#E5ECF6\", \"radialaxis\": {\"gridcolor\": \"white\", \"linecolor\": \"white\", \"ticks\": \"\"}}, \"scene\": {\"xaxis\": {\"backgroundcolor\": \"#E5ECF6\", \"gridcolor\": \"white\", \"gridwidth\": 2, \"linecolor\": \"white\", \"showbackground\": true, \"ticks\": \"\", \"zerolinecolor\": \"white\"}, \"yaxis\": {\"backgroundcolor\": \"#E5ECF6\", \"gridcolor\": \"white\", \"gridwidth\": 2, \"linecolor\": \"white\", \"showbackground\": true, \"ticks\": \"\", \"zerolinecolor\": \"white\"}, \"zaxis\": {\"backgroundcolor\": \"#E5ECF6\", \"gridcolor\": \"white\", \"gridwidth\": 2, \"linecolor\": \"white\", \"showbackground\": true, \"ticks\": \"\", \"zerolinecolor\": \"white\"}}, \"shapedefaults\": {\"line\": {\"color\": \"#2a3f5f\"}}, \"ternary\": {\"aaxis\": {\"gridcolor\": \"white\", \"linecolor\": \"white\", \"ticks\": \"\"}, \"baxis\": {\"gridcolor\": \"white\", \"linecolor\": \"white\", \"ticks\": \"\"}, \"bgcolor\": \"#E5ECF6\", \"caxis\": {\"gridcolor\": \"white\", \"linecolor\": \"white\", \"ticks\": \"\"}}, \"title\": {\"x\": 0.05}, \"xaxis\": {\"automargin\": true, \"gridcolor\": \"white\", \"linecolor\": \"white\", \"ticks\": \"\", \"title\": {\"standoff\": 15}, \"zerolinecolor\": \"white\", \"zerolinewidth\": 2}, \"yaxis\": {\"automargin\": true, \"gridcolor\": \"white\", \"linecolor\": \"white\", \"ticks\": \"\", \"title\": {\"standoff\": 15}, \"zerolinecolor\": \"white\", \"zerolinewidth\": 2}}}, \"title\": {\"text\": \"Frequ\\u00eancia dos valores da coluna: severe decelerations\"}, \"xaxis\": {\"anchor\": \"y\", \"domain\": [0.0, 1.0], \"title\": {\"text\": \"Valor\"}}, \"yaxis\": {\"anchor\": \"x\", \"domain\": [0.0, 1.0], \"title\": {\"text\": \"Quantidade\"}}},\n",
              "                        {\"responsive\": true}\n",
              "                    ).then(function(){\n",
              "                            \n",
              "var gd = document.getElementById('2470adbd-e9d5-4a99-b289-2302b71347c0');\n",
              "var x = new MutationObserver(function (mutations, observer) {{\n",
              "        var display = window.getComputedStyle(gd).display;\n",
              "        if (!display || display === 'none') {{\n",
              "            console.log([gd, 'removed!']);\n",
              "            Plotly.purge(gd);\n",
              "            observer.disconnect();\n",
              "        }}\n",
              "}});\n",
              "\n",
              "// Listen for the removal of the full notebook cells\n",
              "var notebookContainer = gd.closest('#notebook-container');\n",
              "if (notebookContainer) {{\n",
              "    x.observe(notebookContainer, {childList: true});\n",
              "}}\n",
              "\n",
              "// Listen for the clearing of the current output cell\n",
              "var outputEl = gd.closest('.output');\n",
              "if (outputEl) {{\n",
              "    x.observe(outputEl, {childList: true});\n",
              "}}\n",
              "\n",
              "                        })\n",
              "                };\n",
              "                \n",
              "            </script>\n",
              "        </div>\n",
              "</body>\n",
              "</html>"
            ]
          },
          "metadata": {
            "tags": []
          }
        }
      ]
    },
    {
      "cell_type": "markdown",
      "metadata": {
        "id": "KJaY9CuJg_G6"
      },
      "source": [
        "A coluna acima tem apenas dois valores, tornando-a categórica."
      ]
    },
    {
      "cell_type": "code",
      "metadata": {
        "colab": {
          "base_uri": "https://localhost:8080/",
          "height": 542
        },
        "id": "hET2LvoQFtxd",
        "outputId": "3efa8745-ef21-4d4f-b699-4cdba1980e0e"
      },
      "source": [
        "px.histogram(x =train_set['prolongued_decelerations'],title  = 'Histograma da coluna: prolongued decelerations')"
      ],
      "execution_count": 75,
      "outputs": [
        {
          "output_type": "display_data",
          "data": {
            "text/html": [
              "<html>\n",
              "<head><meta charset=\"utf-8\" /></head>\n",
              "<body>\n",
              "    <div>\n",
              "            <script src=\"https://cdnjs.cloudflare.com/ajax/libs/mathjax/2.7.5/MathJax.js?config=TeX-AMS-MML_SVG\"></script><script type=\"text/javascript\">if (window.MathJax) {MathJax.Hub.Config({SVG: {font: \"STIX-Web\"}});}</script>\n",
              "                <script type=\"text/javascript\">window.PlotlyConfig = {MathJaxConfig: 'local'};</script>\n",
              "        <script src=\"https://cdn.plot.ly/plotly-latest.min.js\"></script>    \n",
              "            <div id=\"72abd06b-46cb-44a2-ad86-6ac3c41d8cfa\" class=\"plotly-graph-div\" style=\"height:525px; width:100%;\"></div>\n",
              "            <script type=\"text/javascript\">\n",
              "                \n",
              "                    window.PLOTLYENV=window.PLOTLYENV || {};\n",
              "                    \n",
              "                if (document.getElementById(\"72abd06b-46cb-44a2-ad86-6ac3c41d8cfa\")) {\n",
              "                    Plotly.newPlot(\n",
              "                        '72abd06b-46cb-44a2-ad86-6ac3c41d8cfa',\n",
              "                        [{\"alignmentgroup\": \"True\", \"bingroup\": \"x\", \"hoverlabel\": {\"namelength\": 0}, \"hovertemplate\": \"x=%{x}<br>count=%{y}\", \"legendgroup\": \"\", \"marker\": {\"color\": \"#636efa\"}, \"name\": \"\", \"offsetgroup\": \"\", \"orientation\": \"v\", \"showlegend\": false, \"type\": \"histogram\", \"x\": [0.0, 0.0, 0.0, 0.0, 0.0, 0.002, 0.0, 0.0, 0.0, 0.0, 0.002, 0.0, 0.0, 0.0, 0.0, 0.0, 0.0, 0.0, 0.001, 0.0, 0.0, 0.0, 0.0, 0.0, 0.0, 0.0, 0.0, 0.0, 0.0, 0.0, 0.0, 0.0, 0.0, 0.0, 0.0, 0.0, 0.0, 0.0, 0.0, 0.0, 0.0, 0.0, 0.0, 0.0, 0.0, 0.0, 0.0, 0.0, 0.0, 0.0, 0.0, 0.0, 0.002, 0.0, 0.0, 0.0, 0.0, 0.0, 0.0, 0.0, 0.002, 0.0, 0.0, 0.0, 0.0, 0.0, 0.0, 0.0, 0.0, 0.0, 0.001, 0.0, 0.0, 0.0, 0.004, 0.0, 0.0, 0.0, 0.0, 0.0, 0.0, 0.0, 0.0, 0.0, 0.0, 0.0, 0.0, 0.0, 0.0, 0.0, 0.0, 0.0, 0.0, 0.0, 0.0, 0.0, 0.0, 0.0, 0.0, 0.0, 0.0, 0.004, 0.0, 0.002, 0.002, 0.0, 0.0, 0.001, 0.0, 0.0, 0.0, 0.0, 0.0, 0.0, 0.0, 0.0, 0.0, 0.0, 0.0, 0.0, 0.0, 0.001, 0.0, 0.0, 0.0, 0.0, 0.0, 0.0, 0.0, 0.0, 0.0, 0.0, 0.0, 0.0, 0.0, 0.002, 0.0, 0.0, 0.0, 0.0, 0.0, 0.0, 0.0, 0.0, 0.003, 0.0, 0.0, 0.0, 0.0, 0.0, 0.002, 0.0, 0.0, 0.0, 0.0, 0.001, 0.0, 0.0, 0.0, 0.0, 0.0, 0.0, 0.0, 0.0, 0.002, 0.0, 0.0, 0.0, 0.0, 0.002, 0.0, 0.0, 0.0, 0.0, 0.0, 0.0, 0.0, 0.0, 0.0, 0.0, 0.0, 0.0, 0.0, 0.0, 0.0, 0.001, 0.001, 0.0, 0.0, 0.002, 0.0, 0.0, 0.0, 0.0, 0.0, 0.0, 0.0, 0.0, 0.0, 0.0, 0.0, 0.0, 0.0, 0.0, 0.0, 0.001, 0.0, 0.0, 0.0, 0.0, 0.0, 0.0, 0.0, 0.0, 0.0, 0.0, 0.0, 0.0, 0.0, 0.0, 0.001, 0.0, 0.0, 0.0, 0.0, 0.0, 0.0, 0.0, 0.0, 0.002, 0.0, 0.0, 0.0, 0.0, 0.001, 0.003, 0.0, 0.0, 0.0, 0.0, 0.0, 0.0, 0.0, 0.0, 0.0, 0.0, 0.001, 0.0, 0.0, 0.0, 0.0, 0.0, 0.002, 0.0, 0.003, 0.0, 0.0, 0.0, 0.0, 0.0, 0.0, 0.0, 0.0, 0.0, 0.0, 0.0, 0.0, 0.0, 0.0, 0.0, 0.0, 0.0, 0.0, 0.0, 0.0, 0.0, 0.0, 0.0, 0.0, 0.0, 0.0, 0.0, 0.0, 0.0, 0.0, 0.0, 0.0, 0.0, 0.0, 0.0, 0.0, 0.0, 0.0, 0.0, 0.0, 0.0, 0.0, 0.0, 0.002, 0.005, 0.0, 0.0, 0.0, 0.0, 0.0, 0.0, 0.0, 0.0, 0.0, 0.0, 0.0, 0.0, 0.0, 0.0, 0.0, 0.0, 0.0, 0.0, 0.0, 0.0, 0.0, 0.0, 0.002, 0.0, 0.0, 0.002, 0.0, 0.0, 0.0, 0.0, 0.0, 0.001, 0.0, 0.001, 0.0, 0.0, 0.0, 0.0, 0.0, 0.0, 0.0, 0.0, 0.0, 0.0, 0.0, 0.0, 0.0, 0.0, 0.0, 0.0, 0.003, 0.002, 0.0, 0.0, 0.001, 0.003, 0.0, 0.0, 0.0, 0.0, 0.0, 0.0, 0.0, 0.0, 0.001, 0.0, 0.0, 0.0, 0.0, 0.0, 0.0, 0.0, 0.0, 0.0, 0.0, 0.0, 0.0, 0.0, 0.0, 0.0, 0.0, 0.0, 0.0, 0.0, 0.0, 0.0, 0.0, 0.0, 0.0, 0.0, 0.0, 0.0, 0.0, 0.0, 0.0, 0.0, 0.0, 0.003, 0.0, 0.0, 0.0, 0.0, 0.0, 0.0, 0.0, 0.002, 0.0, 0.0, 0.0, 0.0, 0.0, 0.0, 0.0, 0.0, 0.0, 0.0, 0.0, 0.0, 0.0, 0.0, 0.0, 0.0, 0.0, 0.0, 0.0, 0.0, 0.0, 0.0, 0.0, 0.0, 0.001, 0.0, 0.0, 0.0, 0.0, 0.0, 0.0, 0.0, 0.0, 0.0, 0.0, 0.0, 0.0, 0.0, 0.0, 0.0, 0.0, 0.0, 0.0, 0.0, 0.002, 0.0, 0.0, 0.0, 0.0, 0.0, 0.001, 0.0, 0.0, 0.0, 0.0, 0.0, 0.0, 0.001, 0.0, 0.0, 0.0, 0.0, 0.0, 0.0, 0.0, 0.0, 0.0, 0.0, 0.0, 0.0, 0.0, 0.0, 0.0, 0.0, 0.0, 0.0, 0.0, 0.0, 0.0, 0.0, 0.0, 0.0, 0.0, 0.0, 0.0, 0.0, 0.0, 0.0, 0.002, 0.0, 0.0, 0.0, 0.0, 0.0, 0.0, 0.0, 0.0, 0.0, 0.0, 0.0, 0.0, 0.0, 0.0, 0.0, 0.0, 0.0, 0.0, 0.0, 0.0, 0.0, 0.0, 0.0, 0.0, 0.0, 0.0, 0.0, 0.0, 0.0, 0.0, 0.0, 0.0, 0.0, 0.001, 0.0, 0.0, 0.0, 0.0, 0.0, 0.0, 0.0, 0.0, 0.0, 0.001, 0.0, 0.0, 0.0, 0.0, 0.0, 0.002, 0.0, 0.0, 0.0, 0.0, 0.0, 0.0, 0.0, 0.0, 0.0, 0.0, 0.0, 0.0, 0.001, 0.0, 0.0, 0.0, 0.0, 0.0, 0.0, 0.002, 0.001, 0.0, 0.0, 0.0, 0.0, 0.0, 0.0, 0.0, 0.0, 0.0, 0.0, 0.001, 0.0, 0.0, 0.0, 0.0, 0.0, 0.0, 0.0, 0.0, 0.0, 0.0, 0.0, 0.0, 0.0, 0.0, 0.0, 0.0, 0.0, 0.0, 0.0, 0.0, 0.001, 0.0, 0.0, 0.0, 0.0, 0.0, 0.0, 0.0, 0.0, 0.0, 0.0, 0.0, 0.0, 0.002, 0.0, 0.0, 0.0, 0.0, 0.0, 0.0, 0.0, 0.0, 0.0, 0.0, 0.0, 0.0, 0.0, 0.0, 0.0, 0.0, 0.0, 0.0, 0.0, 0.0, 0.0, 0.0, 0.0, 0.0, 0.001, 0.0, 0.0, 0.0, 0.0, 0.0, 0.003, 0.0, 0.0, 0.0, 0.0, 0.0, 0.0, 0.0, 0.0, 0.001, 0.0, 0.0, 0.0, 0.0, 0.0, 0.0, 0.0, 0.0, 0.0, 0.002, 0.0, 0.0, 0.0, 0.0, 0.0, 0.0, 0.0, 0.0, 0.0, 0.0, 0.0, 0.0, 0.0, 0.0, 0.0, 0.0, 0.0, 0.002, 0.0, 0.0, 0.0, 0.0, 0.0, 0.0, 0.0, 0.0, 0.0, 0.0, 0.0, 0.0, 0.0, 0.0, 0.0, 0.0, 0.0, 0.0, 0.0, 0.0, 0.0, 0.0, 0.0, 0.0, 0.0, 0.0, 0.0, 0.0, 0.0, 0.0, 0.0, 0.0, 0.0, 0.0, 0.0, 0.0, 0.0, 0.0, 0.002, 0.0, 0.0, 0.0, 0.0, 0.0, 0.001, 0.0, 0.0, 0.0, 0.0, 0.0, 0.004, 0.0, 0.0, 0.0, 0.0, 0.0, 0.0, 0.0, 0.0, 0.0, 0.0, 0.0, 0.0, 0.0, 0.0, 0.0, 0.0, 0.0, 0.0, 0.0, 0.0, 0.0, 0.0, 0.005, 0.0, 0.0, 0.0, 0.0, 0.0, 0.0, 0.0, 0.0, 0.0, 0.0, 0.0, 0.0, 0.0, 0.0, 0.0, 0.0, 0.0, 0.0, 0.0, 0.0, 0.0, 0.001, 0.0, 0.0, 0.0, 0.0, 0.0, 0.0, 0.0, 0.0, 0.0, 0.0, 0.0, 0.0, 0.0, 0.0, 0.0, 0.0, 0.0, 0.0, 0.0, 0.0, 0.0, 0.0, 0.0, 0.0, 0.0, 0.0, 0.0, 0.0, 0.0, 0.0, 0.0, 0.0, 0.0, 0.0, 0.0, 0.0, 0.0, 0.0, 0.0, 0.0, 0.0, 0.0, 0.0, 0.0, 0.0, 0.0, 0.0, 0.002, 0.0, 0.0, 0.0, 0.0, 0.0, 0.0, 0.0, 0.0, 0.0, 0.0, 0.0, 0.0, 0.0, 0.0, 0.0, 0.0, 0.0, 0.0, 0.0, 0.0, 0.0, 0.0, 0.002, 0.0, 0.0, 0.0, 0.0, 0.0, 0.0, 0.0, 0.0, 0.0, 0.0, 0.0, 0.0, 0.0, 0.0, 0.0, 0.0, 0.0, 0.0, 0.0, 0.0, 0.0, 0.0, 0.0, 0.0, 0.0, 0.002, 0.0, 0.0, 0.0, 0.0, 0.0, 0.0, 0.0, 0.0, 0.0, 0.002, 0.0, 0.0, 0.001, 0.0, 0.0, 0.002, 0.0, 0.0, 0.0, 0.0, 0.0, 0.0, 0.0, 0.0, 0.0, 0.0, 0.0, 0.0, 0.0, 0.0, 0.0, 0.0, 0.0, 0.0, 0.003, 0.0, 0.0, 0.0, 0.0, 0.0, 0.0, 0.0, 0.0, 0.0, 0.0, 0.0, 0.0, 0.0, 0.0, 0.002, 0.0, 0.0, 0.0, 0.0, 0.0, 0.001, 0.0, 0.0, 0.0, 0.0, 0.0, 0.0, 0.0, 0.0, 0.0, 0.0, 0.0, 0.0, 0.0, 0.0, 0.0, 0.0, 0.0, 0.0, 0.0, 0.0, 0.0, 0.0, 0.003, 0.0, 0.0, 0.0, 0.0, 0.0, 0.0, 0.0, 0.0, 0.001, 0.0, 0.0, 0.0, 0.0, 0.0, 0.0, 0.0, 0.0, 0.001, 0.0, 0.0, 0.0, 0.0, 0.0, 0.0, 0.0, 0.0, 0.0, 0.0, 0.0, 0.0, 0.0, 0.0, 0.001, 0.0, 0.0, 0.0, 0.0, 0.0, 0.0, 0.002, 0.0, 0.001, 0.0, 0.0, 0.0, 0.0, 0.0, 0.0, 0.0, 0.0, 0.001, 0.0, 0.0, 0.0, 0.001, 0.0, 0.0, 0.0, 0.0, 0.0, 0.0, 0.0, 0.0, 0.0, 0.0, 0.0, 0.0, 0.0, 0.0, 0.0, 0.0, 0.0, 0.0, 0.0, 0.0, 0.0, 0.0, 0.003, 0.0, 0.0, 0.0, 0.0, 0.001, 0.0, 0.0, 0.0, 0.0, 0.0, 0.0, 0.0, 0.0, 0.0, 0.0, 0.0, 0.0, 0.0, 0.0, 0.0, 0.0, 0.003, 0.0, 0.0, 0.0, 0.0, 0.0, 0.0, 0.0, 0.0, 0.0, 0.0, 0.0, 0.0, 0.0, 0.0, 0.0, 0.0, 0.0, 0.0, 0.0, 0.0, 0.0, 0.0, 0.0, 0.0, 0.001, 0.0, 0.0, 0.0, 0.0, 0.0, 0.0, 0.001, 0.0, 0.0, 0.0, 0.002, 0.0, 0.004, 0.0, 0.0, 0.0, 0.0, 0.0, 0.0, 0.0, 0.0, 0.0, 0.0, 0.0, 0.0, 0.0, 0.0, 0.0, 0.003, 0.0, 0.0, 0.0, 0.0, 0.0, 0.0, 0.0, 0.001, 0.0, 0.0, 0.0, 0.0, 0.0, 0.0, 0.0, 0.0, 0.0, 0.0, 0.0, 0.0, 0.0, 0.0, 0.0, 0.0, 0.0, 0.0, 0.0, 0.0, 0.0, 0.0, 0.001, 0.0, 0.0, 0.0, 0.0, 0.0, 0.0, 0.0, 0.0, 0.0, 0.0, 0.0, 0.0, 0.0, 0.0, 0.0, 0.0, 0.0, 0.0, 0.0, 0.0, 0.0, 0.0, 0.0, 0.0, 0.0, 0.0, 0.0, 0.0, 0.0, 0.0, 0.0, 0.0, 0.0, 0.0, 0.0, 0.0, 0.0, 0.0, 0.0, 0.0, 0.0, 0.0, 0.0, 0.0, 0.0, 0.0, 0.0, 0.0, 0.0, 0.0, 0.0, 0.0, 0.0, 0.0, 0.0, 0.0, 0.001, 0.0, 0.002, 0.0, 0.0, 0.0, 0.0, 0.0, 0.0, 0.0, 0.0, 0.0, 0.0, 0.0, 0.002, 0.0, 0.0, 0.002, 0.0, 0.0, 0.0, 0.0, 0.0, 0.0, 0.0, 0.0, 0.0, 0.0, 0.0, 0.0, 0.0, 0.002, 0.0, 0.0, 0.002, 0.002, 0.0, 0.0, 0.0, 0.004, 0.0, 0.0, 0.0, 0.0, 0.0, 0.0, 0.0, 0.0, 0.0, 0.0, 0.0, 0.0, 0.0, 0.0, 0.0, 0.0, 0.0, 0.0, 0.0, 0.0, 0.0, 0.0, 0.0, 0.002, 0.0, 0.002, 0.001, 0.0, 0.0, 0.0, 0.0, 0.0, 0.0, 0.0, 0.0, 0.002, 0.0, 0.0, 0.0, 0.0, 0.0, 0.0, 0.0, 0.0, 0.001, 0.004, 0.0, 0.0, 0.0, 0.0, 0.0, 0.002, 0.0, 0.0, 0.002, 0.0, 0.0, 0.0, 0.0, 0.0, 0.0, 0.003, 0.0, 0.001, 0.0, 0.0, 0.0, 0.0, 0.0, 0.002, 0.0, 0.0, 0.0, 0.0, 0.0, 0.0, 0.0, 0.0, 0.0, 0.0, 0.0, 0.0, 0.0, 0.0, 0.004, 0.0, 0.0, 0.0, 0.0, 0.001, 0.0, 0.0, 0.0, 0.0, 0.0, 0.0, 0.0, 0.0, 0.0, 0.0, 0.0, 0.0, 0.0, 0.0, 0.0, 0.0, 0.0, 0.0, 0.0, 0.0, 0.0, 0.0, 0.0, 0.0, 0.0, 0.0, 0.0, 0.0, 0.0, 0.0, 0.0, 0.0, 0.0, 0.0, 0.003, 0.0, 0.0, 0.0, 0.0, 0.0, 0.0, 0.0, 0.0, 0.0, 0.0, 0.0, 0.0, 0.0, 0.0, 0.0, 0.0, 0.0, 0.001, 0.0, 0.0, 0.0, 0.0, 0.0, 0.0, 0.0, 0.0, 0.0, 0.0, 0.0, 0.0, 0.002, 0.0, 0.0, 0.0, 0.0, 0.0, 0.0, 0.0, 0.003, 0.0, 0.0, 0.0, 0.0, 0.0, 0.001, 0.0, 0.003, 0.0, 0.0, 0.0, 0.0, 0.0, 0.0, 0.0, 0.0, 0.0, 0.0, 0.0, 0.0, 0.0, 0.0, 0.0, 0.0, 0.0, 0.0, 0.002, 0.0, 0.0, 0.001, 0.0, 0.0, 0.0, 0.0, 0.0, 0.0, 0.001, 0.002, 0.0, 0.0, 0.0, 0.0, 0.0, 0.0, 0.0, 0.0, 0.0, 0.0, 0.0, 0.0, 0.0, 0.0, 0.0, 0.0, 0.002, 0.0, 0.0, 0.0, 0.0, 0.0, 0.002, 0.0, 0.0, 0.0, 0.0, 0.0, 0.0, 0.0, 0.0, 0.0, 0.0, 0.0, 0.0, 0.0, 0.0, 0.0, 0.0, 0.0, 0.0, 0.0, 0.003, 0.0, 0.0, 0.0, 0.001, 0.0, 0.0, 0.0, 0.005, 0.0, 0.0, 0.002, 0.0, 0.0, 0.0, 0.0, 0.001, 0.0, 0.0, 0.0, 0.0, 0.0, 0.0, 0.0, 0.0, 0.002, 0.0, 0.0, 0.0, 0.0, 0.0, 0.0, 0.0, 0.0, 0.0, 0.0, 0.0, 0.0, 0.0, 0.0, 0.0, 0.0, 0.0, 0.0, 0.0, 0.0, 0.0, 0.001, 0.0, 0.0, 0.0, 0.002, 0.0, 0.0, 0.0, 0.0, 0.0, 0.001, 0.0, 0.0, 0.0, 0.0, 0.0, 0.0, 0.0, 0.0, 0.0, 0.0, 0.0, 0.0, 0.0, 0.0, 0.0, 0.0, 0.0, 0.0, 0.0, 0.0, 0.0, 0.0, 0.0, 0.0, 0.0, 0.0, 0.0, 0.0, 0.0, 0.002, 0.0, 0.0, 0.0, 0.0, 0.0, 0.0, 0.0, 0.0, 0.0, 0.001, 0.001, 0.0, 0.0, 0.0, 0.002, 0.0, 0.0, 0.0, 0.0, 0.0, 0.0, 0.0, 0.0, 0.0, 0.0, 0.0, 0.0, 0.0, 0.0, 0.0], \"xaxis\": \"x\", \"yaxis\": \"y\"}],\n",
              "                        {\"barmode\": \"relative\", \"legend\": {\"tracegroupgap\": 0}, \"template\": {\"data\": {\"bar\": [{\"error_x\": {\"color\": \"#2a3f5f\"}, \"error_y\": {\"color\": \"#2a3f5f\"}, \"marker\": {\"line\": {\"color\": \"#E5ECF6\", \"width\": 0.5}}, \"type\": \"bar\"}], \"barpolar\": [{\"marker\": {\"line\": {\"color\": \"#E5ECF6\", \"width\": 0.5}}, \"type\": \"barpolar\"}], \"carpet\": [{\"aaxis\": {\"endlinecolor\": \"#2a3f5f\", \"gridcolor\": \"white\", \"linecolor\": \"white\", \"minorgridcolor\": \"white\", \"startlinecolor\": \"#2a3f5f\"}, \"baxis\": {\"endlinecolor\": \"#2a3f5f\", \"gridcolor\": \"white\", \"linecolor\": \"white\", \"minorgridcolor\": \"white\", \"startlinecolor\": \"#2a3f5f\"}, \"type\": \"carpet\"}], \"choropleth\": [{\"colorbar\": {\"outlinewidth\": 0, \"ticks\": \"\"}, \"type\": \"choropleth\"}], \"contour\": [{\"colorbar\": {\"outlinewidth\": 0, \"ticks\": \"\"}, \"colorscale\": [[0.0, \"#0d0887\"], [0.1111111111111111, \"#46039f\"], [0.2222222222222222, \"#7201a8\"], [0.3333333333333333, \"#9c179e\"], [0.4444444444444444, \"#bd3786\"], [0.5555555555555556, \"#d8576b\"], [0.6666666666666666, \"#ed7953\"], [0.7777777777777778, \"#fb9f3a\"], [0.8888888888888888, \"#fdca26\"], [1.0, \"#f0f921\"]], \"type\": \"contour\"}], \"contourcarpet\": [{\"colorbar\": {\"outlinewidth\": 0, \"ticks\": \"\"}, \"type\": \"contourcarpet\"}], \"heatmap\": [{\"colorbar\": {\"outlinewidth\": 0, \"ticks\": \"\"}, \"colorscale\": [[0.0, \"#0d0887\"], [0.1111111111111111, \"#46039f\"], [0.2222222222222222, \"#7201a8\"], [0.3333333333333333, \"#9c179e\"], [0.4444444444444444, \"#bd3786\"], [0.5555555555555556, \"#d8576b\"], [0.6666666666666666, \"#ed7953\"], [0.7777777777777778, \"#fb9f3a\"], [0.8888888888888888, \"#fdca26\"], [1.0, \"#f0f921\"]], \"type\": \"heatmap\"}], \"heatmapgl\": [{\"colorbar\": {\"outlinewidth\": 0, \"ticks\": \"\"}, \"colorscale\": [[0.0, \"#0d0887\"], [0.1111111111111111, \"#46039f\"], [0.2222222222222222, \"#7201a8\"], [0.3333333333333333, \"#9c179e\"], [0.4444444444444444, \"#bd3786\"], [0.5555555555555556, \"#d8576b\"], [0.6666666666666666, \"#ed7953\"], [0.7777777777777778, \"#fb9f3a\"], [0.8888888888888888, \"#fdca26\"], [1.0, \"#f0f921\"]], \"type\": \"heatmapgl\"}], \"histogram\": [{\"marker\": {\"colorbar\": {\"outlinewidth\": 0, \"ticks\": \"\"}}, \"type\": \"histogram\"}], \"histogram2d\": [{\"colorbar\": {\"outlinewidth\": 0, \"ticks\": \"\"}, \"colorscale\": [[0.0, \"#0d0887\"], [0.1111111111111111, \"#46039f\"], [0.2222222222222222, \"#7201a8\"], [0.3333333333333333, \"#9c179e\"], [0.4444444444444444, \"#bd3786\"], [0.5555555555555556, \"#d8576b\"], [0.6666666666666666, \"#ed7953\"], [0.7777777777777778, \"#fb9f3a\"], [0.8888888888888888, \"#fdca26\"], [1.0, \"#f0f921\"]], \"type\": \"histogram2d\"}], \"histogram2dcontour\": [{\"colorbar\": {\"outlinewidth\": 0, \"ticks\": \"\"}, \"colorscale\": [[0.0, \"#0d0887\"], [0.1111111111111111, \"#46039f\"], [0.2222222222222222, \"#7201a8\"], [0.3333333333333333, \"#9c179e\"], [0.4444444444444444, \"#bd3786\"], [0.5555555555555556, \"#d8576b\"], [0.6666666666666666, \"#ed7953\"], [0.7777777777777778, \"#fb9f3a\"], [0.8888888888888888, \"#fdca26\"], [1.0, \"#f0f921\"]], \"type\": \"histogram2dcontour\"}], \"mesh3d\": [{\"colorbar\": {\"outlinewidth\": 0, \"ticks\": \"\"}, \"type\": \"mesh3d\"}], \"parcoords\": [{\"line\": {\"colorbar\": {\"outlinewidth\": 0, \"ticks\": \"\"}}, \"type\": \"parcoords\"}], \"pie\": [{\"automargin\": true, \"type\": \"pie\"}], \"scatter\": [{\"marker\": {\"colorbar\": {\"outlinewidth\": 0, \"ticks\": \"\"}}, \"type\": \"scatter\"}], \"scatter3d\": [{\"line\": {\"colorbar\": {\"outlinewidth\": 0, \"ticks\": \"\"}}, \"marker\": {\"colorbar\": {\"outlinewidth\": 0, \"ticks\": \"\"}}, \"type\": \"scatter3d\"}], \"scattercarpet\": [{\"marker\": {\"colorbar\": {\"outlinewidth\": 0, \"ticks\": \"\"}}, \"type\": \"scattercarpet\"}], \"scattergeo\": [{\"marker\": {\"colorbar\": {\"outlinewidth\": 0, \"ticks\": \"\"}}, \"type\": \"scattergeo\"}], \"scattergl\": [{\"marker\": {\"colorbar\": {\"outlinewidth\": 0, \"ticks\": \"\"}}, \"type\": \"scattergl\"}], \"scattermapbox\": [{\"marker\": {\"colorbar\": {\"outlinewidth\": 0, \"ticks\": \"\"}}, \"type\": \"scattermapbox\"}], \"scatterpolar\": [{\"marker\": {\"colorbar\": {\"outlinewidth\": 0, \"ticks\": \"\"}}, \"type\": \"scatterpolar\"}], \"scatterpolargl\": [{\"marker\": {\"colorbar\": {\"outlinewidth\": 0, \"ticks\": \"\"}}, \"type\": \"scatterpolargl\"}], \"scatterternary\": [{\"marker\": {\"colorbar\": {\"outlinewidth\": 0, \"ticks\": \"\"}}, \"type\": \"scatterternary\"}], \"surface\": [{\"colorbar\": {\"outlinewidth\": 0, \"ticks\": \"\"}, \"colorscale\": [[0.0, \"#0d0887\"], [0.1111111111111111, \"#46039f\"], [0.2222222222222222, \"#7201a8\"], [0.3333333333333333, \"#9c179e\"], [0.4444444444444444, \"#bd3786\"], [0.5555555555555556, \"#d8576b\"], [0.6666666666666666, \"#ed7953\"], [0.7777777777777778, \"#fb9f3a\"], [0.8888888888888888, \"#fdca26\"], [1.0, \"#f0f921\"]], \"type\": \"surface\"}], \"table\": [{\"cells\": {\"fill\": {\"color\": \"#EBF0F8\"}, \"line\": {\"color\": \"white\"}}, \"header\": {\"fill\": {\"color\": \"#C8D4E3\"}, \"line\": {\"color\": \"white\"}}, \"type\": \"table\"}]}, \"layout\": {\"annotationdefaults\": {\"arrowcolor\": \"#2a3f5f\", \"arrowhead\": 0, \"arrowwidth\": 1}, \"coloraxis\": {\"colorbar\": {\"outlinewidth\": 0, \"ticks\": \"\"}}, \"colorscale\": {\"diverging\": [[0, \"#8e0152\"], [0.1, \"#c51b7d\"], [0.2, \"#de77ae\"], [0.3, \"#f1b6da\"], [0.4, \"#fde0ef\"], [0.5, \"#f7f7f7\"], [0.6, \"#e6f5d0\"], [0.7, \"#b8e186\"], [0.8, \"#7fbc41\"], [0.9, \"#4d9221\"], [1, \"#276419\"]], \"sequential\": [[0.0, \"#0d0887\"], [0.1111111111111111, \"#46039f\"], [0.2222222222222222, \"#7201a8\"], [0.3333333333333333, \"#9c179e\"], [0.4444444444444444, \"#bd3786\"], [0.5555555555555556, \"#d8576b\"], [0.6666666666666666, \"#ed7953\"], [0.7777777777777778, \"#fb9f3a\"], [0.8888888888888888, \"#fdca26\"], [1.0, \"#f0f921\"]], \"sequentialminus\": [[0.0, \"#0d0887\"], [0.1111111111111111, \"#46039f\"], [0.2222222222222222, \"#7201a8\"], [0.3333333333333333, \"#9c179e\"], [0.4444444444444444, \"#bd3786\"], [0.5555555555555556, \"#d8576b\"], [0.6666666666666666, \"#ed7953\"], [0.7777777777777778, \"#fb9f3a\"], [0.8888888888888888, \"#fdca26\"], [1.0, \"#f0f921\"]]}, \"colorway\": [\"#636efa\", \"#EF553B\", \"#00cc96\", \"#ab63fa\", \"#FFA15A\", \"#19d3f3\", \"#FF6692\", \"#B6E880\", \"#FF97FF\", \"#FECB52\"], \"font\": {\"color\": \"#2a3f5f\"}, \"geo\": {\"bgcolor\": \"white\", \"lakecolor\": \"white\", \"landcolor\": \"#E5ECF6\", \"showlakes\": true, \"showland\": true, \"subunitcolor\": \"white\"}, \"hoverlabel\": {\"align\": \"left\"}, \"hovermode\": \"closest\", \"mapbox\": {\"style\": \"light\"}, \"paper_bgcolor\": \"white\", \"plot_bgcolor\": \"#E5ECF6\", \"polar\": {\"angularaxis\": {\"gridcolor\": \"white\", \"linecolor\": \"white\", \"ticks\": \"\"}, \"bgcolor\": \"#E5ECF6\", \"radialaxis\": {\"gridcolor\": \"white\", \"linecolor\": \"white\", \"ticks\": \"\"}}, \"scene\": {\"xaxis\": {\"backgroundcolor\": \"#E5ECF6\", \"gridcolor\": \"white\", \"gridwidth\": 2, \"linecolor\": \"white\", \"showbackground\": true, \"ticks\": \"\", \"zerolinecolor\": \"white\"}, \"yaxis\": {\"backgroundcolor\": \"#E5ECF6\", \"gridcolor\": \"white\", \"gridwidth\": 2, \"linecolor\": \"white\", \"showbackground\": true, \"ticks\": \"\", \"zerolinecolor\": \"white\"}, \"zaxis\": {\"backgroundcolor\": \"#E5ECF6\", \"gridcolor\": \"white\", \"gridwidth\": 2, \"linecolor\": \"white\", \"showbackground\": true, \"ticks\": \"\", \"zerolinecolor\": \"white\"}}, \"shapedefaults\": {\"line\": {\"color\": \"#2a3f5f\"}}, \"ternary\": {\"aaxis\": {\"gridcolor\": \"white\", \"linecolor\": \"white\", \"ticks\": \"\"}, \"baxis\": {\"gridcolor\": \"white\", \"linecolor\": \"white\", \"ticks\": \"\"}, \"bgcolor\": \"#E5ECF6\", \"caxis\": {\"gridcolor\": \"white\", \"linecolor\": \"white\", \"ticks\": \"\"}}, \"title\": {\"x\": 0.05}, \"xaxis\": {\"automargin\": true, \"gridcolor\": \"white\", \"linecolor\": \"white\", \"ticks\": \"\", \"title\": {\"standoff\": 15}, \"zerolinecolor\": \"white\", \"zerolinewidth\": 2}, \"yaxis\": {\"automargin\": true, \"gridcolor\": \"white\", \"linecolor\": \"white\", \"ticks\": \"\", \"title\": {\"standoff\": 15}, \"zerolinecolor\": \"white\", \"zerolinewidth\": 2}}}, \"title\": {\"text\": \"Histograma da coluna: prolongued decelerations\"}, \"xaxis\": {\"anchor\": \"y\", \"domain\": [0.0, 1.0], \"title\": {\"text\": \"x\"}}, \"yaxis\": {\"anchor\": \"x\", \"domain\": [0.0, 1.0], \"title\": {\"text\": \"count\"}}},\n",
              "                        {\"responsive\": true}\n",
              "                    ).then(function(){\n",
              "                            \n",
              "var gd = document.getElementById('72abd06b-46cb-44a2-ad86-6ac3c41d8cfa');\n",
              "var x = new MutationObserver(function (mutations, observer) {{\n",
              "        var display = window.getComputedStyle(gd).display;\n",
              "        if (!display || display === 'none') {{\n",
              "            console.log([gd, 'removed!']);\n",
              "            Plotly.purge(gd);\n",
              "            observer.disconnect();\n",
              "        }}\n",
              "}});\n",
              "\n",
              "// Listen for the removal of the full notebook cells\n",
              "var notebookContainer = gd.closest('#notebook-container');\n",
              "if (notebookContainer) {{\n",
              "    x.observe(notebookContainer, {childList: true});\n",
              "}}\n",
              "\n",
              "// Listen for the clearing of the current output cell\n",
              "var outputEl = gd.closest('.output');\n",
              "if (outputEl) {{\n",
              "    x.observe(outputEl, {childList: true});\n",
              "}}\n",
              "\n",
              "                        })\n",
              "                };\n",
              "                \n",
              "            </script>\n",
              "        </div>\n",
              "</body>\n",
              "</html>"
            ]
          },
          "metadata": {
            "tags": []
          }
        }
      ]
    },
    {
      "cell_type": "code",
      "metadata": {
        "colab": {
          "base_uri": "https://localhost:8080/",
          "height": 542
        },
        "id": "4ECJoqK7Fuxp",
        "outputId": "8530c69f-c4d2-493a-9264-2f627f24b616"
      },
      "source": [
        "px.histogram( x =train_set['abnormal_short_term_variability'],title  = 'Histograma da coluna: abnormal short term variability')"
      ],
      "execution_count": 76,
      "outputs": [
        {
          "output_type": "display_data",
          "data": {
            "text/html": [
              "<html>\n",
              "<head><meta charset=\"utf-8\" /></head>\n",
              "<body>\n",
              "    <div>\n",
              "            <script src=\"https://cdnjs.cloudflare.com/ajax/libs/mathjax/2.7.5/MathJax.js?config=TeX-AMS-MML_SVG\"></script><script type=\"text/javascript\">if (window.MathJax) {MathJax.Hub.Config({SVG: {font: \"STIX-Web\"}});}</script>\n",
              "                <script type=\"text/javascript\">window.PlotlyConfig = {MathJaxConfig: 'local'};</script>\n",
              "        <script src=\"https://cdn.plot.ly/plotly-latest.min.js\"></script>    \n",
              "            <div id=\"92310bb4-bbcf-43ec-82fe-589b3237f5d5\" class=\"plotly-graph-div\" style=\"height:525px; width:100%;\"></div>\n",
              "            <script type=\"text/javascript\">\n",
              "                \n",
              "                    window.PLOTLYENV=window.PLOTLYENV || {};\n",
              "                    \n",
              "                if (document.getElementById(\"92310bb4-bbcf-43ec-82fe-589b3237f5d5\")) {\n",
              "                    Plotly.newPlot(\n",
              "                        '92310bb4-bbcf-43ec-82fe-589b3237f5d5',\n",
              "                        [{\"alignmentgroup\": \"True\", \"bingroup\": \"x\", \"hoverlabel\": {\"namelength\": 0}, \"hovertemplate\": \"x=%{x}<br>count=%{y}\", \"legendgroup\": \"\", \"marker\": {\"color\": \"#636efa\"}, \"name\": \"\", \"offsetgroup\": \"\", \"orientation\": \"v\", \"showlegend\": false, \"type\": \"histogram\", \"x\": [37.0, 34.0, 78.0, 60.0, 34.0, 63.0, 26.0, 81.0, 68.0, 57.0, 67.0, 23.0, 50.0, 79.0, 60.0, 64.0, 27.0, 28.0, 25.0, 37.0, 40.0, 42.0, 36.0, 78.0, 65.0, 37.0, 62.0, 24.0, 31.0, 28.0, 58.0, 63.0, 61.0, 65.0, 27.0, 21.0, 78.0, 78.0, 54.0, 86.0, 68.0, 58.0, 68.0, 44.0, 38.0, 37.0, 54.0, 29.0, 30.0, 50.0, 34.0, 39.0, 60.0, 16.0, 60.0, 64.0, 32.0, 59.0, 51.0, 51.0, 65.0, 74.0, 37.0, 58.0, 25.0, 51.0, 58.0, 41.0, 40.0, 37.0, 66.0, 64.0, 63.0, 62.0, 36.0, 65.0, 49.0, 40.0, 60.0, 42.0, 56.0, 50.0, 32.0, 33.0, 35.0, 36.0, 28.0, 45.0, 32.0, 21.0, 62.0, 27.0, 38.0, 50.0, 22.0, 21.0, 39.0, 26.0, 61.0, 58.0, 51.0, 63.0, 63.0, 68.0, 68.0, 43.0, 39.0, 20.0, 17.0, 38.0, 40.0, 41.0, 35.0, 43.0, 34.0, 25.0, 19.0, 48.0, 24.0, 55.0, 30.0, 22.0, 69.0, 49.0, 49.0, 63.0, 47.0, 23.0, 26.0, 77.0, 52.0, 37.0, 56.0, 46.0, 55.0, 66.0, 61.0, 17.0, 34.0, 45.0, 57.0, 28.0, 29.0, 51.0, 29.0, 42.0, 81.0, 28.0, 36.0, 68.0, 68.0, 20.0, 73.0, 35.0, 44.0, 59.0, 40.0, 61.0, 84.0, 33.0, 14.0, 78.0, 59.0, 51.0, 68.0, 69.0, 34.0, 79.0, 25.0, 24.0, 71.0, 64.0, 24.0, 64.0, 23.0, 53.0, 56.0, 48.0, 32.0, 45.0, 38.0, 32.0, 35.0, 41.0, 44.0, 62.0, 30.0, 61.0, 57.0, 61.0, 65.0, 31.0, 45.0, 59.0, 58.0, 61.0, 38.0, 24.0, 39.0, 51.0, 63.0, 50.0, 22.0, 20.0, 61.0, 21.0, 63.0, 28.0, 38.0, 51.0, 25.0, 32.0, 43.0, 58.0, 34.0, 64.0, 57.0, 34.0, 65.0, 39.0, 19.0, 67.0, 57.0, 46.0, 66.0, 58.0, 19.0, 36.0, 57.0, 61.0, 54.0, 77.0, 53.0, 38.0, 24.0, 62.0, 32.0, 31.0, 21.0, 46.0, 19.0, 60.0, 63.0, 36.0, 50.0, 28.0, 60.0, 49.0, 24.0, 35.0, 64.0, 52.0, 68.0, 74.0, 60.0, 33.0, 67.0, 64.0, 59.0, 22.0, 74.0, 43.0, 63.0, 57.0, 24.0, 19.0, 42.0, 65.0, 83.0, 63.0, 33.0, 48.0, 25.0, 55.0, 56.0, 21.0, 21.0, 32.0, 68.0, 40.0, 79.0, 37.0, 38.0, 23.0, 25.0, 25.0, 70.0, 70.0, 32.0, 64.0, 59.0, 22.0, 73.0, 59.0, 23.0, 56.0, 63.0, 22.0, 26.0, 64.0, 25.0, 34.0, 40.0, 58.0, 63.0, 51.0, 61.0, 67.0, 29.0, 67.0, 41.0, 56.0, 72.0, 28.0, 43.0, 40.0, 20.0, 13.0, 37.0, 58.0, 66.0, 23.0, 34.0, 17.0, 40.0, 64.0, 31.0, 28.0, 50.0, 49.0, 70.0, 17.0, 29.0, 32.0, 37.0, 51.0, 33.0, 17.0, 74.0, 22.0, 26.0, 27.0, 57.0, 34.0, 66.0, 65.0, 21.0, 24.0, 40.0, 52.0, 29.0, 58.0, 52.0, 58.0, 34.0, 60.0, 56.0, 52.0, 50.0, 57.0, 58.0, 26.0, 50.0, 22.0, 66.0, 27.0, 65.0, 31.0, 21.0, 53.0, 61.0, 18.0, 46.0, 70.0, 75.0, 79.0, 32.0, 61.0, 27.0, 52.0, 55.0, 56.0, 57.0, 74.0, 48.0, 44.0, 36.0, 46.0, 52.0, 28.0, 86.0, 23.0, 50.0, 39.0, 24.0, 20.0, 71.0, 34.0, 62.0, 63.0, 30.0, 21.0, 83.0, 44.0, 59.0, 65.0, 20.0, 60.0, 44.0, 41.0, 62.0, 64.0, 21.0, 45.0, 45.0, 55.0, 52.0, 60.0, 50.0, 67.0, 44.0, 51.0, 22.0, 58.0, 25.0, 35.0, 45.0, 21.0, 24.0, 70.0, 64.0, 61.0, 58.0, 61.0, 59.0, 23.0, 32.0, 13.0, 55.0, 30.0, 33.0, 27.0, 64.0, 74.0, 61.0, 58.0, 41.0, 56.0, 34.0, 27.0, 64.0, 48.0, 23.0, 78.0, 44.0, 42.0, 19.0, 84.0, 27.0, 66.0, 53.0, 21.0, 66.0, 24.0, 43.0, 25.0, 61.0, 34.0, 30.0, 80.0, 69.0, 51.0, 58.0, 44.0, 60.0, 39.0, 54.0, 35.0, 23.0, 58.0, 58.0, 63.0, 75.0, 71.0, 48.0, 73.0, 43.0, 25.0, 25.0, 21.0, 59.0, 32.0, 35.0, 37.0, 61.0, 37.0, 67.0, 30.0, 66.0, 41.0, 25.0, 34.0, 28.0, 43.0, 56.0, 39.0, 42.0, 63.0, 68.0, 53.0, 19.0, 18.0, 65.0, 53.0, 65.0, 42.0, 23.0, 76.0, 65.0, 43.0, 63.0, 16.0, 59.0, 75.0, 23.0, 58.0, 51.0, 27.0, 21.0, 58.0, 42.0, 44.0, 55.0, 20.0, 56.0, 53.0, 34.0, 73.0, 33.0, 63.0, 53.0, 63.0, 43.0, 40.0, 60.0, 66.0, 44.0, 40.0, 39.0, 22.0, 18.0, 55.0, 60.0, 33.0, 50.0, 69.0, 50.0, 63.0, 31.0, 37.0, 72.0, 64.0, 51.0, 86.0, 18.0, 17.0, 37.0, 23.0, 28.0, 48.0, 30.0, 62.0, 75.0, 63.0, 57.0, 36.0, 67.0, 17.0, 43.0, 44.0, 18.0, 45.0, 60.0, 71.0, 25.0, 78.0, 50.0, 44.0, 75.0, 64.0, 33.0, 55.0, 47.0, 22.0, 20.0, 28.0, 61.0, 21.0, 29.0, 60.0, 28.0, 58.0, 53.0, 37.0, 68.0, 36.0, 43.0, 57.0, 56.0, 42.0, 28.0, 58.0, 54.0, 64.0, 59.0, 20.0, 51.0, 21.0, 34.0, 53.0, 41.0, 54.0, 42.0, 45.0, 26.0, 58.0, 52.0, 27.0, 55.0, 31.0, 51.0, 31.0, 34.0, 60.0, 32.0, 64.0, 16.0, 27.0, 55.0, 15.0, 36.0, 67.0, 74.0, 79.0, 37.0, 20.0, 38.0, 46.0, 64.0, 46.0, 64.0, 54.0, 52.0, 59.0, 51.0, 35.0, 37.0, 51.0, 20.0, 69.0, 64.0, 39.0, 28.0, 34.0, 45.0, 62.0, 56.0, 37.0, 73.0, 26.0, 51.0, 25.0, 40.0, 41.0, 57.0, 25.0, 55.0, 32.0, 33.0, 51.0, 36.0, 37.0, 64.0, 33.0, 62.0, 75.0, 26.0, 53.0, 65.0, 49.0, 65.0, 59.0, 21.0, 49.0, 29.0, 41.0, 77.0, 22.0, 33.0, 55.0, 24.0, 52.0, 28.0, 64.0, 34.0, 37.0, 65.0, 37.0, 76.0, 29.0, 70.0, 71.0, 39.0, 64.0, 32.0, 30.0, 31.0, 29.0, 30.0, 51.0, 39.0, 62.0, 61.0, 65.0, 27.0, 60.0, 44.0, 26.0, 18.0, 63.0, 47.0, 25.0, 16.0, 25.0, 56.0, 72.0, 25.0, 60.0, 76.0, 45.0, 32.0, 65.0, 78.0, 65.0, 65.0, 44.0, 53.0, 28.0, 59.0, 51.0, 24.0, 42.0, 65.0, 25.0, 67.0, 66.0, 65.0, 36.0, 29.0, 73.0, 19.0, 60.0, 31.0, 23.0, 46.0, 62.0, 41.0, 23.0, 46.0, 42.0, 28.0, 60.0, 59.0, 41.0, 26.0, 78.0, 60.0, 45.0, 20.0, 59.0, 69.0, 20.0, 39.0, 16.0, 25.0, 19.0, 51.0, 79.0, 22.0, 54.0, 24.0, 17.0, 27.0, 26.0, 41.0, 37.0, 64.0, 70.0, 35.0, 50.0, 55.0, 57.0, 40.0, 57.0, 33.0, 76.0, 20.0, 55.0, 51.0, 60.0, 64.0, 32.0, 35.0, 22.0, 58.0, 26.0, 69.0, 26.0, 79.0, 58.0, 52.0, 58.0, 58.0, 61.0, 31.0, 29.0, 67.0, 75.0, 47.0, 24.0, 84.0, 62.0, 20.0, 38.0, 21.0, 24.0, 60.0, 48.0, 75.0, 60.0, 22.0, 66.0, 43.0, 23.0, 49.0, 17.0, 37.0, 27.0, 47.0, 35.0, 19.0, 30.0, 27.0, 56.0, 52.0, 49.0, 33.0, 26.0, 57.0, 53.0, 36.0, 25.0, 24.0, 68.0, 62.0, 37.0, 36.0, 25.0, 30.0, 57.0, 58.0, 65.0, 40.0, 22.0, 59.0, 54.0, 59.0, 53.0, 27.0, 54.0, 56.0, 61.0, 33.0, 26.0, 22.0, 52.0, 52.0, 57.0, 57.0, 22.0, 51.0, 38.0, 51.0, 59.0, 36.0, 56.0, 65.0, 64.0, 65.0, 50.0, 61.0, 50.0, 34.0, 45.0, 30.0, 37.0, 61.0, 71.0, 36.0, 65.0, 61.0, 83.0, 66.0, 60.0, 23.0, 72.0, 21.0, 33.0, 42.0, 29.0, 42.0, 63.0, 70.0, 50.0, 69.0, 47.0, 39.0, 23.0, 43.0, 31.0, 29.0, 43.0, 63.0, 63.0, 54.0, 30.0, 32.0, 33.0, 27.0, 58.0, 46.0, 61.0, 41.0, 63.0, 17.0, 61.0, 39.0, 73.0, 63.0, 39.0, 80.0, 62.0, 51.0, 51.0, 49.0, 36.0, 63.0, 56.0, 30.0, 25.0, 22.0, 74.0, 63.0, 61.0, 41.0, 77.0, 65.0, 56.0, 29.0, 33.0, 37.0, 13.0, 22.0, 67.0, 39.0, 54.0, 73.0, 35.0, 80.0, 38.0, 22.0, 35.0, 20.0, 65.0, 40.0, 62.0, 74.0, 41.0, 46.0, 66.0, 63.0, 62.0, 22.0, 59.0, 53.0, 48.0, 25.0, 27.0, 25.0, 78.0, 47.0, 19.0, 24.0, 63.0, 53.0, 29.0, 59.0, 48.0, 56.0, 58.0, 61.0, 52.0, 78.0, 61.0, 36.0, 34.0, 73.0, 56.0, 46.0, 20.0, 35.0, 38.0, 25.0, 80.0, 59.0, 16.0, 49.0, 55.0, 61.0, 64.0, 54.0, 43.0, 21.0, 60.0, 38.0, 34.0, 21.0, 71.0, 35.0, 58.0, 64.0, 63.0, 28.0, 30.0, 21.0, 51.0, 54.0, 41.0, 75.0, 61.0, 66.0, 52.0, 57.0, 33.0, 27.0, 55.0, 55.0, 38.0, 28.0, 41.0, 15.0, 79.0, 59.0, 66.0, 77.0, 54.0, 25.0, 36.0, 73.0, 64.0, 60.0, 74.0, 46.0, 35.0, 67.0, 27.0, 24.0, 22.0, 13.0, 36.0, 51.0, 20.0, 65.0, 42.0, 62.0, 39.0, 65.0, 44.0, 64.0, 56.0, 56.0, 32.0, 31.0, 58.0, 25.0, 73.0, 61.0, 43.0, 58.0, 22.0, 51.0, 34.0, 22.0, 58.0, 57.0, 59.0, 25.0, 39.0, 42.0, 32.0, 27.0, 62.0, 65.0, 57.0, 64.0, 81.0, 64.0, 29.0, 34.0, 31.0, 74.0, 37.0, 41.0, 64.0, 63.0, 68.0, 35.0, 63.0, 52.0, 52.0, 39.0, 54.0, 50.0, 35.0, 40.0, 29.0, 18.0, 27.0, 33.0, 29.0, 46.0, 59.0, 61.0, 22.0, 22.0, 55.0, 76.0, 34.0, 70.0, 61.0, 57.0, 28.0, 68.0, 49.0, 55.0, 78.0, 69.0, 42.0, 61.0, 28.0, 51.0, 47.0, 50.0, 54.0, 76.0, 67.0, 50.0, 73.0, 22.0, 63.0, 44.0, 40.0, 30.0, 52.0, 55.0, 61.0, 35.0, 17.0, 64.0, 21.0, 65.0, 65.0, 38.0, 38.0, 64.0, 84.0, 18.0, 60.0, 41.0, 44.0, 57.0, 56.0, 22.0, 73.0, 64.0, 29.0, 38.0, 65.0, 24.0, 50.0, 67.0, 25.0, 64.0, 28.0, 35.0, 27.0, 64.0, 38.0, 51.0, 16.0, 41.0, 50.0, 19.0, 59.0, 50.0, 76.0, 25.0, 33.0, 25.0, 46.0, 26.0, 60.0, 55.0, 60.0, 48.0, 44.0, 22.0, 63.0, 20.0, 17.0, 36.0, 80.0, 69.0, 27.0, 19.0, 46.0, 42.0, 44.0, 61.0, 42.0, 44.0, 61.0, 31.0, 66.0, 53.0, 70.0, 42.0, 47.0, 24.0, 48.0, 37.0, 47.0, 56.0, 67.0, 27.0, 26.0, 60.0, 66.0, 34.0, 58.0, 36.0, 75.0, 52.0, 43.0, 21.0, 13.0, 38.0, 64.0, 30.0, 53.0, 27.0, 65.0, 79.0, 56.0, 24.0, 28.0, 64.0, 37.0, 29.0, 19.0, 51.0, 31.0, 86.0, 67.0, 70.0, 33.0, 22.0, 37.0, 52.0, 41.0, 26.0, 21.0, 17.0, 30.0, 36.0, 21.0, 68.0, 47.0, 40.0, 72.0, 59.0, 27.0, 22.0, 69.0, 63.0, 31.0, 58.0, 54.0, 57.0, 59.0, 55.0, 37.0, 51.0, 63.0, 54.0, 43.0, 62.0, 78.0, 62.0, 24.0, 29.0, 21.0, 58.0, 65.0, 38.0, 27.0, 26.0, 55.0, 62.0, 60.0, 60.0, 30.0, 35.0, 79.0, 63.0, 25.0, 33.0, 51.0, 64.0, 67.0, 55.0, 41.0, 22.0, 50.0, 77.0, 58.0, 55.0, 24.0, 36.0, 56.0, 60.0, 26.0, 53.0, 13.0, 22.0, 30.0, 62.0, 51.0, 84.0, 40.0, 44.0, 28.0, 45.0, 56.0, 41.0, 29.0, 54.0, 47.0, 32.0, 35.0, 23.0, 34.0, 62.0, 38.0, 62.0, 33.0, 51.0, 79.0, 23.0, 67.0, 32.0, 40.0, 53.0, 43.0, 56.0, 43.0, 23.0, 66.0, 61.0, 65.0, 38.0, 32.0, 41.0, 65.0, 47.0, 14.0, 67.0, 22.0, 77.0, 32.0, 60.0, 24.0, 53.0, 29.0, 30.0, 45.0, 34.0, 40.0, 77.0, 29.0, 34.0, 83.0, 41.0, 60.0, 38.0, 40.0, 45.0, 62.0, 62.0, 38.0, 39.0, 73.0, 60.0, 50.0, 23.0, 29.0, 65.0, 78.0, 45.0, 22.0, 45.0, 70.0, 31.0, 35.0, 35.0, 62.0, 28.0, 19.0, 42.0, 26.0, 54.0, 77.0, 65.0, 49.0, 62.0, 35.0, 64.0, 55.0, 30.0, 50.0, 61.0, 65.0, 32.0, 43.0, 46.0, 21.0, 62.0, 75.0, 43.0, 38.0, 64.0, 60.0, 47.0, 36.0, 34.0, 34.0, 63.0, 20.0, 31.0, 26.0, 16.0, 22.0, 45.0, 60.0, 40.0, 21.0, 60.0, 39.0, 24.0, 75.0, 65.0, 41.0, 42.0, 63.0, 80.0, 64.0, 60.0, 30.0, 55.0, 52.0, 25.0, 72.0, 65.0, 45.0, 50.0, 58.0, 55.0, 59.0, 45.0, 69.0, 29.0, 57.0, 63.0, 58.0, 73.0, 26.0, 46.0, 58.0, 26.0, 57.0, 34.0, 56.0, 71.0, 71.0, 51.0, 28.0, 68.0, 50.0, 29.0, 19.0, 50.0, 65.0, 68.0, 66.0, 63.0, 28.0, 38.0, 65.0, 39.0, 60.0, 12.0, 23.0, 29.0, 29.0, 49.0, 28.0, 78.0, 72.0, 64.0, 58.0, 40.0, 37.0, 63.0, 41.0, 38.0, 24.0, 66.0, 46.0, 67.0, 51.0, 70.0, 77.0, 58.0, 76.0, 46.0, 55.0, 16.0, 40.0, 49.0, 69.0, 69.0, 30.0, 65.0, 60.0, 37.0, 56.0, 51.0, 29.0, 67.0, 48.0, 28.0, 53.0, 55.0, 64.0, 65.0, 12.0, 62.0, 77.0, 64.0, 39.0, 51.0, 70.0, 60.0, 53.0, 58.0, 59.0, 45.0, 62.0, 37.0, 63.0, 40.0, 36.0, 75.0, 52.0], \"xaxis\": \"x\", \"yaxis\": \"y\"}],\n",
              "                        {\"barmode\": \"relative\", \"legend\": {\"tracegroupgap\": 0}, \"template\": {\"data\": {\"bar\": [{\"error_x\": {\"color\": \"#2a3f5f\"}, \"error_y\": {\"color\": \"#2a3f5f\"}, \"marker\": {\"line\": {\"color\": \"#E5ECF6\", \"width\": 0.5}}, \"type\": \"bar\"}], \"barpolar\": [{\"marker\": {\"line\": {\"color\": \"#E5ECF6\", \"width\": 0.5}}, \"type\": \"barpolar\"}], \"carpet\": [{\"aaxis\": {\"endlinecolor\": \"#2a3f5f\", \"gridcolor\": \"white\", \"linecolor\": \"white\", \"minorgridcolor\": \"white\", \"startlinecolor\": \"#2a3f5f\"}, \"baxis\": {\"endlinecolor\": \"#2a3f5f\", \"gridcolor\": \"white\", \"linecolor\": \"white\", \"minorgridcolor\": \"white\", \"startlinecolor\": \"#2a3f5f\"}, \"type\": \"carpet\"}], \"choropleth\": [{\"colorbar\": {\"outlinewidth\": 0, \"ticks\": \"\"}, \"type\": \"choropleth\"}], \"contour\": [{\"colorbar\": {\"outlinewidth\": 0, \"ticks\": \"\"}, \"colorscale\": [[0.0, \"#0d0887\"], [0.1111111111111111, \"#46039f\"], [0.2222222222222222, \"#7201a8\"], [0.3333333333333333, \"#9c179e\"], [0.4444444444444444, \"#bd3786\"], [0.5555555555555556, \"#d8576b\"], [0.6666666666666666, \"#ed7953\"], [0.7777777777777778, \"#fb9f3a\"], [0.8888888888888888, \"#fdca26\"], [1.0, \"#f0f921\"]], \"type\": \"contour\"}], \"contourcarpet\": [{\"colorbar\": {\"outlinewidth\": 0, \"ticks\": \"\"}, \"type\": \"contourcarpet\"}], \"heatmap\": [{\"colorbar\": {\"outlinewidth\": 0, \"ticks\": \"\"}, \"colorscale\": [[0.0, \"#0d0887\"], [0.1111111111111111, \"#46039f\"], [0.2222222222222222, \"#7201a8\"], [0.3333333333333333, \"#9c179e\"], [0.4444444444444444, \"#bd3786\"], [0.5555555555555556, \"#d8576b\"], [0.6666666666666666, \"#ed7953\"], [0.7777777777777778, \"#fb9f3a\"], [0.8888888888888888, \"#fdca26\"], [1.0, \"#f0f921\"]], \"type\": \"heatmap\"}], \"heatmapgl\": [{\"colorbar\": {\"outlinewidth\": 0, \"ticks\": \"\"}, \"colorscale\": [[0.0, \"#0d0887\"], [0.1111111111111111, \"#46039f\"], [0.2222222222222222, \"#7201a8\"], [0.3333333333333333, \"#9c179e\"], [0.4444444444444444, \"#bd3786\"], [0.5555555555555556, \"#d8576b\"], [0.6666666666666666, \"#ed7953\"], [0.7777777777777778, \"#fb9f3a\"], [0.8888888888888888, \"#fdca26\"], [1.0, \"#f0f921\"]], \"type\": \"heatmapgl\"}], \"histogram\": [{\"marker\": {\"colorbar\": {\"outlinewidth\": 0, \"ticks\": \"\"}}, \"type\": \"histogram\"}], \"histogram2d\": [{\"colorbar\": {\"outlinewidth\": 0, \"ticks\": \"\"}, \"colorscale\": [[0.0, \"#0d0887\"], [0.1111111111111111, \"#46039f\"], [0.2222222222222222, \"#7201a8\"], [0.3333333333333333, \"#9c179e\"], [0.4444444444444444, \"#bd3786\"], [0.5555555555555556, \"#d8576b\"], [0.6666666666666666, \"#ed7953\"], [0.7777777777777778, \"#fb9f3a\"], [0.8888888888888888, \"#fdca26\"], [1.0, \"#f0f921\"]], \"type\": \"histogram2d\"}], \"histogram2dcontour\": [{\"colorbar\": {\"outlinewidth\": 0, \"ticks\": \"\"}, \"colorscale\": [[0.0, \"#0d0887\"], [0.1111111111111111, \"#46039f\"], [0.2222222222222222, \"#7201a8\"], [0.3333333333333333, \"#9c179e\"], [0.4444444444444444, \"#bd3786\"], [0.5555555555555556, \"#d8576b\"], [0.6666666666666666, \"#ed7953\"], [0.7777777777777778, \"#fb9f3a\"], [0.8888888888888888, \"#fdca26\"], [1.0, \"#f0f921\"]], \"type\": \"histogram2dcontour\"}], \"mesh3d\": [{\"colorbar\": {\"outlinewidth\": 0, \"ticks\": \"\"}, \"type\": \"mesh3d\"}], \"parcoords\": [{\"line\": {\"colorbar\": {\"outlinewidth\": 0, \"ticks\": \"\"}}, \"type\": \"parcoords\"}], \"pie\": [{\"automargin\": true, \"type\": \"pie\"}], \"scatter\": [{\"marker\": {\"colorbar\": {\"outlinewidth\": 0, \"ticks\": \"\"}}, \"type\": \"scatter\"}], \"scatter3d\": [{\"line\": {\"colorbar\": {\"outlinewidth\": 0, \"ticks\": \"\"}}, \"marker\": {\"colorbar\": {\"outlinewidth\": 0, \"ticks\": \"\"}}, \"type\": \"scatter3d\"}], \"scattercarpet\": [{\"marker\": {\"colorbar\": {\"outlinewidth\": 0, \"ticks\": \"\"}}, \"type\": \"scattercarpet\"}], \"scattergeo\": [{\"marker\": {\"colorbar\": {\"outlinewidth\": 0, \"ticks\": \"\"}}, \"type\": \"scattergeo\"}], \"scattergl\": [{\"marker\": {\"colorbar\": {\"outlinewidth\": 0, \"ticks\": \"\"}}, \"type\": \"scattergl\"}], \"scattermapbox\": [{\"marker\": {\"colorbar\": {\"outlinewidth\": 0, \"ticks\": \"\"}}, \"type\": \"scattermapbox\"}], \"scatterpolar\": [{\"marker\": {\"colorbar\": {\"outlinewidth\": 0, \"ticks\": \"\"}}, \"type\": \"scatterpolar\"}], \"scatterpolargl\": [{\"marker\": {\"colorbar\": {\"outlinewidth\": 0, \"ticks\": \"\"}}, \"type\": \"scatterpolargl\"}], \"scatterternary\": [{\"marker\": {\"colorbar\": {\"outlinewidth\": 0, \"ticks\": \"\"}}, \"type\": \"scatterternary\"}], \"surface\": [{\"colorbar\": {\"outlinewidth\": 0, \"ticks\": \"\"}, \"colorscale\": [[0.0, \"#0d0887\"], [0.1111111111111111, \"#46039f\"], [0.2222222222222222, \"#7201a8\"], [0.3333333333333333, \"#9c179e\"], [0.4444444444444444, \"#bd3786\"], [0.5555555555555556, \"#d8576b\"], [0.6666666666666666, \"#ed7953\"], [0.7777777777777778, \"#fb9f3a\"], [0.8888888888888888, \"#fdca26\"], [1.0, \"#f0f921\"]], \"type\": \"surface\"}], \"table\": [{\"cells\": {\"fill\": {\"color\": \"#EBF0F8\"}, \"line\": {\"color\": \"white\"}}, \"header\": {\"fill\": {\"color\": \"#C8D4E3\"}, \"line\": {\"color\": \"white\"}}, \"type\": \"table\"}]}, \"layout\": {\"annotationdefaults\": {\"arrowcolor\": \"#2a3f5f\", \"arrowhead\": 0, \"arrowwidth\": 1}, \"coloraxis\": {\"colorbar\": {\"outlinewidth\": 0, \"ticks\": \"\"}}, \"colorscale\": {\"diverging\": [[0, \"#8e0152\"], [0.1, \"#c51b7d\"], [0.2, \"#de77ae\"], [0.3, \"#f1b6da\"], [0.4, \"#fde0ef\"], [0.5, \"#f7f7f7\"], [0.6, \"#e6f5d0\"], [0.7, \"#b8e186\"], [0.8, \"#7fbc41\"], [0.9, \"#4d9221\"], [1, \"#276419\"]], \"sequential\": [[0.0, \"#0d0887\"], [0.1111111111111111, \"#46039f\"], [0.2222222222222222, \"#7201a8\"], [0.3333333333333333, \"#9c179e\"], [0.4444444444444444, \"#bd3786\"], [0.5555555555555556, \"#d8576b\"], [0.6666666666666666, \"#ed7953\"], [0.7777777777777778, \"#fb9f3a\"], [0.8888888888888888, \"#fdca26\"], [1.0, \"#f0f921\"]], \"sequentialminus\": [[0.0, \"#0d0887\"], [0.1111111111111111, \"#46039f\"], [0.2222222222222222, \"#7201a8\"], [0.3333333333333333, \"#9c179e\"], [0.4444444444444444, \"#bd3786\"], [0.5555555555555556, \"#d8576b\"], [0.6666666666666666, \"#ed7953\"], [0.7777777777777778, \"#fb9f3a\"], [0.8888888888888888, \"#fdca26\"], [1.0, \"#f0f921\"]]}, \"colorway\": [\"#636efa\", \"#EF553B\", \"#00cc96\", \"#ab63fa\", \"#FFA15A\", \"#19d3f3\", \"#FF6692\", \"#B6E880\", \"#FF97FF\", \"#FECB52\"], \"font\": {\"color\": \"#2a3f5f\"}, \"geo\": {\"bgcolor\": \"white\", \"lakecolor\": \"white\", \"landcolor\": \"#E5ECF6\", \"showlakes\": true, \"showland\": true, \"subunitcolor\": \"white\"}, \"hoverlabel\": {\"align\": \"left\"}, \"hovermode\": \"closest\", \"mapbox\": {\"style\": \"light\"}, \"paper_bgcolor\": \"white\", \"plot_bgcolor\": \"#E5ECF6\", \"polar\": {\"angularaxis\": {\"gridcolor\": \"white\", \"linecolor\": \"white\", \"ticks\": \"\"}, \"bgcolor\": \"#E5ECF6\", \"radialaxis\": {\"gridcolor\": \"white\", \"linecolor\": \"white\", \"ticks\": \"\"}}, \"scene\": {\"xaxis\": {\"backgroundcolor\": \"#E5ECF6\", \"gridcolor\": \"white\", \"gridwidth\": 2, \"linecolor\": \"white\", \"showbackground\": true, \"ticks\": \"\", \"zerolinecolor\": \"white\"}, \"yaxis\": {\"backgroundcolor\": \"#E5ECF6\", \"gridcolor\": \"white\", \"gridwidth\": 2, \"linecolor\": \"white\", \"showbackground\": true, \"ticks\": \"\", \"zerolinecolor\": \"white\"}, \"zaxis\": {\"backgroundcolor\": \"#E5ECF6\", \"gridcolor\": \"white\", \"gridwidth\": 2, \"linecolor\": \"white\", \"showbackground\": true, \"ticks\": \"\", \"zerolinecolor\": \"white\"}}, \"shapedefaults\": {\"line\": {\"color\": \"#2a3f5f\"}}, \"ternary\": {\"aaxis\": {\"gridcolor\": \"white\", \"linecolor\": \"white\", \"ticks\": \"\"}, \"baxis\": {\"gridcolor\": \"white\", \"linecolor\": \"white\", \"ticks\": \"\"}, \"bgcolor\": \"#E5ECF6\", \"caxis\": {\"gridcolor\": \"white\", \"linecolor\": \"white\", \"ticks\": \"\"}}, \"title\": {\"x\": 0.05}, \"xaxis\": {\"automargin\": true, \"gridcolor\": \"white\", \"linecolor\": \"white\", \"ticks\": \"\", \"title\": {\"standoff\": 15}, \"zerolinecolor\": \"white\", \"zerolinewidth\": 2}, \"yaxis\": {\"automargin\": true, \"gridcolor\": \"white\", \"linecolor\": \"white\", \"ticks\": \"\", \"title\": {\"standoff\": 15}, \"zerolinecolor\": \"white\", \"zerolinewidth\": 2}}}, \"title\": {\"text\": \"Histograma da coluna: abnormal short term variability\"}, \"xaxis\": {\"anchor\": \"y\", \"domain\": [0.0, 1.0], \"title\": {\"text\": \"x\"}}, \"yaxis\": {\"anchor\": \"x\", \"domain\": [0.0, 1.0], \"title\": {\"text\": \"count\"}}},\n",
              "                        {\"responsive\": true}\n",
              "                    ).then(function(){\n",
              "                            \n",
              "var gd = document.getElementById('92310bb4-bbcf-43ec-82fe-589b3237f5d5');\n",
              "var x = new MutationObserver(function (mutations, observer) {{\n",
              "        var display = window.getComputedStyle(gd).display;\n",
              "        if (!display || display === 'none') {{\n",
              "            console.log([gd, 'removed!']);\n",
              "            Plotly.purge(gd);\n",
              "            observer.disconnect();\n",
              "        }}\n",
              "}});\n",
              "\n",
              "// Listen for the removal of the full notebook cells\n",
              "var notebookContainer = gd.closest('#notebook-container');\n",
              "if (notebookContainer) {{\n",
              "    x.observe(notebookContainer, {childList: true});\n",
              "}}\n",
              "\n",
              "// Listen for the clearing of the current output cell\n",
              "var outputEl = gd.closest('.output');\n",
              "if (outputEl) {{\n",
              "    x.observe(outputEl, {childList: true});\n",
              "}}\n",
              "\n",
              "                        })\n",
              "                };\n",
              "                \n",
              "            </script>\n",
              "        </div>\n",
              "</body>\n",
              "</html>"
            ]
          },
          "metadata": {
            "tags": []
          }
        }
      ]
    },
    {
      "cell_type": "code",
      "metadata": {
        "colab": {
          "base_uri": "https://localhost:8080/",
          "height": 542
        },
        "id": "plRfqCyrFv4w",
        "outputId": "0e4c055d-0a9c-4128-e286-4bc8418529e6"
      },
      "source": [
        "px.box(y = train_set['abnormal_short_term_variability'], color = train_set['fetal_health'],\n",
        "          title = 'boxplot da coluna: abnormal short term variability', labels = {'color' : 'Classe', 'y' : 'valores'}\n",
        "       )"
      ],
      "execution_count": 77,
      "outputs": [
        {
          "output_type": "display_data",
          "data": {
            "text/html": [
              "<html>\n",
              "<head><meta charset=\"utf-8\" /></head>\n",
              "<body>\n",
              "    <div>\n",
              "            <script src=\"https://cdnjs.cloudflare.com/ajax/libs/mathjax/2.7.5/MathJax.js?config=TeX-AMS-MML_SVG\"></script><script type=\"text/javascript\">if (window.MathJax) {MathJax.Hub.Config({SVG: {font: \"STIX-Web\"}});}</script>\n",
              "                <script type=\"text/javascript\">window.PlotlyConfig = {MathJaxConfig: 'local'};</script>\n",
              "        <script src=\"https://cdn.plot.ly/plotly-latest.min.js\"></script>    \n",
              "            <div id=\"a5921ce0-f98a-48ad-b97c-c564566f6407\" class=\"plotly-graph-div\" style=\"height:525px; width:100%;\"></div>\n",
              "            <script type=\"text/javascript\">\n",
              "                \n",
              "                    window.PLOTLYENV=window.PLOTLYENV || {};\n",
              "                    \n",
              "                if (document.getElementById(\"a5921ce0-f98a-48ad-b97c-c564566f6407\")) {\n",
              "                    Plotly.newPlot(\n",
              "                        'a5921ce0-f98a-48ad-b97c-c564566f6407',\n",
              "                        [{\"alignmentgroup\": \"True\", \"hoverlabel\": {\"namelength\": 0}, \"hovertemplate\": \"Classe=1.0<br>valores=%{y}\", \"legendgroup\": \"Classe=1.0\", \"marker\": {\"color\": \"#636efa\"}, \"name\": \"Classe=1.0\", \"notched\": false, \"offsetgroup\": \"Classe=1.0\", \"orientation\": \"v\", \"showlegend\": true, \"type\": \"box\", \"x0\": \" \", \"xaxis\": \"x\", \"y\": [37.0, 34.0, 78.0, 34.0, 63.0, 26.0, 57.0, 23.0, 50.0, 64.0, 27.0, 28.0, 25.0, 37.0, 40.0, 42.0, 36.0, 65.0, 37.0, 62.0, 24.0, 31.0, 28.0, 58.0, 65.0, 27.0, 21.0, 54.0, 58.0, 68.0, 44.0, 38.0, 37.0, 54.0, 29.0, 30.0, 34.0, 39.0, 16.0, 64.0, 59.0, 51.0, 51.0, 37.0, 58.0, 25.0, 51.0, 58.0, 41.0, 40.0, 37.0, 66.0, 63.0, 62.0, 49.0, 40.0, 42.0, 50.0, 32.0, 33.0, 35.0, 36.0, 28.0, 45.0, 32.0, 21.0, 62.0, 27.0, 38.0, 50.0, 22.0, 21.0, 39.0, 26.0, 61.0, 58.0, 51.0, 63.0, 43.0, 39.0, 20.0, 17.0, 38.0, 40.0, 41.0, 35.0, 43.0, 34.0, 25.0, 19.0, 48.0, 24.0, 55.0, 30.0, 22.0, 49.0, 49.0, 63.0, 47.0, 23.0, 26.0, 52.0, 37.0, 56.0, 46.0, 55.0, 61.0, 17.0, 34.0, 45.0, 57.0, 28.0, 29.0, 51.0, 42.0, 28.0, 36.0, 68.0, 20.0, 35.0, 44.0, 59.0, 40.0, 33.0, 14.0, 78.0, 59.0, 51.0, 69.0, 34.0, 25.0, 71.0, 64.0, 24.0, 64.0, 23.0, 56.0, 48.0, 32.0, 45.0, 38.0, 32.0, 35.0, 41.0, 44.0, 30.0, 57.0, 65.0, 31.0, 45.0, 59.0, 58.0, 38.0, 24.0, 39.0, 51.0, 63.0, 50.0, 22.0, 20.0, 63.0, 28.0, 38.0, 51.0, 25.0, 32.0, 43.0, 58.0, 34.0, 57.0, 34.0, 65.0, 39.0, 19.0, 67.0, 57.0, 46.0, 66.0, 58.0, 19.0, 36.0, 57.0, 54.0, 77.0, 53.0, 38.0, 24.0, 32.0, 31.0, 21.0, 46.0, 19.0, 63.0, 36.0, 50.0, 28.0, 49.0, 24.0, 35.0, 52.0, 33.0, 67.0, 64.0, 59.0, 22.0, 74.0, 43.0, 57.0, 24.0, 19.0, 42.0, 65.0, 83.0, 63.0, 33.0, 48.0, 25.0, 21.0, 21.0, 32.0, 40.0, 79.0, 37.0, 38.0, 23.0, 25.0, 25.0, 70.0, 32.0, 64.0, 59.0, 22.0, 59.0, 23.0, 56.0, 22.0, 26.0, 25.0, 34.0, 40.0, 58.0, 63.0, 29.0, 67.0, 41.0, 56.0, 72.0, 28.0, 40.0, 20.0, 13.0, 37.0, 58.0, 66.0, 23.0, 17.0, 40.0, 31.0, 28.0, 50.0, 49.0, 17.0, 29.0, 37.0, 51.0, 33.0, 17.0, 22.0, 26.0, 27.0, 57.0, 34.0, 21.0, 24.0, 40.0, 52.0, 52.0, 58.0, 56.0, 52.0, 50.0, 57.0, 58.0, 26.0, 50.0, 22.0, 66.0, 27.0, 65.0, 31.0, 21.0, 53.0, 18.0, 46.0, 27.0, 52.0, 55.0, 56.0, 57.0, 48.0, 44.0, 36.0, 46.0, 52.0, 28.0, 23.0, 50.0, 39.0, 24.0, 20.0, 71.0, 63.0, 30.0, 21.0, 44.0, 59.0, 20.0, 44.0, 41.0, 62.0, 64.0, 21.0, 45.0, 45.0, 55.0, 52.0, 60.0, 50.0, 67.0, 51.0, 22.0, 58.0, 25.0, 35.0, 45.0, 21.0, 24.0, 61.0, 58.0, 23.0, 32.0, 13.0, 55.0, 30.0, 33.0, 27.0, 61.0, 58.0, 41.0, 56.0, 34.0, 27.0, 48.0, 23.0, 44.0, 42.0, 19.0, 27.0, 66.0, 53.0, 21.0, 24.0, 43.0, 25.0, 61.0, 34.0, 30.0, 69.0, 51.0, 58.0, 44.0, 39.0, 54.0, 35.0, 23.0, 58.0, 48.0, 73.0, 43.0, 25.0, 25.0, 21.0, 59.0, 32.0, 35.0, 37.0, 37.0, 30.0, 41.0, 25.0, 34.0, 28.0, 43.0, 56.0, 39.0, 42.0, 63.0, 53.0, 19.0, 18.0, 53.0, 42.0, 23.0, 76.0, 43.0, 63.0, 16.0, 23.0, 58.0, 51.0, 27.0, 21.0, 42.0, 44.0, 55.0, 20.0, 56.0, 34.0, 33.0, 63.0, 53.0, 40.0, 44.0, 40.0, 39.0, 22.0, 18.0, 55.0, 60.0, 33.0, 50.0, 50.0, 63.0, 31.0, 37.0, 72.0, 64.0, 17.0, 37.0, 23.0, 28.0, 48.0, 30.0, 62.0, 75.0, 63.0, 57.0, 36.0, 17.0, 44.0, 18.0, 45.0, 25.0, 78.0, 50.0, 33.0, 55.0, 47.0, 22.0, 20.0, 28.0, 21.0, 29.0, 60.0, 28.0, 58.0, 53.0, 37.0, 68.0, 36.0, 43.0, 57.0, 42.0, 58.0, 54.0, 59.0, 20.0, 51.0, 21.0, 34.0, 53.0, 41.0, 54.0, 42.0, 45.0, 26.0, 58.0, 52.0, 27.0, 55.0, 31.0, 51.0, 31.0, 34.0, 32.0, 64.0, 16.0, 27.0, 55.0, 15.0, 36.0, 37.0, 20.0, 38.0, 46.0, 46.0, 64.0, 52.0, 59.0, 35.0, 37.0, 51.0, 20.0, 39.0, 28.0, 34.0, 45.0, 62.0, 56.0, 37.0, 73.0, 26.0, 51.0, 25.0, 40.0, 41.0, 57.0, 25.0, 55.0, 32.0, 33.0, 51.0, 36.0, 37.0, 64.0, 33.0, 62.0, 26.0, 53.0, 49.0, 65.0, 59.0, 21.0, 49.0, 29.0, 41.0, 22.0, 33.0, 55.0, 24.0, 52.0, 28.0, 64.0, 34.0, 37.0, 37.0, 76.0, 29.0, 71.0, 39.0, 32.0, 30.0, 31.0, 30.0, 51.0, 39.0, 27.0, 44.0, 26.0, 18.0, 47.0, 25.0, 16.0, 25.0, 56.0, 25.0, 60.0, 32.0, 65.0, 65.0, 44.0, 53.0, 28.0, 59.0, 51.0, 24.0, 42.0, 25.0, 67.0, 66.0, 29.0, 19.0, 31.0, 23.0, 46.0, 62.0, 41.0, 23.0, 46.0, 42.0, 28.0, 59.0, 41.0, 26.0, 60.0, 45.0, 20.0, 59.0, 69.0, 20.0, 39.0, 16.0, 25.0, 19.0, 51.0, 79.0, 22.0, 54.0, 24.0, 17.0, 27.0, 26.0, 41.0, 37.0, 64.0, 35.0, 50.0, 55.0, 57.0, 40.0, 57.0, 33.0, 20.0, 55.0, 51.0, 60.0, 32.0, 35.0, 22.0, 58.0, 26.0, 69.0, 26.0, 79.0, 58.0, 52.0, 58.0, 61.0, 31.0, 29.0, 47.0, 24.0, 62.0, 20.0, 38.0, 21.0, 24.0, 48.0, 75.0, 22.0, 43.0, 23.0, 49.0, 17.0, 37.0, 27.0, 35.0, 19.0, 30.0, 27.0, 56.0, 52.0, 49.0, 33.0, 26.0, 57.0, 36.0, 25.0, 24.0, 68.0, 37.0, 36.0, 25.0, 30.0, 57.0, 58.0, 40.0, 22.0, 59.0, 54.0, 59.0, 53.0, 27.0, 54.0, 56.0, 33.0, 26.0, 22.0, 52.0, 52.0, 57.0, 22.0, 51.0, 38.0, 51.0, 59.0, 36.0, 56.0, 65.0, 50.0, 61.0, 50.0, 34.0, 45.0, 37.0, 36.0, 65.0, 66.0, 60.0, 23.0, 21.0, 33.0, 42.0, 29.0, 42.0, 63.0, 50.0, 47.0, 39.0, 23.0, 43.0, 31.0, 29.0, 43.0, 63.0, 63.0, 54.0, 30.0, 32.0, 33.0, 27.0, 58.0, 46.0, 41.0, 63.0, 17.0, 39.0, 63.0, 39.0, 62.0, 51.0, 51.0, 49.0, 36.0, 63.0, 56.0, 30.0, 25.0, 22.0, 63.0, 61.0, 41.0, 56.0, 29.0, 33.0, 37.0, 13.0, 22.0, 67.0, 39.0, 54.0, 35.0, 38.0, 22.0, 35.0, 20.0, 65.0, 40.0, 62.0, 41.0, 46.0, 62.0, 22.0, 59.0, 53.0, 48.0, 25.0, 27.0, 25.0, 47.0, 19.0, 24.0, 63.0, 53.0, 29.0, 59.0, 48.0, 56.0, 58.0, 52.0, 61.0, 36.0, 34.0, 73.0, 46.0, 20.0, 35.0, 38.0, 25.0, 80.0, 16.0, 55.0, 64.0, 54.0, 43.0, 21.0, 60.0, 38.0, 34.0, 21.0, 35.0, 58.0, 64.0, 63.0, 28.0, 30.0, 21.0, 51.0, 54.0, 41.0, 61.0, 52.0, 57.0, 33.0, 27.0, 55.0, 55.0, 38.0, 28.0, 15.0, 59.0, 54.0, 25.0, 36.0, 73.0, 46.0, 35.0, 67.0, 27.0, 24.0, 22.0, 13.0, 36.0, 51.0, 20.0, 42.0, 39.0, 44.0, 56.0, 56.0, 32.0, 31.0, 58.0, 25.0, 73.0, 43.0, 58.0, 22.0, 51.0, 34.0, 22.0, 58.0, 59.0, 25.0, 39.0, 42.0, 32.0, 27.0, 65.0, 57.0, 64.0, 29.0, 34.0, 31.0, 74.0, 37.0, 41.0, 64.0, 35.0, 63.0, 52.0, 52.0, 39.0, 54.0, 50.0, 35.0, 40.0, 18.0, 27.0, 33.0, 29.0, 46.0, 22.0, 22.0, 55.0, 34.0, 28.0, 68.0, 49.0, 55.0, 69.0, 42.0, 61.0, 28.0, 51.0, 47.0, 50.0, 54.0, 50.0, 22.0, 63.0, 44.0, 40.0, 30.0, 52.0, 55.0, 35.0, 17.0, 21.0, 65.0, 38.0, 64.0, 18.0, 60.0, 41.0, 44.0, 57.0, 56.0, 22.0, 73.0, 29.0, 38.0, 65.0, 24.0, 50.0, 25.0, 64.0, 28.0, 35.0, 27.0, 38.0, 51.0, 16.0, 41.0, 50.0, 19.0, 50.0, 25.0, 33.0, 25.0, 26.0, 55.0, 22.0, 20.0, 17.0, 36.0, 27.0, 19.0, 46.0, 42.0, 44.0, 42.0, 44.0, 61.0, 31.0, 53.0, 42.0, 47.0, 24.0, 48.0, 37.0, 47.0, 56.0, 27.0, 58.0, 36.0, 52.0, 43.0, 21.0, 13.0, 38.0, 30.0, 53.0, 27.0, 56.0, 24.0, 28.0, 64.0, 29.0, 19.0, 51.0, 31.0, 70.0, 33.0, 22.0, 37.0, 52.0, 41.0, 26.0, 21.0, 17.0, 36.0, 21.0, 47.0, 40.0, 59.0, 27.0, 22.0, 31.0, 58.0, 54.0, 59.0, 55.0, 37.0, 51.0, 54.0, 43.0, 62.0, 24.0, 29.0, 21.0, 58.0, 38.0, 27.0, 26.0, 55.0, 62.0, 60.0, 30.0, 35.0, 25.0, 33.0, 51.0, 64.0, 67.0, 55.0, 41.0, 22.0, 50.0, 77.0, 55.0, 24.0, 36.0, 56.0, 60.0, 26.0, 53.0, 13.0, 22.0, 30.0, 51.0, 40.0, 28.0, 45.0, 56.0, 41.0, 29.0, 47.0, 32.0, 35.0, 23.0, 34.0, 62.0, 38.0, 33.0, 51.0, 23.0, 67.0, 32.0, 40.0, 53.0, 43.0, 56.0, 43.0, 23.0, 65.0, 38.0, 32.0, 41.0, 14.0, 22.0, 32.0, 60.0, 24.0, 53.0, 30.0, 34.0, 40.0, 77.0, 29.0, 34.0, 41.0, 60.0, 38.0, 40.0, 45.0, 62.0, 62.0, 38.0, 39.0, 50.0, 23.0, 29.0, 78.0, 45.0, 22.0, 45.0, 31.0, 35.0, 35.0, 28.0, 19.0, 42.0, 26.0, 54.0, 65.0, 49.0, 62.0, 35.0, 64.0, 30.0, 50.0, 32.0, 43.0, 46.0, 21.0, 43.0, 38.0, 64.0, 47.0, 36.0, 34.0, 34.0, 20.0, 31.0, 26.0, 16.0, 22.0, 45.0, 60.0, 40.0, 21.0, 39.0, 24.0, 65.0, 41.0, 42.0, 63.0, 64.0, 60.0, 55.0, 52.0, 25.0, 65.0, 45.0, 58.0, 55.0, 45.0, 29.0, 63.0, 58.0, 26.0, 46.0, 58.0, 26.0, 57.0, 34.0, 56.0, 71.0, 51.0, 28.0, 50.0, 29.0, 19.0, 50.0, 66.0, 63.0, 28.0, 38.0, 39.0, 60.0, 12.0, 23.0, 29.0, 29.0, 49.0, 28.0, 78.0, 72.0, 58.0, 40.0, 37.0, 63.0, 41.0, 38.0, 24.0, 66.0, 46.0, 67.0, 51.0, 70.0, 58.0, 46.0, 55.0, 16.0, 40.0, 49.0, 30.0, 37.0, 56.0, 51.0, 29.0, 67.0, 28.0, 53.0, 55.0, 64.0, 65.0, 12.0, 39.0, 70.0, 60.0, 53.0, 58.0, 59.0, 62.0, 37.0, 63.0, 40.0, 36.0, 52.0], \"y0\": \" \", \"yaxis\": \"y\"}, {\"alignmentgroup\": \"True\", \"hoverlabel\": {\"namelength\": 0}, \"hovertemplate\": \"Classe=2.0<br>valores=%{y}\", \"legendgroup\": \"Classe=2.0\", \"marker\": {\"color\": \"#EF553B\"}, \"name\": \"Classe=2.0\", \"notched\": false, \"offsetgroup\": \"Classe=2.0\", \"orientation\": \"v\", \"showlegend\": true, \"type\": \"box\", \"x0\": \" \", \"xaxis\": \"x\", \"y\": [60.0, 79.0, 60.0, 78.0, 63.0, 61.0, 78.0, 78.0, 68.0, 50.0, 60.0, 74.0, 64.0, 65.0, 60.0, 56.0, 69.0, 61.0, 53.0, 61.0, 61.0, 61.0, 21.0, 64.0, 60.0, 64.0, 74.0, 63.0, 55.0, 56.0, 70.0, 63.0, 51.0, 61.0, 67.0, 43.0, 74.0, 66.0, 65.0, 58.0, 34.0, 61.0, 75.0, 79.0, 32.0, 61.0, 60.0, 44.0, 70.0, 61.0, 59.0, 64.0, 74.0, 78.0, 60.0, 58.0, 63.0, 75.0, 67.0, 66.0, 68.0, 65.0, 65.0, 59.0, 75.0, 58.0, 53.0, 73.0, 63.0, 43.0, 66.0, 69.0, 51.0, 43.0, 60.0, 71.0, 44.0, 75.0, 64.0, 61.0, 56.0, 28.0, 64.0, 60.0, 74.0, 79.0, 64.0, 54.0, 51.0, 69.0, 75.0, 65.0, 77.0, 65.0, 70.0, 64.0, 62.0, 61.0, 60.0, 72.0, 76.0, 45.0, 78.0, 65.0, 65.0, 36.0, 60.0, 60.0, 78.0, 70.0, 64.0, 67.0, 75.0, 60.0, 66.0, 47.0, 53.0, 62.0, 65.0, 64.0, 30.0, 71.0, 61.0, 70.0, 69.0, 61.0, 61.0, 73.0, 65.0, 73.0, 74.0, 66.0, 78.0, 61.0, 78.0, 56.0, 59.0, 49.0, 71.0, 75.0, 41.0, 77.0, 64.0, 60.0, 74.0, 62.0, 61.0, 57.0, 62.0, 64.0, 63.0, 68.0, 29.0, 59.0, 61.0, 76.0, 70.0, 57.0, 78.0, 76.0, 67.0, 73.0, 64.0, 65.0, 38.0, 76.0, 46.0, 60.0, 48.0, 44.0, 66.0, 67.0, 60.0, 34.0, 75.0, 65.0, 79.0, 68.0, 72.0, 69.0, 63.0, 57.0, 78.0, 65.0, 60.0, 63.0, 58.0, 44.0, 54.0, 61.0, 65.0, 47.0, 67.0, 77.0, 45.0, 65.0, 70.0, 62.0, 55.0, 65.0, 60.0, 63.0, 75.0, 72.0, 50.0, 69.0, 57.0, 73.0, 68.0, 65.0, 64.0, 77.0, 76.0, 69.0, 69.0, 65.0, 48.0, 62.0, 77.0, 51.0, 45.0], \"y0\": \" \", \"yaxis\": \"y\"}, {\"alignmentgroup\": \"True\", \"hoverlabel\": {\"namelength\": 0}, \"hovertemplate\": \"Classe=3.0<br>valores=%{y}\", \"legendgroup\": \"Classe=3.0\", \"marker\": {\"color\": \"#00cc96\"}, \"name\": \"Classe=3.0\", \"notched\": false, \"offsetgroup\": \"Classe=3.0\", \"orientation\": \"v\", \"showlegend\": true, \"type\": \"box\", \"x0\": \" \", \"xaxis\": \"x\", \"y\": [81.0, 68.0, 67.0, 86.0, 60.0, 32.0, 65.0, 36.0, 63.0, 68.0, 68.0, 77.0, 66.0, 29.0, 81.0, 68.0, 73.0, 84.0, 68.0, 79.0, 24.0, 62.0, 61.0, 61.0, 62.0, 60.0, 68.0, 60.0, 68.0, 73.0, 64.0, 34.0, 64.0, 70.0, 32.0, 29.0, 60.0, 70.0, 74.0, 86.0, 34.0, 62.0, 83.0, 65.0, 64.0, 64.0, 84.0, 66.0, 80.0, 71.0, 61.0, 65.0, 60.0, 86.0, 18.0, 67.0, 67.0, 64.0, 29.0, 65.0, 63.0, 65.0, 73.0, 76.0, 58.0, 84.0, 60.0, 65.0, 61.0, 57.0, 61.0, 83.0, 72.0, 80.0, 74.0, 77.0, 80.0, 63.0, 61.0, 66.0, 79.0, 66.0, 65.0, 65.0, 64.0, 81.0, 61.0, 61.0, 84.0, 64.0, 67.0, 64.0, 59.0, 60.0, 63.0, 80.0, 69.0, 61.0, 70.0, 26.0, 66.0, 64.0, 37.0, 86.0, 67.0, 30.0, 63.0, 62.0, 79.0, 62.0, 84.0, 62.0, 79.0, 66.0, 29.0, 83.0, 73.0, 60.0, 77.0, 61.0, 62.0, 75.0, 60.0, 80.0, 30.0, 59.0, 71.0, 68.0, 65.0, 60.0, 64.0, 75.0], \"y0\": \" \", \"yaxis\": \"y\"}],\n",
              "                        {\"boxmode\": \"group\", \"legend\": {\"tracegroupgap\": 0}, \"template\": {\"data\": {\"bar\": [{\"error_x\": {\"color\": \"#2a3f5f\"}, \"error_y\": {\"color\": \"#2a3f5f\"}, \"marker\": {\"line\": {\"color\": \"#E5ECF6\", \"width\": 0.5}}, \"type\": \"bar\"}], \"barpolar\": [{\"marker\": {\"line\": {\"color\": \"#E5ECF6\", \"width\": 0.5}}, \"type\": \"barpolar\"}], \"carpet\": [{\"aaxis\": {\"endlinecolor\": \"#2a3f5f\", \"gridcolor\": \"white\", \"linecolor\": \"white\", \"minorgridcolor\": \"white\", \"startlinecolor\": \"#2a3f5f\"}, \"baxis\": {\"endlinecolor\": \"#2a3f5f\", \"gridcolor\": \"white\", \"linecolor\": \"white\", \"minorgridcolor\": \"white\", \"startlinecolor\": \"#2a3f5f\"}, \"type\": \"carpet\"}], \"choropleth\": [{\"colorbar\": {\"outlinewidth\": 0, \"ticks\": \"\"}, \"type\": \"choropleth\"}], \"contour\": [{\"colorbar\": {\"outlinewidth\": 0, \"ticks\": \"\"}, \"colorscale\": [[0.0, \"#0d0887\"], [0.1111111111111111, \"#46039f\"], [0.2222222222222222, \"#7201a8\"], [0.3333333333333333, \"#9c179e\"], [0.4444444444444444, \"#bd3786\"], [0.5555555555555556, \"#d8576b\"], [0.6666666666666666, \"#ed7953\"], [0.7777777777777778, \"#fb9f3a\"], [0.8888888888888888, \"#fdca26\"], [1.0, \"#f0f921\"]], \"type\": \"contour\"}], \"contourcarpet\": [{\"colorbar\": {\"outlinewidth\": 0, \"ticks\": \"\"}, \"type\": \"contourcarpet\"}], \"heatmap\": [{\"colorbar\": {\"outlinewidth\": 0, \"ticks\": \"\"}, \"colorscale\": [[0.0, \"#0d0887\"], [0.1111111111111111, \"#46039f\"], [0.2222222222222222, \"#7201a8\"], [0.3333333333333333, \"#9c179e\"], [0.4444444444444444, \"#bd3786\"], [0.5555555555555556, \"#d8576b\"], [0.6666666666666666, \"#ed7953\"], [0.7777777777777778, \"#fb9f3a\"], [0.8888888888888888, \"#fdca26\"], [1.0, \"#f0f921\"]], \"type\": \"heatmap\"}], \"heatmapgl\": [{\"colorbar\": {\"outlinewidth\": 0, \"ticks\": \"\"}, \"colorscale\": [[0.0, \"#0d0887\"], [0.1111111111111111, \"#46039f\"], [0.2222222222222222, \"#7201a8\"], [0.3333333333333333, \"#9c179e\"], [0.4444444444444444, \"#bd3786\"], [0.5555555555555556, \"#d8576b\"], [0.6666666666666666, \"#ed7953\"], [0.7777777777777778, \"#fb9f3a\"], [0.8888888888888888, \"#fdca26\"], [1.0, \"#f0f921\"]], \"type\": \"heatmapgl\"}], \"histogram\": [{\"marker\": {\"colorbar\": {\"outlinewidth\": 0, \"ticks\": \"\"}}, \"type\": \"histogram\"}], \"histogram2d\": [{\"colorbar\": {\"outlinewidth\": 0, \"ticks\": \"\"}, \"colorscale\": [[0.0, \"#0d0887\"], [0.1111111111111111, \"#46039f\"], [0.2222222222222222, \"#7201a8\"], [0.3333333333333333, \"#9c179e\"], [0.4444444444444444, \"#bd3786\"], [0.5555555555555556, \"#d8576b\"], [0.6666666666666666, \"#ed7953\"], [0.7777777777777778, \"#fb9f3a\"], [0.8888888888888888, \"#fdca26\"], [1.0, \"#f0f921\"]], \"type\": \"histogram2d\"}], \"histogram2dcontour\": [{\"colorbar\": {\"outlinewidth\": 0, \"ticks\": \"\"}, \"colorscale\": [[0.0, \"#0d0887\"], [0.1111111111111111, \"#46039f\"], [0.2222222222222222, \"#7201a8\"], [0.3333333333333333, \"#9c179e\"], [0.4444444444444444, \"#bd3786\"], [0.5555555555555556, \"#d8576b\"], [0.6666666666666666, \"#ed7953\"], [0.7777777777777778, \"#fb9f3a\"], [0.8888888888888888, \"#fdca26\"], [1.0, \"#f0f921\"]], \"type\": \"histogram2dcontour\"}], \"mesh3d\": [{\"colorbar\": {\"outlinewidth\": 0, \"ticks\": \"\"}, \"type\": \"mesh3d\"}], \"parcoords\": [{\"line\": {\"colorbar\": {\"outlinewidth\": 0, \"ticks\": \"\"}}, \"type\": \"parcoords\"}], \"pie\": [{\"automargin\": true, \"type\": \"pie\"}], \"scatter\": [{\"marker\": {\"colorbar\": {\"outlinewidth\": 0, \"ticks\": \"\"}}, \"type\": \"scatter\"}], \"scatter3d\": [{\"line\": {\"colorbar\": {\"outlinewidth\": 0, \"ticks\": \"\"}}, \"marker\": {\"colorbar\": {\"outlinewidth\": 0, \"ticks\": \"\"}}, \"type\": \"scatter3d\"}], \"scattercarpet\": [{\"marker\": {\"colorbar\": {\"outlinewidth\": 0, \"ticks\": \"\"}}, \"type\": \"scattercarpet\"}], \"scattergeo\": [{\"marker\": {\"colorbar\": {\"outlinewidth\": 0, \"ticks\": \"\"}}, \"type\": \"scattergeo\"}], \"scattergl\": [{\"marker\": {\"colorbar\": {\"outlinewidth\": 0, \"ticks\": \"\"}}, \"type\": \"scattergl\"}], \"scattermapbox\": [{\"marker\": {\"colorbar\": {\"outlinewidth\": 0, \"ticks\": \"\"}}, \"type\": \"scattermapbox\"}], \"scatterpolar\": [{\"marker\": {\"colorbar\": {\"outlinewidth\": 0, \"ticks\": \"\"}}, \"type\": \"scatterpolar\"}], \"scatterpolargl\": [{\"marker\": {\"colorbar\": {\"outlinewidth\": 0, \"ticks\": \"\"}}, \"type\": \"scatterpolargl\"}], \"scatterternary\": [{\"marker\": {\"colorbar\": {\"outlinewidth\": 0, \"ticks\": \"\"}}, \"type\": \"scatterternary\"}], \"surface\": [{\"colorbar\": {\"outlinewidth\": 0, \"ticks\": \"\"}, \"colorscale\": [[0.0, \"#0d0887\"], [0.1111111111111111, \"#46039f\"], [0.2222222222222222, \"#7201a8\"], [0.3333333333333333, \"#9c179e\"], [0.4444444444444444, \"#bd3786\"], [0.5555555555555556, \"#d8576b\"], [0.6666666666666666, \"#ed7953\"], [0.7777777777777778, \"#fb9f3a\"], [0.8888888888888888, \"#fdca26\"], [1.0, \"#f0f921\"]], \"type\": \"surface\"}], \"table\": [{\"cells\": {\"fill\": {\"color\": \"#EBF0F8\"}, \"line\": {\"color\": \"white\"}}, \"header\": {\"fill\": {\"color\": \"#C8D4E3\"}, \"line\": {\"color\": \"white\"}}, \"type\": \"table\"}]}, \"layout\": {\"annotationdefaults\": {\"arrowcolor\": \"#2a3f5f\", \"arrowhead\": 0, \"arrowwidth\": 1}, \"coloraxis\": {\"colorbar\": {\"outlinewidth\": 0, \"ticks\": \"\"}}, \"colorscale\": {\"diverging\": [[0, \"#8e0152\"], [0.1, \"#c51b7d\"], [0.2, \"#de77ae\"], [0.3, \"#f1b6da\"], [0.4, \"#fde0ef\"], [0.5, \"#f7f7f7\"], [0.6, \"#e6f5d0\"], [0.7, \"#b8e186\"], [0.8, \"#7fbc41\"], [0.9, \"#4d9221\"], [1, \"#276419\"]], \"sequential\": [[0.0, \"#0d0887\"], [0.1111111111111111, \"#46039f\"], [0.2222222222222222, \"#7201a8\"], [0.3333333333333333, \"#9c179e\"], [0.4444444444444444, \"#bd3786\"], [0.5555555555555556, \"#d8576b\"], [0.6666666666666666, \"#ed7953\"], [0.7777777777777778, \"#fb9f3a\"], [0.8888888888888888, \"#fdca26\"], [1.0, \"#f0f921\"]], \"sequentialminus\": [[0.0, \"#0d0887\"], [0.1111111111111111, \"#46039f\"], [0.2222222222222222, \"#7201a8\"], [0.3333333333333333, \"#9c179e\"], [0.4444444444444444, \"#bd3786\"], [0.5555555555555556, \"#d8576b\"], [0.6666666666666666, \"#ed7953\"], [0.7777777777777778, \"#fb9f3a\"], [0.8888888888888888, \"#fdca26\"], [1.0, \"#f0f921\"]]}, \"colorway\": [\"#636efa\", \"#EF553B\", \"#00cc96\", \"#ab63fa\", \"#FFA15A\", \"#19d3f3\", \"#FF6692\", \"#B6E880\", \"#FF97FF\", \"#FECB52\"], \"font\": {\"color\": \"#2a3f5f\"}, \"geo\": {\"bgcolor\": \"white\", \"lakecolor\": \"white\", \"landcolor\": \"#E5ECF6\", \"showlakes\": true, \"showland\": true, \"subunitcolor\": \"white\"}, \"hoverlabel\": {\"align\": \"left\"}, \"hovermode\": \"closest\", \"mapbox\": {\"style\": \"light\"}, \"paper_bgcolor\": \"white\", \"plot_bgcolor\": \"#E5ECF6\", \"polar\": {\"angularaxis\": {\"gridcolor\": \"white\", \"linecolor\": \"white\", \"ticks\": \"\"}, \"bgcolor\": \"#E5ECF6\", \"radialaxis\": {\"gridcolor\": \"white\", \"linecolor\": \"white\", \"ticks\": \"\"}}, \"scene\": {\"xaxis\": {\"backgroundcolor\": \"#E5ECF6\", \"gridcolor\": \"white\", \"gridwidth\": 2, \"linecolor\": \"white\", \"showbackground\": true, \"ticks\": \"\", \"zerolinecolor\": \"white\"}, \"yaxis\": {\"backgroundcolor\": \"#E5ECF6\", \"gridcolor\": \"white\", \"gridwidth\": 2, \"linecolor\": \"white\", \"showbackground\": true, \"ticks\": \"\", \"zerolinecolor\": \"white\"}, \"zaxis\": {\"backgroundcolor\": \"#E5ECF6\", \"gridcolor\": \"white\", \"gridwidth\": 2, \"linecolor\": \"white\", \"showbackground\": true, \"ticks\": \"\", \"zerolinecolor\": \"white\"}}, \"shapedefaults\": {\"line\": {\"color\": \"#2a3f5f\"}}, \"ternary\": {\"aaxis\": {\"gridcolor\": \"white\", \"linecolor\": \"white\", \"ticks\": \"\"}, \"baxis\": {\"gridcolor\": \"white\", \"linecolor\": \"white\", \"ticks\": \"\"}, \"bgcolor\": \"#E5ECF6\", \"caxis\": {\"gridcolor\": \"white\", \"linecolor\": \"white\", \"ticks\": \"\"}}, \"title\": {\"x\": 0.05}, \"xaxis\": {\"automargin\": true, \"gridcolor\": \"white\", \"linecolor\": \"white\", \"ticks\": \"\", \"title\": {\"standoff\": 15}, \"zerolinecolor\": \"white\", \"zerolinewidth\": 2}, \"yaxis\": {\"automargin\": true, \"gridcolor\": \"white\", \"linecolor\": \"white\", \"ticks\": \"\", \"title\": {\"standoff\": 15}, \"zerolinecolor\": \"white\", \"zerolinewidth\": 2}}}, \"title\": {\"text\": \"boxplot da coluna: abnormal short term variability\"}, \"xaxis\": {\"anchor\": \"y\", \"domain\": [0.0, 1.0]}, \"yaxis\": {\"anchor\": \"x\", \"domain\": [0.0, 1.0], \"title\": {\"text\": \"valores\"}}},\n",
              "                        {\"responsive\": true}\n",
              "                    ).then(function(){\n",
              "                            \n",
              "var gd = document.getElementById('a5921ce0-f98a-48ad-b97c-c564566f6407');\n",
              "var x = new MutationObserver(function (mutations, observer) {{\n",
              "        var display = window.getComputedStyle(gd).display;\n",
              "        if (!display || display === 'none') {{\n",
              "            console.log([gd, 'removed!']);\n",
              "            Plotly.purge(gd);\n",
              "            observer.disconnect();\n",
              "        }}\n",
              "}});\n",
              "\n",
              "// Listen for the removal of the full notebook cells\n",
              "var notebookContainer = gd.closest('#notebook-container');\n",
              "if (notebookContainer) {{\n",
              "    x.observe(notebookContainer, {childList: true});\n",
              "}}\n",
              "\n",
              "// Listen for the clearing of the current output cell\n",
              "var outputEl = gd.closest('.output');\n",
              "if (outputEl) {{\n",
              "    x.observe(outputEl, {childList: true});\n",
              "}}\n",
              "\n",
              "                        })\n",
              "                };\n",
              "                \n",
              "            </script>\n",
              "        </div>\n",
              "</body>\n",
              "</html>"
            ]
          },
          "metadata": {
            "tags": []
          }
        }
      ]
    },
    {
      "cell_type": "code",
      "metadata": {
        "colab": {
          "base_uri": "https://localhost:8080/",
          "height": 542
        },
        "id": "OFiHeQy2FxFt",
        "outputId": "5307559e-8441-44cc-886e-33b8701b31a6"
      },
      "source": [
        "px.histogram(x =train_set['mean_value_of_short_term_variability'],title  = 'Histograma da coluna: mean value of short term variability')"
      ],
      "execution_count": 78,
      "outputs": [
        {
          "output_type": "display_data",
          "data": {
            "text/html": [
              "<html>\n",
              "<head><meta charset=\"utf-8\" /></head>\n",
              "<body>\n",
              "    <div>\n",
              "            <script src=\"https://cdnjs.cloudflare.com/ajax/libs/mathjax/2.7.5/MathJax.js?config=TeX-AMS-MML_SVG\"></script><script type=\"text/javascript\">if (window.MathJax) {MathJax.Hub.Config({SVG: {font: \"STIX-Web\"}});}</script>\n",
              "                <script type=\"text/javascript\">window.PlotlyConfig = {MathJaxConfig: 'local'};</script>\n",
              "        <script src=\"https://cdn.plot.ly/plotly-latest.min.js\"></script>    \n",
              "            <div id=\"5fe37bd5-2003-447c-933b-cea52892a85b\" class=\"plotly-graph-div\" style=\"height:525px; width:100%;\"></div>\n",
              "            <script type=\"text/javascript\">\n",
              "                \n",
              "                    window.PLOTLYENV=window.PLOTLYENV || {};\n",
              "                    \n",
              "                if (document.getElementById(\"5fe37bd5-2003-447c-933b-cea52892a85b\")) {\n",
              "                    Plotly.newPlot(\n",
              "                        '5fe37bd5-2003-447c-933b-cea52892a85b',\n",
              "                        [{\"alignmentgroup\": \"True\", \"bingroup\": \"x\", \"hoverlabel\": {\"namelength\": 0}, \"hovertemplate\": \"x=%{x}<br>count=%{y}\", \"legendgroup\": \"\", \"marker\": {\"color\": \"#636efa\"}, \"name\": \"\", \"offsetgroup\": \"\", \"orientation\": \"v\", \"showlegend\": false, \"type\": \"histogram\", \"x\": [0.9, 1.1, 0.4, 0.5, 1.6, 2.2, 2.1, 0.2, 0.3, 1.4, 3.3, 1.5, 0.9, 0.4, 0.4, 2.1, 1.5, 1.3, 1.6, 1.3, 0.9, 1.0, 2.5, 0.4, 2.0, 1.9, 1.6, 1.5, 1.4, 1.5, 0.5, 0.5, 0.4, 0.4, 1.5, 1.7, 0.2, 0.2, 1.6, 0.4, 0.3, 0.6, 0.3, 0.7, 1.2, 0.9, 0.6, 1.3, 1.2, 0.7, 1.1, 0.8, 3.0, 2.5, 0.6, 2.0, 1.3, 0.9, 1.1, 0.8, 2.8, 0.3, 1.4, 0.6, 1.4, 0.6, 0.5, 1.7, 0.8, 0.8, 3.4, 0.4, 2.4, 2.1, 2.6, 0.4, 1.5, 0.8, 0.5, 0.7, 1.0, 0.8, 1.0, 1.0, 5.0, 1.9, 2.1, 0.9, 1.0, 2.0, 2.2, 1.2, 2.6, 0.8, 1.7, 1.7, 2.7, 1.5, 1.4, 0.6, 0.9, 2.1, 0.6, 3.2, 3.1, 1.4, 1.9, 2.2, 2.8, 0.9, 1.1, 1.3, 5.3, 0.7, 1.1, 1.3, 1.9, 2.2, 1.3, 0.5, 1.8, 2.2, 0.3, 1.6, 0.7, 0.6, 1.1, 1.5, 1.3, 0.5, 0.8, 2.4, 1.6, 0.7, 2.0, 2.9, 1.1, 2.0, 1.7, 0.8, 1.4, 1.6, 3.7, 1.2, 2.2, 0.8, 0.4, 1.3, 0.8, 0.3, 3.0, 2.2, 0.3, 0.9, 0.7, 1.4, 0.9, 0.4, 0.3, 1.0, 4.5, 0.8, 0.8, 1.9, 3.0, 0.8, 1.0, 0.2, 1.5, 2.3, 0.8, 0.7, 1.3, 1.8, 1.7, 0.5, 0.6, 0.7, 1.8, 0.6, 1.1, 1.1, 1.3, 0.8, 2.0, 2.2, 1.5, 0.4, 0.5, 2.8, 0.4, 2.6, 0.7, 0.4, 1.5, 0.4, 1.0, 1.2, 0.8, 2.5, 2.8, 0.8, 2.8, 1.8, 0.4, 2.3, 1.5, 3.1, 0.9, 0.8, 1.4, 1.2, 0.8, 0.5, 2.2, 0.5, 0.5, 1.1, 3.3, 0.9, 2.3, 1.5, 0.8, 2.1, 0.4, 0.5, 2.3, 1.4, 1.2, 2.8, 0.6, 0.7, 0.5, 1.5, 1.9, 1.5, 1.2, 1.2, 1.9, 1.5, 1.9, 0.4, 0.8, 0.9, 1.4, 1.4, 3.3, 0.8, 1.5, 4.0, 0.5, 0.6, 3.1, 0.3, 2.8, 1.3, 0.4, 1.4, 1.2, 4.4, 0.4, 1.9, 0.5, 1.6, 1.6, 1.9, 0.9, 3.6, 0.2, 1.8, 1.0, 0.7, 1.5, 0.8, 0.5, 1.9, 2.2, 1.3, 0.3, 0.7, 0.5, 0.8, 1.0, 1.5, 3.1, 1.7, 0.3, 0.4, 1.8, 0.7, 1.8, 1.6, 0.3, 0.5, 1.7, 2.4, 0.5, 1.8, 1.7, 1.7, 2.4, 1.0, 1.1, 0.5, 1.6, 0.5, 0.4, 0.3, 1.1, 0.8, 0.8, 0.5, 2.6, 1.7, 1.0, 2.9, 1.7, 3.2, 0.9, 1.2, 1.2, 1.5, 2.2, 2.0, 1.6, 2.4, 1.3, 2.2, 1.2, 0.6, 0.3, 2.0, 1.3, 1.3, 0.9, 0.9, 0.9, 3.4, 0.5, 1.5, 1.5, 1.3, 1.5, 1.7, 0.3, 0.5, 1.7, 2.2, 0.8, 0.7, 2.2, 1.1, 1.6, 1.5, 1.2, 1.6, 1.4, 3.0, 0.7, 1.6, 0.5, 1.3, 0.6, 2.1, 3.5, 2.4, 0.6, 1.2, 1.5, 1.5, 0.5, 2.7, 1.3, 0.3, 0.6, 0.2, 3.2, 0.9, 1.4, 2.7, 1.4, 1.9, 1.5, 0.3, 0.7, 0.8, 1.3, 0.7, 0.8, 1.6, 0.3, 1.6, 0.7, 0.8, 1.3, 5.0, 0.9, 2.5, 0.5, 0.8, 1.1, 1.8, 0.3, 0.8, 0.5, 2.6, 2.0, 0.5, 0.7, 1.2, 2.6, 3.8, 1.9, 0.7, 1.2, 1.3, 1.6, 2.0, 1.6, 0.4, 0.6, 0.7, 2.1, 1.8, 1.5, 1.6, 0.7, 1.9, 2.1, 0.5, 1.3, 0.6, 1.4, 0.4, 0.5, 1.5, 1.3, 3.0, 0.7, 1.8, 1.5, 2.0, 0.4, 0.2, 1.2, 0.4, 0.8, 0.5, 1.1, 1.2, 1.1, 1.1, 2.1, 0.4, 1.0, 1.0, 2.4, 0.5, 1.6, 4.2, 2.6, 1.8, 2.1, 2.0, 0.8, 1.4, 0.8, 1.0, 1.2, 0.2, 0.3, 0.8, 1.0, 0.7, 0.4, 1.0, 0.6, 1.5, 1.6, 1.0, 0.5, 0.5, 0.3, 0.3, 1.1, 2.9, 1.5, 1.7, 1.3, 1.7, 1.8, 1.2, 1.1, 1.2, 1.9, 1.0, 0.4, 1.3, 0.4, 2.5, 1.5, 2.1, 1.1, 0.8, 1.1, 2.6, 0.8, 2.7, 0.4, 2.4, 3.4, 4.2, 0.4, 0.6, 0.9, 1.0, 1.3, 1.7, 0.4, 1.0, 1.2, 3.5, 0.5, 0.3, 1.6, 0.5, 0.6, 1.2, 2.3, 1.3, 1.0, 1.5, 2.7, 1.7, 1.4, 1.0, 1.2, 0.3, 1.9, 2.7, 0.6, 0.4, 0.8, 1.1, 2.8, 0.4, 0.7, 1.4, 1.3, 2.1, 2.4, 1.4, 0.9, 1.1, 0.6, 0.3, 1.0, 1.7, 1.0, 1.3, 2.1, 2.0, 1.1, 0.3, 2.7, 2.0, 1.0, 1.7, 1.3, 0.7, 1.3, 0.4, 0.6, 1.1, 0.5, 1.8, 3.3, 2.4, 0.7, 1.1, 2.5, 2.8, 0.7, 0.4, 2.5, 0.4, 0.9, 0.8, 0.2, 0.4, 1.3, 2.2, 0.9, 1.6, 2.6, 1.4, 0.4, 2.3, 1.6, 1.3, 1.6, 1.8, 2.7, 0.8, 0.3, 1.2, 1.0, 0.5, 0.6, 1.1, 1.4, 0.8, 1.0, 0.4, 0.5, 1.6, 1.0, 1.4, 0.9, 2.5, 0.8, 2.8, 0.7, 0.7, 1.2, 1.7, 1.4, 1.7, 0.7, 1.3, 1.0, 1.4, 1.1, 0.4, 1.0, 2.2, 3.4, 1.8, 0.5, 2.7, 1.5, 1.7, 0.4, 0.2, 1.1, 2.1, 1.3, 0.8, 0.6, 0.6, 1.3, 0.6, 2.6, 1.1, 0.6, 1.2, 0.9, 0.7, 1.7, 0.4, 1.1, 0.8, 3.4, 1.0, 0.8, 0.7, 1.6, 4.1, 0.7, 1.2, 1.1, 2.1, 0.9, 0.9, 0.7, 1.4, 1.5, 1.0, 1.1, 0.7, 1.6, 0.8, 2.2, 1.2, 0.5, 0.3, 1.6, 1.6, 0.4, 1.6, 0.5, 2.0, 1.5, 1.0, 1.2, 1.1, 0.2, 2.3, 3.1, 1.4, 1.3, 0.6, 1.3, 0.5, 1.0, 1.3, 0.4, 0.8, 0.6, 1.0, 0.4, 0.7, 0.8, 0.4, 1.0, 1.3, 1.5, 2.0, 1.1, 0.9, 0.8, 0.5, 0.5, 2.6, 1.2, 0.5, 0.8, 6.0, 3.0, 1.5, 1.0, 1.5, 2.7, 1.8, 1.5, 0.3, 1.3, 1.1, 0.2, 1.0, 1.2, 1.2, 0.2, 0.5, 0.3, 0.7, 0.8, 1.4, 1.8, 0.5, 1.5, 1.8, 1.8, 1.2, 0.3, 0.8, 0.4, 2.4, 1.1, 0.2, 1.7, 0.5, 1.4, 1.3, 0.7, 0.9, 0.7, 1.3, 0.7, 0.9, 1.6, 0.4, 1.0, 0.8, 1.4, 0.6, 0.8, 0.8, 1.7, 0.6, 0.7, 2.6, 0.8, 2.4, 1.5, 1.8, 0.6, 0.6, 1.6, 1.0, 1.5, 4.9, 1.4, 1.4, 1.1, 1.5, 1.2, 1.4, 1.9, 2.3, 0.7, 1.2, 1.3, 0.7, 1.3, 0.2, 1.6, 0.5, 0.6, 1.3, 0.4, 1.3, 1.3, 7.0, 0.6, 1.3, 3.0, 1.6, 0.3, 1.2, 1.5, 0.6, 2.5, 0.4, 1.3, 1.2, 0.4, 0.2, 0.9, 1.5, 0.2, 0.7, 1.7, 0.9, 4.7, 1.3, 0.9, 0.7, 0.6, 1.6, 1.5, 0.4, 0.9, 1.5, 2.0, 2.7, 1.2, 1.3, 0.8, 2.4, 2.3, 1.5, 1.7, 1.6, 1.9, 0.8, 1.4, 2.2, 1.9, 0.5, 1.0, 1.3, 1.4, 3.0, 0.4, 0.9, 1.5, 1.3, 1.3, 2.0, 1.6, 2.5, 0.9, 3.9, 1.8, 0.7, 1.8, 1.4, 1.3, 0.5, 0.9, 2.7, 1.0, 1.3, 1.7, 0.7, 1.6, 2.6, 1.3, 2.3, 2.3, 0.9, 1.6, 0.5, 0.9, 1.4, 0.4, 0.4, 1.1, 0.9, 1.4, 0.7, 1.3, 1.1, 1.2, 1.8, 2.6, 0.3, 3.4, 2.3, 0.5, 0.2, 4.1, 0.6, 1.8, 0.3, 1.7, 1.2, 0.7, 1.3, 0.8, 2.2, 0.3, 0.6, 0.3, 0.8, 0.9, 1.9, 0.8, 1.7, 1.3, 0.6, 0.8, 2.5, 0.5, 1.4, 1.6, 1.2, 2.8, 3.9, 2.5, 0.4, 1.0, 0.5, 2.1, 0.5, 1.3, 0.2, 1.0, 2.5, 0.3, 1.4, 1.2, 0.6, 0.6, 3.1, 1.4, 0.5, 1.1, 2.0, 1.8, 0.2, 1.3, 2.9, 1.8, 0.3, 0.4, 0.6, 1.7, 1.4, 1.5, 3.0, 4.8, 1.5, 0.9, 0.7, 0.3, 1.0, 0.4, 5.4, 1.7, 0.9, 1.7, 1.3, 1.1, 1.4, 0.3, 1.1, 0.7, 0.5, 1.3, 1.9, 2.2, 0.5, 2.7, 0.9, 1.5, 1.2, 1.5, 0.2, 0.7, 2.8, 1.5, 3.0, 1.7, 1.7, 1.2, 0.6, 0.5, 0.5, 0.7, 1.3, 0.2, 0.4, 1.5, 2.1, 0.6, 0.5, 0.8, 2.5, 1.3, 0.9, 1.6, 0.2, 0.5, 2.4, 0.6, 1.8, 1.8, 1.2, 0.6, 0.9, 1.7, 2.1, 1.3, 0.9, 2.0, 0.3, 2.8, 1.9, 1.1, 1.5, 1.4, 1.2, 1.7, 0.9, 0.5, 0.8, 0.2, 1.1, 2.9, 1.0, 0.8, 2.7, 1.9, 2.0, 0.6, 0.8, 1.4, 1.0, 3.2, 0.2, 1.4, 2.1, 0.2, 0.9, 1.9, 1.0, 1.6, 2.0, 0.4, 1.3, 0.8, 4.9, 0.3, 1.4, 1.3, 1.8, 3.2, 0.9, 1.3, 1.7, 2.8, 0.7, 0.5, 0.9, 2.5, 0.7, 1.9, 2.8, 0.6, 1.2, 1.1, 1.9, 1.6, 2.1, 0.4, 0.8, 1.1, 1.5, 1.2, 0.9, 1.9, 1.2, 1.3, 0.5, 1.9, 1.1, 1.5, 3.1, 1.3, 0.5, 1.2, 0.6, 1.3, 0.2, 1.1, 1.7, 2.9, 1.1, 1.0, 1.2, 2.2, 1.6, 0.5, 0.3, 5.7, 1.6, 1.3, 0.8, 0.9, 1.5, 1.2, 1.2, 1.0, 4.4, 3.0, 2.3, 1.2, 1.5, 0.8, 0.4, 0.4, 1.4, 1.6, 2.1, 0.2, 2.1, 0.3, 0.4, 0.5, 1.6, 0.3, 0.9, 0.6, 0.2, 0.3, 2.4, 0.4, 1.7, 1.9, 0.7, 1.4, 0.6, 0.3, 0.6, 0.7, 0.5, 1.8, 1.2, 0.7, 1.1, 1.1, 0.6, 1.9, 2.0, 1.2, 2.8, 1.9, 1.6, 0.4, 0.7, 1.1, 0.9, 0.6, 0.3, 1.9, 1.2, 0.9, 0.9, 0.7, 2.9, 2.2, 0.7, 2.5, 1.5, 1.2, 2.5, 1.4, 1.9, 0.4, 1.3, 1.9, 1.2, 0.9, 3.7, 1.3, 0.8, 0.9, 2.9, 1.1, 0.5, 2.2, 1.6, 0.9, 0.3, 1.3, 1.1, 1.5, 0.8, 1.5, 0.6, 0.6, 2.7, 0.9, 0.6, 2.3, 2.3, 2.7, 2.1, 1.0, 0.3, 0.3, 1.7, 1.9, 1.2, 0.9, 1.0, 2.0, 1.0, 0.9, 0.9, 4.8, 0.5, 0.8, 1.9, 2.5, 0.8, 1.5, 1.0, 1.2, 0.7, 2.1, 0.5, 1.2, 4.3, 0.5, 3.2, 5.4, 0.5, 1.9, 0.4, 2.7, 0.7, 1.8, 3.8, 0.8, 1.5, 1.1, 1.8, 1.1, 0.6, 0.2, 0.7, 1.5, 1.4, 1.4, 2.3, 1.3, 2.3, 1.9, 1.4, 0.3, 3.2, 2.7, 0.9, 2.4, 0.9, 0.6, 0.9, 1.3, 1.7, 2.0, 2.1, 0.9, 2.3, 0.3, 0.7, 0.7, 0.3, 0.8, 1.6, 5.2, 0.5, 1.3, 1.2, 0.8, 1.6, 2.6, 0.6, 2.7, 1.1, 0.6, 4.2, 1.4, 0.8, 1.8, 0.5, 1.7, 1.6, 1.7, 2.3, 2.6, 0.5, 2.6, 1.5, 1.6, 0.6, 1.6, 1.4, 0.4, 1.4, 1.2, 0.2, 0.4, 1.3, 1.9, 0.6, 0.9, 1.1, 1.2, 1.1, 2.5, 0.6, 0.9, 0.4, 0.9, 1.6, 3.8, 2.2, 0.7, 1.4, 0.5, 3.0, 1.6, 1.5, 2.4, 0.9, 0.3, 2.0, 0.6, 1.4, 0.8, 0.9, 1.9, 1.6, 1.0, 0.8, 1.5, 1.7, 1.6, 1.2, 1.7, 0.8, 1.5, 1.2, 1.3, 0.2, 2.2, 0.9, 1.0, 1.9, 0.6, 2.5, 1.1, 1.9, 1.6, 2.4, 0.5, 1.7, 0.9, 1.1, 0.8, 0.5, 1.4, 2.7, 0.3, 1.7, 0.2, 1.1, 2.2, 1.6, 0.7, 6.3, 1.1, 0.7, 1.0, 0.9, 0.5, 1.3, 1.7, 0.5, 2.1, 1.5, 1.3, 1.4, 0.9, 2.0, 1.1, 1.0, 1.2, 0.3, 3.0, 0.9, 1.4, 1.6, 0.4, 1.2, 0.7, 2.2, 0.8, 0.4, 1.2, 1.7, 2.2, 0.4, 1.2, 1.9, 1.0, 1.3, 0.5, 0.2, 2.7, 0.8, 1.3, 1.0, 0.6, 0.6, 1.6, 0.5, 2.3, 0.4, 1.4, 0.7, 0.8, 2.2, 1.9, 0.2, 0.7, 1.2, 0.5, 0.8, 1.1, 1.4, 1.0, 1.1, 0.4, 2.6, 3.8, 1.5, 2.2, 2.2, 0.7, 2.2, 1.4, 1.5, 2.2, 1.6, 1.4, 0.3, 1.0, 1.2, 0.7, 2.4, 0.3, 1.7, 1.5, 1.7, 0.6, 0.6, 1.3, 0.3, 1.1, 0.7, 0.5, 2.9, 1.3, 2.1, 1.0, 0.3, 2.9, 1.4, 1.2, 1.5, 0.9, 1.6, 0.7, 0.4, 1.4, 1.8, 4.9, 0.5, 0.4, 0.7, 2.4, 1.4, 0.3, 1.9, 1.6, 1.7, 1.2, 0.6, 0.3, 3.3, 2.3, 1.4, 0.8, 2.9, 1.2, 1.1, 3.6, 1.5, 1.0, 1.7, 0.9, 1.6, 0.3, 0.9, 0.4, 0.5, 0.8, 0.8, 0.4, 1.2, 1.4, 1.7, 0.4, 0.9, 1.2, 0.8, 0.7, 0.2, 1.2, 0.4, 1.0, 1.9, 2.6, 1.1, 0.7, 0.3, 0.3, 1.9, 0.6, 3.0, 0.8, 0.9, 0.6, 1.3, 2.2, 0.6, 1.3, 0.7, 0.6, 1.1, 1.0, 3.4, 0.5, 0.2, 1.7, 2.1, 0.8, 2.0, 1.0, 0.7, 0.5, 0.8, 0.7, 1.1, 2.8, 1.2, 1.0, 1.2, 0.2, 0.8], \"xaxis\": \"x\", \"yaxis\": \"y\"}],\n",
              "                        {\"barmode\": \"relative\", \"legend\": {\"tracegroupgap\": 0}, \"template\": {\"data\": {\"bar\": [{\"error_x\": {\"color\": \"#2a3f5f\"}, \"error_y\": {\"color\": \"#2a3f5f\"}, \"marker\": {\"line\": {\"color\": \"#E5ECF6\", \"width\": 0.5}}, \"type\": \"bar\"}], \"barpolar\": [{\"marker\": {\"line\": {\"color\": \"#E5ECF6\", \"width\": 0.5}}, \"type\": \"barpolar\"}], \"carpet\": [{\"aaxis\": {\"endlinecolor\": \"#2a3f5f\", \"gridcolor\": \"white\", \"linecolor\": \"white\", \"minorgridcolor\": \"white\", \"startlinecolor\": \"#2a3f5f\"}, \"baxis\": {\"endlinecolor\": \"#2a3f5f\", \"gridcolor\": \"white\", \"linecolor\": \"white\", \"minorgridcolor\": \"white\", \"startlinecolor\": \"#2a3f5f\"}, \"type\": \"carpet\"}], \"choropleth\": [{\"colorbar\": {\"outlinewidth\": 0, \"ticks\": \"\"}, \"type\": \"choropleth\"}], \"contour\": [{\"colorbar\": {\"outlinewidth\": 0, \"ticks\": \"\"}, \"colorscale\": [[0.0, \"#0d0887\"], [0.1111111111111111, \"#46039f\"], [0.2222222222222222, \"#7201a8\"], [0.3333333333333333, \"#9c179e\"], [0.4444444444444444, \"#bd3786\"], [0.5555555555555556, \"#d8576b\"], [0.6666666666666666, \"#ed7953\"], [0.7777777777777778, \"#fb9f3a\"], [0.8888888888888888, \"#fdca26\"], [1.0, \"#f0f921\"]], \"type\": \"contour\"}], \"contourcarpet\": [{\"colorbar\": {\"outlinewidth\": 0, \"ticks\": \"\"}, \"type\": \"contourcarpet\"}], \"heatmap\": [{\"colorbar\": {\"outlinewidth\": 0, \"ticks\": \"\"}, \"colorscale\": [[0.0, \"#0d0887\"], [0.1111111111111111, \"#46039f\"], [0.2222222222222222, \"#7201a8\"], [0.3333333333333333, \"#9c179e\"], [0.4444444444444444, \"#bd3786\"], [0.5555555555555556, \"#d8576b\"], [0.6666666666666666, \"#ed7953\"], [0.7777777777777778, \"#fb9f3a\"], [0.8888888888888888, \"#fdca26\"], [1.0, \"#f0f921\"]], \"type\": \"heatmap\"}], \"heatmapgl\": [{\"colorbar\": {\"outlinewidth\": 0, \"ticks\": \"\"}, \"colorscale\": [[0.0, \"#0d0887\"], [0.1111111111111111, \"#46039f\"], [0.2222222222222222, \"#7201a8\"], [0.3333333333333333, \"#9c179e\"], [0.4444444444444444, \"#bd3786\"], [0.5555555555555556, \"#d8576b\"], [0.6666666666666666, \"#ed7953\"], [0.7777777777777778, \"#fb9f3a\"], [0.8888888888888888, \"#fdca26\"], [1.0, \"#f0f921\"]], \"type\": \"heatmapgl\"}], \"histogram\": [{\"marker\": {\"colorbar\": {\"outlinewidth\": 0, \"ticks\": \"\"}}, \"type\": \"histogram\"}], \"histogram2d\": [{\"colorbar\": {\"outlinewidth\": 0, \"ticks\": \"\"}, \"colorscale\": [[0.0, \"#0d0887\"], [0.1111111111111111, \"#46039f\"], [0.2222222222222222, \"#7201a8\"], [0.3333333333333333, \"#9c179e\"], [0.4444444444444444, \"#bd3786\"], [0.5555555555555556, \"#d8576b\"], [0.6666666666666666, \"#ed7953\"], [0.7777777777777778, \"#fb9f3a\"], [0.8888888888888888, \"#fdca26\"], [1.0, \"#f0f921\"]], \"type\": \"histogram2d\"}], \"histogram2dcontour\": [{\"colorbar\": {\"outlinewidth\": 0, \"ticks\": \"\"}, \"colorscale\": [[0.0, \"#0d0887\"], [0.1111111111111111, \"#46039f\"], [0.2222222222222222, \"#7201a8\"], [0.3333333333333333, \"#9c179e\"], [0.4444444444444444, \"#bd3786\"], [0.5555555555555556, \"#d8576b\"], [0.6666666666666666, \"#ed7953\"], [0.7777777777777778, \"#fb9f3a\"], [0.8888888888888888, \"#fdca26\"], [1.0, \"#f0f921\"]], \"type\": \"histogram2dcontour\"}], \"mesh3d\": [{\"colorbar\": {\"outlinewidth\": 0, \"ticks\": \"\"}, \"type\": \"mesh3d\"}], \"parcoords\": [{\"line\": {\"colorbar\": {\"outlinewidth\": 0, \"ticks\": \"\"}}, \"type\": \"parcoords\"}], \"pie\": [{\"automargin\": true, \"type\": \"pie\"}], \"scatter\": [{\"marker\": {\"colorbar\": {\"outlinewidth\": 0, \"ticks\": \"\"}}, \"type\": \"scatter\"}], \"scatter3d\": [{\"line\": {\"colorbar\": {\"outlinewidth\": 0, \"ticks\": \"\"}}, \"marker\": {\"colorbar\": {\"outlinewidth\": 0, \"ticks\": \"\"}}, \"type\": \"scatter3d\"}], \"scattercarpet\": [{\"marker\": {\"colorbar\": {\"outlinewidth\": 0, \"ticks\": \"\"}}, \"type\": \"scattercarpet\"}], \"scattergeo\": [{\"marker\": {\"colorbar\": {\"outlinewidth\": 0, \"ticks\": \"\"}}, \"type\": \"scattergeo\"}], \"scattergl\": [{\"marker\": {\"colorbar\": {\"outlinewidth\": 0, \"ticks\": \"\"}}, \"type\": \"scattergl\"}], \"scattermapbox\": [{\"marker\": {\"colorbar\": {\"outlinewidth\": 0, \"ticks\": \"\"}}, \"type\": \"scattermapbox\"}], \"scatterpolar\": [{\"marker\": {\"colorbar\": {\"outlinewidth\": 0, \"ticks\": \"\"}}, \"type\": \"scatterpolar\"}], \"scatterpolargl\": [{\"marker\": {\"colorbar\": {\"outlinewidth\": 0, \"ticks\": \"\"}}, \"type\": \"scatterpolargl\"}], \"scatterternary\": [{\"marker\": {\"colorbar\": {\"outlinewidth\": 0, \"ticks\": \"\"}}, \"type\": \"scatterternary\"}], \"surface\": [{\"colorbar\": {\"outlinewidth\": 0, \"ticks\": \"\"}, \"colorscale\": [[0.0, \"#0d0887\"], [0.1111111111111111, \"#46039f\"], [0.2222222222222222, \"#7201a8\"], [0.3333333333333333, \"#9c179e\"], [0.4444444444444444, \"#bd3786\"], [0.5555555555555556, \"#d8576b\"], [0.6666666666666666, \"#ed7953\"], [0.7777777777777778, \"#fb9f3a\"], [0.8888888888888888, \"#fdca26\"], [1.0, \"#f0f921\"]], \"type\": \"surface\"}], \"table\": [{\"cells\": {\"fill\": {\"color\": \"#EBF0F8\"}, \"line\": {\"color\": \"white\"}}, \"header\": {\"fill\": {\"color\": \"#C8D4E3\"}, \"line\": {\"color\": \"white\"}}, \"type\": \"table\"}]}, \"layout\": {\"annotationdefaults\": {\"arrowcolor\": \"#2a3f5f\", \"arrowhead\": 0, \"arrowwidth\": 1}, \"coloraxis\": {\"colorbar\": {\"outlinewidth\": 0, \"ticks\": \"\"}}, \"colorscale\": {\"diverging\": [[0, \"#8e0152\"], [0.1, \"#c51b7d\"], [0.2, \"#de77ae\"], [0.3, \"#f1b6da\"], [0.4, \"#fde0ef\"], [0.5, \"#f7f7f7\"], [0.6, \"#e6f5d0\"], [0.7, \"#b8e186\"], [0.8, \"#7fbc41\"], [0.9, \"#4d9221\"], [1, \"#276419\"]], \"sequential\": [[0.0, \"#0d0887\"], [0.1111111111111111, \"#46039f\"], [0.2222222222222222, \"#7201a8\"], [0.3333333333333333, \"#9c179e\"], [0.4444444444444444, \"#bd3786\"], [0.5555555555555556, \"#d8576b\"], [0.6666666666666666, \"#ed7953\"], [0.7777777777777778, \"#fb9f3a\"], [0.8888888888888888, \"#fdca26\"], [1.0, \"#f0f921\"]], \"sequentialminus\": [[0.0, \"#0d0887\"], [0.1111111111111111, \"#46039f\"], [0.2222222222222222, \"#7201a8\"], [0.3333333333333333, \"#9c179e\"], [0.4444444444444444, \"#bd3786\"], [0.5555555555555556, \"#d8576b\"], [0.6666666666666666, \"#ed7953\"], [0.7777777777777778, \"#fb9f3a\"], [0.8888888888888888, \"#fdca26\"], [1.0, \"#f0f921\"]]}, \"colorway\": [\"#636efa\", \"#EF553B\", \"#00cc96\", \"#ab63fa\", \"#FFA15A\", \"#19d3f3\", \"#FF6692\", \"#B6E880\", \"#FF97FF\", \"#FECB52\"], \"font\": {\"color\": \"#2a3f5f\"}, \"geo\": {\"bgcolor\": \"white\", \"lakecolor\": \"white\", \"landcolor\": \"#E5ECF6\", \"showlakes\": true, \"showland\": true, \"subunitcolor\": \"white\"}, \"hoverlabel\": {\"align\": \"left\"}, \"hovermode\": \"closest\", \"mapbox\": {\"style\": \"light\"}, \"paper_bgcolor\": \"white\", \"plot_bgcolor\": \"#E5ECF6\", \"polar\": {\"angularaxis\": {\"gridcolor\": \"white\", \"linecolor\": \"white\", \"ticks\": \"\"}, \"bgcolor\": \"#E5ECF6\", \"radialaxis\": {\"gridcolor\": \"white\", \"linecolor\": \"white\", \"ticks\": \"\"}}, \"scene\": {\"xaxis\": {\"backgroundcolor\": \"#E5ECF6\", \"gridcolor\": \"white\", \"gridwidth\": 2, \"linecolor\": \"white\", \"showbackground\": true, \"ticks\": \"\", \"zerolinecolor\": \"white\"}, \"yaxis\": {\"backgroundcolor\": \"#E5ECF6\", \"gridcolor\": \"white\", \"gridwidth\": 2, \"linecolor\": \"white\", \"showbackground\": true, \"ticks\": \"\", \"zerolinecolor\": \"white\"}, \"zaxis\": {\"backgroundcolor\": \"#E5ECF6\", \"gridcolor\": \"white\", \"gridwidth\": 2, \"linecolor\": \"white\", \"showbackground\": true, \"ticks\": \"\", \"zerolinecolor\": \"white\"}}, \"shapedefaults\": {\"line\": {\"color\": \"#2a3f5f\"}}, \"ternary\": {\"aaxis\": {\"gridcolor\": \"white\", \"linecolor\": \"white\", \"ticks\": \"\"}, \"baxis\": {\"gridcolor\": \"white\", \"linecolor\": \"white\", \"ticks\": \"\"}, \"bgcolor\": \"#E5ECF6\", \"caxis\": {\"gridcolor\": \"white\", \"linecolor\": \"white\", \"ticks\": \"\"}}, \"title\": {\"x\": 0.05}, \"xaxis\": {\"automargin\": true, \"gridcolor\": \"white\", \"linecolor\": \"white\", \"ticks\": \"\", \"title\": {\"standoff\": 15}, \"zerolinecolor\": \"white\", \"zerolinewidth\": 2}, \"yaxis\": {\"automargin\": true, \"gridcolor\": \"white\", \"linecolor\": \"white\", \"ticks\": \"\", \"title\": {\"standoff\": 15}, \"zerolinecolor\": \"white\", \"zerolinewidth\": 2}}}, \"title\": {\"text\": \"Histograma da coluna: mean value of short term variability\"}, \"xaxis\": {\"anchor\": \"y\", \"domain\": [0.0, 1.0], \"title\": {\"text\": \"x\"}}, \"yaxis\": {\"anchor\": \"x\", \"domain\": [0.0, 1.0], \"title\": {\"text\": \"count\"}}},\n",
              "                        {\"responsive\": true}\n",
              "                    ).then(function(){\n",
              "                            \n",
              "var gd = document.getElementById('5fe37bd5-2003-447c-933b-cea52892a85b');\n",
              "var x = new MutationObserver(function (mutations, observer) {{\n",
              "        var display = window.getComputedStyle(gd).display;\n",
              "        if (!display || display === 'none') {{\n",
              "            console.log([gd, 'removed!']);\n",
              "            Plotly.purge(gd);\n",
              "            observer.disconnect();\n",
              "        }}\n",
              "}});\n",
              "\n",
              "// Listen for the removal of the full notebook cells\n",
              "var notebookContainer = gd.closest('#notebook-container');\n",
              "if (notebookContainer) {{\n",
              "    x.observe(notebookContainer, {childList: true});\n",
              "}}\n",
              "\n",
              "// Listen for the clearing of the current output cell\n",
              "var outputEl = gd.closest('.output');\n",
              "if (outputEl) {{\n",
              "    x.observe(outputEl, {childList: true});\n",
              "}}\n",
              "\n",
              "                        })\n",
              "                };\n",
              "                \n",
              "            </script>\n",
              "        </div>\n",
              "</body>\n",
              "</html>"
            ]
          },
          "metadata": {
            "tags": []
          }
        }
      ]
    },
    {
      "cell_type": "code",
      "metadata": {
        "colab": {
          "base_uri": "https://localhost:8080/",
          "height": 542
        },
        "id": "N7KC6spgFyWv",
        "outputId": "cb5ccee8-03bf-4508-85fd-468b6e59c0de"
      },
      "source": [
        "px.box(y = train_set['mean_value_of_short_term_variability'], color = train_set['fetal_health'],\n",
        "        title = 'boxplot da coluna : mean value of short term variability', labels = {'color' : 'Classe', 'y' : 'valores'}\n",
        "       )"
      ],
      "execution_count": 79,
      "outputs": [
        {
          "output_type": "display_data",
          "data": {
            "text/html": [
              "<html>\n",
              "<head><meta charset=\"utf-8\" /></head>\n",
              "<body>\n",
              "    <div>\n",
              "            <script src=\"https://cdnjs.cloudflare.com/ajax/libs/mathjax/2.7.5/MathJax.js?config=TeX-AMS-MML_SVG\"></script><script type=\"text/javascript\">if (window.MathJax) {MathJax.Hub.Config({SVG: {font: \"STIX-Web\"}});}</script>\n",
              "                <script type=\"text/javascript\">window.PlotlyConfig = {MathJaxConfig: 'local'};</script>\n",
              "        <script src=\"https://cdn.plot.ly/plotly-latest.min.js\"></script>    \n",
              "            <div id=\"63219954-2b8f-445d-b22d-ad65213bb951\" class=\"plotly-graph-div\" style=\"height:525px; width:100%;\"></div>\n",
              "            <script type=\"text/javascript\">\n",
              "                \n",
              "                    window.PLOTLYENV=window.PLOTLYENV || {};\n",
              "                    \n",
              "                if (document.getElementById(\"63219954-2b8f-445d-b22d-ad65213bb951\")) {\n",
              "                    Plotly.newPlot(\n",
              "                        '63219954-2b8f-445d-b22d-ad65213bb951',\n",
              "                        [{\"alignmentgroup\": \"True\", \"hoverlabel\": {\"namelength\": 0}, \"hovertemplate\": \"Classe=1.0<br>valores=%{y}\", \"legendgroup\": \"Classe=1.0\", \"marker\": {\"color\": \"#636efa\"}, \"name\": \"Classe=1.0\", \"notched\": false, \"offsetgroup\": \"Classe=1.0\", \"orientation\": \"v\", \"showlegend\": true, \"type\": \"box\", \"x0\": \" \", \"xaxis\": \"x\", \"y\": [0.9, 1.1, 0.4, 1.6, 2.2, 2.1, 1.4, 1.5, 0.9, 2.1, 1.5, 1.3, 1.6, 1.3, 0.9, 1.0, 2.5, 2.0, 1.9, 1.6, 1.5, 1.4, 1.5, 0.5, 0.4, 1.5, 1.7, 1.6, 0.6, 0.3, 0.7, 1.2, 0.9, 0.6, 1.3, 1.2, 1.1, 0.8, 2.5, 2.0, 0.9, 1.1, 0.8, 1.4, 0.6, 1.4, 0.6, 0.5, 1.7, 0.8, 0.8, 3.4, 2.4, 2.1, 1.5, 0.8, 0.7, 0.8, 1.0, 1.0, 5.0, 1.9, 2.1, 0.9, 1.0, 2.0, 2.2, 1.2, 2.6, 0.8, 1.7, 1.7, 2.7, 1.5, 1.4, 0.6, 0.9, 0.6, 1.4, 1.9, 2.2, 2.8, 0.9, 1.1, 1.3, 5.3, 0.7, 1.1, 1.3, 1.9, 2.2, 1.3, 0.5, 1.8, 2.2, 1.6, 0.7, 0.6, 1.1, 1.5, 1.3, 0.8, 2.4, 1.6, 0.7, 2.0, 1.1, 2.0, 1.7, 0.8, 1.4, 1.6, 3.7, 1.2, 0.8, 1.3, 0.8, 0.3, 2.2, 0.9, 0.7, 1.4, 0.9, 1.0, 4.5, 0.8, 0.8, 1.9, 0.8, 1.0, 1.5, 0.8, 0.7, 1.3, 1.8, 1.7, 0.6, 0.7, 1.8, 0.6, 1.1, 1.1, 1.3, 0.8, 2.0, 1.5, 0.5, 0.4, 2.6, 0.7, 0.4, 1.5, 1.0, 1.2, 0.8, 2.5, 2.8, 0.8, 2.8, 1.8, 1.5, 3.1, 0.9, 0.8, 1.4, 1.2, 0.8, 0.5, 2.2, 0.5, 1.1, 3.3, 0.9, 2.3, 1.5, 0.8, 2.1, 0.4, 0.5, 2.3, 1.4, 1.2, 0.6, 0.7, 0.5, 1.5, 1.9, 1.2, 1.2, 1.9, 1.5, 1.9, 0.8, 0.9, 1.4, 1.4, 0.8, 1.5, 4.0, 0.6, 1.3, 0.4, 1.4, 1.2, 4.4, 0.4, 1.9, 1.6, 1.6, 1.9, 0.9, 3.6, 0.2, 1.8, 1.0, 0.7, 1.5, 1.9, 2.2, 1.3, 0.7, 0.5, 0.8, 1.0, 1.5, 3.1, 1.7, 0.4, 1.8, 0.7, 1.8, 1.6, 0.5, 1.7, 2.4, 1.8, 1.7, 2.4, 1.0, 1.1, 0.5, 1.6, 1.1, 0.8, 0.8, 0.5, 2.6, 1.7, 2.9, 1.7, 3.2, 0.9, 1.2, 1.2, 1.5, 2.0, 1.6, 1.3, 2.2, 1.2, 0.6, 2.0, 1.3, 0.9, 0.9, 0.9, 3.4, 1.5, 1.5, 1.3, 1.5, 1.7, 1.7, 2.2, 0.8, 0.7, 1.6, 1.5, 1.4, 3.0, 0.7, 1.6, 0.5, 1.3, 0.6, 2.1, 3.5, 2.4, 0.6, 1.2, 1.5, 1.5, 2.7, 1.3, 1.4, 2.7, 1.4, 1.9, 1.5, 0.7, 0.8, 1.3, 0.7, 0.8, 1.6, 1.6, 0.7, 0.8, 1.3, 5.0, 0.9, 0.8, 1.1, 1.8, 0.8, 0.5, 2.0, 0.7, 1.2, 2.6, 3.8, 1.9, 0.7, 1.2, 1.3, 1.6, 2.0, 1.6, 0.4, 0.7, 2.1, 1.8, 1.5, 1.6, 0.7, 1.9, 2.1, 0.6, 1.4, 1.5, 1.3, 3.0, 0.7, 1.8, 1.5, 2.0, 1.2, 0.4, 0.8, 0.5, 1.1, 1.2, 1.1, 2.1, 1.0, 1.0, 2.4, 1.6, 4.2, 2.6, 1.8, 2.0, 0.8, 1.4, 0.8, 1.0, 1.2, 0.3, 0.8, 1.0, 0.7, 1.0, 0.6, 1.5, 1.6, 1.0, 1.1, 2.9, 1.5, 1.7, 1.3, 1.7, 1.8, 1.2, 1.1, 1.2, 1.0, 1.3, 2.5, 1.5, 2.1, 1.1, 0.8, 1.1, 2.6, 0.8, 2.7, 2.4, 3.4, 4.2, 0.6, 1.0, 1.3, 1.7, 1.0, 1.2, 3.5, 1.6, 0.5, 0.6, 1.2, 2.3, 1.0, 1.5, 2.7, 1.7, 1.4, 1.2, 1.9, 2.7, 0.6, 1.1, 0.7, 1.4, 1.3, 2.1, 2.4, 1.4, 0.9, 1.1, 0.6, 1.0, 1.7, 1.0, 1.3, 2.1, 2.0, 2.0, 1.0, 1.7, 1.3, 0.7, 1.3, 0.4, 0.6, 1.1, 0.5, 1.8, 2.4, 1.1, 2.5, 2.8, 2.5, 0.4, 0.9, 1.3, 2.2, 0.9, 1.6, 2.6, 1.4, 2.3, 1.6, 1.3, 1.6, 1.8, 2.7, 0.8, 0.3, 1.2, 1.0, 0.5, 1.1, 0.8, 1.0, 0.5, 1.6, 1.0, 1.4, 0.9, 2.5, 0.8, 2.8, 0.7, 0.7, 1.2, 1.7, 1.4, 1.7, 0.7, 1.3, 1.0, 1.4, 1.1, 1.0, 2.2, 3.4, 1.8, 0.5, 2.7, 1.5, 1.1, 2.1, 1.3, 0.8, 0.6, 1.3, 2.6, 1.1, 1.2, 0.9, 0.7, 1.7, 0.8, 3.4, 1.0, 0.8, 0.7, 1.6, 4.1, 0.7, 1.2, 1.1, 2.1, 0.9, 0.9, 0.7, 1.4, 1.5, 1.0, 1.1, 0.7, 1.6, 0.8, 2.2, 1.2, 0.5, 1.6, 1.6, 1.6, 0.5, 2.0, 1.5, 1.0, 1.2, 1.1, 2.3, 3.1, 1.4, 1.3, 0.6, 1.3, 0.5, 1.0, 1.3, 0.8, 0.6, 1.0, 0.7, 0.8, 1.0, 1.3, 1.5, 1.1, 0.9, 0.8, 1.2, 0.8, 6.0, 3.0, 1.0, 1.5, 2.7, 1.8, 1.5, 1.3, 1.1, 1.2, 1.2, 0.5, 0.7, 0.8, 1.4, 1.8, 0.5, 1.5, 1.8, 1.2, 0.3, 0.8, 1.1, 1.7, 1.4, 1.3, 0.7, 0.9, 0.7, 1.3, 0.7, 0.9, 1.6, 1.0, 0.8, 1.4, 0.8, 0.8, 1.7, 0.6, 0.7, 2.6, 0.8, 2.4, 1.5, 1.8, 0.6, 0.6, 1.6, 1.0, 1.5, 4.9, 1.4, 1.4, 1.1, 1.5, 1.2, 1.9, 2.3, 0.7, 1.2, 1.3, 0.7, 1.3, 1.6, 0.5, 0.6, 1.3, 1.3, 1.3, 7.0, 0.6, 1.3, 3.0, 1.6, 0.3, 1.2, 1.5, 0.6, 0.4, 1.3, 1.2, 0.9, 1.5, 0.7, 1.7, 0.9, 4.7, 1.3, 0.7, 0.6, 1.5, 0.9, 1.5, 2.0, 2.7, 1.2, 1.3, 2.4, 2.3, 1.5, 1.7, 1.6, 1.9, 0.8, 1.4, 2.2, 1.9, 1.0, 1.3, 1.4, 3.0, 0.9, 1.5, 1.3, 1.3, 2.0, 1.6, 0.9, 3.9, 1.8, 0.7, 1.8, 1.4, 1.3, 0.5, 0.9, 1.0, 1.3, 1.7, 0.7, 1.6, 1.3, 2.3, 2.3, 0.9, 1.6, 0.5, 0.9, 1.4, 1.1, 0.9, 1.4, 0.7, 1.3, 1.1, 1.8, 3.4, 2.3, 4.1, 0.6, 1.8, 1.7, 1.2, 0.7, 1.3, 0.8, 2.2, 0.6, 0.8, 0.9, 1.9, 0.8, 1.7, 1.3, 0.6, 0.8, 2.5, 0.5, 1.4, 1.6, 1.2, 2.8, 3.9, 2.5, 1.0, 0.5, 2.1, 1.3, 1.0, 2.5, 1.4, 1.2, 0.6, 0.6, 3.1, 1.4, 0.5, 1.1, 2.0, 1.8, 1.3, 2.9, 1.8, 0.6, 1.7, 1.4, 1.5, 3.0, 4.8, 1.5, 0.9, 0.7, 1.0, 5.4, 1.7, 0.9, 1.7, 1.3, 1.1, 1.4, 1.1, 0.7, 1.9, 2.2, 0.5, 2.7, 0.9, 1.5, 1.2, 1.5, 0.7, 2.8, 1.5, 3.0, 1.7, 1.7, 1.2, 0.6, 0.5, 0.5, 1.3, 0.4, 1.5, 2.1, 0.6, 0.8, 2.5, 1.3, 0.9, 1.6, 0.2, 2.4, 1.8, 1.2, 0.6, 0.9, 1.7, 2.1, 1.3, 0.9, 2.0, 2.8, 1.9, 1.1, 1.5, 1.4, 1.2, 1.7, 0.9, 0.5, 0.8, 1.1, 1.0, 0.8, 2.7, 1.9, 2.0, 0.6, 0.8, 1.4, 3.2, 1.4, 0.9, 1.9, 1.0, 1.6, 0.8, 4.9, 0.3, 1.4, 1.3, 1.8, 3.2, 0.9, 1.3, 1.7, 0.7, 0.9, 0.7, 2.8, 0.6, 1.2, 1.1, 1.9, 1.6, 2.1, 0.8, 1.1, 1.5, 1.2, 0.9, 1.9, 1.2, 0.5, 1.9, 1.1, 1.5, 3.1, 1.3, 1.2, 0.6, 1.3, 1.7, 2.9, 1.1, 1.0, 1.2, 2.2, 1.6, 5.7, 1.6, 1.3, 0.8, 0.9, 1.5, 1.2, 1.2, 1.0, 3.0, 2.3, 1.2, 1.5, 0.8, 1.4, 1.6, 2.1, 2.1, 1.6, 0.3, 0.9, 0.6, 0.3, 2.4, 0.4, 1.7, 1.9, 0.7, 1.4, 0.6, 0.7, 1.8, 1.2, 0.7, 1.1, 1.1, 0.6, 1.9, 1.2, 2.8, 1.6, 0.7, 1.1, 0.6, 1.9, 1.2, 0.9, 0.9, 0.7, 2.9, 2.2, 0.7, 1.5, 1.2, 2.5, 1.4, 1.9, 1.3, 1.9, 1.2, 0.9, 3.7, 0.8, 0.9, 2.9, 1.1, 0.5, 2.2, 0.9, 1.3, 1.1, 1.5, 1.5, 0.6, 2.3, 2.7, 2.1, 1.0, 1.7, 1.9, 1.2, 0.9, 1.0, 1.0, 0.9, 0.9, 4.8, 0.8, 2.5, 0.8, 1.5, 1.0, 1.2, 0.7, 2.1, 1.2, 0.5, 1.9, 2.7, 0.7, 1.8, 3.8, 0.8, 1.1, 1.8, 1.1, 0.7, 1.5, 1.4, 1.4, 1.3, 2.3, 1.9, 1.4, 2.7, 0.9, 2.4, 0.9, 0.6, 0.9, 1.3, 1.7, 2.0, 0.9, 2.3, 0.7, 0.7, 0.8, 1.6, 5.2, 1.2, 0.8, 1.6, 0.6, 2.7, 1.1, 0.6, 1.4, 0.8, 1.7, 1.6, 1.7, 2.3, 2.6, 2.6, 1.5, 1.6, 0.6, 1.6, 1.4, 1.4, 1.2, 1.3, 1.9, 0.6, 0.9, 1.1, 1.2, 1.1, 2.5, 0.6, 0.9, 0.9, 1.6, 3.8, 2.2, 0.7, 1.4, 0.5, 3.0, 1.6, 1.5, 0.9, 2.0, 1.4, 0.8, 0.9, 1.9, 1.6, 0.8, 1.5, 1.7, 1.6, 1.2, 1.7, 0.8, 1.2, 1.3, 2.2, 0.9, 1.0, 1.9, 0.6, 2.5, 1.1, 1.9, 1.6, 1.7, 0.9, 1.1, 0.8, 2.7, 1.7, 1.1, 2.2, 1.6, 0.7, 1.1, 1.0, 0.9, 0.5, 1.3, 1.7, 2.1, 1.5, 1.3, 1.4, 0.9, 2.0, 1.1, 1.0, 1.2, 0.9, 1.4, 1.6, 1.2, 0.7, 2.2, 0.8, 1.2, 1.7, 2.2, 1.2, 1.9, 1.0, 1.3, 0.5, 2.7, 0.8, 1.3, 1.0, 0.6, 1.6, 0.5, 1.4, 0.7, 0.8, 2.2, 0.7, 1.2, 0.5, 1.1, 1.4, 1.0, 1.1, 2.6, 3.8, 1.5, 2.2, 2.2, 0.7, 2.2, 1.4, 1.5, 1.6, 1.4, 1.0, 1.2, 0.7, 2.4, 1.7, 1.5, 0.6, 0.6, 1.3, 1.1, 0.7, 2.9, 1.3, 1.0, 2.9, 1.2, 1.5, 1.6, 0.7, 0.4, 1.4, 1.8, 4.9, 0.5, 0.7, 2.4, 1.4, 1.9, 1.6, 1.7, 1.2, 3.3, 2.3, 1.4, 0.8, 1.2, 1.1, 3.6, 1.5, 1.0, 1.7, 0.9, 1.6, 0.3, 0.9, 0.5, 0.8, 0.8, 0.4, 1.2, 1.4, 1.7, 0.4, 0.9, 1.2, 0.8, 0.7, 1.2, 1.0, 1.9, 2.6, 1.1, 0.7, 1.9, 0.8, 0.9, 0.6, 1.3, 2.2, 1.3, 0.7, 0.6, 1.1, 1.0, 3.4, 2.1, 2.0, 1.0, 0.7, 0.5, 0.8, 1.1, 2.8, 1.2, 1.0, 1.2, 0.8], \"y0\": \" \", \"yaxis\": \"y\"}, {\"alignmentgroup\": \"True\", \"hoverlabel\": {\"namelength\": 0}, \"hovertemplate\": \"Classe=2.0<br>valores=%{y}\", \"legendgroup\": \"Classe=2.0\", \"marker\": {\"color\": \"#EF553B\"}, \"name\": \"Classe=2.0\", \"notched\": false, \"offsetgroup\": \"Classe=2.0\", \"orientation\": \"v\", \"showlegend\": true, \"type\": \"box\", \"x0\": \" \", \"xaxis\": \"x\", \"y\": [0.5, 0.4, 0.4, 0.4, 0.5, 0.4, 0.2, 0.2, 0.3, 0.7, 0.6, 0.3, 0.4, 0.4, 0.5, 1.0, 0.3, 0.4, 0.5, 0.4, 0.4, 0.4, 2.3, 0.5, 0.4, 0.5, 0.3, 0.5, 0.8, 0.5, 0.3, 0.5, 0.5, 0.4, 0.3, 1.0, 0.5, 0.3, 0.5, 1.1, 1.2, 0.5, 0.6, 0.2, 3.2, 0.9, 0.5, 0.6, 0.5, 0.4, 0.5, 0.4, 0.2, 0.4, 0.4, 0.5, 0.5, 0.3, 0.4, 0.4, 0.4, 0.4, 0.9, 0.5, 0.3, 1.3, 1.0, 0.3, 0.4, 0.8, 0.4, 0.3, 1.1, 0.7, 0.7, 0.4, 0.8, 0.2, 0.4, 0.4, 0.6, 1.4, 0.4, 0.4, 0.4, 0.2, 0.6, 0.6, 0.6, 0.4, 0.3, 0.4, 0.2, 0.4, 0.4, 0.4, 0.5, 0.5, 0.5, 0.3, 0.2, 1.0, 0.2, 0.3, 0.4, 2.4, 0.5, 0.4, 0.6, 1.4, 0.4, 0.4, 0.2, 0.9, 0.4, 0.8, 0.5, 0.4, 0.4, 0.4, 1.2, 0.3, 0.5, 0.3, 0.3, 0.4, 0.5, 0.2, 0.4, 0.3, 0.3, 0.5, 0.2, 0.7, 0.2, 0.5, 0.5, 0.6, 0.3, 0.2, 1.0, 0.2, 2.0, 0.4, 1.3, 0.5, 0.4, 1.3, 0.5, 1.1, 0.5, 0.3, 4.4, 0.4, 0.4, 0.2, 0.3, 0.5, 0.2, 0.3, 0.6, 0.5, 1.9, 0.4, 0.9, 0.3, 0.8, 0.6, 0.9, 0.6, 0.5, 0.5, 0.5, 5.4, 0.4, 0.6, 0.2, 0.3, 0.3, 0.5, 1.3, 2.6, 0.5, 0.5, 0.4, 0.4, 0.4, 0.6, 1.0, 0.5, 0.5, 1.4, 0.3, 0.2, 0.7, 0.4, 0.4, 0.4, 0.6, 0.4, 0.8, 0.4, 0.3, 0.3, 0.5, 0.3, 1.4, 0.9, 0.3, 0.6, 0.4, 0.2, 0.4, 0.3, 0.3, 0.6, 0.6, 0.5, 0.2, 0.8, 0.7], \"y0\": \" \", \"yaxis\": \"y\"}, {\"alignmentgroup\": \"True\", \"hoverlabel\": {\"namelength\": 0}, \"hovertemplate\": \"Classe=3.0<br>valores=%{y}\", \"legendgroup\": \"Classe=3.0\", \"marker\": {\"color\": \"#00cc96\"}, \"name\": \"Classe=3.0\", \"notched\": false, \"offsetgroup\": \"Classe=3.0\", \"orientation\": \"v\", \"showlegend\": true, \"type\": \"box\", \"x0\": \" \", \"xaxis\": \"x\", \"y\": [0.2, 0.3, 3.3, 0.4, 3.0, 1.3, 2.8, 2.6, 2.1, 3.2, 3.1, 0.5, 2.9, 2.2, 0.4, 3.0, 0.3, 0.3, 3.0, 0.2, 2.3, 2.2, 2.8, 2.8, 1.5, 3.3, 3.1, 2.8, 0.3, 0.3, 1.7, 2.2, 2.4, 0.3, 1.3, 2.2, 1.6, 0.3, 0.3, 0.3, 2.5, 0.5, 0.3, 2.6, 1.3, 1.1, 0.5, 2.1, 0.2, 0.3, 1.9, 0.4, 2.8, 0.3, 2.7, 3.3, 1.7, 1.1, 2.0, 2.6, 1.5, 1.8, 0.2, 0.2, 2.5, 0.2, 1.6, 2.5, 2.7, 2.6, 2.6, 0.2, 0.3, 0.3, 0.2, 0.3, 0.4, 1.3, 1.8, 2.9, 0.2, 2.1, 2.8, 2.5, 1.9, 0.2, 0.4, 2.0, 0.3, 2.5, 0.4, 1.3, 1.6, 2.7, 2.3, 0.3, 0.3, 2.0, 1.9, 4.3, 3.2, 1.5, 2.3, 0.3, 3.2, 2.1, 4.2, 1.8, 0.2, 2.4, 0.3, 1.5, 0.2, 2.4, 6.3, 0.5, 0.3, 3.0, 0.2, 2.3, 1.9, 0.2, 2.2, 0.3, 1.7, 2.1, 0.4, 0.3, 2.9, 3.0, 1.7, 0.2], \"y0\": \" \", \"yaxis\": \"y\"}],\n",
              "                        {\"boxmode\": \"group\", \"legend\": {\"tracegroupgap\": 0}, \"template\": {\"data\": {\"bar\": [{\"error_x\": {\"color\": \"#2a3f5f\"}, \"error_y\": {\"color\": \"#2a3f5f\"}, \"marker\": {\"line\": {\"color\": \"#E5ECF6\", \"width\": 0.5}}, \"type\": \"bar\"}], \"barpolar\": [{\"marker\": {\"line\": {\"color\": \"#E5ECF6\", \"width\": 0.5}}, \"type\": \"barpolar\"}], \"carpet\": [{\"aaxis\": {\"endlinecolor\": \"#2a3f5f\", \"gridcolor\": \"white\", \"linecolor\": \"white\", \"minorgridcolor\": \"white\", \"startlinecolor\": \"#2a3f5f\"}, \"baxis\": {\"endlinecolor\": \"#2a3f5f\", \"gridcolor\": \"white\", \"linecolor\": \"white\", \"minorgridcolor\": \"white\", \"startlinecolor\": \"#2a3f5f\"}, \"type\": \"carpet\"}], \"choropleth\": [{\"colorbar\": {\"outlinewidth\": 0, \"ticks\": \"\"}, \"type\": \"choropleth\"}], \"contour\": [{\"colorbar\": {\"outlinewidth\": 0, \"ticks\": \"\"}, \"colorscale\": [[0.0, \"#0d0887\"], [0.1111111111111111, \"#46039f\"], [0.2222222222222222, \"#7201a8\"], [0.3333333333333333, \"#9c179e\"], [0.4444444444444444, \"#bd3786\"], [0.5555555555555556, \"#d8576b\"], [0.6666666666666666, \"#ed7953\"], [0.7777777777777778, \"#fb9f3a\"], [0.8888888888888888, \"#fdca26\"], [1.0, \"#f0f921\"]], \"type\": \"contour\"}], \"contourcarpet\": [{\"colorbar\": {\"outlinewidth\": 0, \"ticks\": \"\"}, \"type\": \"contourcarpet\"}], \"heatmap\": [{\"colorbar\": {\"outlinewidth\": 0, \"ticks\": \"\"}, \"colorscale\": [[0.0, \"#0d0887\"], [0.1111111111111111, \"#46039f\"], [0.2222222222222222, \"#7201a8\"], [0.3333333333333333, \"#9c179e\"], [0.4444444444444444, \"#bd3786\"], [0.5555555555555556, \"#d8576b\"], [0.6666666666666666, \"#ed7953\"], [0.7777777777777778, \"#fb9f3a\"], [0.8888888888888888, \"#fdca26\"], [1.0, \"#f0f921\"]], \"type\": \"heatmap\"}], \"heatmapgl\": [{\"colorbar\": {\"outlinewidth\": 0, \"ticks\": \"\"}, \"colorscale\": [[0.0, \"#0d0887\"], [0.1111111111111111, \"#46039f\"], [0.2222222222222222, \"#7201a8\"], [0.3333333333333333, \"#9c179e\"], [0.4444444444444444, \"#bd3786\"], [0.5555555555555556, \"#d8576b\"], [0.6666666666666666, \"#ed7953\"], [0.7777777777777778, \"#fb9f3a\"], [0.8888888888888888, \"#fdca26\"], [1.0, \"#f0f921\"]], \"type\": \"heatmapgl\"}], \"histogram\": [{\"marker\": {\"colorbar\": {\"outlinewidth\": 0, \"ticks\": \"\"}}, \"type\": \"histogram\"}], \"histogram2d\": [{\"colorbar\": {\"outlinewidth\": 0, \"ticks\": \"\"}, \"colorscale\": [[0.0, \"#0d0887\"], [0.1111111111111111, \"#46039f\"], [0.2222222222222222, \"#7201a8\"], [0.3333333333333333, \"#9c179e\"], [0.4444444444444444, \"#bd3786\"], [0.5555555555555556, \"#d8576b\"], [0.6666666666666666, \"#ed7953\"], [0.7777777777777778, \"#fb9f3a\"], [0.8888888888888888, \"#fdca26\"], [1.0, \"#f0f921\"]], \"type\": \"histogram2d\"}], \"histogram2dcontour\": [{\"colorbar\": {\"outlinewidth\": 0, \"ticks\": \"\"}, \"colorscale\": [[0.0, \"#0d0887\"], [0.1111111111111111, \"#46039f\"], [0.2222222222222222, \"#7201a8\"], [0.3333333333333333, \"#9c179e\"], [0.4444444444444444, \"#bd3786\"], [0.5555555555555556, \"#d8576b\"], [0.6666666666666666, \"#ed7953\"], [0.7777777777777778, \"#fb9f3a\"], [0.8888888888888888, \"#fdca26\"], [1.0, \"#f0f921\"]], \"type\": \"histogram2dcontour\"}], \"mesh3d\": [{\"colorbar\": {\"outlinewidth\": 0, \"ticks\": \"\"}, \"type\": \"mesh3d\"}], \"parcoords\": [{\"line\": {\"colorbar\": {\"outlinewidth\": 0, \"ticks\": \"\"}}, \"type\": \"parcoords\"}], \"pie\": [{\"automargin\": true, \"type\": \"pie\"}], \"scatter\": [{\"marker\": {\"colorbar\": {\"outlinewidth\": 0, \"ticks\": \"\"}}, \"type\": \"scatter\"}], \"scatter3d\": [{\"line\": {\"colorbar\": {\"outlinewidth\": 0, \"ticks\": \"\"}}, \"marker\": {\"colorbar\": {\"outlinewidth\": 0, \"ticks\": \"\"}}, \"type\": \"scatter3d\"}], \"scattercarpet\": [{\"marker\": {\"colorbar\": {\"outlinewidth\": 0, \"ticks\": \"\"}}, \"type\": \"scattercarpet\"}], \"scattergeo\": [{\"marker\": {\"colorbar\": {\"outlinewidth\": 0, \"ticks\": \"\"}}, \"type\": \"scattergeo\"}], \"scattergl\": [{\"marker\": {\"colorbar\": {\"outlinewidth\": 0, \"ticks\": \"\"}}, \"type\": \"scattergl\"}], \"scattermapbox\": [{\"marker\": {\"colorbar\": {\"outlinewidth\": 0, \"ticks\": \"\"}}, \"type\": \"scattermapbox\"}], \"scatterpolar\": [{\"marker\": {\"colorbar\": {\"outlinewidth\": 0, \"ticks\": \"\"}}, \"type\": \"scatterpolar\"}], \"scatterpolargl\": [{\"marker\": {\"colorbar\": {\"outlinewidth\": 0, \"ticks\": \"\"}}, \"type\": \"scatterpolargl\"}], \"scatterternary\": [{\"marker\": {\"colorbar\": {\"outlinewidth\": 0, \"ticks\": \"\"}}, \"type\": \"scatterternary\"}], \"surface\": [{\"colorbar\": {\"outlinewidth\": 0, \"ticks\": \"\"}, \"colorscale\": [[0.0, \"#0d0887\"], [0.1111111111111111, \"#46039f\"], [0.2222222222222222, \"#7201a8\"], [0.3333333333333333, \"#9c179e\"], [0.4444444444444444, \"#bd3786\"], [0.5555555555555556, \"#d8576b\"], [0.6666666666666666, \"#ed7953\"], [0.7777777777777778, \"#fb9f3a\"], [0.8888888888888888, \"#fdca26\"], [1.0, \"#f0f921\"]], \"type\": \"surface\"}], \"table\": [{\"cells\": {\"fill\": {\"color\": \"#EBF0F8\"}, \"line\": {\"color\": \"white\"}}, \"header\": {\"fill\": {\"color\": \"#C8D4E3\"}, \"line\": {\"color\": \"white\"}}, \"type\": \"table\"}]}, \"layout\": {\"annotationdefaults\": {\"arrowcolor\": \"#2a3f5f\", \"arrowhead\": 0, \"arrowwidth\": 1}, \"coloraxis\": {\"colorbar\": {\"outlinewidth\": 0, \"ticks\": \"\"}}, \"colorscale\": {\"diverging\": [[0, \"#8e0152\"], [0.1, \"#c51b7d\"], [0.2, \"#de77ae\"], [0.3, \"#f1b6da\"], [0.4, \"#fde0ef\"], [0.5, \"#f7f7f7\"], [0.6, \"#e6f5d0\"], [0.7, \"#b8e186\"], [0.8, \"#7fbc41\"], [0.9, \"#4d9221\"], [1, \"#276419\"]], \"sequential\": [[0.0, \"#0d0887\"], [0.1111111111111111, \"#46039f\"], [0.2222222222222222, \"#7201a8\"], [0.3333333333333333, \"#9c179e\"], [0.4444444444444444, \"#bd3786\"], [0.5555555555555556, \"#d8576b\"], [0.6666666666666666, \"#ed7953\"], [0.7777777777777778, \"#fb9f3a\"], [0.8888888888888888, \"#fdca26\"], [1.0, \"#f0f921\"]], \"sequentialminus\": [[0.0, \"#0d0887\"], [0.1111111111111111, \"#46039f\"], [0.2222222222222222, \"#7201a8\"], [0.3333333333333333, \"#9c179e\"], [0.4444444444444444, \"#bd3786\"], [0.5555555555555556, \"#d8576b\"], [0.6666666666666666, \"#ed7953\"], [0.7777777777777778, \"#fb9f3a\"], [0.8888888888888888, \"#fdca26\"], [1.0, \"#f0f921\"]]}, \"colorway\": [\"#636efa\", \"#EF553B\", \"#00cc96\", \"#ab63fa\", \"#FFA15A\", \"#19d3f3\", \"#FF6692\", \"#B6E880\", \"#FF97FF\", \"#FECB52\"], \"font\": {\"color\": \"#2a3f5f\"}, \"geo\": {\"bgcolor\": \"white\", \"lakecolor\": \"white\", \"landcolor\": \"#E5ECF6\", \"showlakes\": true, \"showland\": true, \"subunitcolor\": \"white\"}, \"hoverlabel\": {\"align\": \"left\"}, \"hovermode\": \"closest\", \"mapbox\": {\"style\": \"light\"}, \"paper_bgcolor\": \"white\", \"plot_bgcolor\": \"#E5ECF6\", \"polar\": {\"angularaxis\": {\"gridcolor\": \"white\", \"linecolor\": \"white\", \"ticks\": \"\"}, \"bgcolor\": \"#E5ECF6\", \"radialaxis\": {\"gridcolor\": \"white\", \"linecolor\": \"white\", \"ticks\": \"\"}}, \"scene\": {\"xaxis\": {\"backgroundcolor\": \"#E5ECF6\", \"gridcolor\": \"white\", \"gridwidth\": 2, \"linecolor\": \"white\", \"showbackground\": true, \"ticks\": \"\", \"zerolinecolor\": \"white\"}, \"yaxis\": {\"backgroundcolor\": \"#E5ECF6\", \"gridcolor\": \"white\", \"gridwidth\": 2, \"linecolor\": \"white\", \"showbackground\": true, \"ticks\": \"\", \"zerolinecolor\": \"white\"}, \"zaxis\": {\"backgroundcolor\": \"#E5ECF6\", \"gridcolor\": \"white\", \"gridwidth\": 2, \"linecolor\": \"white\", \"showbackground\": true, \"ticks\": \"\", \"zerolinecolor\": \"white\"}}, \"shapedefaults\": {\"line\": {\"color\": \"#2a3f5f\"}}, \"ternary\": {\"aaxis\": {\"gridcolor\": \"white\", \"linecolor\": \"white\", \"ticks\": \"\"}, \"baxis\": {\"gridcolor\": \"white\", \"linecolor\": \"white\", \"ticks\": \"\"}, \"bgcolor\": \"#E5ECF6\", \"caxis\": {\"gridcolor\": \"white\", \"linecolor\": \"white\", \"ticks\": \"\"}}, \"title\": {\"x\": 0.05}, \"xaxis\": {\"automargin\": true, \"gridcolor\": \"white\", \"linecolor\": \"white\", \"ticks\": \"\", \"title\": {\"standoff\": 15}, \"zerolinecolor\": \"white\", \"zerolinewidth\": 2}, \"yaxis\": {\"automargin\": true, \"gridcolor\": \"white\", \"linecolor\": \"white\", \"ticks\": \"\", \"title\": {\"standoff\": 15}, \"zerolinecolor\": \"white\", \"zerolinewidth\": 2}}}, \"title\": {\"text\": \"boxplot da coluna : mean value of short term variability\"}, \"xaxis\": {\"anchor\": \"y\", \"domain\": [0.0, 1.0]}, \"yaxis\": {\"anchor\": \"x\", \"domain\": [0.0, 1.0], \"title\": {\"text\": \"valores\"}}},\n",
              "                        {\"responsive\": true}\n",
              "                    ).then(function(){\n",
              "                            \n",
              "var gd = document.getElementById('63219954-2b8f-445d-b22d-ad65213bb951');\n",
              "var x = new MutationObserver(function (mutations, observer) {{\n",
              "        var display = window.getComputedStyle(gd).display;\n",
              "        if (!display || display === 'none') {{\n",
              "            console.log([gd, 'removed!']);\n",
              "            Plotly.purge(gd);\n",
              "            observer.disconnect();\n",
              "        }}\n",
              "}});\n",
              "\n",
              "// Listen for the removal of the full notebook cells\n",
              "var notebookContainer = gd.closest('#notebook-container');\n",
              "if (notebookContainer) {{\n",
              "    x.observe(notebookContainer, {childList: true});\n",
              "}}\n",
              "\n",
              "// Listen for the clearing of the current output cell\n",
              "var outputEl = gd.closest('.output');\n",
              "if (outputEl) {{\n",
              "    x.observe(outputEl, {childList: true});\n",
              "}}\n",
              "\n",
              "                        })\n",
              "                };\n",
              "                \n",
              "            </script>\n",
              "        </div>\n",
              "</body>\n",
              "</html>"
            ]
          },
          "metadata": {
            "tags": []
          }
        }
      ]
    },
    {
      "cell_type": "markdown",
      "metadata": {
        "id": "S1UA2edchMIz"
      },
      "source": [
        "A coluna acima possui diversos  outliers na classe 1 e 2."
      ]
    },
    {
      "cell_type": "code",
      "metadata": {
        "colab": {
          "base_uri": "https://localhost:8080/",
          "height": 542
        },
        "id": "YB0qR-cyF0mT",
        "outputId": "25a9d5ad-9371-47cc-d549-41236a660aee"
      },
      "source": [
        "px.histogram( x = train_set['percentage_of_time_with_abnormal_long_term_variability'],title  = 'Histograma da coluna: percentage of time with abnormal long term variability')"
      ],
      "execution_count": 80,
      "outputs": [
        {
          "output_type": "display_data",
          "data": {
            "text/html": [
              "<html>\n",
              "<head><meta charset=\"utf-8\" /></head>\n",
              "<body>\n",
              "    <div>\n",
              "            <script src=\"https://cdnjs.cloudflare.com/ajax/libs/mathjax/2.7.5/MathJax.js?config=TeX-AMS-MML_SVG\"></script><script type=\"text/javascript\">if (window.MathJax) {MathJax.Hub.Config({SVG: {font: \"STIX-Web\"}});}</script>\n",
              "                <script type=\"text/javascript\">window.PlotlyConfig = {MathJaxConfig: 'local'};</script>\n",
              "        <script src=\"https://cdn.plot.ly/plotly-latest.min.js\"></script>    \n",
              "            <div id=\"86a121c6-6c95-4cd9-9bc5-723940964b1c\" class=\"plotly-graph-div\" style=\"height:525px; width:100%;\"></div>\n",
              "            <script type=\"text/javascript\">\n",
              "                \n",
              "                    window.PLOTLYENV=window.PLOTLYENV || {};\n",
              "                    \n",
              "                if (document.getElementById(\"86a121c6-6c95-4cd9-9bc5-723940964b1c\")) {\n",
              "                    Plotly.newPlot(\n",
              "                        '86a121c6-6c95-4cd9-9bc5-723940964b1c',\n",
              "                        [{\"alignmentgroup\": \"True\", \"bingroup\": \"x\", \"hoverlabel\": {\"namelength\": 0}, \"hovertemplate\": \"x=%{x}<br>count=%{y}\", \"legendgroup\": \"\", \"marker\": {\"color\": \"#636efa\"}, \"name\": \"\", \"offsetgroup\": \"\", \"orientation\": \"v\", \"showlegend\": false, \"type\": \"histogram\", \"x\": [12.0, 7.0, 27.0, 5.0, 0.0, 0.0, 0.0, 91.0, 72.0, 0.0, 0.0, 0.0, 1.0, 4.0, 17.0, 0.0, 0.0, 0.0, 0.0, 4.0, 0.0, 0.0, 0.0, 27.0, 0.0, 0.0, 0.0, 0.0, 0.0, 0.0, 0.0, 35.0, 8.0, 0.0, 0.0, 0.0, 32.0, 49.0, 0.0, 14.0, 23.0, 1.0, 5.0, 47.0, 0.0, 0.0, 0.0, 0.0, 0.0, 17.0, 6.0, 28.0, 0.0, 0.0, 7.0, 0.0, 0.0, 21.0, 10.0, 0.0, 0.0, 56.0, 0.0, 15.0, 3.0, 38.0, 23.0, 0.0, 7.0, 20.0, 0.0, 30.0, 0.0, 0.0, 0.0, 11.0, 0.0, 37.0, 32.0, 12.0, 39.0, 2.0, 15.0, 0.0, 0.0, 0.0, 6.0, 0.0, 0.0, 0.0, 0.0, 0.0, 0.0, 5.0, 0.0, 0.0, 0.0, 0.0, 0.0, 3.0, 0.0, 0.0, 0.0, 0.0, 0.0, 5.0, 0.0, 0.0, 0.0, 5.0, 0.0, 0.0, 0.0, 37.0, 0.0, 9.0, 0.0, 0.0, 5.0, 11.0, 0.0, 0.0, 39.0, 0.0, 0.0, 0.0, 31.0, 0.0, 0.0, 4.0, 32.0, 0.0, 0.0, 27.0, 0.0, 0.0, 0.0, 1.0, 0.0, 0.0, 0.0, 4.0, 0.0, 0.0, 0.0, 20.0, 17.0, 0.0, 2.0, 6.0, 0.0, 3.0, 91.0, 20.0, 14.0, 0.0, 0.0, 22.0, 32.0, 0.0, 0.0, 44.0, 0.0, 0.0, 0.0, 0.0, 0.0, 41.0, 35.0, 0.0, 0.0, 0.0, 5.0, 0.0, 0.0, 32.0, 12.0, 1.0, 0.0, 48.0, 0.0, 0.0, 0.0, 0.0, 0.0, 0.0, 0.0, 45.0, 0.0, 0.0, 67.0, 0.0, 56.0, 37.0, 0.0, 10.0, 0.0, 12.0, 10.0, 0.0, 0.0, 7.0, 0.0, 0.0, 64.0, 0.0, 0.0, 0.0, 0.0, 9.0, 22.0, 0.0, 3.0, 32.0, 0.0, 12.0, 58.0, 0.0, 0.0, 8.0, 0.0, 11.0, 32.0, 0.0, 5.0, 15.0, 0.0, 0.0, 0.0, 0.0, 0.0, 17.0, 32.0, 0.0, 0.0, 0.0, 0.0, 0.0, 0.0, 11.0, 0.0, 12.0, 0.0, 0.0, 0.0, 16.0, 0.0, 2.0, 0.0, 0.0, 37.0, 0.0, 0.0, 64.0, 0.0, 0.0, 6.0, 0.0, 0.0, 0.0, 36.0, 0.0, 35.0, 0.0, 0.0, 0.0, 37.0, 0.0, 48.0, 0.0, 0.0, 0.0, 0.0, 8.0, 17.0, 0.0, 0.0, 4.0, 75.0, 9.0, 70.0, 2.0, 0.0, 0.0, 0.0, 6.0, 40.0, 63.0, 6.0, 0.0, 0.0, 0.0, 78.0, 32.0, 3.0, 0.0, 36.0, 0.0, 0.0, 0.0, 3.0, 6.0, 0.0, 59.0, 0.0, 62.0, 54.0, 67.0, 0.0, 0.0, 8.0, 12.0, 5.0, 2.0, 19.0, 0.0, 0.0, 0.0, 0.0, 0.0, 0.0, 0.0, 0.0, 0.0, 1.0, 0.0, 0.0, 0.0, 0.0, 25.0, 69.0, 0.0, 0.0, 0.0, 0.0, 9.0, 2.0, 0.0, 59.0, 0.0, 4.0, 0.0, 0.0, 0.0, 46.0, 24.0, 0.0, 0.0, 0.0, 1.0, 0.0, 15.0, 0.0, 0.0, 0.0, 0.0, 0.0, 0.0, 7.0, 0.0, 48.0, 0.0, 0.0, 0.0, 0.0, 0.0, 0.0, 0.0, 0.0, 0.0, 61.0, 0.0, 0.0, 70.0, 0.0, 25.0, 0.0, 3.0, 0.0, 0.0, 0.0, 0.0, 0.0, 90.0, 2.0, 8.0, 9.0, 54.0, 3.0, 0.0, 79.0, 0.0, 26.0, 21.0, 0.0, 0.0, 52.0, 0.0, 71.0, 0.0, 0.0, 0.0, 31.0, 34.0, 27.0, 0.0, 0.0, 49.0, 42.0, 0.0, 0.0, 0.0, 0.0, 16.0, 0.0, 10.0, 0.0, 0.0, 7.0, 0.0, 61.0, 0.0, 0.0, 0.0, 0.0, 0.0, 21.0, 0.0, 0.0, 33.0, 0.0, 2.0, 0.0, 35.0, 15.0, 1.0, 0.0, 0.0, 0.0, 5.0, 0.0, 0.0, 40.0, 45.0, 0.0, 9.0, 0.0, 23.0, 0.0, 0.0, 0.0, 2.0, 0.0, 22.0, 0.0, 0.0, 0.0, 5.0, 0.0, 5.0, 0.0, 2.0, 0.0, 0.0, 3.0, 0.0, 0.0, 0.0, 0.0, 90.0, 8.0, 9.0, 0.0, 18.0, 8.0, 5.0, 6.0, 0.0, 0.0, 0.0, 5.0, 9.0, 66.0, 77.0, 0.0, 0.0, 0.0, 0.0, 0.0, 0.0, 0.0, 0.0, 8.0, 0.0, 0.0, 0.0, 25.0, 0.0, 20.0, 0.0, 0.0, 0.0, 1.0, 1.0, 0.0, 0.0, 7.0, 0.0, 47.0, 0.0, 0.0, 0.0, 11.0, 1.0, 0.0, 0.0, 10.0, 25.0, 73.0, 0.0, 3.0, 0.0, 62.0, 67.0, 8.0, 0.0, 16.0, 0.0, 0.0, 53.0, 0.0, 33.0, 0.0, 0.0, 0.0, 28.0, 0.0, 44.0, 0.0, 0.0, 51.0, 60.0, 30.0, 4.0, 0.0, 20.0, 6.0, 0.0, 0.0, 0.0, 0.0, 0.0, 0.0, 0.0, 0.0, 21.0, 0.0, 5.0, 7.0, 0.0, 11.0, 0.0, 10.0, 6.0, 0.0, 0.0, 0.0, 0.0, 0.0, 32.0, 0.0, 13.0, 20.0, 0.0, 0.0, 0.0, 0.0, 0.0, 1.0, 0.0, 0.0, 2.0, 58.0, 67.0, 0.0, 36.0, 4.0, 2.0, 34.0, 54.0, 0.0, 0.0, 0.0, 11.0, 0.0, 0.0, 8.0, 0.0, 0.0, 0.0, 0.0, 0.0, 0.0, 15.0, 5.0, 12.0, 0.0, 20.0, 0.0, 0.0, 0.0, 0.0, 5.0, 38.0, 50.0, 0.0, 0.0, 11.0, 0.0, 0.0, 0.0, 0.0, 3.0, 13.0, 0.0, 0.0, 0.0, 0.0, 0.0, 0.0, 0.0, 16.0, 0.0, 33.0, 5.0, 0.0, 0.0, 0.0, 16.0, 0.0, 0.0, 0.0, 42.0, 42.0, 3.0, 0.0, 0.0, 1.0, 26.0, 49.0, 0.0, 0.0, 0.0, 0.0, 13.0, 0.0, 0.0, 5.0, 0.0, 25.0, 0.0, 12.0, 0.0, 4.0, 0.0, 58.0, 0.0, 0.0, 0.0, 0.0, 0.0, 0.0, 17.0, 0.0, 0.0, 0.0, 0.0, 7.0, 8.0, 4.0, 0.0, 11.0, 0.0, 2.0, 73.0, 49.0, 0.0, 6.0, 21.0, 0.0, 1.0, 0.0, 0.0, 1.0, 1.0, 0.0, 41.0, 0.0, 0.0, 0.0, 8.0, 7.0, 9.0, 0.0, 7.0, 31.0, 21.0, 12.0, 12.0, 0.0, 48.0, 10.0, 0.0, 29.0, 0.0, 4.0, 22.0, 0.0, 3.0, 0.0, 0.0, 14.0, 21.0, 0.0, 0.0, 22.0, 1.0, 0.0, 0.0, 0.0, 2.0, 0.0, 0.0, 1.0, 1.0, 58.0, 0.0, 0.0, 43.0, 20.0, 10.0, 44.0, 61.0, 0.0, 43.0, 15.0, 0.0, 0.0, 0.0, 25.0, 0.0, 0.0, 0.0, 0.0, 6.0, 58.0, 33.0, 0.0, 0.0, 88.0, 0.0, 9.0, 0.0, 10.0, 39.0, 1.0, 37.0, 11.0, 53.0, 0.0, 0.0, 62.0, 0.0, 15.0, 0.0, 23.0, 0.0, 2.0, 0.0, 4.0, 5.0, 0.0, 10.0, 0.0, 0.0, 0.0, 49.0, 27.0, 0.0, 0.0, 0.0, 0.0, 0.0, 0.0, 0.0, 0.0, 0.0, 48.0, 0.0, 0.0, 0.0, 0.0, 0.0, 1.0, 0.0, 85.0, 0.0, 19.0, 0.0, 0.0, 25.0, 0.0, 0.0, 0.0, 3.0, 0.0, 1.0, 0.0, 20.0, 0.0, 4.0, 0.0, 0.0, 7.0, 0.0, 0.0, 67.0, 52.0, 2.0, 0.0, 81.0, 64.0, 0.0, 0.0, 0.0, 6.0, 17.0, 0.0, 10.0, 0.0, 0.0, 61.0, 12.0, 0.0, 0.0, 0.0, 0.0, 0.0, 11.0, 0.0, 0.0, 0.0, 0.0, 0.0, 0.0, 7.0, 3.0, 0.0, 0.0, 62.0, 8.0, 4.0, 0.0, 1.0, 67.0, 0.0, 0.0, 0.0, 2.0, 0.0, 0.0, 0.0, 0.0, 0.0, 0.0, 15.0, 0.0, 0.0, 0.0, 40.0, 13.0, 0.0, 0.0, 4.0, 0.0, 0.0, 0.0, 0.0, 0.0, 0.0, 0.0, 0.0, 0.0, 16.0, 16.0, 0.0, 39.0, 12.0, 0.0, 0.0, 0.0, 6.0, 1.0, 0.0, 0.0, 0.0, 0.0, 24.0, 0.0, 0.0, 7.0, 64.0, 5.0, 61.0, 0.0, 74.0, 0.0, 0.0, 20.0, 2.0, 44.0, 0.0, 66.0, 21.0, 55.0, 2.0, 0.0, 0.0, 0.0, 0.0, 0.0, 54.0, 0.0, 0.0, 13.0, 0.0, 0.0, 5.0, 8.0, 0.0, 0.0, 29.0, 0.0, 71.0, 0.0, 4.0, 0.0, 32.0, 0.0, 25.0, 0.0, 0.0, 5.0, 56.0, 0.0, 0.0, 0.0, 1.0, 0.0, 0.0, 0.0, 78.0, 1.0, 0.0, 0.0, 72.0, 44.0, 31.0, 0.0, 20.0, 0.0, 0.0, 0.0, 3.0, 8.0, 15.0, 38.0, 0.0, 24.0, 0.0, 0.0, 13.0, 0.0, 0.0, 12.0, 0.0, 54.0, 0.0, 41.0, 28.0, 0.0, 0.0, 0.0, 13.0, 0.0, 13.0, 0.0, 1.0, 0.0, 51.0, 0.0, 0.0, 0.0, 0.0, 0.0, 0.0, 0.0, 6.0, 29.0, 0.0, 52.0, 0.0, 57.0, 8.0, 0.0, 0.0, 0.0, 19.0, 4.0, 0.0, 0.0, 14.0, 0.0, 36.0, 38.0, 0.0, 3.0, 0.0, 0.0, 0.0, 34.0, 0.0, 2.0, 0.0, 0.0, 3.0, 0.0, 17.0, 0.0, 0.0, 0.0, 1.0, 15.0, 0.0, 0.0, 0.0, 9.0, 8.0, 30.0, 0.0, 0.0, 18.0, 0.0, 0.0, 0.0, 0.0, 5.0, 18.0, 0.0, 5.0, 0.0, 91.0, 0.0, 0.0, 40.0, 7.0, 11.0, 13.0, 14.0, 8.0, 41.0, 28.0, 0.0, 0.0, 4.0, 0.0, 0.0, 0.0, 0.0, 4.0, 3.0, 0.0, 0.0, 18.0, 9.0, 0.0, 0.0, 58.0, 0.0, 0.0, 1.0, 20.0, 0.0, 0.0, 0.0, 12.0, 53.0, 25.0, 0.0, 0.0, 0.0, 11.0, 0.0, 0.0, 11.0, 29.0, 0.0, 0.0, 0.0, 0.0, 0.0, 8.0, 0.0, 50.0, 0.0, 53.0, 26.0, 0.0, 0.0, 0.0, 21.0, 0.0, 4.0, 0.0, 4.0, 21.0, 0.0, 0.0, 0.0, 0.0, 18.0, 0.0, 7.0, 0.0, 0.0, 0.0, 0.0, 0.0, 0.0, 1.0, 0.0, 32.0, 34.0, 11.0, 0.0, 0.0, 62.0, 0.0, 49.0, 74.0, 19.0, 4.0, 5.0, 28.0, 45.0, 59.0, 6.0, 0.0, 5.0, 9.0, 0.0, 30.0, 0.0, 0.0, 58.0, 27.0, 2.0, 43.0, 0.0, 0.0, 36.0, 0.0, 1.0, 0.0, 0.0, 0.0, 0.0, 0.0, 9.0, 0.0, 16.0, 55.0, 0.0, 17.0, 0.0, 31.0, 0.0, 0.0, 0.0, 0.0, 1.0, 0.0, 0.0, 0.0, 0.0, 0.0, 0.0, 0.0, 0.0, 4.0, 69.0, 0.0, 0.0, 0.0, 2.0, 0.0, 0.0, 12.0, 0.0, 0.0, 9.0, 8.0, 0.0, 0.0, 0.0, 31.0, 0.0, 0.0, 0.0, 2.0, 0.0, 0.0, 16.0, 0.0, 0.0, 16.0, 0.0, 0.0, 0.0, 0.0, 0.0, 0.0, 78.0, 0.0, 0.0, 0.0, 0.0, 20.0, 0.0, 0.0, 6.0, 0.0, 0.0, 38.0, 3.0, 0.0, 23.0, 0.0, 0.0, 0.0, 0.0, 1.0, 0.0, 22.0, 0.0, 0.0, 14.0, 0.0, 0.0, 0.0, 0.0, 47.0, 0.0, 39.0, 0.0, 0.0, 11.0, 0.0, 0.0, 0.0, 0.0, 7.0, 56.0, 0.0, 0.0, 0.0, 0.0, 0.0, 0.0, 0.0, 0.0, 0.0, 72.0, 0.0, 4.0, 6.0, 0.0, 0.0, 44.0, 23.0, 0.0, 0.0, 0.0, 0.0, 4.0, 0.0, 39.0, 22.0, 12.0, 41.0, 0.0, 0.0, 0.0, 45.0, 21.0, 10.0, 0.0, 0.0, 16.0, 0.0, 0.0, 0.0, 2.0, 0.0, 0.0, 0.0, 0.0, 4.0, 0.0, 0.0, 0.0, 0.0, 0.0, 0.0, 0.0, 8.0, 0.0, 8.0, 0.0, 0.0, 8.0, 0.0, 10.0, 84.0, 65.0, 0.0, 0.0, 2.0, 0.0, 0.0, 0.0, 0.0, 0.0, 31.0, 34.0, 31.0, 0.0, 0.0, 0.0, 0.0, 60.0, 1.0, 45.0, 0.0, 0.0, 0.0, 2.0, 0.0, 34.0, 0.0, 19.0, 0.0, 0.0, 0.0, 0.0, 0.0, 10.0, 2.0, 0.0, 0.0, 0.0, 0.0, 0.0, 6.0, 0.0, 0.0, 0.0, 84.0, 0.0, 0.0, 0.0, 0.0, 13.0, 0.0, 32.0, 0.0, 1.0, 0.0, 26.0, 0.0, 13.0, 3.0, 29.0, 32.0, 10.0, 0.0, 57.0, 0.0, 45.0, 12.0, 0.0, 0.0, 8.0, 0.0, 0.0, 62.0, 7.0, 8.0, 3.0, 0.0, 0.0, 6.0, 0.0, 0.0, 0.0, 0.0, 0.0, 0.0, 0.0, 3.0, 0.0, 84.0, 0.0, 0.0, 0.0, 0.0, 41.0, 35.0, 1.0, 0.0, 1.0, 29.0, 1.0, 0.0, 0.0, 42.0, 0.0, 0.0, 0.0, 0.0, 8.0, 82.0, 0.0, 7.0, 0.0, 5.0, 0.0, 0.0, 0.0, 60.0, 0.0, 68.0, 0.0, 1.0, 1.0, 0.0, 0.0, 91.0, 4.0, 33.0, 0.0, 32.0, 0.0, 0.0, 0.0, 0.0, 30.0, 0.0, 0.0, 0.0, 3.0, 0.0, 13.0, 0.0, 0.0, 0.0, 0.0, 0.0, 0.0, 39.0, 0.0, 22.0, 20.0, 0.0, 0.0, 0.0, 0.0, 0.0, 13.0, 2.0, 0.0, 20.0, 0.0, 33.0, 62.0, 0.0, 10.0, 0.0, 19.0, 29.0, 0.0, 10.0, 0.0, 0.0, 47.0, 0.0, 46.0, 22.0, 0.0, 0.0, 0.0, 33.0, 18.0, 0.0, 0.0, 0.0, 38.0, 0.0, 0.0, 0.0, 0.0, 14.0, 75.0, 0.0, 0.0, 0.0, 11.0, 0.0, 0.0, 0.0, 0.0, 0.0, 0.0, 0.0, 32.0, 0.0, 73.0, 9.0, 31.0, 4.0, 7.0, 0.0, 12.0, 0.0, 0.0, 0.0, 4.0, 0.0, 0.0, 0.0, 6.0, 42.0, 0.0, 61.0, 16.0, 0.0, 0.0, 5.0, 0.0, 14.0, 21.0, 0.0, 28.0, 0.0, 5.0, 12.0, 3.0, 2.0, 0.0, 46.0, 1.0, 2.0, 0.0, 0.0, 0.0, 0.0, 5.0, 45.0, 0.0, 0.0, 9.0, 6.0, 0.0, 0.0, 7.0, 24.0, 0.0, 0.0, 0.0, 3.0, 0.0, 0.0, 84.0, 2.0], \"xaxis\": \"x\", \"yaxis\": \"y\"}],\n",
              "                        {\"barmode\": \"relative\", \"legend\": {\"tracegroupgap\": 0}, \"template\": {\"data\": {\"bar\": [{\"error_x\": {\"color\": \"#2a3f5f\"}, \"error_y\": {\"color\": \"#2a3f5f\"}, \"marker\": {\"line\": {\"color\": \"#E5ECF6\", \"width\": 0.5}}, \"type\": \"bar\"}], \"barpolar\": [{\"marker\": {\"line\": {\"color\": \"#E5ECF6\", \"width\": 0.5}}, \"type\": \"barpolar\"}], \"carpet\": [{\"aaxis\": {\"endlinecolor\": \"#2a3f5f\", \"gridcolor\": \"white\", \"linecolor\": \"white\", \"minorgridcolor\": \"white\", \"startlinecolor\": \"#2a3f5f\"}, \"baxis\": {\"endlinecolor\": \"#2a3f5f\", \"gridcolor\": \"white\", \"linecolor\": \"white\", \"minorgridcolor\": \"white\", \"startlinecolor\": \"#2a3f5f\"}, \"type\": \"carpet\"}], \"choropleth\": [{\"colorbar\": {\"outlinewidth\": 0, \"ticks\": \"\"}, \"type\": \"choropleth\"}], \"contour\": [{\"colorbar\": {\"outlinewidth\": 0, \"ticks\": \"\"}, \"colorscale\": [[0.0, \"#0d0887\"], [0.1111111111111111, \"#46039f\"], [0.2222222222222222, \"#7201a8\"], [0.3333333333333333, \"#9c179e\"], [0.4444444444444444, \"#bd3786\"], [0.5555555555555556, \"#d8576b\"], [0.6666666666666666, \"#ed7953\"], [0.7777777777777778, \"#fb9f3a\"], [0.8888888888888888, \"#fdca26\"], [1.0, \"#f0f921\"]], \"type\": \"contour\"}], \"contourcarpet\": [{\"colorbar\": {\"outlinewidth\": 0, \"ticks\": \"\"}, \"type\": \"contourcarpet\"}], \"heatmap\": [{\"colorbar\": {\"outlinewidth\": 0, \"ticks\": \"\"}, \"colorscale\": [[0.0, \"#0d0887\"], [0.1111111111111111, \"#46039f\"], [0.2222222222222222, \"#7201a8\"], [0.3333333333333333, \"#9c179e\"], [0.4444444444444444, \"#bd3786\"], [0.5555555555555556, \"#d8576b\"], [0.6666666666666666, \"#ed7953\"], [0.7777777777777778, \"#fb9f3a\"], [0.8888888888888888, \"#fdca26\"], [1.0, \"#f0f921\"]], \"type\": \"heatmap\"}], \"heatmapgl\": [{\"colorbar\": {\"outlinewidth\": 0, \"ticks\": \"\"}, \"colorscale\": [[0.0, \"#0d0887\"], [0.1111111111111111, \"#46039f\"], [0.2222222222222222, \"#7201a8\"], [0.3333333333333333, \"#9c179e\"], [0.4444444444444444, \"#bd3786\"], [0.5555555555555556, \"#d8576b\"], [0.6666666666666666, \"#ed7953\"], [0.7777777777777778, \"#fb9f3a\"], [0.8888888888888888, \"#fdca26\"], [1.0, \"#f0f921\"]], \"type\": \"heatmapgl\"}], \"histogram\": [{\"marker\": {\"colorbar\": {\"outlinewidth\": 0, \"ticks\": \"\"}}, \"type\": \"histogram\"}], \"histogram2d\": [{\"colorbar\": {\"outlinewidth\": 0, \"ticks\": \"\"}, \"colorscale\": [[0.0, \"#0d0887\"], [0.1111111111111111, \"#46039f\"], [0.2222222222222222, \"#7201a8\"], [0.3333333333333333, \"#9c179e\"], [0.4444444444444444, \"#bd3786\"], [0.5555555555555556, \"#d8576b\"], [0.6666666666666666, \"#ed7953\"], [0.7777777777777778, \"#fb9f3a\"], [0.8888888888888888, \"#fdca26\"], [1.0, \"#f0f921\"]], \"type\": \"histogram2d\"}], \"histogram2dcontour\": [{\"colorbar\": {\"outlinewidth\": 0, \"ticks\": \"\"}, \"colorscale\": [[0.0, \"#0d0887\"], [0.1111111111111111, \"#46039f\"], [0.2222222222222222, \"#7201a8\"], [0.3333333333333333, \"#9c179e\"], [0.4444444444444444, \"#bd3786\"], [0.5555555555555556, \"#d8576b\"], [0.6666666666666666, \"#ed7953\"], [0.7777777777777778, \"#fb9f3a\"], [0.8888888888888888, \"#fdca26\"], [1.0, \"#f0f921\"]], \"type\": \"histogram2dcontour\"}], \"mesh3d\": [{\"colorbar\": {\"outlinewidth\": 0, \"ticks\": \"\"}, \"type\": \"mesh3d\"}], \"parcoords\": [{\"line\": {\"colorbar\": {\"outlinewidth\": 0, \"ticks\": \"\"}}, \"type\": \"parcoords\"}], \"pie\": [{\"automargin\": true, \"type\": \"pie\"}], \"scatter\": [{\"marker\": {\"colorbar\": {\"outlinewidth\": 0, \"ticks\": \"\"}}, \"type\": \"scatter\"}], \"scatter3d\": [{\"line\": {\"colorbar\": {\"outlinewidth\": 0, \"ticks\": \"\"}}, \"marker\": {\"colorbar\": {\"outlinewidth\": 0, \"ticks\": \"\"}}, \"type\": \"scatter3d\"}], \"scattercarpet\": [{\"marker\": {\"colorbar\": {\"outlinewidth\": 0, \"ticks\": \"\"}}, \"type\": \"scattercarpet\"}], \"scattergeo\": [{\"marker\": {\"colorbar\": {\"outlinewidth\": 0, \"ticks\": \"\"}}, \"type\": \"scattergeo\"}], \"scattergl\": [{\"marker\": {\"colorbar\": {\"outlinewidth\": 0, \"ticks\": \"\"}}, \"type\": \"scattergl\"}], \"scattermapbox\": [{\"marker\": {\"colorbar\": {\"outlinewidth\": 0, \"ticks\": \"\"}}, \"type\": \"scattermapbox\"}], \"scatterpolar\": [{\"marker\": {\"colorbar\": {\"outlinewidth\": 0, \"ticks\": \"\"}}, \"type\": \"scatterpolar\"}], \"scatterpolargl\": [{\"marker\": {\"colorbar\": {\"outlinewidth\": 0, \"ticks\": \"\"}}, \"type\": \"scatterpolargl\"}], \"scatterternary\": [{\"marker\": {\"colorbar\": {\"outlinewidth\": 0, \"ticks\": \"\"}}, \"type\": \"scatterternary\"}], \"surface\": [{\"colorbar\": {\"outlinewidth\": 0, \"ticks\": \"\"}, \"colorscale\": [[0.0, \"#0d0887\"], [0.1111111111111111, \"#46039f\"], [0.2222222222222222, \"#7201a8\"], [0.3333333333333333, \"#9c179e\"], [0.4444444444444444, \"#bd3786\"], [0.5555555555555556, \"#d8576b\"], [0.6666666666666666, \"#ed7953\"], [0.7777777777777778, \"#fb9f3a\"], [0.8888888888888888, \"#fdca26\"], [1.0, \"#f0f921\"]], \"type\": \"surface\"}], \"table\": [{\"cells\": {\"fill\": {\"color\": \"#EBF0F8\"}, \"line\": {\"color\": \"white\"}}, \"header\": {\"fill\": {\"color\": \"#C8D4E3\"}, \"line\": {\"color\": \"white\"}}, \"type\": \"table\"}]}, \"layout\": {\"annotationdefaults\": {\"arrowcolor\": \"#2a3f5f\", \"arrowhead\": 0, \"arrowwidth\": 1}, \"coloraxis\": {\"colorbar\": {\"outlinewidth\": 0, \"ticks\": \"\"}}, \"colorscale\": {\"diverging\": [[0, \"#8e0152\"], [0.1, \"#c51b7d\"], [0.2, \"#de77ae\"], [0.3, \"#f1b6da\"], [0.4, \"#fde0ef\"], [0.5, \"#f7f7f7\"], [0.6, \"#e6f5d0\"], [0.7, \"#b8e186\"], [0.8, \"#7fbc41\"], [0.9, \"#4d9221\"], [1, \"#276419\"]], \"sequential\": [[0.0, \"#0d0887\"], [0.1111111111111111, \"#46039f\"], [0.2222222222222222, \"#7201a8\"], [0.3333333333333333, \"#9c179e\"], [0.4444444444444444, \"#bd3786\"], [0.5555555555555556, \"#d8576b\"], [0.6666666666666666, \"#ed7953\"], [0.7777777777777778, \"#fb9f3a\"], [0.8888888888888888, \"#fdca26\"], [1.0, \"#f0f921\"]], \"sequentialminus\": [[0.0, \"#0d0887\"], [0.1111111111111111, \"#46039f\"], [0.2222222222222222, \"#7201a8\"], [0.3333333333333333, \"#9c179e\"], [0.4444444444444444, \"#bd3786\"], [0.5555555555555556, \"#d8576b\"], [0.6666666666666666, \"#ed7953\"], [0.7777777777777778, \"#fb9f3a\"], [0.8888888888888888, \"#fdca26\"], [1.0, \"#f0f921\"]]}, \"colorway\": [\"#636efa\", \"#EF553B\", \"#00cc96\", \"#ab63fa\", \"#FFA15A\", \"#19d3f3\", \"#FF6692\", \"#B6E880\", \"#FF97FF\", \"#FECB52\"], \"font\": {\"color\": \"#2a3f5f\"}, \"geo\": {\"bgcolor\": \"white\", \"lakecolor\": \"white\", \"landcolor\": \"#E5ECF6\", \"showlakes\": true, \"showland\": true, \"subunitcolor\": \"white\"}, \"hoverlabel\": {\"align\": \"left\"}, \"hovermode\": \"closest\", \"mapbox\": {\"style\": \"light\"}, \"paper_bgcolor\": \"white\", \"plot_bgcolor\": \"#E5ECF6\", \"polar\": {\"angularaxis\": {\"gridcolor\": \"white\", \"linecolor\": \"white\", \"ticks\": \"\"}, \"bgcolor\": \"#E5ECF6\", \"radialaxis\": {\"gridcolor\": \"white\", \"linecolor\": \"white\", \"ticks\": \"\"}}, \"scene\": {\"xaxis\": {\"backgroundcolor\": \"#E5ECF6\", \"gridcolor\": \"white\", \"gridwidth\": 2, \"linecolor\": \"white\", \"showbackground\": true, \"ticks\": \"\", \"zerolinecolor\": \"white\"}, \"yaxis\": {\"backgroundcolor\": \"#E5ECF6\", \"gridcolor\": \"white\", \"gridwidth\": 2, \"linecolor\": \"white\", \"showbackground\": true, \"ticks\": \"\", \"zerolinecolor\": \"white\"}, \"zaxis\": {\"backgroundcolor\": \"#E5ECF6\", \"gridcolor\": \"white\", \"gridwidth\": 2, \"linecolor\": \"white\", \"showbackground\": true, \"ticks\": \"\", \"zerolinecolor\": \"white\"}}, \"shapedefaults\": {\"line\": {\"color\": \"#2a3f5f\"}}, \"ternary\": {\"aaxis\": {\"gridcolor\": \"white\", \"linecolor\": \"white\", \"ticks\": \"\"}, \"baxis\": {\"gridcolor\": \"white\", \"linecolor\": \"white\", \"ticks\": \"\"}, \"bgcolor\": \"#E5ECF6\", \"caxis\": {\"gridcolor\": \"white\", \"linecolor\": \"white\", \"ticks\": \"\"}}, \"title\": {\"x\": 0.05}, \"xaxis\": {\"automargin\": true, \"gridcolor\": \"white\", \"linecolor\": \"white\", \"ticks\": \"\", \"title\": {\"standoff\": 15}, \"zerolinecolor\": \"white\", \"zerolinewidth\": 2}, \"yaxis\": {\"automargin\": true, \"gridcolor\": \"white\", \"linecolor\": \"white\", \"ticks\": \"\", \"title\": {\"standoff\": 15}, \"zerolinecolor\": \"white\", \"zerolinewidth\": 2}}}, \"title\": {\"text\": \"Histograma da coluna: percentage of time with abnormal long term variability\"}, \"xaxis\": {\"anchor\": \"y\", \"domain\": [0.0, 1.0], \"title\": {\"text\": \"x\"}}, \"yaxis\": {\"anchor\": \"x\", \"domain\": [0.0, 1.0], \"title\": {\"text\": \"count\"}}},\n",
              "                        {\"responsive\": true}\n",
              "                    ).then(function(){\n",
              "                            \n",
              "var gd = document.getElementById('86a121c6-6c95-4cd9-9bc5-723940964b1c');\n",
              "var x = new MutationObserver(function (mutations, observer) {{\n",
              "        var display = window.getComputedStyle(gd).display;\n",
              "        if (!display || display === 'none') {{\n",
              "            console.log([gd, 'removed!']);\n",
              "            Plotly.purge(gd);\n",
              "            observer.disconnect();\n",
              "        }}\n",
              "}});\n",
              "\n",
              "// Listen for the removal of the full notebook cells\n",
              "var notebookContainer = gd.closest('#notebook-container');\n",
              "if (notebookContainer) {{\n",
              "    x.observe(notebookContainer, {childList: true});\n",
              "}}\n",
              "\n",
              "// Listen for the clearing of the current output cell\n",
              "var outputEl = gd.closest('.output');\n",
              "if (outputEl) {{\n",
              "    x.observe(outputEl, {childList: true});\n",
              "}}\n",
              "\n",
              "                        })\n",
              "                };\n",
              "                \n",
              "            </script>\n",
              "        </div>\n",
              "</body>\n",
              "</html>"
            ]
          },
          "metadata": {
            "tags": []
          }
        }
      ]
    },
    {
      "cell_type": "code",
      "metadata": {
        "colab": {
          "base_uri": "https://localhost:8080/",
          "height": 542
        },
        "id": "UvSSCAN9F17O",
        "outputId": "419d2bbd-1424-48d0-e179-5ca555c2cfd4"
      },
      "source": [
        "px.box( y = train_set['percentage_of_time_with_abnormal_long_term_variability'], color = train_set['fetal_health'],\n",
        "      title = 'boxplot da coluna : percentage of time with abnormal long term variability', labels = {'color' : 'Classe', 'y' : 'valores'}\n",
        "       )"
      ],
      "execution_count": 81,
      "outputs": [
        {
          "output_type": "display_data",
          "data": {
            "text/html": [
              "<html>\n",
              "<head><meta charset=\"utf-8\" /></head>\n",
              "<body>\n",
              "    <div>\n",
              "            <script src=\"https://cdnjs.cloudflare.com/ajax/libs/mathjax/2.7.5/MathJax.js?config=TeX-AMS-MML_SVG\"></script><script type=\"text/javascript\">if (window.MathJax) {MathJax.Hub.Config({SVG: {font: \"STIX-Web\"}});}</script>\n",
              "                <script type=\"text/javascript\">window.PlotlyConfig = {MathJaxConfig: 'local'};</script>\n",
              "        <script src=\"https://cdn.plot.ly/plotly-latest.min.js\"></script>    \n",
              "            <div id=\"c5e1be12-de42-49bf-9f40-5e88c43abc46\" class=\"plotly-graph-div\" style=\"height:525px; width:100%;\"></div>\n",
              "            <script type=\"text/javascript\">\n",
              "                \n",
              "                    window.PLOTLYENV=window.PLOTLYENV || {};\n",
              "                    \n",
              "                if (document.getElementById(\"c5e1be12-de42-49bf-9f40-5e88c43abc46\")) {\n",
              "                    Plotly.newPlot(\n",
              "                        'c5e1be12-de42-49bf-9f40-5e88c43abc46',\n",
              "                        [{\"alignmentgroup\": \"True\", \"hoverlabel\": {\"namelength\": 0}, \"hovertemplate\": \"Classe=1.0<br>valores=%{y}\", \"legendgroup\": \"Classe=1.0\", \"marker\": {\"color\": \"#636efa\"}, \"name\": \"Classe=1.0\", \"notched\": false, \"offsetgroup\": \"Classe=1.0\", \"orientation\": \"v\", \"showlegend\": true, \"type\": \"box\", \"x0\": \" \", \"xaxis\": \"x\", \"y\": [12.0, 7.0, 27.0, 0.0, 0.0, 0.0, 0.0, 0.0, 1.0, 0.0, 0.0, 0.0, 0.0, 4.0, 0.0, 0.0, 0.0, 0.0, 0.0, 0.0, 0.0, 0.0, 0.0, 0.0, 0.0, 0.0, 0.0, 0.0, 1.0, 5.0, 47.0, 0.0, 0.0, 0.0, 0.0, 0.0, 6.0, 28.0, 0.0, 0.0, 21.0, 10.0, 0.0, 0.0, 15.0, 3.0, 38.0, 23.0, 0.0, 7.0, 20.0, 0.0, 0.0, 0.0, 0.0, 37.0, 12.0, 2.0, 15.0, 0.0, 0.0, 0.0, 6.0, 0.0, 0.0, 0.0, 0.0, 0.0, 0.0, 5.0, 0.0, 0.0, 0.0, 0.0, 0.0, 3.0, 0.0, 0.0, 5.0, 0.0, 0.0, 0.0, 5.0, 0.0, 0.0, 0.0, 37.0, 0.0, 9.0, 0.0, 0.0, 5.0, 11.0, 0.0, 0.0, 0.0, 0.0, 0.0, 31.0, 0.0, 0.0, 32.0, 0.0, 0.0, 27.0, 0.0, 0.0, 1.0, 0.0, 0.0, 0.0, 4.0, 0.0, 0.0, 20.0, 0.0, 2.0, 6.0, 3.0, 20.0, 14.0, 0.0, 0.0, 0.0, 0.0, 44.0, 0.0, 0.0, 0.0, 0.0, 35.0, 0.0, 0.0, 5.0, 0.0, 0.0, 12.0, 1.0, 0.0, 48.0, 0.0, 0.0, 0.0, 0.0, 0.0, 0.0, 0.0, 67.0, 0.0, 56.0, 37.0, 0.0, 0.0, 12.0, 10.0, 0.0, 0.0, 7.0, 0.0, 0.0, 0.0, 0.0, 0.0, 9.0, 22.0, 0.0, 3.0, 32.0, 0.0, 58.0, 0.0, 0.0, 8.0, 0.0, 11.0, 32.0, 0.0, 5.0, 15.0, 0.0, 0.0, 0.0, 0.0, 17.0, 32.0, 0.0, 0.0, 0.0, 0.0, 0.0, 11.0, 0.0, 0.0, 0.0, 0.0, 16.0, 2.0, 0.0, 0.0, 0.0, 0.0, 6.0, 0.0, 0.0, 0.0, 36.0, 0.0, 0.0, 0.0, 0.0, 37.0, 0.0, 48.0, 0.0, 0.0, 0.0, 0.0, 0.0, 0.0, 4.0, 9.0, 70.0, 2.0, 0.0, 0.0, 0.0, 6.0, 63.0, 6.0, 0.0, 0.0, 0.0, 32.0, 3.0, 0.0, 0.0, 0.0, 3.0, 6.0, 0.0, 59.0, 0.0, 0.0, 0.0, 8.0, 12.0, 5.0, 2.0, 0.0, 0.0, 0.0, 0.0, 0.0, 0.0, 0.0, 0.0, 1.0, 0.0, 0.0, 0.0, 25.0, 0.0, 0.0, 0.0, 9.0, 2.0, 0.0, 0.0, 4.0, 0.0, 0.0, 0.0, 0.0, 0.0, 0.0, 1.0, 0.0, 0.0, 0.0, 0.0, 7.0, 0.0, 48.0, 0.0, 0.0, 0.0, 0.0, 0.0, 0.0, 0.0, 0.0, 0.0, 0.0, 0.0, 0.0, 0.0, 0.0, 0.0, 0.0, 2.0, 8.0, 9.0, 54.0, 3.0, 0.0, 0.0, 26.0, 21.0, 0.0, 0.0, 52.0, 0.0, 0.0, 0.0, 34.0, 27.0, 0.0, 42.0, 0.0, 0.0, 0.0, 0.0, 16.0, 0.0, 10.0, 0.0, 0.0, 7.0, 0.0, 0.0, 0.0, 0.0, 0.0, 0.0, 21.0, 0.0, 0.0, 2.0, 0.0, 1.0, 0.0, 0.0, 0.0, 5.0, 0.0, 0.0, 0.0, 9.0, 0.0, 23.0, 0.0, 0.0, 2.0, 0.0, 0.0, 0.0, 0.0, 0.0, 5.0, 0.0, 2.0, 0.0, 3.0, 0.0, 0.0, 0.0, 0.0, 8.0, 9.0, 0.0, 18.0, 5.0, 6.0, 0.0, 0.0, 0.0, 0.0, 0.0, 0.0, 0.0, 0.0, 0.0, 0.0, 0.0, 8.0, 0.0, 0.0, 0.0, 0.0, 0.0, 0.0, 1.0, 1.0, 0.0, 0.0, 7.0, 0.0, 0.0, 0.0, 0.0, 1.0, 0.0, 10.0, 25.0, 0.0, 3.0, 0.0, 8.0, 0.0, 16.0, 0.0, 0.0, 0.0, 33.0, 0.0, 0.0, 0.0, 0.0, 0.0, 0.0, 51.0, 4.0, 6.0, 0.0, 0.0, 0.0, 0.0, 0.0, 0.0, 0.0, 0.0, 0.0, 5.0, 7.0, 0.0, 11.0, 0.0, 0.0, 0.0, 0.0, 0.0, 32.0, 0.0, 13.0, 20.0, 0.0, 0.0, 0.0, 0.0, 0.0, 0.0, 2.0, 0.0, 36.0, 4.0, 0.0, 0.0, 0.0, 11.0, 0.0, 0.0, 0.0, 0.0, 0.0, 0.0, 0.0, 0.0, 15.0, 5.0, 12.0, 0.0, 20.0, 0.0, 0.0, 5.0, 50.0, 0.0, 0.0, 11.0, 0.0, 0.0, 0.0, 0.0, 3.0, 13.0, 0.0, 0.0, 0.0, 0.0, 0.0, 0.0, 0.0, 16.0, 0.0, 5.0, 0.0, 0.0, 0.0, 16.0, 0.0, 0.0, 3.0, 0.0, 0.0, 1.0, 49.0, 0.0, 0.0, 0.0, 0.0, 0.0, 5.0, 0.0, 12.0, 0.0, 4.0, 0.0, 58.0, 0.0, 0.0, 0.0, 0.0, 0.0, 0.0, 17.0, 0.0, 0.0, 0.0, 0.0, 7.0, 8.0, 4.0, 0.0, 11.0, 0.0, 2.0, 73.0, 0.0, 6.0, 0.0, 1.0, 0.0, 0.0, 1.0, 1.0, 0.0, 0.0, 0.0, 0.0, 8.0, 7.0, 9.0, 0.0, 7.0, 31.0, 12.0, 12.0, 0.0, 10.0, 0.0, 0.0, 4.0, 22.0, 3.0, 0.0, 0.0, 0.0, 1.0, 0.0, 0.0, 2.0, 0.0, 0.0, 1.0, 1.0, 0.0, 0.0, 10.0, 44.0, 0.0, 15.0, 0.0, 0.0, 0.0, 25.0, 0.0, 0.0, 0.0, 6.0, 58.0, 0.0, 0.0, 0.0, 10.0, 39.0, 1.0, 37.0, 11.0, 53.0, 0.0, 0.0, 0.0, 15.0, 0.0, 0.0, 2.0, 0.0, 4.0, 5.0, 0.0, 10.0, 0.0, 0.0, 0.0, 49.0, 27.0, 0.0, 0.0, 0.0, 0.0, 0.0, 0.0, 0.0, 0.0, 0.0, 0.0, 0.0, 0.0, 0.0, 0.0, 1.0, 0.0, 0.0, 19.0, 0.0, 0.0, 0.0, 0.0, 0.0, 3.0, 0.0, 1.0, 0.0, 20.0, 0.0, 4.0, 0.0, 7.0, 0.0, 0.0, 2.0, 0.0, 64.0, 0.0, 0.0, 0.0, 6.0, 0.0, 10.0, 0.0, 12.0, 0.0, 0.0, 0.0, 0.0, 0.0, 0.0, 0.0, 0.0, 0.0, 0.0, 0.0, 7.0, 3.0, 0.0, 0.0, 8.0, 4.0, 0.0, 1.0, 0.0, 0.0, 0.0, 2.0, 0.0, 0.0, 0.0, 0.0, 0.0, 15.0, 0.0, 0.0, 0.0, 40.0, 13.0, 0.0, 4.0, 0.0, 0.0, 0.0, 0.0, 0.0, 0.0, 0.0, 0.0, 16.0, 16.0, 0.0, 0.0, 0.0, 0.0, 6.0, 1.0, 0.0, 0.0, 0.0, 0.0, 5.0, 61.0, 0.0, 0.0, 0.0, 20.0, 2.0, 44.0, 0.0, 21.0, 2.0, 0.0, 0.0, 0.0, 0.0, 0.0, 54.0, 0.0, 0.0, 13.0, 0.0, 0.0, 5.0, 8.0, 0.0, 0.0, 0.0, 71.0, 0.0, 0.0, 0.0, 25.0, 0.0, 5.0, 56.0, 0.0, 0.0, 0.0, 1.0, 0.0, 0.0, 0.0, 1.0, 0.0, 0.0, 31.0, 0.0, 20.0, 0.0, 0.0, 0.0, 3.0, 8.0, 15.0, 0.0, 0.0, 0.0, 13.0, 0.0, 0.0, 12.0, 0.0, 0.0, 41.0, 0.0, 0.0, 13.0, 0.0, 13.0, 0.0, 1.0, 0.0, 0.0, 0.0, 0.0, 0.0, 0.0, 0.0, 0.0, 6.0, 29.0, 0.0, 0.0, 8.0, 0.0, 0.0, 0.0, 4.0, 0.0, 0.0, 14.0, 0.0, 36.0, 0.0, 0.0, 0.0, 34.0, 0.0, 2.0, 0.0, 0.0, 3.0, 0.0, 0.0, 0.0, 0.0, 1.0, 15.0, 0.0, 0.0, 0.0, 9.0, 8.0, 0.0, 18.0, 0.0, 0.0, 0.0, 0.0, 5.0, 18.0, 0.0, 0.0, 0.0, 7.0, 11.0, 13.0, 14.0, 0.0, 0.0, 4.0, 0.0, 0.0, 0.0, 0.0, 4.0, 3.0, 0.0, 18.0, 0.0, 58.0, 0.0, 1.0, 20.0, 0.0, 0.0, 0.0, 12.0, 25.0, 0.0, 0.0, 0.0, 11.0, 0.0, 0.0, 29.0, 0.0, 0.0, 0.0, 0.0, 0.0, 0.0, 50.0, 0.0, 0.0, 0.0, 0.0, 21.0, 0.0, 4.0, 0.0, 0.0, 0.0, 0.0, 0.0, 18.0, 0.0, 7.0, 0.0, 0.0, 0.0, 0.0, 0.0, 1.0, 0.0, 11.0, 0.0, 0.0, 0.0, 4.0, 5.0, 28.0, 45.0, 6.0, 0.0, 5.0, 9.0, 0.0, 30.0, 0.0, 0.0, 2.0, 0.0, 0.0, 36.0, 0.0, 1.0, 0.0, 0.0, 0.0, 0.0, 0.0, 55.0, 0.0, 0.0, 0.0, 0.0, 0.0, 0.0, 1.0, 0.0, 0.0, 0.0, 0.0, 0.0, 0.0, 0.0, 4.0, 0.0, 0.0, 0.0, 2.0, 0.0, 12.0, 0.0, 0.0, 9.0, 8.0, 0.0, 0.0, 0.0, 0.0, 0.0, 0.0, 16.0, 0.0, 0.0, 0.0, 0.0, 0.0, 0.0, 0.0, 0.0, 20.0, 0.0, 6.0, 0.0, 0.0, 3.0, 23.0, 0.0, 0.0, 0.0, 0.0, 1.0, 0.0, 0.0, 0.0, 0.0, 0.0, 39.0, 0.0, 0.0, 11.0, 0.0, 0.0, 0.0, 0.0, 0.0, 0.0, 0.0, 0.0, 0.0, 0.0, 0.0, 4.0, 6.0, 0.0, 0.0, 44.0, 23.0, 0.0, 0.0, 0.0, 4.0, 0.0, 22.0, 12.0, 0.0, 0.0, 0.0, 10.0, 0.0, 0.0, 0.0, 0.0, 0.0, 2.0, 0.0, 0.0, 0.0, 0.0, 0.0, 0.0, 0.0, 0.0, 8.0, 0.0, 8.0, 0.0, 0.0, 0.0, 10.0, 0.0, 0.0, 2.0, 0.0, 0.0, 0.0, 0.0, 0.0, 31.0, 34.0, 0.0, 0.0, 0.0, 0.0, 60.0, 1.0, 45.0, 0.0, 0.0, 0.0, 0.0, 0.0, 0.0, 0.0, 0.0, 0.0, 0.0, 2.0, 0.0, 0.0, 0.0, 0.0, 0.0, 6.0, 0.0, 0.0, 0.0, 0.0, 0.0, 0.0, 13.0, 0.0, 32.0, 0.0, 1.0, 0.0, 13.0, 3.0, 29.0, 0.0, 0.0, 12.0, 0.0, 0.0, 8.0, 0.0, 7.0, 8.0, 3.0, 0.0, 0.0, 0.0, 0.0, 0.0, 0.0, 0.0, 0.0, 0.0, 3.0, 0.0, 0.0, 0.0, 0.0, 35.0, 1.0, 0.0, 1.0, 1.0, 0.0, 0.0, 0.0, 0.0, 0.0, 0.0, 8.0, 0.0, 7.0, 0.0, 5.0, 0.0, 0.0, 60.0, 0.0, 1.0, 1.0, 0.0, 4.0, 33.0, 0.0, 0.0, 0.0, 0.0, 0.0, 0.0, 0.0, 0.0, 3.0, 0.0, 13.0, 0.0, 0.0, 0.0, 0.0, 0.0, 0.0, 22.0, 20.0, 0.0, 0.0, 0.0, 13.0, 2.0, 0.0, 0.0, 33.0, 0.0, 10.0, 19.0, 0.0, 0.0, 0.0, 0.0, 46.0, 22.0, 0.0, 0.0, 0.0, 33.0, 0.0, 0.0, 0.0, 0.0, 0.0, 0.0, 0.0, 0.0, 0.0, 0.0, 11.0, 0.0, 0.0, 0.0, 0.0, 0.0, 0.0, 32.0, 0.0, 73.0, 9.0, 4.0, 7.0, 0.0, 12.0, 0.0, 0.0, 0.0, 4.0, 0.0, 0.0, 0.0, 6.0, 0.0, 16.0, 0.0, 0.0, 5.0, 0.0, 0.0, 5.0, 12.0, 3.0, 2.0, 0.0, 1.0, 2.0, 0.0, 0.0, 0.0, 0.0, 0.0, 6.0, 0.0, 0.0, 7.0, 24.0, 0.0, 0.0, 3.0, 0.0, 0.0, 2.0], \"y0\": \" \", \"yaxis\": \"y\"}, {\"alignmentgroup\": \"True\", \"hoverlabel\": {\"namelength\": 0}, \"hovertemplate\": \"Classe=2.0<br>valores=%{y}\", \"legendgroup\": \"Classe=2.0\", \"marker\": {\"color\": \"#EF553B\"}, \"name\": \"Classe=2.0\", \"notched\": false, \"offsetgroup\": \"Classe=2.0\", \"orientation\": \"v\", \"showlegend\": true, \"type\": \"box\", \"x0\": \" \", \"xaxis\": \"x\", \"y\": [5.0, 4.0, 17.0, 27.0, 35.0, 8.0, 32.0, 49.0, 23.0, 17.0, 7.0, 56.0, 30.0, 11.0, 32.0, 39.0, 39.0, 22.0, 32.0, 45.0, 10.0, 64.0, 0.0, 12.0, 12.0, 37.0, 64.0, 35.0, 8.0, 17.0, 40.0, 36.0, 62.0, 54.0, 67.0, 19.0, 59.0, 46.0, 24.0, 15.0, 0.0, 61.0, 0.0, 25.0, 0.0, 3.0, 49.0, 61.0, 33.0, 35.0, 15.0, 40.0, 45.0, 22.0, 8.0, 5.0, 9.0, 66.0, 25.0, 20.0, 47.0, 11.0, 0.0, 62.0, 67.0, 53.0, 28.0, 44.0, 60.0, 30.0, 20.0, 21.0, 10.0, 1.0, 58.0, 67.0, 2.0, 34.0, 54.0, 8.0, 0.0, 0.0, 38.0, 33.0, 42.0, 42.0, 26.0, 0.0, 13.0, 25.0, 49.0, 21.0, 41.0, 21.0, 48.0, 29.0, 14.0, 21.0, 22.0, 58.0, 43.0, 20.0, 61.0, 43.0, 33.0, 0.0, 9.0, 62.0, 23.0, 48.0, 25.0, 67.0, 52.0, 17.0, 61.0, 11.0, 62.0, 67.0, 39.0, 12.0, 0.0, 24.0, 7.0, 66.0, 55.0, 29.0, 4.0, 32.0, 44.0, 38.0, 54.0, 28.0, 51.0, 52.0, 57.0, 19.0, 38.0, 3.0, 17.0, 30.0, 5.0, 40.0, 8.0, 41.0, 28.0, 9.0, 53.0, 11.0, 8.0, 26.0, 4.0, 21.0, 0.0, 32.0, 34.0, 62.0, 49.0, 19.0, 59.0, 58.0, 27.0, 43.0, 9.0, 16.0, 17.0, 31.0, 2.0, 0.0, 0.0, 16.0, 38.0, 22.0, 14.0, 0.0, 47.0, 7.0, 56.0, 39.0, 41.0, 45.0, 21.0, 16.0, 4.0, 0.0, 8.0, 65.0, 31.0, 19.0, 10.0, 26.0, 32.0, 10.0, 57.0, 45.0, 62.0, 41.0, 29.0, 42.0, 0.0, 68.0, 32.0, 30.0, 39.0, 20.0, 62.0, 29.0, 10.0, 47.0, 38.0, 14.0, 31.0, 42.0, 61.0, 14.0, 21.0, 28.0, 46.0, 5.0, 45.0, 9.0, 0.0], \"y0\": \" \", \"yaxis\": \"y\"}, {\"alignmentgroup\": \"True\", \"hoverlabel\": {\"namelength\": 0}, \"hovertemplate\": \"Classe=3.0<br>valores=%{y}\", \"legendgroup\": \"Classe=3.0\", \"marker\": {\"color\": \"#00cc96\"}, \"name\": \"Classe=3.0\", \"notched\": false, \"offsetgroup\": \"Classe=3.0\", \"orientation\": \"v\", \"showlegend\": true, \"type\": \"box\", \"x0\": \" \", \"xaxis\": \"x\", \"y\": [91.0, 72.0, 0.0, 14.0, 0.0, 0.0, 0.0, 0.0, 0.0, 0.0, 0.0, 4.0, 0.0, 0.0, 17.0, 0.0, 91.0, 32.0, 0.0, 41.0, 0.0, 0.0, 0.0, 0.0, 0.0, 0.0, 0.0, 0.0, 75.0, 78.0, 0.0, 0.0, 0.0, 69.0, 0.0, 0.0, 0.0, 70.0, 90.0, 79.0, 0.0, 71.0, 31.0, 0.0, 0.0, 0.0, 5.0, 0.0, 90.0, 77.0, 0.0, 73.0, 0.0, 6.0, 0.0, 0.0, 0.0, 0.0, 0.0, 0.0, 0.0, 0.0, 88.0, 85.0, 0.0, 81.0, 0.0, 0.0, 0.0, 0.0, 0.0, 64.0, 74.0, 0.0, 78.0, 72.0, 24.0, 0.0, 0.0, 0.0, 91.0, 0.0, 0.0, 0.0, 0.0, 53.0, 74.0, 0.0, 31.0, 0.0, 69.0, 0.0, 0.0, 0.0, 0.0, 0.0, 78.0, 0.0, 0.0, 0.0, 0.0, 0.0, 0.0, 72.0, 0.0, 0.0, 0.0, 0.0, 84.0, 2.0, 34.0, 0.0, 84.0, 0.0, 0.0, 6.0, 84.0, 0.0, 82.0, 0.0, 0.0, 91.0, 0.0, 0.0, 0.0, 0.0, 18.0, 75.0, 0.0, 0.0, 0.0, 84.0], \"y0\": \" \", \"yaxis\": \"y\"}],\n",
              "                        {\"boxmode\": \"group\", \"legend\": {\"tracegroupgap\": 0}, \"template\": {\"data\": {\"bar\": [{\"error_x\": {\"color\": \"#2a3f5f\"}, \"error_y\": {\"color\": \"#2a3f5f\"}, \"marker\": {\"line\": {\"color\": \"#E5ECF6\", \"width\": 0.5}}, \"type\": \"bar\"}], \"barpolar\": [{\"marker\": {\"line\": {\"color\": \"#E5ECF6\", \"width\": 0.5}}, \"type\": \"barpolar\"}], \"carpet\": [{\"aaxis\": {\"endlinecolor\": \"#2a3f5f\", \"gridcolor\": \"white\", \"linecolor\": \"white\", \"minorgridcolor\": \"white\", \"startlinecolor\": \"#2a3f5f\"}, \"baxis\": {\"endlinecolor\": \"#2a3f5f\", \"gridcolor\": \"white\", \"linecolor\": \"white\", \"minorgridcolor\": \"white\", \"startlinecolor\": \"#2a3f5f\"}, \"type\": \"carpet\"}], \"choropleth\": [{\"colorbar\": {\"outlinewidth\": 0, \"ticks\": \"\"}, \"type\": \"choropleth\"}], \"contour\": [{\"colorbar\": {\"outlinewidth\": 0, \"ticks\": \"\"}, \"colorscale\": [[0.0, \"#0d0887\"], [0.1111111111111111, \"#46039f\"], [0.2222222222222222, \"#7201a8\"], [0.3333333333333333, \"#9c179e\"], [0.4444444444444444, \"#bd3786\"], [0.5555555555555556, \"#d8576b\"], [0.6666666666666666, \"#ed7953\"], [0.7777777777777778, \"#fb9f3a\"], [0.8888888888888888, \"#fdca26\"], [1.0, \"#f0f921\"]], \"type\": \"contour\"}], \"contourcarpet\": [{\"colorbar\": {\"outlinewidth\": 0, \"ticks\": \"\"}, \"type\": \"contourcarpet\"}], \"heatmap\": [{\"colorbar\": {\"outlinewidth\": 0, \"ticks\": \"\"}, \"colorscale\": [[0.0, \"#0d0887\"], [0.1111111111111111, \"#46039f\"], [0.2222222222222222, \"#7201a8\"], [0.3333333333333333, \"#9c179e\"], [0.4444444444444444, \"#bd3786\"], [0.5555555555555556, \"#d8576b\"], [0.6666666666666666, \"#ed7953\"], [0.7777777777777778, \"#fb9f3a\"], [0.8888888888888888, \"#fdca26\"], [1.0, \"#f0f921\"]], \"type\": \"heatmap\"}], \"heatmapgl\": [{\"colorbar\": {\"outlinewidth\": 0, \"ticks\": \"\"}, \"colorscale\": [[0.0, \"#0d0887\"], [0.1111111111111111, \"#46039f\"], [0.2222222222222222, \"#7201a8\"], [0.3333333333333333, \"#9c179e\"], [0.4444444444444444, \"#bd3786\"], [0.5555555555555556, \"#d8576b\"], [0.6666666666666666, \"#ed7953\"], [0.7777777777777778, \"#fb9f3a\"], [0.8888888888888888, \"#fdca26\"], [1.0, \"#f0f921\"]], \"type\": \"heatmapgl\"}], \"histogram\": [{\"marker\": {\"colorbar\": {\"outlinewidth\": 0, \"ticks\": \"\"}}, \"type\": \"histogram\"}], \"histogram2d\": [{\"colorbar\": {\"outlinewidth\": 0, \"ticks\": \"\"}, \"colorscale\": [[0.0, \"#0d0887\"], [0.1111111111111111, \"#46039f\"], [0.2222222222222222, \"#7201a8\"], [0.3333333333333333, \"#9c179e\"], [0.4444444444444444, \"#bd3786\"], [0.5555555555555556, \"#d8576b\"], [0.6666666666666666, \"#ed7953\"], [0.7777777777777778, \"#fb9f3a\"], [0.8888888888888888, \"#fdca26\"], [1.0, \"#f0f921\"]], \"type\": \"histogram2d\"}], \"histogram2dcontour\": [{\"colorbar\": {\"outlinewidth\": 0, \"ticks\": \"\"}, \"colorscale\": [[0.0, \"#0d0887\"], [0.1111111111111111, \"#46039f\"], [0.2222222222222222, \"#7201a8\"], [0.3333333333333333, \"#9c179e\"], [0.4444444444444444, \"#bd3786\"], [0.5555555555555556, \"#d8576b\"], [0.6666666666666666, \"#ed7953\"], [0.7777777777777778, \"#fb9f3a\"], [0.8888888888888888, \"#fdca26\"], [1.0, \"#f0f921\"]], \"type\": \"histogram2dcontour\"}], \"mesh3d\": [{\"colorbar\": {\"outlinewidth\": 0, \"ticks\": \"\"}, \"type\": \"mesh3d\"}], \"parcoords\": [{\"line\": {\"colorbar\": {\"outlinewidth\": 0, \"ticks\": \"\"}}, \"type\": \"parcoords\"}], \"pie\": [{\"automargin\": true, \"type\": \"pie\"}], \"scatter\": [{\"marker\": {\"colorbar\": {\"outlinewidth\": 0, \"ticks\": \"\"}}, \"type\": \"scatter\"}], \"scatter3d\": [{\"line\": {\"colorbar\": {\"outlinewidth\": 0, \"ticks\": \"\"}}, \"marker\": {\"colorbar\": {\"outlinewidth\": 0, \"ticks\": \"\"}}, \"type\": \"scatter3d\"}], \"scattercarpet\": [{\"marker\": {\"colorbar\": {\"outlinewidth\": 0, \"ticks\": \"\"}}, \"type\": \"scattercarpet\"}], \"scattergeo\": [{\"marker\": {\"colorbar\": {\"outlinewidth\": 0, \"ticks\": \"\"}}, \"type\": \"scattergeo\"}], \"scattergl\": [{\"marker\": {\"colorbar\": {\"outlinewidth\": 0, \"ticks\": \"\"}}, \"type\": \"scattergl\"}], \"scattermapbox\": [{\"marker\": {\"colorbar\": {\"outlinewidth\": 0, \"ticks\": \"\"}}, \"type\": \"scattermapbox\"}], \"scatterpolar\": [{\"marker\": {\"colorbar\": {\"outlinewidth\": 0, \"ticks\": \"\"}}, \"type\": \"scatterpolar\"}], \"scatterpolargl\": [{\"marker\": {\"colorbar\": {\"outlinewidth\": 0, \"ticks\": \"\"}}, \"type\": \"scatterpolargl\"}], \"scatterternary\": [{\"marker\": {\"colorbar\": {\"outlinewidth\": 0, \"ticks\": \"\"}}, \"type\": \"scatterternary\"}], \"surface\": [{\"colorbar\": {\"outlinewidth\": 0, \"ticks\": \"\"}, \"colorscale\": [[0.0, \"#0d0887\"], [0.1111111111111111, \"#46039f\"], [0.2222222222222222, \"#7201a8\"], [0.3333333333333333, \"#9c179e\"], [0.4444444444444444, \"#bd3786\"], [0.5555555555555556, \"#d8576b\"], [0.6666666666666666, \"#ed7953\"], [0.7777777777777778, \"#fb9f3a\"], [0.8888888888888888, \"#fdca26\"], [1.0, \"#f0f921\"]], \"type\": \"surface\"}], \"table\": [{\"cells\": {\"fill\": {\"color\": \"#EBF0F8\"}, \"line\": {\"color\": \"white\"}}, \"header\": {\"fill\": {\"color\": \"#C8D4E3\"}, \"line\": {\"color\": \"white\"}}, \"type\": \"table\"}]}, \"layout\": {\"annotationdefaults\": {\"arrowcolor\": \"#2a3f5f\", \"arrowhead\": 0, \"arrowwidth\": 1}, \"coloraxis\": {\"colorbar\": {\"outlinewidth\": 0, \"ticks\": \"\"}}, \"colorscale\": {\"diverging\": [[0, \"#8e0152\"], [0.1, \"#c51b7d\"], [0.2, \"#de77ae\"], [0.3, \"#f1b6da\"], [0.4, \"#fde0ef\"], [0.5, \"#f7f7f7\"], [0.6, \"#e6f5d0\"], [0.7, \"#b8e186\"], [0.8, \"#7fbc41\"], [0.9, \"#4d9221\"], [1, \"#276419\"]], \"sequential\": [[0.0, \"#0d0887\"], [0.1111111111111111, \"#46039f\"], [0.2222222222222222, \"#7201a8\"], [0.3333333333333333, \"#9c179e\"], [0.4444444444444444, \"#bd3786\"], [0.5555555555555556, \"#d8576b\"], [0.6666666666666666, \"#ed7953\"], [0.7777777777777778, \"#fb9f3a\"], [0.8888888888888888, \"#fdca26\"], [1.0, \"#f0f921\"]], \"sequentialminus\": [[0.0, \"#0d0887\"], [0.1111111111111111, \"#46039f\"], [0.2222222222222222, \"#7201a8\"], [0.3333333333333333, \"#9c179e\"], [0.4444444444444444, \"#bd3786\"], [0.5555555555555556, \"#d8576b\"], [0.6666666666666666, \"#ed7953\"], [0.7777777777777778, \"#fb9f3a\"], [0.8888888888888888, \"#fdca26\"], [1.0, \"#f0f921\"]]}, \"colorway\": [\"#636efa\", \"#EF553B\", \"#00cc96\", \"#ab63fa\", \"#FFA15A\", \"#19d3f3\", \"#FF6692\", \"#B6E880\", \"#FF97FF\", \"#FECB52\"], \"font\": {\"color\": \"#2a3f5f\"}, \"geo\": {\"bgcolor\": \"white\", \"lakecolor\": \"white\", \"landcolor\": \"#E5ECF6\", \"showlakes\": true, \"showland\": true, \"subunitcolor\": \"white\"}, \"hoverlabel\": {\"align\": \"left\"}, \"hovermode\": \"closest\", \"mapbox\": {\"style\": \"light\"}, \"paper_bgcolor\": \"white\", \"plot_bgcolor\": \"#E5ECF6\", \"polar\": {\"angularaxis\": {\"gridcolor\": \"white\", \"linecolor\": \"white\", \"ticks\": \"\"}, \"bgcolor\": \"#E5ECF6\", \"radialaxis\": {\"gridcolor\": \"white\", \"linecolor\": \"white\", \"ticks\": \"\"}}, \"scene\": {\"xaxis\": {\"backgroundcolor\": \"#E5ECF6\", \"gridcolor\": \"white\", \"gridwidth\": 2, \"linecolor\": \"white\", \"showbackground\": true, \"ticks\": \"\", \"zerolinecolor\": \"white\"}, \"yaxis\": {\"backgroundcolor\": \"#E5ECF6\", \"gridcolor\": \"white\", \"gridwidth\": 2, \"linecolor\": \"white\", \"showbackground\": true, \"ticks\": \"\", \"zerolinecolor\": \"white\"}, \"zaxis\": {\"backgroundcolor\": \"#E5ECF6\", \"gridcolor\": \"white\", \"gridwidth\": 2, \"linecolor\": \"white\", \"showbackground\": true, \"ticks\": \"\", \"zerolinecolor\": \"white\"}}, \"shapedefaults\": {\"line\": {\"color\": \"#2a3f5f\"}}, \"ternary\": {\"aaxis\": {\"gridcolor\": \"white\", \"linecolor\": \"white\", \"ticks\": \"\"}, \"baxis\": {\"gridcolor\": \"white\", \"linecolor\": \"white\", \"ticks\": \"\"}, \"bgcolor\": \"#E5ECF6\", \"caxis\": {\"gridcolor\": \"white\", \"linecolor\": \"white\", \"ticks\": \"\"}}, \"title\": {\"x\": 0.05}, \"xaxis\": {\"automargin\": true, \"gridcolor\": \"white\", \"linecolor\": \"white\", \"ticks\": \"\", \"title\": {\"standoff\": 15}, \"zerolinecolor\": \"white\", \"zerolinewidth\": 2}, \"yaxis\": {\"automargin\": true, \"gridcolor\": \"white\", \"linecolor\": \"white\", \"ticks\": \"\", \"title\": {\"standoff\": 15}, \"zerolinecolor\": \"white\", \"zerolinewidth\": 2}}}, \"title\": {\"text\": \"boxplot da coluna : percentage of time with abnormal long term variability\"}, \"xaxis\": {\"anchor\": \"y\", \"domain\": [0.0, 1.0]}, \"yaxis\": {\"anchor\": \"x\", \"domain\": [0.0, 1.0], \"title\": {\"text\": \"valores\"}}},\n",
              "                        {\"responsive\": true}\n",
              "                    ).then(function(){\n",
              "                            \n",
              "var gd = document.getElementById('c5e1be12-de42-49bf-9f40-5e88c43abc46');\n",
              "var x = new MutationObserver(function (mutations, observer) {{\n",
              "        var display = window.getComputedStyle(gd).display;\n",
              "        if (!display || display === 'none') {{\n",
              "            console.log([gd, 'removed!']);\n",
              "            Plotly.purge(gd);\n",
              "            observer.disconnect();\n",
              "        }}\n",
              "}});\n",
              "\n",
              "// Listen for the removal of the full notebook cells\n",
              "var notebookContainer = gd.closest('#notebook-container');\n",
              "if (notebookContainer) {{\n",
              "    x.observe(notebookContainer, {childList: true});\n",
              "}}\n",
              "\n",
              "// Listen for the clearing of the current output cell\n",
              "var outputEl = gd.closest('.output');\n",
              "if (outputEl) {{\n",
              "    x.observe(outputEl, {childList: true});\n",
              "}}\n",
              "\n",
              "                        })\n",
              "                };\n",
              "                \n",
              "            </script>\n",
              "        </div>\n",
              "</body>\n",
              "</html>"
            ]
          },
          "metadata": {
            "tags": []
          }
        }
      ]
    },
    {
      "cell_type": "markdown",
      "metadata": {
        "id": "VcIflly4hh2l"
      },
      "source": [
        "A coluna acima possui muitos outliers apenas na classe 1."
      ]
    },
    {
      "cell_type": "code",
      "metadata": {
        "colab": {
          "base_uri": "https://localhost:8080/",
          "height": 542
        },
        "id": "CQjvoXsFF3E8",
        "outputId": "7ddfe018-64d0-4e45-c2cb-514fc6a1ffe7"
      },
      "source": [
        "px.histogram( x =train_set['mean_value_of_long_term_variability'],title  = 'Histograma da coluna: mean value of long term variability')"
      ],
      "execution_count": 82,
      "outputs": [
        {
          "output_type": "display_data",
          "data": {
            "text/html": [
              "<html>\n",
              "<head><meta charset=\"utf-8\" /></head>\n",
              "<body>\n",
              "    <div>\n",
              "            <script src=\"https://cdnjs.cloudflare.com/ajax/libs/mathjax/2.7.5/MathJax.js?config=TeX-AMS-MML_SVG\"></script><script type=\"text/javascript\">if (window.MathJax) {MathJax.Hub.Config({SVG: {font: \"STIX-Web\"}});}</script>\n",
              "                <script type=\"text/javascript\">window.PlotlyConfig = {MathJaxConfig: 'local'};</script>\n",
              "        <script src=\"https://cdn.plot.ly/plotly-latest.min.js\"></script>    \n",
              "            <div id=\"3ef188ff-d676-462d-b571-5d371b2ccaf7\" class=\"plotly-graph-div\" style=\"height:525px; width:100%;\"></div>\n",
              "            <script type=\"text/javascript\">\n",
              "                \n",
              "                    window.PLOTLYENV=window.PLOTLYENV || {};\n",
              "                    \n",
              "                if (document.getElementById(\"3ef188ff-d676-462d-b571-5d371b2ccaf7\")) {\n",
              "                    Plotly.newPlot(\n",
              "                        '3ef188ff-d676-462d-b571-5d371b2ccaf7',\n",
              "                        [{\"alignmentgroup\": \"True\", \"bingroup\": \"x\", \"hoverlabel\": {\"namelength\": 0}, \"hovertemplate\": \"x=%{x}<br>count=%{y}\", \"legendgroup\": \"\", \"marker\": {\"color\": \"#636efa\"}, \"name\": \"\", \"offsetgroup\": \"\", \"orientation\": \"v\", \"showlegend\": false, \"type\": \"histogram\", \"x\": [8.8, 14.3, 4.6, 7.5, 19.8, 5.0, 0.0, 1.3, 3.9, 6.8, 0.0, 10.8, 4.3, 10.0, 6.8, 5.6, 5.8, 10.8, 4.0, 14.6, 10.6, 13.6, 8.7, 7.0, 5.2, 3.2, 4.8, 12.0, 8.0, 5.4, 7.8, 9.9, 6.4, 11.5, 14.8, 14.0, 6.8, 4.8, 2.2, 4.8, 7.2, 8.5, 9.4, 5.3, 12.5, 12.1, 6.5, 12.8, 4.3, 7.3, 14.5, 6.6, 0.0, 33.5, 8.5, 4.5, 14.2, 19.4, 18.0, 8.7, 0.0, 6.4, 3.7, 8.0, 9.3, 4.8, 7.8, 8.3, 10.3, 7.1, 0.3, 7.0, 1.1, 1.6, 0.0, 8.1, 10.3, 5.7, 6.8, 7.1, 16.4, 10.2, 6.0, 13.3, 29.3, 20.5, 16.2, 9.9, 2.6, 12.6, 0.5, 13.0, 14.8, 11.3, 7.4, 12.4, 18.9, 7.5, 10.0, 9.6, 1.9, 0.0, 14.1, 0.0, 0.0, 18.4, 17.7, 1.9, 3.7, 13.4, 12.7, 9.3, 4.5, 7.2, 19.6, 9.3, 15.1, 0.0, 10.5, 7.6, 10.0, 9.4, 6.5, 4.7, 9.7, 11.5, 7.4, 0.5, 9.8, 10.2, 8.6, 17.0, 1.0, 5.9, 1.1, 0.0, 3.7, 9.0, 12.9, 11.2, 6.2, 13.5, 4.8, 1.7, 7.8, 9.3, 7.1, 4.0, 10.4, 9.6, 0.0, 15.1, 2.9, 6.9, 7.1, 2.7, 10.6, 6.9, 6.2, 13.7, 0.0, 3.6, 8.0, 4.9, 0.0, 17.2, 8.3, 5.5, 6.5, 0.0, 2.7, 12.6, 6.0, 6.8, 6.9, 8.2, 12.2, 8.1, 0.0, 4.3, 0.0, 15.5, 27.4, 12.6, 35.7, 0.0, 7.9, 5.1, 7.3, 0.0, 4.3, 14.0, 6.5, 6.6, 5.2, 7.6, 8.8, 7.6, 9.1, 5.2, 1.4, 13.8, 17.2, 13.8, 6.1, 15.7, 7.2, 4.2, 8.4, 13.3, 7.9, 12.6, 9.6, 6.1, 19.0, 10.9, 4.3, 14.6, 2.7, 11.2, 8.7, 4.7, 14.5, 11.6, 10.0, 8.1, 12.1, 11.5, 0.0, 0.0, 11.0, 6.0, 8.2, 13.3, 5.7, 0.0, 8.7, 24.1, 2.9, 19.0, 15.1, 5.5, 10.9, 5.0, 15.0, 1.6, 0.0, 10.5, 0.0, 23.1, 7.6, 6.7, 0.0, 5.9, 8.1, 6.9, 9.6, 2.4, 5.2, 15.2, 5.0, 18.7, 6.5, 7.6, 14.6, 12.3, 4.9, 1.7, 5.4, 6.4, 6.7, 10.6, 8.3, 8.9, 7.4, 9.5, 24.9, 14.6, 4.5, 8.1, 3.1, 9.4, 11.7, 13.2, 2.5, 11.6, 5.3, 4.1, 2.3, 9.5, 7.2, 0.0, 3.6, 6.1, 9.3, 0.4, 7.5, 14.7, 6.7, 0.0, 3.9, 10.5, 1.2, 7.5, 8.5, 4.5, 5.2, 5.5, 11.0, 10.9, 10.3, 8.5, 1.5, 11.7, 11.6, 27.3, 3.5, 10.1, 6.9, 7.3, 1.0, 6.6, 3.8, 11.6, 13.3, 0.0, 11.3, 12.2, 23.8, 5.4, 5.1, 6.8, 10.2, 13.6, 11.7, 10.6, 6.6, 18.4, 13.4, 13.2, 10.0, 9.4, 1.8, 25.9, 5.8, 10.4, 14.9, 1.7, 9.9, 9.2, 7.2, 6.9, 20.0, 5.4, 12.4, 0.0, 0.0, 5.6, 6.1, 13.6, 7.1, 10.1, 5.6, 0.0, 0.3, 13.5, 10.3, 6.7, 10.4, 21.0, 3.4, 6.3, 6.9, 4.4, 10.7, 7.2, 15.2, 8.7, 12.2, 2.2, 13.7, 3.0, 8.0, 2.8, 6.3, 9.4, 9.8, 7.1, 14.3, 9.7, 2.9, 16.2, 6.0, 5.2, 2.1, 21.1, 3.8, 4.0, 6.9, 9.9, 13.7, 16.3, 5.8, 6.3, 5.5, 0.0, 10.2, 4.8, 7.3, 15.8, 3.2, 1.3, 5.6, 8.4, 4.5, 10.0, 16.2, 3.6, 8.1, 11.2, 5.1, 12.3, 12.1, 5.5, 13.4, 2.1, 8.9, 8.6, 13.4, 8.3, 8.4, 10.8, 4.7, 5.7, 9.8, 9.2, 17.5, 21.1, 9.3, 19.9, 3.9, 14.3, 4.6, 6.9, 6.9, 7.9, 0.0, 3.8, 6.3, 3.3, 0.0, 14.0, 5.5, 7.1, 4.8, 8.5, 1.9, 13.6, 10.1, 0.3, 0.2, 14.9, 6.4, 9.0, 9.4, 6.5, 6.7, 3.1, 4.2, 1.3, 9.9, 13.1, 4.7, 4.1, 7.7, 2.8, 8.7, 14.9, 0.0, 5.6, 7.8, 7.8, 2.1, 4.1, 14.9, 2.2, 0.0, 13.3, 11.9, 14.3, 6.5, 6.5, 7.4, 8.6, 12.3, 6.6, 7.1, 11.6, 6.7, 5.8, 0.0, 3.0, 7.1, 10.2, 5.2, 17.1, 8.5, 1.3, 5.8, 0.0, 15.0, 17.2, 6.8, 5.3, 13.4, 11.4, 12.5, 1.9, 3.9, 5.1, 8.1, 23.1, 9.5, 4.2, 9.6, 7.8, 6.0, 10.1, 7.9, 13.2, 12.2, 5.7, 0.0, 9.9, 14.0, 5.2, 10.3, 7.3, 2.4, 1.8, 5.0, 4.0, 11.2, 12.5, 7.7, 6.8, 8.2, 18.4, 6.6, 8.0, 4.9, 0.0, 0.4, 7.7, 12.2, 8.3, 2.2, 4.0, 9.5, 12.1, 2.5, 0.0, 21.7, 10.6, 21.5, 13.9, 15.7, 8.4, 5.6, 6.7, 11.2, 7.9, 4.7, 4.1, 8.1, 10.9, 0.0, 2.1, 10.2, 7.6, 19.1, 10.4, 9.9, 10.8, 11.2, 7.1, 14.8, 11.9, 6.9, 5.3, 8.0, 2.4, 17.3, 8.8, 13.2, 8.4, 6.7, 4.3, 7.1, 7.5, 0.0, 5.9, 0.3, 8.0, 9.4, 5.8, 4.1, 9.6, 5.4, 12.9, 4.5, 8.2, 15.6, 6.3, 9.1, 9.4, 2.4, 7.3, 14.8, 0.3, 6.6, 4.8, 4.2, 6.5, 13.8, 1.7, 2.4, 11.3, 8.9, 12.8, 2.7, 13.0, 14.0, 5.8, 10.7, 3.0, 0.0, 17.8, 9.2, 19.6, 17.9, 0.0, 2.5, 5.5, 13.0, 9.8, 16.0, 13.0, 11.6, 4.8, 2.6, 6.6, 2.4, 0.0, 8.3, 3.1, 7.9, 7.7, 10.6, 10.0, 8.1, 10.5, 20.0, 8.3, 3.5, 4.1, 7.1, 26.3, 9.9, 11.1, 2.1, 0.0, 6.5, 13.2, 3.7, 6.3, 0.0, 8.4, 7.2, 11.4, 4.9, 10.0, 0.0, 10.4, 4.0, 4.6, 14.2, 7.0, 8.6, 5.7, 11.7, 9.8, 4.5, 11.4, 7.0, 2.9, 5.3, 7.2, 7.9, 3.6, 10.4, 9.8, 3.5, 12.2, 9.6, 7.2, 6.5, 8.7, 6.8, 12.9, 4.7, 4.0, 10.2, 6.5, 13.2, 17.6, 6.5, 8.1, 11.0, 0.2, 4.5, 7.8, 9.5, 0.0, 13.4, 7.8, 11.1, 5.0, 16.2, 0.0, 9.8, 19.3, 5.5, 12.6, 15.1, 6.5, 7.3, 0.5, 5.2, 12.3, 8.9, 3.0, 4.7, 11.6, 6.5, 8.7, 17.9, 8.3, 6.4, 6.2, 13.1, 15.5, 0.0, 11.0, 9.6, 4.1, 7.4, 16.0, 3.9, 3.3, 7.9, 8.7, 10.7, 5.7, 5.5, 8.2, 7.8, 13.0, 7.8, 3.2, 15.2, 4.0, 0.5, 1.8, 1.1, 11.0, 7.4, 11.5, 9.6, 9.3, 4.2, 17.7, 8.4, 23.0, 10.9, 6.7, 4.3, 6.4, 21.3, 18.1, 13.4, 22.1, 8.5, 11.0, 9.2, 12.3, 6.5, 4.4, 21.3, 4.6, 8.6, 0.0, 7.1, 8.1, 4.7, 3.3, 10.7, 6.4, 4.9, 0.0, 6.4, 12.3, 10.1, 16.6, 3.9, 8.0, 1.2, 12.9, 8.5, 5.2, 10.2, 8.1, 1.2, 6.7, 8.8, 8.5, 4.9, 5.6, 10.6, 4.9, 2.9, 4.1, 14.0, 11.4, 15.7, 6.4, 3.4, 7.4, 5.4, 9.0, 10.6, 5.6, 5.9, 12.6, 23.3, 8.7, 4.1, 9.3, 13.6, 11.4, 25.1, 5.3, 14.9, 13.6, 17.7, 13.8, 12.8, 5.7, 6.2, 4.5, 16.4, 9.5, 13.0, 1.3, 3.9, 12.8, 13.5, 10.9, 11.6, 1.2, 5.6, 0.0, 0.0, 13.1, 8.8, 9.0, 6.6, 18.1, 6.3, 5.6, 8.7, 0.0, 7.6, 9.8, 0.0, 11.5, 4.2, 0.7, 9.9, 8.5, 4.5, 6.0, 4.2, 8.5, 3.7, 0.0, 7.0, 8.6, 9.3, 2.5, 4.8, 7.2, 5.3, 16.1, 14.2, 3.0, 0.0, 6.8, 15.3, 1.3, 9.5, 3.5, 0.3, 4.2, 8.8, 4.6, 16.1, 4.4, 4.0, 7.5, 7.8, 1.9, 5.9, 5.3, 4.6, 13.3, 12.0, 8.8, 12.1, 3.7, 10.4, 5.4, 9.5, 1.2, 7.7, 6.7, 3.5, 13.7, 26.1, 0.0, 28.0, 5.3, 7.2, 4.0, 15.4, 7.8, 6.9, 7.3, 3.8, 5.6, 7.4, 12.7, 19.7, 4.4, 7.0, 27.6, 6.6, 7.4, 13.5, 7.3, 21.3, 3.6, 9.1, 0.1, 23.4, 3.2, 6.6, 8.6, 9.5, 9.9, 11.3, 0.7, 0.0, 25.8, 12.3, 10.5, 7.1, 11.6, 8.5, 34.7, 13.9, 3.2, 10.8, 6.5, 10.8, 1.4, 4.9, 9.9, 5.3, 13.5, 0.0, 1.6, 6.3, 6.6, 4.3, 11.2, 4.4, 7.9, 8.9, 4.8, 10.9, 12.2, 11.2, 1.5, 2.0, 7.8, 0.6, 11.4, 7.5, 8.3, 12.2, 2.4, 4.3, 8.6, 0.0, 5.6, 9.3, 7.9, 10.2, 7.1, 5.4, 8.8, 9.1, 2.2, 6.1, 19.9, 11.6, 10.6, 0.0, 5.9, 8.0, 6.1, 9.9, 0.9, 2.9, 10.2, 6.3, 5.8, 11.6, 7.8, 3.8, 9.5, 6.7, 10.8, 6.7, 0.6, 8.4, 10.3, 7.1, 6.0, 0.0, 14.8, 7.3, 10.4, 1.1, 2.7, 12.2, 6.7, 15.9, 13.4, 16.9, 1.7, 7.0, 0.0, 6.6, 9.5, 9.8, 12.0, 3.2, 29.5, 5.6, 3.9, 7.5, 5.2, 10.5, 4.4, 7.3, 15.7, 20.8, 6.5, 11.1, 5.8, 0.0, 4.5, 8.1, 12.6, 0.0, 5.0, 0.0, 0.0, 9.2, 6.4, 14.3, 3.9, 3.8, 1.4, 6.8, 5.6, 4.3, 12.3, 1.8, 3.3, 15.8, 4.2, 10.2, 9.8, 19.7, 11.7, 7.8, 1.6, 5.6, 10.1, 6.3, 6.8, 1.9, 4.9, 3.0, 23.4, 40.8, 17.6, 7.0, 8.6, 25.2, 6.8, 11.3, 7.2, 29.6, 1.7, 2.8, 16.2, 5.2, 4.0, 16.9, 12.6, 2.1, 10.5, 14.9, 12.4, 14.0, 16.0, 8.6, 6.3, 5.6, 7.2, 0.0, 0.0, 4.3, 17.2, 5.3, 6.7, 7.7, 17.9, 10.3, 5.8, 6.7, 4.2, 9.4, 4.5, 5.8, 12.3, 5.8, 6.8, 2.8, 13.6, 4.4, 12.6, 1.8, 2.4, 11.5, 6.2, 3.6, 14.0, 5.8, 8.2, 2.4, 0.0, 5.1, 3.7, 27.6, 13.1, 10.8, 3.5, 12.5, 12.2, 10.4, 5.7, 8.8, 0.0, 11.7, 7.0, 8.5, 0.0, 6.6, 5.2, 0.0, 8.6, 16.5, 1.6, 0.0, 5.9, 4.6, 9.3, 6.9, 10.3, 10.8, 24.2, 0.0, 8.8, 2.2, 7.8, 13.0, 7.6, 17.8, 9.8, 13.4, 5.4, 6.8, 5.3, 11.3, 11.5, 3.4, 10.4, 8.3, 8.2, 12.7, 7.3, 8.4, 0.0, 18.5, 10.4, 16.1, 7.6, 3.9, 20.4, 6.8, 16.2, 2.8, 11.9, 4.9, 9.4, 9.4, 10.8, 5.4, 12.8, 10.1, 0.0, 8.2, 9.7, 9.7, 11.7, 5.2, 11.2, 0.2, 14.3, 10.3, 19.4, 11.4, 0.0, 3.3, 8.1, 2.5, 9.2, 4.6, 5.2, 15.5, 1.3, 9.5, 3.8, 7.6, 3.2, 10.7, 12.9, 4.3, 7.4, 9.4, 12.9, 2.7, 0.0, 15.6, 25.4, 0.0, 1.3, 4.0, 0.0, 1.5, 3.4, 9.2, 13.4, 5.9, 10.6, 10.1, 8.0, 18.8, 8.5, 7.3, 1.7, 6.7, 10.0, 8.0, 6.9, 7.7, 3.2, 0.0, 11.0, 8.2, 8.2, 6.9, 2.7, 28.4, 7.6, 0.0, 9.6, 8.9, 0.0, 3.3, 4.6, 0.0, 10.0, 1.3, 17.3, 1.8, 5.2, 1.2, 9.2, 10.6, 13.0, 6.0, 5.9, 1.5, 4.7, 7.2, 17.2, 4.8, 2.8, 4.6, 13.8, 6.5, 9.6, 10.6, 1.0, 1.8, 11.4, 2.2, 9.1, 4.4, 6.1, 15.1, 0.0, 18.5, 0.4, 4.1, 8.2, 5.9, 0.4, 0.5, 1.8, 0.3, 0.1, 5.5, 26.1, 6.9, 5.7, 8.7, 4.1, 27.3, 5.2, 16.7, 10.0, 5.4, 9.6, 9.1, 10.3, 1.2, 8.7, 8.8, 14.4, 2.0, 2.8, 4.4, 9.7, 7.5, 25.6, 9.9, 3.9, 7.4, 18.5, 16.9, 0.0, 7.4, 1.3, 8.0, 13.0, 6.4, 9.5, 12.1, 0.0, 4.9, 15.5, 5.8, 8.4, 3.9, 3.9, 12.0, 0.0, 4.7, 6.7, 9.4, 11.8, 9.6, 9.2, 22.3, 15.6, 25.8, 6.2, 15.8, 7.5, 17.9, 1.6, 4.9, 7.0, 12.8, 3.5, 0.0, 4.4, 12.2, 6.4, 7.0, 2.4, 7.4, 1.9, 11.1, 7.1, 8.3, 0.0, 5.7, 5.4, 7.9, 15.1, 3.7, 17.0, 9.5, 3.7, 1.1, 13.8, 1.3, 7.8, 10.2, 10.3, 4.8, 4.9, 5.0, 5.0, 6.3, 4.6, 7.4, 17.1, 4.2, 2.9, 5.1, 6.9, 12.4, 11.2, 12.6, 9.4, 6.1, 14.1, 8.8, 22.5, 6.6, 7.7, 10.4, 0.0, 8.8, 1.1, 8.5, 10.3, 5.0, 10.0, 15.5, 7.8, 5.8, 5.3, 4.3, 0.1, 0.0, 6.3, 6.5, 0.0, 10.4, 8.0, 6.8, 8.8, 7.3, 7.7, 4.7, 0.0, 15.5, 0.0, 3.8, 5.6, 15.1, 8.9, 5.3, 8.9, 4.8, 20.8, 5.2, 6.3, 5.6, 0.4, 16.0, 7.5, 7.9, 9.5, 5.8, 9.7, 6.7, 5.6, 7.4, 14.2, 1.4, 13.3, 3.5, 0.3, 0.5, 8.5, 9.0, 0.0, 7.5, 9.3, 25.3, 16.1, 12.4, 5.8, 8.7, 6.4, 3.5, 4.8, 7.2, 7.4, 10.8, 7.1, 8.1, 11.4, 7.2, 4.1, 9.9, 11.8, 15.9, 14.8, 4.4, 4.6, 6.4, 10.6, 3.9, 2.8, 0.0, 10.1, 3.3, 7.6, 7.0, 3.8, 14.9, 0.0, 6.7, 8.5, 7.5, 10.6, 4.4, 6.8, 6.9, 9.8, 7.4, 5.0, 5.2, 5.7, 6.1, 5.8, 0.0, 21.3, 9.5, 2.5, 5.2, 14.8, 9.5, 13.4, 9.8, 4.9, 16.0, 8.1, 8.7, 4.8, 2.9, 15.4], \"xaxis\": \"x\", \"yaxis\": \"y\"}],\n",
              "                        {\"barmode\": \"relative\", \"legend\": {\"tracegroupgap\": 0}, \"template\": {\"data\": {\"bar\": [{\"error_x\": {\"color\": \"#2a3f5f\"}, \"error_y\": {\"color\": \"#2a3f5f\"}, \"marker\": {\"line\": {\"color\": \"#E5ECF6\", \"width\": 0.5}}, \"type\": \"bar\"}], \"barpolar\": [{\"marker\": {\"line\": {\"color\": \"#E5ECF6\", \"width\": 0.5}}, \"type\": \"barpolar\"}], \"carpet\": [{\"aaxis\": {\"endlinecolor\": \"#2a3f5f\", \"gridcolor\": \"white\", \"linecolor\": \"white\", \"minorgridcolor\": \"white\", \"startlinecolor\": \"#2a3f5f\"}, \"baxis\": {\"endlinecolor\": \"#2a3f5f\", \"gridcolor\": \"white\", \"linecolor\": \"white\", \"minorgridcolor\": \"white\", \"startlinecolor\": \"#2a3f5f\"}, \"type\": \"carpet\"}], \"choropleth\": [{\"colorbar\": {\"outlinewidth\": 0, \"ticks\": \"\"}, \"type\": \"choropleth\"}], \"contour\": [{\"colorbar\": {\"outlinewidth\": 0, \"ticks\": \"\"}, \"colorscale\": [[0.0, \"#0d0887\"], [0.1111111111111111, \"#46039f\"], [0.2222222222222222, \"#7201a8\"], [0.3333333333333333, \"#9c179e\"], [0.4444444444444444, \"#bd3786\"], [0.5555555555555556, \"#d8576b\"], [0.6666666666666666, \"#ed7953\"], [0.7777777777777778, \"#fb9f3a\"], [0.8888888888888888, \"#fdca26\"], [1.0, \"#f0f921\"]], \"type\": \"contour\"}], \"contourcarpet\": [{\"colorbar\": {\"outlinewidth\": 0, \"ticks\": \"\"}, \"type\": \"contourcarpet\"}], \"heatmap\": [{\"colorbar\": {\"outlinewidth\": 0, \"ticks\": \"\"}, \"colorscale\": [[0.0, \"#0d0887\"], [0.1111111111111111, \"#46039f\"], [0.2222222222222222, \"#7201a8\"], [0.3333333333333333, \"#9c179e\"], [0.4444444444444444, \"#bd3786\"], [0.5555555555555556, \"#d8576b\"], [0.6666666666666666, \"#ed7953\"], [0.7777777777777778, \"#fb9f3a\"], [0.8888888888888888, \"#fdca26\"], [1.0, \"#f0f921\"]], \"type\": \"heatmap\"}], \"heatmapgl\": [{\"colorbar\": {\"outlinewidth\": 0, \"ticks\": \"\"}, \"colorscale\": [[0.0, \"#0d0887\"], [0.1111111111111111, \"#46039f\"], [0.2222222222222222, \"#7201a8\"], [0.3333333333333333, \"#9c179e\"], [0.4444444444444444, \"#bd3786\"], [0.5555555555555556, \"#d8576b\"], [0.6666666666666666, \"#ed7953\"], [0.7777777777777778, \"#fb9f3a\"], [0.8888888888888888, \"#fdca26\"], [1.0, \"#f0f921\"]], \"type\": \"heatmapgl\"}], \"histogram\": [{\"marker\": {\"colorbar\": {\"outlinewidth\": 0, \"ticks\": \"\"}}, \"type\": \"histogram\"}], \"histogram2d\": [{\"colorbar\": {\"outlinewidth\": 0, \"ticks\": \"\"}, \"colorscale\": [[0.0, \"#0d0887\"], [0.1111111111111111, \"#46039f\"], [0.2222222222222222, \"#7201a8\"], [0.3333333333333333, \"#9c179e\"], [0.4444444444444444, \"#bd3786\"], [0.5555555555555556, \"#d8576b\"], [0.6666666666666666, \"#ed7953\"], [0.7777777777777778, \"#fb9f3a\"], [0.8888888888888888, \"#fdca26\"], [1.0, \"#f0f921\"]], \"type\": \"histogram2d\"}], \"histogram2dcontour\": [{\"colorbar\": {\"outlinewidth\": 0, \"ticks\": \"\"}, \"colorscale\": [[0.0, \"#0d0887\"], [0.1111111111111111, \"#46039f\"], [0.2222222222222222, \"#7201a8\"], [0.3333333333333333, \"#9c179e\"], [0.4444444444444444, \"#bd3786\"], [0.5555555555555556, \"#d8576b\"], [0.6666666666666666, \"#ed7953\"], [0.7777777777777778, \"#fb9f3a\"], [0.8888888888888888, \"#fdca26\"], [1.0, \"#f0f921\"]], \"type\": \"histogram2dcontour\"}], \"mesh3d\": [{\"colorbar\": {\"outlinewidth\": 0, \"ticks\": \"\"}, \"type\": \"mesh3d\"}], \"parcoords\": [{\"line\": {\"colorbar\": {\"outlinewidth\": 0, \"ticks\": \"\"}}, \"type\": \"parcoords\"}], \"pie\": [{\"automargin\": true, \"type\": \"pie\"}], \"scatter\": [{\"marker\": {\"colorbar\": {\"outlinewidth\": 0, \"ticks\": \"\"}}, \"type\": \"scatter\"}], \"scatter3d\": [{\"line\": {\"colorbar\": {\"outlinewidth\": 0, \"ticks\": \"\"}}, \"marker\": {\"colorbar\": {\"outlinewidth\": 0, \"ticks\": \"\"}}, \"type\": \"scatter3d\"}], \"scattercarpet\": [{\"marker\": {\"colorbar\": {\"outlinewidth\": 0, \"ticks\": \"\"}}, \"type\": \"scattercarpet\"}], \"scattergeo\": [{\"marker\": {\"colorbar\": {\"outlinewidth\": 0, \"ticks\": \"\"}}, \"type\": \"scattergeo\"}], \"scattergl\": [{\"marker\": {\"colorbar\": {\"outlinewidth\": 0, \"ticks\": \"\"}}, \"type\": \"scattergl\"}], \"scattermapbox\": [{\"marker\": {\"colorbar\": {\"outlinewidth\": 0, \"ticks\": \"\"}}, \"type\": \"scattermapbox\"}], \"scatterpolar\": [{\"marker\": {\"colorbar\": {\"outlinewidth\": 0, \"ticks\": \"\"}}, \"type\": \"scatterpolar\"}], \"scatterpolargl\": [{\"marker\": {\"colorbar\": {\"outlinewidth\": 0, \"ticks\": \"\"}}, \"type\": \"scatterpolargl\"}], \"scatterternary\": [{\"marker\": {\"colorbar\": {\"outlinewidth\": 0, \"ticks\": \"\"}}, \"type\": \"scatterternary\"}], \"surface\": [{\"colorbar\": {\"outlinewidth\": 0, \"ticks\": \"\"}, \"colorscale\": [[0.0, \"#0d0887\"], [0.1111111111111111, \"#46039f\"], [0.2222222222222222, \"#7201a8\"], [0.3333333333333333, \"#9c179e\"], [0.4444444444444444, \"#bd3786\"], [0.5555555555555556, \"#d8576b\"], [0.6666666666666666, \"#ed7953\"], [0.7777777777777778, \"#fb9f3a\"], [0.8888888888888888, \"#fdca26\"], [1.0, \"#f0f921\"]], \"type\": \"surface\"}], \"table\": [{\"cells\": {\"fill\": {\"color\": \"#EBF0F8\"}, \"line\": {\"color\": \"white\"}}, \"header\": {\"fill\": {\"color\": \"#C8D4E3\"}, \"line\": {\"color\": \"white\"}}, \"type\": \"table\"}]}, \"layout\": {\"annotationdefaults\": {\"arrowcolor\": \"#2a3f5f\", \"arrowhead\": 0, \"arrowwidth\": 1}, \"coloraxis\": {\"colorbar\": {\"outlinewidth\": 0, \"ticks\": \"\"}}, \"colorscale\": {\"diverging\": [[0, \"#8e0152\"], [0.1, \"#c51b7d\"], [0.2, \"#de77ae\"], [0.3, \"#f1b6da\"], [0.4, \"#fde0ef\"], [0.5, \"#f7f7f7\"], [0.6, \"#e6f5d0\"], [0.7, \"#b8e186\"], [0.8, \"#7fbc41\"], [0.9, \"#4d9221\"], [1, \"#276419\"]], \"sequential\": [[0.0, \"#0d0887\"], [0.1111111111111111, \"#46039f\"], [0.2222222222222222, \"#7201a8\"], [0.3333333333333333, \"#9c179e\"], [0.4444444444444444, \"#bd3786\"], [0.5555555555555556, \"#d8576b\"], [0.6666666666666666, \"#ed7953\"], [0.7777777777777778, \"#fb9f3a\"], [0.8888888888888888, \"#fdca26\"], [1.0, \"#f0f921\"]], \"sequentialminus\": [[0.0, \"#0d0887\"], [0.1111111111111111, \"#46039f\"], [0.2222222222222222, \"#7201a8\"], [0.3333333333333333, \"#9c179e\"], [0.4444444444444444, \"#bd3786\"], [0.5555555555555556, \"#d8576b\"], [0.6666666666666666, \"#ed7953\"], [0.7777777777777778, \"#fb9f3a\"], [0.8888888888888888, \"#fdca26\"], [1.0, \"#f0f921\"]]}, \"colorway\": [\"#636efa\", \"#EF553B\", \"#00cc96\", \"#ab63fa\", \"#FFA15A\", \"#19d3f3\", \"#FF6692\", \"#B6E880\", \"#FF97FF\", \"#FECB52\"], \"font\": {\"color\": \"#2a3f5f\"}, \"geo\": {\"bgcolor\": \"white\", \"lakecolor\": \"white\", \"landcolor\": \"#E5ECF6\", \"showlakes\": true, \"showland\": true, \"subunitcolor\": \"white\"}, \"hoverlabel\": {\"align\": \"left\"}, \"hovermode\": \"closest\", \"mapbox\": {\"style\": \"light\"}, \"paper_bgcolor\": \"white\", \"plot_bgcolor\": \"#E5ECF6\", \"polar\": {\"angularaxis\": {\"gridcolor\": \"white\", \"linecolor\": \"white\", \"ticks\": \"\"}, \"bgcolor\": \"#E5ECF6\", \"radialaxis\": {\"gridcolor\": \"white\", \"linecolor\": \"white\", \"ticks\": \"\"}}, \"scene\": {\"xaxis\": {\"backgroundcolor\": \"#E5ECF6\", \"gridcolor\": \"white\", \"gridwidth\": 2, \"linecolor\": \"white\", \"showbackground\": true, \"ticks\": \"\", \"zerolinecolor\": \"white\"}, \"yaxis\": {\"backgroundcolor\": \"#E5ECF6\", \"gridcolor\": \"white\", \"gridwidth\": 2, \"linecolor\": \"white\", \"showbackground\": true, \"ticks\": \"\", \"zerolinecolor\": \"white\"}, \"zaxis\": {\"backgroundcolor\": \"#E5ECF6\", \"gridcolor\": \"white\", \"gridwidth\": 2, \"linecolor\": \"white\", \"showbackground\": true, \"ticks\": \"\", \"zerolinecolor\": \"white\"}}, \"shapedefaults\": {\"line\": {\"color\": \"#2a3f5f\"}}, \"ternary\": {\"aaxis\": {\"gridcolor\": \"white\", \"linecolor\": \"white\", \"ticks\": \"\"}, \"baxis\": {\"gridcolor\": \"white\", \"linecolor\": \"white\", \"ticks\": \"\"}, \"bgcolor\": \"#E5ECF6\", \"caxis\": {\"gridcolor\": \"white\", \"linecolor\": \"white\", \"ticks\": \"\"}}, \"title\": {\"x\": 0.05}, \"xaxis\": {\"automargin\": true, \"gridcolor\": \"white\", \"linecolor\": \"white\", \"ticks\": \"\", \"title\": {\"standoff\": 15}, \"zerolinecolor\": \"white\", \"zerolinewidth\": 2}, \"yaxis\": {\"automargin\": true, \"gridcolor\": \"white\", \"linecolor\": \"white\", \"ticks\": \"\", \"title\": {\"standoff\": 15}, \"zerolinecolor\": \"white\", \"zerolinewidth\": 2}}}, \"title\": {\"text\": \"Histograma da coluna: mean value of long term variability\"}, \"xaxis\": {\"anchor\": \"y\", \"domain\": [0.0, 1.0], \"title\": {\"text\": \"x\"}}, \"yaxis\": {\"anchor\": \"x\", \"domain\": [0.0, 1.0], \"title\": {\"text\": \"count\"}}},\n",
              "                        {\"responsive\": true}\n",
              "                    ).then(function(){\n",
              "                            \n",
              "var gd = document.getElementById('3ef188ff-d676-462d-b571-5d371b2ccaf7');\n",
              "var x = new MutationObserver(function (mutations, observer) {{\n",
              "        var display = window.getComputedStyle(gd).display;\n",
              "        if (!display || display === 'none') {{\n",
              "            console.log([gd, 'removed!']);\n",
              "            Plotly.purge(gd);\n",
              "            observer.disconnect();\n",
              "        }}\n",
              "}});\n",
              "\n",
              "// Listen for the removal of the full notebook cells\n",
              "var notebookContainer = gd.closest('#notebook-container');\n",
              "if (notebookContainer) {{\n",
              "    x.observe(notebookContainer, {childList: true});\n",
              "}}\n",
              "\n",
              "// Listen for the clearing of the current output cell\n",
              "var outputEl = gd.closest('.output');\n",
              "if (outputEl) {{\n",
              "    x.observe(outputEl, {childList: true});\n",
              "}}\n",
              "\n",
              "                        })\n",
              "                };\n",
              "                \n",
              "            </script>\n",
              "        </div>\n",
              "</body>\n",
              "</html>"
            ]
          },
          "metadata": {
            "tags": []
          }
        }
      ]
    },
    {
      "cell_type": "code",
      "metadata": {
        "colab": {
          "base_uri": "https://localhost:8080/",
          "height": 542
        },
        "id": "YVKeHu4bF4ez",
        "outputId": "99be2256-797a-4d69-b07b-85ad20eabc58"
      },
      "source": [
        "px.box(y = train_set['mean_value_of_long_term_variability'], color = train_set['fetal_health'],\n",
        "       title = 'boxplot da coluna : mean value of long term variability', labels = {'color' : 'Classe', 'y' : 'valores'}\n",
        "      )"
      ],
      "execution_count": 83,
      "outputs": [
        {
          "output_type": "display_data",
          "data": {
            "text/html": [
              "<html>\n",
              "<head><meta charset=\"utf-8\" /></head>\n",
              "<body>\n",
              "    <div>\n",
              "            <script src=\"https://cdnjs.cloudflare.com/ajax/libs/mathjax/2.7.5/MathJax.js?config=TeX-AMS-MML_SVG\"></script><script type=\"text/javascript\">if (window.MathJax) {MathJax.Hub.Config({SVG: {font: \"STIX-Web\"}});}</script>\n",
              "                <script type=\"text/javascript\">window.PlotlyConfig = {MathJaxConfig: 'local'};</script>\n",
              "        <script src=\"https://cdn.plot.ly/plotly-latest.min.js\"></script>    \n",
              "            <div id=\"fbccc7b7-5ae8-4ce4-9888-cf0dc1967f1c\" class=\"plotly-graph-div\" style=\"height:525px; width:100%;\"></div>\n",
              "            <script type=\"text/javascript\">\n",
              "                \n",
              "                    window.PLOTLYENV=window.PLOTLYENV || {};\n",
              "                    \n",
              "                if (document.getElementById(\"fbccc7b7-5ae8-4ce4-9888-cf0dc1967f1c\")) {\n",
              "                    Plotly.newPlot(\n",
              "                        'fbccc7b7-5ae8-4ce4-9888-cf0dc1967f1c',\n",
              "                        [{\"alignmentgroup\": \"True\", \"hoverlabel\": {\"namelength\": 0}, \"hovertemplate\": \"Classe=1.0<br>valores=%{y}\", \"legendgroup\": \"Classe=1.0\", \"marker\": {\"color\": \"#636efa\"}, \"name\": \"Classe=1.0\", \"notched\": false, \"offsetgroup\": \"Classe=1.0\", \"orientation\": \"v\", \"showlegend\": true, \"type\": \"box\", \"x0\": \" \", \"xaxis\": \"x\", \"y\": [8.8, 14.3, 4.6, 19.8, 5.0, 0.0, 6.8, 10.8, 4.3, 5.6, 5.8, 10.8, 4.0, 14.6, 10.6, 13.6, 8.7, 5.2, 3.2, 4.8, 12.0, 8.0, 5.4, 7.8, 11.5, 14.8, 14.0, 2.2, 8.5, 9.4, 5.3, 12.5, 12.1, 6.5, 12.8, 4.3, 14.5, 6.6, 33.5, 4.5, 19.4, 18.0, 8.7, 3.7, 8.0, 9.3, 4.8, 7.8, 8.3, 10.3, 7.1, 0.3, 1.1, 1.6, 10.3, 5.7, 7.1, 10.2, 6.0, 13.3, 29.3, 20.5, 16.2, 9.9, 2.6, 12.6, 0.5, 13.0, 14.8, 11.3, 7.4, 12.4, 18.9, 7.5, 10.0, 9.6, 1.9, 14.1, 18.4, 17.7, 1.9, 3.7, 13.4, 12.7, 9.3, 4.5, 7.2, 19.6, 9.3, 15.1, 0.0, 10.5, 7.6, 10.0, 9.4, 4.7, 9.7, 11.5, 7.4, 0.5, 9.8, 8.6, 17.0, 1.0, 5.9, 1.1, 3.7, 9.0, 12.9, 11.2, 6.2, 13.5, 4.8, 1.7, 9.3, 4.0, 10.4, 9.6, 15.1, 6.9, 7.1, 2.7, 10.6, 13.7, 0.0, 3.6, 8.0, 4.9, 17.2, 8.3, 6.5, 2.7, 12.6, 6.0, 6.8, 6.9, 12.2, 8.1, 0.0, 4.3, 0.0, 15.5, 27.4, 12.6, 35.7, 7.9, 7.3, 4.3, 14.0, 6.5, 6.6, 5.2, 8.8, 7.6, 9.1, 5.2, 1.4, 13.8, 17.2, 13.8, 7.2, 4.2, 8.4, 13.3, 7.9, 12.6, 9.6, 6.1, 19.0, 4.3, 14.6, 2.7, 11.2, 8.7, 4.7, 14.5, 11.6, 10.0, 8.1, 12.1, 11.5, 0.0, 11.0, 6.0, 8.2, 13.3, 5.7, 8.7, 24.1, 2.9, 19.0, 15.1, 10.9, 5.0, 15.0, 1.6, 10.5, 0.0, 23.1, 6.7, 6.9, 9.6, 2.4, 5.2, 15.2, 5.0, 18.7, 7.6, 14.6, 12.3, 4.9, 1.7, 5.4, 6.4, 6.7, 10.6, 8.3, 9.5, 24.9, 14.6, 8.1, 3.1, 9.4, 11.7, 13.2, 2.5, 11.6, 4.1, 2.3, 9.5, 7.2, 0.0, 6.1, 9.3, 0.4, 14.7, 6.7, 3.9, 10.5, 1.2, 7.5, 8.5, 11.0, 10.9, 10.3, 8.5, 1.5, 11.7, 27.3, 3.5, 10.1, 6.9, 7.3, 1.0, 6.6, 11.6, 13.3, 11.3, 12.2, 23.8, 5.4, 6.8, 10.2, 11.7, 10.6, 6.6, 18.4, 13.2, 10.0, 9.4, 1.8, 25.9, 14.9, 1.7, 9.9, 9.2, 20.0, 5.4, 0.0, 5.6, 6.1, 13.6, 7.1, 10.1, 5.6, 0.0, 0.3, 13.5, 10.3, 6.7, 10.4, 21.0, 6.3, 6.9, 12.2, 2.2, 13.7, 3.0, 8.0, 6.3, 9.4, 9.8, 7.1, 14.3, 9.7, 16.2, 6.0, 5.2, 2.1, 21.1, 3.8, 9.9, 13.7, 16.3, 6.3, 5.5, 10.2, 7.3, 15.8, 3.2, 1.3, 5.6, 8.4, 4.5, 10.0, 16.2, 3.6, 8.1, 11.2, 12.3, 12.1, 5.5, 13.4, 2.1, 8.9, 8.6, 13.4, 10.8, 4.7, 9.2, 17.5, 21.1, 9.3, 19.9, 3.9, 14.3, 6.9, 7.9, 0.0, 3.8, 6.3, 3.3, 14.0, 5.5, 4.8, 8.5, 1.9, 10.1, 0.3, 0.2, 14.9, 9.0, 9.4, 6.5, 6.7, 3.1, 4.2, 9.9, 13.1, 4.7, 4.1, 2.8, 8.7, 14.9, 0.0, 5.6, 14.9, 2.2, 0.0, 13.3, 11.9, 14.3, 6.5, 6.5, 7.4, 8.6, 6.6, 11.6, 5.8, 0.0, 3.0, 7.1, 10.2, 5.2, 17.1, 8.5, 1.3, 0.0, 15.0, 17.2, 5.3, 11.4, 12.5, 1.9, 5.1, 8.1, 23.1, 9.6, 7.8, 6.0, 10.1, 7.9, 12.2, 5.7, 0.0, 9.9, 14.0, 10.3, 2.4, 1.8, 5.0, 12.5, 8.2, 18.4, 6.6, 8.0, 4.9, 0.0, 0.4, 7.7, 12.2, 2.2, 4.0, 9.5, 12.1, 2.5, 0.0, 13.9, 15.7, 8.4, 5.6, 6.7, 11.2, 7.9, 4.7, 4.1, 8.1, 10.9, 2.1, 7.6, 19.1, 10.4, 11.2, 7.1, 14.8, 8.0, 2.4, 17.3, 8.8, 13.2, 8.4, 4.3, 7.1, 7.5, 0.0, 5.9, 0.3, 8.0, 9.4, 5.8, 4.1, 9.6, 12.9, 8.2, 15.6, 9.1, 9.4, 2.4, 7.3, 14.8, 0.3, 6.6, 4.8, 4.2, 6.5, 13.8, 1.7, 2.4, 11.3, 8.9, 12.8, 2.7, 13.0, 14.0, 10.7, 3.0, 0.0, 17.8, 9.2, 19.6, 17.9, 13.0, 9.8, 16.0, 13.0, 4.8, 2.6, 2.4, 0.0, 3.1, 7.9, 7.7, 10.6, 10.5, 20.0, 8.3, 3.5, 4.1, 7.1, 26.3, 9.9, 11.1, 2.1, 0.0, 6.5, 13.2, 3.7, 6.3, 0.0, 8.4, 7.2, 11.4, 4.9, 10.0, 0.0, 10.4, 4.0, 14.2, 7.0, 5.7, 11.7, 9.8, 4.5, 11.4, 7.0, 2.9, 7.2, 7.9, 3.6, 10.4, 9.8, 3.5, 12.2, 9.6, 7.2, 8.7, 6.8, 12.9, 4.0, 10.2, 13.2, 17.6, 6.5, 11.0, 0.2, 4.5, 13.4, 11.1, 5.0, 16.2, 9.8, 19.3, 5.5, 12.6, 15.1, 7.3, 0.5, 8.9, 3.0, 11.6, 8.7, 17.9, 8.3, 6.4, 6.2, 13.1, 15.5, 11.0, 9.6, 4.1, 3.9, 7.9, 10.7, 5.7, 5.5, 8.2, 7.8, 13.0, 7.8, 3.2, 15.2, 0.5, 1.8, 1.1, 7.4, 11.5, 9.6, 9.3, 4.2, 17.7, 8.4, 23.0, 10.9, 6.7, 4.3, 6.4, 21.3, 18.1, 13.4, 22.1, 8.5, 11.0, 9.2, 12.3, 6.5, 21.3, 4.6, 8.6, 0.0, 7.1, 8.1, 4.7, 10.7, 6.4, 4.9, 0.0, 12.3, 10.1, 16.6, 3.9, 8.0, 1.2, 12.9, 8.5, 5.2, 10.2, 8.1, 6.7, 8.8, 8.5, 10.6, 4.9, 4.1, 14.0, 11.4, 15.7, 6.4, 7.4, 5.4, 10.6, 5.9, 12.6, 23.3, 8.7, 4.1, 9.3, 11.4, 25.1, 5.3, 14.9, 13.6, 17.7, 13.8, 12.8, 5.7, 6.2, 16.4, 9.5, 13.0, 1.3, 12.8, 13.5, 10.9, 11.6, 1.2, 5.6, 0.0, 13.1, 8.8, 9.0, 6.6, 18.1, 6.3, 5.6, 8.7, 7.6, 9.8, 0.0, 11.5, 4.2, 9.9, 8.5, 4.5, 6.0, 4.2, 8.5, 3.7, 0.0, 9.3, 2.5, 4.8, 7.2, 5.3, 16.1, 3.0, 15.3, 1.3, 0.3, 4.2, 8.8, 16.1, 4.4, 4.0, 7.5, 7.8, 1.9, 5.3, 13.3, 12.0, 8.8, 12.1, 3.7, 10.4, 5.4, 9.5, 1.2, 7.7, 6.7, 3.5, 13.7, 26.1, 0.0, 28.0, 7.2, 4.0, 15.4, 6.9, 3.8, 5.6, 12.7, 19.7, 4.4, 7.0, 27.6, 6.6, 7.4, 13.5, 7.3, 21.3, 9.1, 0.1, 23.4, 8.6, 9.5, 9.9, 11.3, 0.7, 0.0, 25.8, 12.3, 10.5, 11.6, 34.7, 13.9, 3.2, 10.8, 6.5, 10.8, 1.4, 9.9, 5.3, 1.6, 6.3, 6.6, 4.3, 11.2, 4.4, 7.9, 8.9, 10.9, 12.2, 11.2, 1.5, 2.0, 7.8, 0.6, 11.4, 7.5, 8.3, 2.4, 8.6, 0.0, 5.6, 9.3, 10.2, 7.1, 5.4, 8.8, 9.1, 2.2, 19.9, 10.6, 5.9, 8.0, 6.1, 9.9, 0.9, 2.9, 10.2, 6.3, 11.6, 7.8, 3.8, 9.5, 6.7, 10.8, 6.7, 0.6, 8.4, 10.3, 6.0, 14.8, 7.3, 10.4, 1.1, 2.7, 12.2, 6.7, 15.9, 16.9, 7.0, 9.5, 9.8, 12.0, 3.2, 7.5, 5.2, 10.5, 4.4, 7.3, 15.7, 20.8, 6.5, 11.1, 5.8, 4.5, 12.6, 5.0, 0.0, 9.2, 6.4, 14.3, 3.9, 3.8, 1.4, 5.6, 4.3, 12.3, 1.8, 3.3, 15.8, 4.2, 9.8, 19.7, 11.7, 7.8, 1.6, 5.6, 6.3, 6.8, 1.9, 23.4, 40.8, 17.6, 7.0, 8.6, 25.2, 6.8, 29.6, 1.7, 2.8, 16.2, 5.2, 4.0, 16.9, 12.6, 2.1, 14.9, 12.4, 14.0, 16.0, 8.6, 7.2, 0.0, 0.0, 17.2, 17.9, 10.3, 5.8, 6.7, 9.4, 4.5, 5.8, 12.3, 5.8, 6.8, 2.8, 13.6, 1.8, 11.5, 6.2, 3.6, 14.0, 5.8, 8.2, 2.4, 5.1, 3.7, 13.1, 3.5, 12.5, 10.4, 8.8, 0.0, 11.7, 7.0, 8.5, 0.0, 6.6, 5.2, 8.6, 16.5, 1.6, 0.0, 5.9, 9.3, 6.9, 10.3, 10.8, 24.2, 8.8, 2.2, 7.8, 13.0, 7.6, 17.8, 13.4, 6.8, 5.3, 11.3, 3.4, 8.3, 8.4, 18.5, 10.4, 16.1, 20.4, 6.8, 16.2, 2.8, 11.9, 9.4, 9.4, 10.8, 5.4, 10.1, 8.2, 9.7, 9.7, 11.7, 5.2, 11.2, 0.2, 10.3, 8.1, 2.5, 4.6, 5.2, 15.5, 1.3, 9.5, 7.6, 3.2, 10.7, 7.4, 9.4, 12.9, 2.7, 15.6, 25.4, 0.0, 1.3, 1.5, 3.4, 9.2, 13.4, 5.9, 10.6, 10.1, 8.0, 18.8, 7.3, 1.7, 10.0, 8.0, 7.7, 3.2, 0.0, 8.2, 6.9, 2.7, 7.6, 0.0, 9.6, 8.9, 3.3, 4.6, 1.3, 17.3, 1.8, 5.2, 1.2, 10.6, 13.0, 6.0, 5.9, 1.5, 4.7, 17.2, 4.8, 13.8, 6.5, 9.6, 10.6, 1.0, 1.8, 11.4, 2.2, 9.1, 4.4, 15.1, 0.0, 18.5, 0.4, 4.1, 8.2, 5.9, 0.4, 0.5, 1.8, 0.1, 26.1, 5.7, 8.7, 4.1, 27.3, 5.2, 10.0, 5.4, 9.6, 9.1, 10.3, 1.2, 8.7, 14.4, 2.0, 4.4, 9.7, 7.5, 25.6, 9.9, 3.9, 7.4, 18.5, 16.9, 1.3, 8.0, 13.0, 6.4, 0.0, 15.5, 8.4, 3.9, 3.9, 12.0, 4.7, 9.4, 11.8, 9.6, 9.2, 22.3, 25.8, 6.2, 15.8, 7.5, 17.9, 1.6, 4.9, 7.0, 12.8, 4.4, 12.2, 6.4, 2.4, 7.4, 1.9, 11.1, 8.3, 0.0, 5.7, 7.9, 15.1, 3.7, 17.0, 9.5, 1.1, 13.8, 1.3, 7.8, 10.2, 4.8, 4.9, 6.3, 4.6, 7.4, 17.1, 5.1, 6.9, 12.4, 12.6, 9.4, 6.1, 14.1, 22.5, 6.6, 7.7, 10.4, 0.0, 8.8, 1.1, 8.5, 10.3, 10.0, 15.5, 5.8, 5.3, 4.3, 0.1, 6.3, 6.5, 10.4, 8.0, 6.8, 7.3, 7.7, 0.0, 15.5, 3.8, 15.1, 5.3, 8.9, 20.8, 5.2, 6.3, 5.6, 0.4, 16.0, 7.5, 9.5, 5.8, 9.7, 5.6, 7.4, 14.2, 1.4, 0.3, 0.5, 8.5, 9.0, 7.5, 9.3, 25.3, 16.1, 12.4, 5.8, 8.7, 6.4, 3.5, 4.8, 7.4, 10.8, 7.1, 8.1, 11.4, 7.2, 4.1, 9.9, 11.8, 15.9, 14.8, 4.4, 6.4, 3.9, 2.8, 0.0, 10.1, 3.3, 3.8, 6.7, 8.5, 7.5, 10.6, 4.4, 6.9, 9.8, 7.4, 5.0, 5.2, 5.7, 21.3, 2.5, 5.2, 14.8, 9.5, 13.4, 4.9, 16.0, 8.1, 8.7, 4.8, 15.4], \"y0\": \" \", \"yaxis\": \"y\"}, {\"alignmentgroup\": \"True\", \"hoverlabel\": {\"namelength\": 0}, \"hovertemplate\": \"Classe=2.0<br>valores=%{y}\", \"legendgroup\": \"Classe=2.0\", \"marker\": {\"color\": \"#EF553B\"}, \"name\": \"Classe=2.0\", \"notched\": false, \"offsetgroup\": \"Classe=2.0\", \"orientation\": \"v\", \"showlegend\": true, \"type\": \"box\", \"x0\": \" \", \"xaxis\": \"x\", \"y\": [7.5, 10.0, 6.8, 7.0, 9.9, 6.4, 6.8, 4.8, 7.2, 7.3, 8.5, 6.4, 7.0, 8.1, 6.8, 16.4, 6.5, 6.9, 8.2, 5.1, 7.6, 6.1, 15.7, 10.9, 5.5, 7.6, 5.9, 6.5, 8.9, 7.4, 5.3, 7.5, 4.5, 5.2, 5.5, 11.6, 13.4, 5.8, 10.4, 6.9, 12.4, 3.4, 10.7, 7.2, 15.2, 8.7, 4.8, 5.1, 8.3, 5.7, 9.8, 4.6, 6.9, 7.1, 7.7, 7.8, 7.8, 2.1, 7.1, 6.7, 5.8, 6.8, 13.4, 9.5, 4.2, 13.2, 5.2, 7.3, 4.0, 11.2, 6.8, 8.3, 21.7, 10.2, 9.9, 10.8, 11.9, 6.9, 5.3, 6.7, 5.4, 4.5, 6.3, 5.8, 2.5, 5.5, 11.6, 6.6, 8.3, 10.0, 4.6, 8.6, 5.3, 6.5, 4.7, 6.5, 7.8, 9.5, 7.8, 6.5, 5.2, 12.3, 4.7, 6.5, 7.4, 16.0, 8.7, 4.0, 11.0, 4.4, 6.4, 4.9, 5.6, 3.4, 5.6, 13.6, 4.5, 3.9, 7.0, 8.6, 14.2, 6.8, 9.5, 5.9, 4.6, 5.3, 7.8, 7.3, 6.6, 7.1, 4.9, 13.5, 4.8, 12.2, 4.3, 7.9, 6.1, 11.6, 5.8, 7.1, 13.4, 6.6, 29.5, 5.6, 3.9, 8.1, 6.8, 10.2, 10.1, 3.0, 11.3, 7.2, 10.5, 6.3, 5.6, 4.3, 5.3, 7.7, 4.2, 4.4, 12.6, 2.4, 27.6, 10.8, 12.2, 5.4, 11.5, 10.4, 12.7, 7.3, 12.8, 14.3, 11.4, 3.3, 9.2, 12.9, 4.3, 6.7, 6.9, 11.0, 8.2, 28.4, 10.0, 9.2, 7.2, 4.6, 6.1, 6.9, 16.7, 7.4, 9.5, 12.1, 4.9, 5.8, 6.7, 7.0, 7.1, 5.4, 10.3, 5.0, 11.2, 8.8, 7.8, 8.8, 4.7, 5.6, 8.9, 4.8, 6.7, 13.3, 7.2, 4.6, 10.6, 7.6, 7.0, 14.9, 6.8, 6.1, 5.8, 9.5, 9.8], \"y0\": \" \", \"yaxis\": \"y\"}, {\"alignmentgroup\": \"True\", \"hoverlabel\": {\"namelength\": 0}, \"hovertemplate\": \"Classe=3.0<br>valores=%{y}\", \"legendgroup\": \"Classe=3.0\", \"marker\": {\"color\": \"#00cc96\"}, \"name\": \"Classe=3.0\", \"notched\": false, \"offsetgroup\": \"Classe=3.0\", \"orientation\": \"v\", \"showlegend\": true, \"type\": \"box\", \"x0\": \" \", \"xaxis\": \"x\", \"y\": [1.3, 3.9, 0.0, 4.8, 0.0, 14.2, 0.0, 0.0, 0.0, 0.0, 0.0, 10.2, 0.0, 7.8, 7.1, 0.0, 2.9, 6.2, 0.0, 5.5, 0.0, 0.0, 0.0, 0.0, 0.0, 0.0, 0.0, 8.1, 4.5, 3.6, 0.0, 3.8, 0.0, 5.1, 13.6, 7.2, 0.0, 4.4, 2.8, 2.9, 4.0, 6.9, 5.8, 0.0, 8.4, 0.0, 13.6, 6.4, 1.3, 4.1, 12.3, 3.9, 7.7, 10.6, 21.5, 0.0, 0.0, 8.1, 8.1, 0.0, 0.0, 0.0, 3.3, 3.3, 1.2, 2.9, 9.0, 0.0, 0.0, 0.7, 0.0, 3.5, 4.6, 7.4, 3.6, 3.2, 8.5, 0.0, 0.0, 0.0, 1.7, 0.0, 0.0, 0.0, 0.0, 4.9, 6.7, 0.0, 5.7, 0.0, 4.6, 0.0, 9.8, 8.2, 0.0, 7.6, 3.9, 4.9, 0.0, 19.4, 0.0, 3.8, 0.0, 4.0, 0.0, 8.5, 0.0, 0.0, 2.8, 0.3, 5.5, 8.8, 2.8, 0.0, 0.0, 15.6, 3.5, 0.0, 3.7, 5.0, 4.2, 2.9, 5.0, 0.0, 0.0, 0.0, 7.9, 3.5, 0.0, 0.0, 0.0, 2.9], \"y0\": \" \", \"yaxis\": \"y\"}],\n",
              "                        {\"boxmode\": \"group\", \"legend\": {\"tracegroupgap\": 0}, \"template\": {\"data\": {\"bar\": [{\"error_x\": {\"color\": \"#2a3f5f\"}, \"error_y\": {\"color\": \"#2a3f5f\"}, \"marker\": {\"line\": {\"color\": \"#E5ECF6\", \"width\": 0.5}}, \"type\": \"bar\"}], \"barpolar\": [{\"marker\": {\"line\": {\"color\": \"#E5ECF6\", \"width\": 0.5}}, \"type\": \"barpolar\"}], \"carpet\": [{\"aaxis\": {\"endlinecolor\": \"#2a3f5f\", \"gridcolor\": \"white\", \"linecolor\": \"white\", \"minorgridcolor\": \"white\", \"startlinecolor\": \"#2a3f5f\"}, \"baxis\": {\"endlinecolor\": \"#2a3f5f\", \"gridcolor\": \"white\", \"linecolor\": \"white\", \"minorgridcolor\": \"white\", \"startlinecolor\": \"#2a3f5f\"}, \"type\": \"carpet\"}], \"choropleth\": [{\"colorbar\": {\"outlinewidth\": 0, \"ticks\": \"\"}, \"type\": \"choropleth\"}], \"contour\": [{\"colorbar\": {\"outlinewidth\": 0, \"ticks\": \"\"}, \"colorscale\": [[0.0, \"#0d0887\"], [0.1111111111111111, \"#46039f\"], [0.2222222222222222, \"#7201a8\"], [0.3333333333333333, \"#9c179e\"], [0.4444444444444444, \"#bd3786\"], [0.5555555555555556, \"#d8576b\"], [0.6666666666666666, \"#ed7953\"], [0.7777777777777778, \"#fb9f3a\"], [0.8888888888888888, \"#fdca26\"], [1.0, \"#f0f921\"]], \"type\": \"contour\"}], \"contourcarpet\": [{\"colorbar\": {\"outlinewidth\": 0, \"ticks\": \"\"}, \"type\": \"contourcarpet\"}], \"heatmap\": [{\"colorbar\": {\"outlinewidth\": 0, \"ticks\": \"\"}, \"colorscale\": [[0.0, \"#0d0887\"], [0.1111111111111111, \"#46039f\"], [0.2222222222222222, \"#7201a8\"], [0.3333333333333333, \"#9c179e\"], [0.4444444444444444, \"#bd3786\"], [0.5555555555555556, \"#d8576b\"], [0.6666666666666666, \"#ed7953\"], [0.7777777777777778, \"#fb9f3a\"], [0.8888888888888888, \"#fdca26\"], [1.0, \"#f0f921\"]], \"type\": \"heatmap\"}], \"heatmapgl\": [{\"colorbar\": {\"outlinewidth\": 0, \"ticks\": \"\"}, \"colorscale\": [[0.0, \"#0d0887\"], [0.1111111111111111, \"#46039f\"], [0.2222222222222222, \"#7201a8\"], [0.3333333333333333, \"#9c179e\"], [0.4444444444444444, \"#bd3786\"], [0.5555555555555556, \"#d8576b\"], [0.6666666666666666, \"#ed7953\"], [0.7777777777777778, \"#fb9f3a\"], [0.8888888888888888, \"#fdca26\"], [1.0, \"#f0f921\"]], \"type\": \"heatmapgl\"}], \"histogram\": [{\"marker\": {\"colorbar\": {\"outlinewidth\": 0, \"ticks\": \"\"}}, \"type\": \"histogram\"}], \"histogram2d\": [{\"colorbar\": {\"outlinewidth\": 0, \"ticks\": \"\"}, \"colorscale\": [[0.0, \"#0d0887\"], [0.1111111111111111, \"#46039f\"], [0.2222222222222222, \"#7201a8\"], [0.3333333333333333, \"#9c179e\"], [0.4444444444444444, \"#bd3786\"], [0.5555555555555556, \"#d8576b\"], [0.6666666666666666, \"#ed7953\"], [0.7777777777777778, \"#fb9f3a\"], [0.8888888888888888, \"#fdca26\"], [1.0, \"#f0f921\"]], \"type\": \"histogram2d\"}], \"histogram2dcontour\": [{\"colorbar\": {\"outlinewidth\": 0, \"ticks\": \"\"}, \"colorscale\": [[0.0, \"#0d0887\"], [0.1111111111111111, \"#46039f\"], [0.2222222222222222, \"#7201a8\"], [0.3333333333333333, \"#9c179e\"], [0.4444444444444444, \"#bd3786\"], [0.5555555555555556, \"#d8576b\"], [0.6666666666666666, \"#ed7953\"], [0.7777777777777778, \"#fb9f3a\"], [0.8888888888888888, \"#fdca26\"], [1.0, \"#f0f921\"]], \"type\": \"histogram2dcontour\"}], \"mesh3d\": [{\"colorbar\": {\"outlinewidth\": 0, \"ticks\": \"\"}, \"type\": \"mesh3d\"}], \"parcoords\": [{\"line\": {\"colorbar\": {\"outlinewidth\": 0, \"ticks\": \"\"}}, \"type\": \"parcoords\"}], \"pie\": [{\"automargin\": true, \"type\": \"pie\"}], \"scatter\": [{\"marker\": {\"colorbar\": {\"outlinewidth\": 0, \"ticks\": \"\"}}, \"type\": \"scatter\"}], \"scatter3d\": [{\"line\": {\"colorbar\": {\"outlinewidth\": 0, \"ticks\": \"\"}}, \"marker\": {\"colorbar\": {\"outlinewidth\": 0, \"ticks\": \"\"}}, \"type\": \"scatter3d\"}], \"scattercarpet\": [{\"marker\": {\"colorbar\": {\"outlinewidth\": 0, \"ticks\": \"\"}}, \"type\": \"scattercarpet\"}], \"scattergeo\": [{\"marker\": {\"colorbar\": {\"outlinewidth\": 0, \"ticks\": \"\"}}, \"type\": \"scattergeo\"}], \"scattergl\": [{\"marker\": {\"colorbar\": {\"outlinewidth\": 0, \"ticks\": \"\"}}, \"type\": \"scattergl\"}], \"scattermapbox\": [{\"marker\": {\"colorbar\": {\"outlinewidth\": 0, \"ticks\": \"\"}}, \"type\": \"scattermapbox\"}], \"scatterpolar\": [{\"marker\": {\"colorbar\": {\"outlinewidth\": 0, \"ticks\": \"\"}}, \"type\": \"scatterpolar\"}], \"scatterpolargl\": [{\"marker\": {\"colorbar\": {\"outlinewidth\": 0, \"ticks\": \"\"}}, \"type\": \"scatterpolargl\"}], \"scatterternary\": [{\"marker\": {\"colorbar\": {\"outlinewidth\": 0, \"ticks\": \"\"}}, \"type\": \"scatterternary\"}], \"surface\": [{\"colorbar\": {\"outlinewidth\": 0, \"ticks\": \"\"}, \"colorscale\": [[0.0, \"#0d0887\"], [0.1111111111111111, \"#46039f\"], [0.2222222222222222, \"#7201a8\"], [0.3333333333333333, \"#9c179e\"], [0.4444444444444444, \"#bd3786\"], [0.5555555555555556, \"#d8576b\"], [0.6666666666666666, \"#ed7953\"], [0.7777777777777778, \"#fb9f3a\"], [0.8888888888888888, \"#fdca26\"], [1.0, \"#f0f921\"]], \"type\": \"surface\"}], \"table\": [{\"cells\": {\"fill\": {\"color\": \"#EBF0F8\"}, \"line\": {\"color\": \"white\"}}, \"header\": {\"fill\": {\"color\": \"#C8D4E3\"}, \"line\": {\"color\": \"white\"}}, \"type\": \"table\"}]}, \"layout\": {\"annotationdefaults\": {\"arrowcolor\": \"#2a3f5f\", \"arrowhead\": 0, \"arrowwidth\": 1}, \"coloraxis\": {\"colorbar\": {\"outlinewidth\": 0, \"ticks\": \"\"}}, \"colorscale\": {\"diverging\": [[0, \"#8e0152\"], [0.1, \"#c51b7d\"], [0.2, \"#de77ae\"], [0.3, \"#f1b6da\"], [0.4, \"#fde0ef\"], [0.5, \"#f7f7f7\"], [0.6, \"#e6f5d0\"], [0.7, \"#b8e186\"], [0.8, \"#7fbc41\"], [0.9, \"#4d9221\"], [1, \"#276419\"]], \"sequential\": [[0.0, \"#0d0887\"], [0.1111111111111111, \"#46039f\"], [0.2222222222222222, \"#7201a8\"], [0.3333333333333333, \"#9c179e\"], [0.4444444444444444, \"#bd3786\"], [0.5555555555555556, \"#d8576b\"], [0.6666666666666666, \"#ed7953\"], [0.7777777777777778, \"#fb9f3a\"], [0.8888888888888888, \"#fdca26\"], [1.0, \"#f0f921\"]], \"sequentialminus\": [[0.0, \"#0d0887\"], [0.1111111111111111, \"#46039f\"], [0.2222222222222222, \"#7201a8\"], [0.3333333333333333, \"#9c179e\"], [0.4444444444444444, \"#bd3786\"], [0.5555555555555556, \"#d8576b\"], [0.6666666666666666, \"#ed7953\"], [0.7777777777777778, \"#fb9f3a\"], [0.8888888888888888, \"#fdca26\"], [1.0, \"#f0f921\"]]}, \"colorway\": [\"#636efa\", \"#EF553B\", \"#00cc96\", \"#ab63fa\", \"#FFA15A\", \"#19d3f3\", \"#FF6692\", \"#B6E880\", \"#FF97FF\", \"#FECB52\"], \"font\": {\"color\": \"#2a3f5f\"}, \"geo\": {\"bgcolor\": \"white\", \"lakecolor\": \"white\", \"landcolor\": \"#E5ECF6\", \"showlakes\": true, \"showland\": true, \"subunitcolor\": \"white\"}, \"hoverlabel\": {\"align\": \"left\"}, \"hovermode\": \"closest\", \"mapbox\": {\"style\": \"light\"}, \"paper_bgcolor\": \"white\", \"plot_bgcolor\": \"#E5ECF6\", \"polar\": {\"angularaxis\": {\"gridcolor\": \"white\", \"linecolor\": \"white\", \"ticks\": \"\"}, \"bgcolor\": \"#E5ECF6\", \"radialaxis\": {\"gridcolor\": \"white\", \"linecolor\": \"white\", \"ticks\": \"\"}}, \"scene\": {\"xaxis\": {\"backgroundcolor\": \"#E5ECF6\", \"gridcolor\": \"white\", \"gridwidth\": 2, \"linecolor\": \"white\", \"showbackground\": true, \"ticks\": \"\", \"zerolinecolor\": \"white\"}, \"yaxis\": {\"backgroundcolor\": \"#E5ECF6\", \"gridcolor\": \"white\", \"gridwidth\": 2, \"linecolor\": \"white\", \"showbackground\": true, \"ticks\": \"\", \"zerolinecolor\": \"white\"}, \"zaxis\": {\"backgroundcolor\": \"#E5ECF6\", \"gridcolor\": \"white\", \"gridwidth\": 2, \"linecolor\": \"white\", \"showbackground\": true, \"ticks\": \"\", \"zerolinecolor\": \"white\"}}, \"shapedefaults\": {\"line\": {\"color\": \"#2a3f5f\"}}, \"ternary\": {\"aaxis\": {\"gridcolor\": \"white\", \"linecolor\": \"white\", \"ticks\": \"\"}, \"baxis\": {\"gridcolor\": \"white\", \"linecolor\": \"white\", \"ticks\": \"\"}, \"bgcolor\": \"#E5ECF6\", \"caxis\": {\"gridcolor\": \"white\", \"linecolor\": \"white\", \"ticks\": \"\"}}, \"title\": {\"x\": 0.05}, \"xaxis\": {\"automargin\": true, \"gridcolor\": \"white\", \"linecolor\": \"white\", \"ticks\": \"\", \"title\": {\"standoff\": 15}, \"zerolinecolor\": \"white\", \"zerolinewidth\": 2}, \"yaxis\": {\"automargin\": true, \"gridcolor\": \"white\", \"linecolor\": \"white\", \"ticks\": \"\", \"title\": {\"standoff\": 15}, \"zerolinecolor\": \"white\", \"zerolinewidth\": 2}}}, \"title\": {\"text\": \"boxplot da coluna : mean value of long term variability\"}, \"xaxis\": {\"anchor\": \"y\", \"domain\": [0.0, 1.0]}, \"yaxis\": {\"anchor\": \"x\", \"domain\": [0.0, 1.0], \"title\": {\"text\": \"valores\"}}},\n",
              "                        {\"responsive\": true}\n",
              "                    ).then(function(){\n",
              "                            \n",
              "var gd = document.getElementById('fbccc7b7-5ae8-4ce4-9888-cf0dc1967f1c');\n",
              "var x = new MutationObserver(function (mutations, observer) {{\n",
              "        var display = window.getComputedStyle(gd).display;\n",
              "        if (!display || display === 'none') {{\n",
              "            console.log([gd, 'removed!']);\n",
              "            Plotly.purge(gd);\n",
              "            observer.disconnect();\n",
              "        }}\n",
              "}});\n",
              "\n",
              "// Listen for the removal of the full notebook cells\n",
              "var notebookContainer = gd.closest('#notebook-container');\n",
              "if (notebookContainer) {{\n",
              "    x.observe(notebookContainer, {childList: true});\n",
              "}}\n",
              "\n",
              "// Listen for the clearing of the current output cell\n",
              "var outputEl = gd.closest('.output');\n",
              "if (outputEl) {{\n",
              "    x.observe(outputEl, {childList: true});\n",
              "}}\n",
              "\n",
              "                        })\n",
              "                };\n",
              "                \n",
              "            </script>\n",
              "        </div>\n",
              "</body>\n",
              "</html>"
            ]
          },
          "metadata": {
            "tags": []
          }
        }
      ]
    },
    {
      "cell_type": "markdown",
      "metadata": {
        "id": "dNpDxahwkuZ4"
      },
      "source": [
        "Em resumo, algumas colunas tem comportamentos de formam um comportamento assimétrico positivo, todavia algumas colunas tendem a se comportar como uma curva normal. Observamos também a presença de outliers que podem ser tratados, mas vamos deixar passar para observar como os algoritmos de aprendizado de máquina se comportam quando alimentados por esses dados."
      ]
    },
    {
      "cell_type": "markdown",
      "metadata": {
        "id": "efxtnHTfGxW9"
      },
      "source": [
        "## 5. Transformação e Treinamento"
      ]
    },
    {
      "cell_type": "markdown",
      "metadata": {
        "id": "vIJu5-zUoYFf"
      },
      "source": [
        "Primeiro vamos escalonar as features, para depois utilizarmos para a escolha do melhor modelo."
      ]
    },
    {
      "cell_type": "code",
      "metadata": {
        "id": "VxBt8MwNmDxQ"
      },
      "source": [
        "from sklearn.preprocessing import StandardScaler\n",
        "\n",
        "x_train = train_set.drop(['fetal_health'],axis = 1).copy()\n",
        "y_train = train_set['fetal_health'].copy()\n",
        "\n",
        "sts = StandardScaler()\n",
        "\n",
        "x_tr = sts.fit_transform(x_train)\n"
      ],
      "execution_count": 84,
      "outputs": []
    },
    {
      "cell_type": "code",
      "metadata": {
        "id": "SWZxJPz2lrUp"
      },
      "source": [
        "from sklearn.model_selection import cross_val_predict\n",
        "from sklearn.metrics import classification_report\n"
      ],
      "execution_count": 85,
      "outputs": []
    },
    {
      "cell_type": "markdown",
      "metadata": {
        "id": "fe0y2oOJo0jG"
      },
      "source": [
        "Para realização da avaliação priorizaremos a revocação acima de outras métricas, pois não queremos que o classificador classifique erroneamente que o feto está saudável sem de fato está, isso acabaria com as ações clínicas para melhorar sua saúde."
      ]
    },
    {
      "cell_type": "code",
      "metadata": {
        "colab": {
          "base_uri": "https://localhost:8080/"
        },
        "id": "YXYhrHDfl4yb",
        "outputId": "e6711066-5602-452e-df6f-be402053be3a"
      },
      "source": [
        "from sklearn.linear_model import LogisticRegression\n",
        "\n",
        "pred = cross_val_predict(LogisticRegression(max_iter=1000),x_tr,y_train,cv =10)\n",
        "\n",
        "print(classification_report(y_train,pred))"
      ],
      "execution_count": 86,
      "outputs": [
        {
          "output_type": "stream",
          "text": [
            "              precision    recall  f1-score   support\n",
            "\n",
            "         1.0       0.94      0.95      0.95      1241\n",
            "         2.0       0.65      0.65      0.65       221\n",
            "         3.0       0.80      0.77      0.78       132\n",
            "\n",
            "    accuracy                           0.89      1594\n",
            "   macro avg       0.80      0.79      0.79      1594\n",
            "weighted avg       0.89      0.89      0.89      1594\n",
            "\n"
          ],
          "name": "stdout"
        }
      ]
    },
    {
      "cell_type": "code",
      "metadata": {
        "colab": {
          "base_uri": "https://localhost:8080/"
        },
        "id": "rDzp2U5fmtME",
        "outputId": "b5fb4803-b07c-410d-db64-c789e3612dc4"
      },
      "source": [
        "from sklearn.ensemble import RandomForestClassifier\n",
        "pred = cross_val_predict(RandomForestClassifier(),x_tr,y_train,cv =10)\n",
        "\n",
        "print(classification_report(y_train,pred))"
      ],
      "execution_count": 87,
      "outputs": [
        {
          "output_type": "stream",
          "text": [
            "              precision    recall  f1-score   support\n",
            "\n",
            "         1.0       0.96      0.98      0.97      1241\n",
            "         2.0       0.87      0.80      0.83       221\n",
            "         3.0       0.93      0.88      0.90       132\n",
            "\n",
            "    accuracy                           0.95      1594\n",
            "   macro avg       0.92      0.89      0.90      1594\n",
            "weighted avg       0.95      0.95      0.95      1594\n",
            "\n"
          ],
          "name": "stdout"
        }
      ]
    },
    {
      "cell_type": "code",
      "metadata": {
        "colab": {
          "base_uri": "https://localhost:8080/"
        },
        "id": "VrvHJRlVm1AE",
        "outputId": "5fa4fded-2ae3-4a5e-8ee5-1f1b5d937c42"
      },
      "source": [
        "from sklearn.neighbors import KNeighborsClassifier\n",
        "\n",
        "pred = cross_val_predict(KNeighborsClassifier(),x_tr,y_train,cv = 10)\n",
        "\n",
        "print(classification_report(y_train,pred))"
      ],
      "execution_count": 88,
      "outputs": [
        {
          "output_type": "stream",
          "text": [
            "              precision    recall  f1-score   support\n",
            "\n",
            "         1.0       0.92      0.97      0.94      1241\n",
            "         2.0       0.73      0.59      0.65       221\n",
            "         3.0       0.95      0.76      0.84       132\n",
            "\n",
            "    accuracy                           0.90      1594\n",
            "   macro avg       0.87      0.77      0.81      1594\n",
            "weighted avg       0.90      0.90      0.90      1594\n",
            "\n"
          ],
          "name": "stdout"
        }
      ]
    },
    {
      "cell_type": "code",
      "metadata": {
        "colab": {
          "base_uri": "https://localhost:8080/"
        },
        "id": "KTLea0mUnFsK",
        "outputId": "618957ed-7d93-4eff-d68b-6eed7b7ba423"
      },
      "source": [
        "from sklearn.svm import SVC\n",
        "\n",
        "pred = cross_val_predict(SVC(),x_tr,y_train,cv = 10)\n",
        "\n",
        "print(classification_report(y_train,pred))"
      ],
      "execution_count": 89,
      "outputs": [
        {
          "output_type": "stream",
          "text": [
            "              precision    recall  f1-score   support\n",
            "\n",
            "         1.0       0.94      0.97      0.95      1241\n",
            "         2.0       0.74      0.68      0.71       221\n",
            "         3.0       0.95      0.80      0.87       132\n",
            "\n",
            "    accuracy                           0.92      1594\n",
            "   macro avg       0.88      0.81      0.84      1594\n",
            "weighted avg       0.91      0.92      0.91      1594\n",
            "\n"
          ],
          "name": "stdout"
        }
      ]
    },
    {
      "cell_type": "code",
      "metadata": {
        "colab": {
          "base_uri": "https://localhost:8080/"
        },
        "id": "iXkjnm_7nKZi",
        "outputId": "1af38365-7872-4321-c6d3-232b65235ba1"
      },
      "source": [
        "from sklearn.svm import LinearSVC\n",
        "\n",
        "pred = cross_val_predict(LinearSVC(max_iter = 5000),x_tr,y_train,cv = 10)\n",
        "\n",
        "print(classification_report(y_train,pred))"
      ],
      "execution_count": 90,
      "outputs": [
        {
          "output_type": "stream",
          "text": [
            "              precision    recall  f1-score   support\n",
            "\n",
            "         1.0       0.94      0.95      0.95      1241\n",
            "         2.0       0.66      0.65      0.65       221\n",
            "         3.0       0.83      0.77      0.80       132\n",
            "\n",
            "    accuracy                           0.89      1594\n",
            "   macro avg       0.81      0.79      0.80      1594\n",
            "weighted avg       0.89      0.89      0.89      1594\n",
            "\n"
          ],
          "name": "stdout"
        }
      ]
    },
    {
      "cell_type": "code",
      "metadata": {
        "id": "RXianWUbnQNP"
      },
      "source": [
        "from sklearn.linear_model import SGDClassifier\n",
        "\n",
        "pred = cross_val_predict(SGDClassifier(),x_tr,y_train,cv = 10)\n",
        "\n",
        "print(classification_report(y_train,pred))"
      ],
      "execution_count": null,
      "outputs": []
    },
    {
      "cell_type": "markdown",
      "metadata": {
        "id": "XthNEefkpYzD"
      },
      "source": [
        "Diante dos classificadores acima, podemos observar que o random forest consegue classificar melhor, logo ele será escolhido para a próxima etapa."
      ]
    },
    {
      "cell_type": "markdown",
      "metadata": {
        "id": "abmcDEGKpubl"
      },
      "source": [
        "## 6. Aprimoramento e Teste"
      ]
    },
    {
      "cell_type": "markdown",
      "metadata": {
        "id": "1lnSW9aGp0b4"
      },
      "source": [
        "Vamos melhorar nosso classificador com a técnica de grid search."
      ]
    },
    {
      "cell_type": "code",
      "metadata": {
        "colab": {
          "base_uri": "https://localhost:8080/"
        },
        "id": "PH1iY3Erp55T",
        "outputId": "292697ad-ce28-4f44-be85-7df1a947df78"
      },
      "source": [
        "from sklearn.model_selection import GridSearchCV\n",
        "\n",
        "param = { \n",
        "    'n_estimators': [200, 500],\n",
        "    'max_features': ['auto', 'sqrt', 'log2'],\n",
        "    'max_depth' : [4,5,6,7,8],\n",
        "    'criterion' :['gini', 'entropy']\n",
        "}\n",
        "\n",
        "grid = GridSearchCV( RandomForestClassifier(),param, cv = 10)\n",
        "\n",
        "grid.fit(x_tr,y_train)\n",
        "\n"
      ],
      "execution_count": 98,
      "outputs": [
        {
          "output_type": "execute_result",
          "data": {
            "text/plain": [
              "GridSearchCV(cv=10, error_score=nan,\n",
              "             estimator=RandomForestClassifier(bootstrap=True, ccp_alpha=0.0,\n",
              "                                              class_weight=None,\n",
              "                                              criterion='gini', max_depth=None,\n",
              "                                              max_features='auto',\n",
              "                                              max_leaf_nodes=None,\n",
              "                                              max_samples=None,\n",
              "                                              min_impurity_decrease=0.0,\n",
              "                                              min_impurity_split=None,\n",
              "                                              min_samples_leaf=1,\n",
              "                                              min_samples_split=2,\n",
              "                                              min_weight_fraction_leaf=0.0,\n",
              "                                              n_estimators=100, n_jobs=None,\n",
              "                                              oob_score=False,\n",
              "                                              random_state=None, verbose=0,\n",
              "                                              warm_start=False),\n",
              "             iid='deprecated', n_jobs=None,\n",
              "             param_grid={'criterion': ['gini', 'entropy'],\n",
              "                         'max_depth': [4, 5, 6, 7, 8],\n",
              "                         'max_features': ['auto', 'sqrt', 'log2'],\n",
              "                         'n_estimators': [200, 500]},\n",
              "             pre_dispatch='2*n_jobs', refit=True, return_train_score=False,\n",
              "             scoring=None, verbose=0)"
            ]
          },
          "metadata": {
            "tags": []
          },
          "execution_count": 98
        }
      ]
    },
    {
      "cell_type": "code",
      "metadata": {
        "id": "rmRQLHDGq38J"
      },
      "source": [
        "modelo = grid.best_estimator_"
      ],
      "execution_count": 115,
      "outputs": []
    },
    {
      "cell_type": "markdown",
      "metadata": {
        "id": "Sf5YikC-v-m7"
      },
      "source": [
        "Para aprimorar mais ainda o modelo, vamos utilizar a técnica de classificação multilabel one vs one."
      ]
    },
    {
      "cell_type": "code",
      "metadata": {
        "id": "duXvARM3rB2k"
      },
      "source": [
        "from sklearn.multiclass import OneVsOneClassifier\n",
        "\n",
        "ovo_clf = OneVsOneClassifier(modelo)"
      ],
      "execution_count": 116,
      "outputs": []
    },
    {
      "cell_type": "markdown",
      "metadata": {
        "id": "a4O5r8K-rVT3"
      },
      "source": [
        "Agora vamos por em prática o nosso modelo."
      ]
    },
    {
      "cell_type": "code",
      "metadata": {
        "id": "oq5_0RiErZLr"
      },
      "source": [
        "\n",
        "x_test = test_set.drop(['fetal_health'], axis= 1).copy()\n",
        "y_test = test_set['fetal_health'].copy()\n",
        "\n",
        "x_test_tr = sts.transform(x_test)\n"
      ],
      "execution_count": 117,
      "outputs": []
    },
    {
      "cell_type": "code",
      "metadata": {
        "colab": {
          "base_uri": "https://localhost:8080/"
        },
        "id": "AKNDaO4brqj-",
        "outputId": "9acf34dc-5140-446c-e134-338e0be8062f"
      },
      "source": [
        "ovo_clf.fit(x_tr,y_train)\n",
        "\n",
        "pred = ovo_clf .predict(x_test_tr)\n",
        "\n",
        "print(classification_report(y_test,pred))"
      ],
      "execution_count": 118,
      "outputs": [
        {
          "output_type": "stream",
          "text": [
            "              precision    recall  f1-score   support\n",
            "\n",
            "         1.0       0.94      0.98      0.96       414\n",
            "         2.0       0.88      0.66      0.75        74\n",
            "         3.0       0.87      0.93      0.90        44\n",
            "\n",
            "    accuracy                           0.93       532\n",
            "   macro avg       0.90      0.86      0.87       532\n",
            "weighted avg       0.93      0.93      0.93       532\n",
            "\n"
          ],
          "name": "stdout"
        }
      ]
    },
    {
      "cell_type": "markdown",
      "metadata": {
        "id": "DPzKj4Q-r2nv"
      },
      "source": [
        "O modelo diminuiu sua performance comparado com seu treino, porém ainda manteve uma pontuação alta, logo ele está pronto para deploy."
      ]
    }
  ]
}